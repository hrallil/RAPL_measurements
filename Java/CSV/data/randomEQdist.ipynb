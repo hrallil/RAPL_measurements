{
 "cells": [
  {
   "cell_type": "code",
   "execution_count": 2,
   "metadata": {},
   "outputs": [],
   "source": [
    "import pandas as pd\n",
    "import numpy as np\n",
    "import matplotlib.pyplot as plt\n",
    "import seaborn as sns"
   ]
  },
  {
   "cell_type": "code",
   "execution_count": 23,
   "metadata": {},
   "outputs": [],
   "source": [
    "listOfRandoms = []\n",
    "sizes = [25000,50000,75000,100000,200000,300000,400000,500000]\n",
    "# for size in sizes: \n",
    "#     for i in range(1,11):\n",
    "#         listOfRandoms.append(pd.read_csv(f\"C:\\\\Users\\\\mathi\\\\OneDrive\\\\Documents\\\\Git\\\\RAPL_measurements\\\\Java\\\\CSV\\\\data\\\\random1-200000.csv\"))\n",
    "\n",
    "df = pd.read_csv(\"random1-25000.csv\")"
   ]
  },
  {
   "cell_type": "code",
   "execution_count": 24,
   "metadata": {},
   "outputs": [
    {
     "data": {
      "text/html": [
       "<div>\n",
       "<style scoped>\n",
       "    .dataframe tbody tr th:only-of-type {\n",
       "        vertical-align: middle;\n",
       "    }\n",
       "\n",
       "    .dataframe tbody tr th {\n",
       "        vertical-align: top;\n",
       "    }\n",
       "\n",
       "    .dataframe thead th {\n",
       "        text-align: right;\n",
       "    }\n",
       "</style>\n",
       "<table border=\"1\" class=\"dataframe\">\n",
       "  <thead>\n",
       "    <tr style=\"text-align: right;\">\n",
       "      <th></th>\n",
       "      <th>index</th>\n",
       "    </tr>\n",
       "  </thead>\n",
       "  <tbody>\n",
       "    <tr>\n",
       "      <th>0</th>\n",
       "      <td>1088467060</td>\n",
       "    </tr>\n",
       "    <tr>\n",
       "      <th>1</th>\n",
       "      <td>1891720802</td>\n",
       "    </tr>\n",
       "    <tr>\n",
       "      <th>2</th>\n",
       "      <td>1522552417</td>\n",
       "    </tr>\n",
       "    <tr>\n",
       "      <th>3</th>\n",
       "      <td>91024306</td>\n",
       "    </tr>\n",
       "    <tr>\n",
       "      <th>4</th>\n",
       "      <td>849606783</td>\n",
       "    </tr>\n",
       "    <tr>\n",
       "      <th>...</th>\n",
       "      <td>...</td>\n",
       "    </tr>\n",
       "    <tr>\n",
       "      <th>24995</th>\n",
       "      <td>2056635154</td>\n",
       "    </tr>\n",
       "    <tr>\n",
       "      <th>24996</th>\n",
       "      <td>74001281</td>\n",
       "    </tr>\n",
       "    <tr>\n",
       "      <th>24997</th>\n",
       "      <td>1634680184</td>\n",
       "    </tr>\n",
       "    <tr>\n",
       "      <th>24998</th>\n",
       "      <td>1873554368</td>\n",
       "    </tr>\n",
       "    <tr>\n",
       "      <th>24999</th>\n",
       "      <td>961808691</td>\n",
       "    </tr>\n",
       "  </tbody>\n",
       "</table>\n",
       "<p>25000 rows × 1 columns</p>\n",
       "</div>"
      ],
      "text/plain": [
       "            index\n",
       "0      1088467060\n",
       "1      1891720802\n",
       "2      1522552417\n",
       "3        91024306\n",
       "4       849606783\n",
       "...           ...\n",
       "24995  2056635154\n",
       "24996    74001281\n",
       "24997  1634680184\n",
       "24998  1873554368\n",
       "24999   961808691\n",
       "\n",
       "[25000 rows x 1 columns]"
      ]
     },
     "execution_count": 24,
     "metadata": {},
     "output_type": "execute_result"
    }
   ],
   "source": [
    "df = df.transpose()\n",
    "df = df.reset_index()\n",
    "df"
   ]
  },
  {
   "cell_type": "code",
   "execution_count": 26,
   "metadata": {},
   "outputs": [
    {
     "data": {
      "text/plain": [
       "(array([500., 500., 500., 500., 500., 500., 500., 500., 500., 500., 500.,\n",
       "        500., 500., 500., 500., 500., 500., 500., 500., 500., 500., 500.,\n",
       "        500., 500., 500., 500., 500., 500., 500., 500., 500., 500., 500.,\n",
       "        500., 500., 500., 500., 500., 500., 500., 500., 500., 500., 500.,\n",
       "        500., 500., 500., 500., 500., 500.]),\n",
       " array([    0.  ,   499.98,   999.96,  1499.94,  1999.92,  2499.9 ,\n",
       "         2999.88,  3499.86,  3999.84,  4499.82,  4999.8 ,  5499.78,\n",
       "         5999.76,  6499.74,  6999.72,  7499.7 ,  7999.68,  8499.66,\n",
       "         8999.64,  9499.62,  9999.6 , 10499.58, 10999.56, 11499.54,\n",
       "        11999.52, 12499.5 , 12999.48, 13499.46, 13999.44, 14499.42,\n",
       "        14999.4 , 15499.38, 15999.36, 16499.34, 16999.32, 17499.3 ,\n",
       "        17999.28, 18499.26, 18999.24, 19499.22, 19999.2 , 20499.18,\n",
       "        20999.16, 21499.14, 21999.12, 22499.1 , 22999.08, 23499.06,\n",
       "        23999.04, 24499.02, 24999.  ]),\n",
       " <BarContainer object of 50 artists>)"
      ]
     },
     "execution_count": 26,
     "metadata": {},
     "output_type": "execute_result"
    },
    {
     "data": {
      "image/png": "[encoded data removed]",
      "text/plain": [
       "<Figure size 432x288 with 1 Axes>"
      ]
     },
     "metadata": {
      "needs_background": "light"
     },
     "output_type": "display_data"
    }
   ],
   "source": [
    "plt.hist(df[\"index\"], bins=50)"
   ]
  },
  {
   "cell_type": "code",
   "execution_count": 10,
   "metadata": {},
   "outputs": [
    {
     "data": {
      "text/plain": [
       "(array([1., 1., 1., 1., 0., 1., 1., 1., 2.]),\n",
       " array([0., 1., 2., 3., 4., 5., 6., 7., 8., 9.]),\n",
       " <BarContainer object of 9 artists>)"
      ]
     },
     "execution_count": 10,
     "metadata": {},
     "output_type": "execute_result"
    },
    {
     "data": {
      "image/png": "[encoded data removed]",
      "text/plain": [
       "<Figure size 432x288 with 1 Axes>"
      ]
     },
     "metadata": {
      "needs_background": "light"
     },
     "output_type": "display_data"
    }
   ],
   "source": [
    "test = [1,2,3,5,6,7,8,9,0]\n",
    "\n",
    "plt.hist(test, bins=len(test))"
   ]
  }
 ],
 "metadata": {
  "kernelspec": {
   "display_name": "base",
   "language": "python",
   "name": "python3"
  },
  "language_info": {
   "codemirror_mode": {
    "name": "ipython",
    "version": 3
   },
   "file_extension": ".py",
   "mimetype": "text/x-python",
   "name": "python",
   "nbconvert_exporter": "python",
   "pygments_lexer": "ipython3",
   "version": "3.9.12"
  },
  "orig_nbformat": 4
 },
 "nbformat": 4,
 "nbformat_minor": 2
}
