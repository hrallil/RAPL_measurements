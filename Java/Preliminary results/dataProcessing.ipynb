{
 "cells": [
  {
   "cell_type": "code",
   "execution_count": 21,
   "metadata": {},
   "outputs": [],
   "source": [
    "import pandas as pd\n",
    "import matplotlib.pyplot as plt"
   ]
  },
  {
   "cell_type": "code",
   "execution_count": 54,
   "metadata": {},
   "outputs": [
    {
     "data": {
      "text/plain": [
       "int        9.903225\n",
       "long      12.717197\n",
       "float      9.826477\n",
       "double    12.654503\n",
       "dtype: float64"
      ]
     },
     "execution_count": 54,
     "metadata": {},
     "output_type": "execute_result"
    }
   ],
   "source": [
    "df = pd.read_csv(\"Java.csv\")\n",
    "df.columns = [\"Name\",\"PKG\",\"CPU\", \"GPU\" , \"DRAM?\" , \"Time (sec)\"]\n",
    "df.head()\n",
    "\n",
    "d = [0,0,0,0]\n",
    "\n",
    "\n",
    "d[0] = df[0:100][\"CPU\"].mean()\n",
    "d[1] = df[100:200][\"CPU\"].mean()\n",
    "d[2] = df[200:300][\"CPU\"].mean()\n",
    "d[3] = df[300:400][\"CPU\"].mean()\n",
    "\n",
    "\n",
    "\n",
    "d = pd.Series(data = d, index = [\"int\", \"long\", \"float\", \"double\"])\n",
    "d"
   ]
  },
  {
   "cell_type": "code",
   "execution_count": 59,
   "metadata": {},
   "outputs": [
    {
     "data": {
      "text/plain": [
       "(0.0, 15.0)"
      ]
     },
     "execution_count": 59,
     "metadata": {},
     "output_type": "execute_result"
    },
    {
     "data": {
      "image/png": "[encoded data removed]",
      "text/plain": [
       "<Figure size 432x288 with 1 Axes>"
      ]
     },
     "metadata": {
      "needs_background": "light"
     },
     "output_type": "display_data"
    }
   ],
   "source": [
    "plt.bar(d.index,d)\n",
    "plt.ylim(0,15)"
   ]
  },
  {
   "cell_type": "code",
   "execution_count": null,
   "metadata": {},
   "outputs": [],
   "source": []
  }
 ],
 "metadata": {
  "kernelspec": {
   "display_name": "base",
   "language": "python",
   "name": "python3"
  },
  "language_info": {
   "codemirror_mode": {
    "name": "ipython",
    "version": 3
   },
   "file_extension": ".py",
   "mimetype": "text/x-python",
   "name": "python",
   "nbconvert_exporter": "python",
   "pygments_lexer": "ipython3",
   "version": "3.9.7"
  },
  "orig_nbformat": 4
 },
 "nbformat": 4,
 "nbformat_minor": 2
}
