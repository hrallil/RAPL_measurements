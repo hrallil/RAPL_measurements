{
 "cells": [
  {
   "cell_type": "code",
   "execution_count": 41,
   "metadata": {},
   "outputs": [],
   "source": [
    "import pandas as pd\n",
    "import matplotlib.pyplot as plt\n",
    "import numpy as np\n",
    "import seaborn as sns\n",
    "from scipy.stats import shapiro"
   ]
  },
  {
   "cell_type": "code",
   "execution_count": 42,
   "metadata": {},
   "outputs": [],
   "source": [
    "dfreadCSV16 = pd.read_csv(\"FinalAnalysis/CleanData/readCSVClean-PC16.csv\")\n"
   ]
  },
  {
   "cell_type": "code",
   "execution_count": 43,
   "metadata": {},
   "outputs": [
    {
     "data": {
      "text/html": [
       "<div>\n",
       "<style scoped>\n",
       "    .dataframe tbody tr th:only-of-type {\n",
       "        vertical-align: middle;\n",
       "    }\n",
       "\n",
       "    .dataframe tbody tr th {\n",
       "        vertical-align: top;\n",
       "    }\n",
       "\n",
       "    .dataframe thead th {\n",
       "        text-align: right;\n",
       "    }\n",
       "</style>\n",
       "<table border=\"1\" class=\"dataframe\">\n",
       "  <thead>\n",
       "    <tr style=\"text-align: right;\">\n",
       "      <th></th>\n",
       "      <th>PKG (J)</th>\n",
       "      <th>CPU (J)</th>\n",
       "      <th>DRAM (J)</th>\n",
       "      <th>Time (ms)</th>\n",
       "      <th>Temp (C)</th>\n",
       "      <th>Input case</th>\n",
       "      <th>Size</th>\n",
       "    </tr>\n",
       "  </thead>\n",
       "  <tbody>\n",
       "    <tr>\n",
       "      <th>0</th>\n",
       "      <td>2.240601</td>\n",
       "      <td>1.966187</td>\n",
       "      <td>0.134399</td>\n",
       "      <td>227.880</td>\n",
       "      <td>53.0</td>\n",
       "      <td>random1</td>\n",
       "      <td>25000</td>\n",
       "    </tr>\n",
       "    <tr>\n",
       "      <th>1</th>\n",
       "      <td>2.062317</td>\n",
       "      <td>1.775085</td>\n",
       "      <td>0.126160</td>\n",
       "      <td>250.212</td>\n",
       "      <td>53.0</td>\n",
       "      <td>random1</td>\n",
       "      <td>25000</td>\n",
       "    </tr>\n",
       "    <tr>\n",
       "      <th>2</th>\n",
       "      <td>2.140869</td>\n",
       "      <td>1.876709</td>\n",
       "      <td>0.121887</td>\n",
       "      <td>222.526</td>\n",
       "      <td>53.0</td>\n",
       "      <td>random1</td>\n",
       "      <td>25000</td>\n",
       "    </tr>\n",
       "    <tr>\n",
       "      <th>3</th>\n",
       "      <td>2.217102</td>\n",
       "      <td>1.940735</td>\n",
       "      <td>0.133545</td>\n",
       "      <td>226.620</td>\n",
       "      <td>53.0</td>\n",
       "      <td>random1</td>\n",
       "      <td>25000</td>\n",
       "    </tr>\n",
       "    <tr>\n",
       "      <th>4</th>\n",
       "      <td>2.058533</td>\n",
       "      <td>1.796814</td>\n",
       "      <td>0.119385</td>\n",
       "      <td>219.516</td>\n",
       "      <td>53.0</td>\n",
       "      <td>random1</td>\n",
       "      <td>25000</td>\n",
       "    </tr>\n",
       "    <tr>\n",
       "      <th>...</th>\n",
       "      <td>...</td>\n",
       "      <td>...</td>\n",
       "      <td>...</td>\n",
       "      <td>...</td>\n",
       "      <td>...</td>\n",
       "      <td>...</td>\n",
       "      <td>...</td>\n",
       "    </tr>\n",
       "    <tr>\n",
       "      <th>22180</th>\n",
       "      <td>5.469666</td>\n",
       "      <td>4.744934</td>\n",
       "      <td>0.297607</td>\n",
       "      <td>542.960</td>\n",
       "      <td>73.0</td>\n",
       "      <td>sorted</td>\n",
       "      <td>500000</td>\n",
       "    </tr>\n",
       "    <tr>\n",
       "      <th>22181</th>\n",
       "      <td>5.358337</td>\n",
       "      <td>4.641357</td>\n",
       "      <td>0.289673</td>\n",
       "      <td>530.928</td>\n",
       "      <td>73.0</td>\n",
       "      <td>sorted</td>\n",
       "      <td>500000</td>\n",
       "    </tr>\n",
       "    <tr>\n",
       "      <th>22182</th>\n",
       "      <td>5.392822</td>\n",
       "      <td>4.676331</td>\n",
       "      <td>0.291138</td>\n",
       "      <td>533.391</td>\n",
       "      <td>73.0</td>\n",
       "      <td>sorted</td>\n",
       "      <td>500000</td>\n",
       "    </tr>\n",
       "    <tr>\n",
       "      <th>22183</th>\n",
       "      <td>5.493774</td>\n",
       "      <td>4.791992</td>\n",
       "      <td>0.290894</td>\n",
       "      <td>531.041</td>\n",
       "      <td>73.0</td>\n",
       "      <td>sorted</td>\n",
       "      <td>500000</td>\n",
       "    </tr>\n",
       "    <tr>\n",
       "      <th>22184</th>\n",
       "      <td>5.544861</td>\n",
       "      <td>4.823669</td>\n",
       "      <td>0.288086</td>\n",
       "      <td>572.181</td>\n",
       "      <td>73.0</td>\n",
       "      <td>sorted</td>\n",
       "      <td>500000</td>\n",
       "    </tr>\n",
       "  </tbody>\n",
       "</table>\n",
       "<p>22185 rows × 7 columns</p>\n",
       "</div>"
      ],
      "text/plain": [
       "        PKG (J)   CPU (J)  DRAM (J)  Time (ms)  Temp (C) Input case    Size\n",
       "0      2.240601  1.966187  0.134399    227.880      53.0    random1   25000\n",
       "1      2.062317  1.775085  0.126160    250.212      53.0    random1   25000\n",
       "2      2.140869  1.876709  0.121887    222.526      53.0    random1   25000\n",
       "3      2.217102  1.940735  0.133545    226.620      53.0    random1   25000\n",
       "4      2.058533  1.796814  0.119385    219.516      53.0    random1   25000\n",
       "...         ...       ...       ...        ...       ...        ...     ...\n",
       "22180  5.469666  4.744934  0.297607    542.960      73.0     sorted  500000\n",
       "22181  5.358337  4.641357  0.289673    530.928      73.0     sorted  500000\n",
       "22182  5.392822  4.676331  0.291138    533.391      73.0     sorted  500000\n",
       "22183  5.493774  4.791992  0.290894    531.041      73.0     sorted  500000\n",
       "22184  5.544861  4.823669  0.288086    572.181      73.0     sorted  500000\n",
       "\n",
       "[22185 rows x 7 columns]"
      ]
     },
     "execution_count": 43,
     "metadata": {},
     "output_type": "execute_result"
    }
   ],
   "source": [
    "dfreadCSV16"
   ]
  },
  {
   "cell_type": "code",
   "execution_count": 44,
   "metadata": {},
   "outputs": [],
   "source": [
    "dfCountingBest16 = dfreadCSV16[dfreadCSV16[\"Input case\"].str.startswith(\"countingbest\")]\n",
    "dfCountingWorst16 = dfreadCSV16[dfreadCSV16[\"Input case\"].str.startswith(\"countingworst\")]\n",
    "dfCountingRandom16 = dfreadCSV16[dfreadCSV16[\"Input case\"].str.startswith(\"countingrandom\")]\n",
    "dfreadCSVRandom16 = dfreadCSV16[dfreadCSV16[\"Input case\"].str.startswith(\"random\")]\n",
    "dfMergeBest16 = dfreadCSV16[dfreadCSV16[\"Input case\"].str.startswith(\"mergebest\")]\n",
    "dfMergeWorst16 = dfreadCSV16[dfreadCSV16[\"Input case\"].str.startswith(\"mergeworst\")]\n",
    "dfQuickBest16 = dfreadCSV16[dfreadCSV16[\"Input case\"].str.startswith(\"quickbest\")]\n",
    "dfreverseSorted16 = dfreadCSV16[dfreadCSV16[\"Input case\"].str.startswith(\"reversesorted\")]\n",
    "dfSorted16 = dfreadCSV16[dfreadCSV16[\"Input case\"].str.startswith(\"sorted\")]\n",
    "\n",
    "\n"
   ]
  },
  {
   "cell_type": "code",
   "execution_count": 45,
   "metadata": {},
   "outputs": [
    {
     "data": {
      "text/html": [
       "<div>\n",
       "<style scoped>\n",
       "    .dataframe tbody tr th:only-of-type {\n",
       "        vertical-align: middle;\n",
       "    }\n",
       "\n",
       "    .dataframe tbody tr th {\n",
       "        vertical-align: top;\n",
       "    }\n",
       "\n",
       "    .dataframe thead th {\n",
       "        text-align: right;\n",
       "    }\n",
       "</style>\n",
       "<table border=\"1\" class=\"dataframe\">\n",
       "  <thead>\n",
       "    <tr style=\"text-align: right;\">\n",
       "      <th></th>\n",
       "      <th>PKG (J)</th>\n",
       "      <th>CPU (J)</th>\n",
       "      <th>DRAM (J)</th>\n",
       "      <th>Time (ms)</th>\n",
       "      <th>Temp (C)</th>\n",
       "      <th>Input case</th>\n",
       "      <th>Size</th>\n",
       "    </tr>\n",
       "  </thead>\n",
       "  <tbody>\n",
       "    <tr>\n",
       "      <th>5381</th>\n",
       "      <td>1.904785</td>\n",
       "      <td>1.648987</td>\n",
       "      <td>0.105103</td>\n",
       "      <td>189.384</td>\n",
       "      <td>69.0</td>\n",
       "      <td>countingbest</td>\n",
       "      <td>25000</td>\n",
       "    </tr>\n",
       "    <tr>\n",
       "      <th>5382</th>\n",
       "      <td>1.782349</td>\n",
       "      <td>1.539551</td>\n",
       "      <td>0.097961</td>\n",
       "      <td>189.379</td>\n",
       "      <td>69.0</td>\n",
       "      <td>countingbest</td>\n",
       "      <td>25000</td>\n",
       "    </tr>\n",
       "    <tr>\n",
       "      <th>5383</th>\n",
       "      <td>1.775085</td>\n",
       "      <td>1.534424</td>\n",
       "      <td>0.096680</td>\n",
       "      <td>188.027</td>\n",
       "      <td>69.0</td>\n",
       "      <td>countingbest</td>\n",
       "      <td>25000</td>\n",
       "    </tr>\n",
       "    <tr>\n",
       "      <th>5384</th>\n",
       "      <td>1.917053</td>\n",
       "      <td>1.667603</td>\n",
       "      <td>0.102844</td>\n",
       "      <td>193.625</td>\n",
       "      <td>69.0</td>\n",
       "      <td>countingbest</td>\n",
       "      <td>25000</td>\n",
       "    </tr>\n",
       "    <tr>\n",
       "      <th>5385</th>\n",
       "      <td>1.919495</td>\n",
       "      <td>1.659485</td>\n",
       "      <td>0.109985</td>\n",
       "      <td>191.954</td>\n",
       "      <td>69.0</td>\n",
       "      <td>countingbest</td>\n",
       "      <td>25000</td>\n",
       "    </tr>\n",
       "    <tr>\n",
       "      <th>...</th>\n",
       "      <td>...</td>\n",
       "      <td>...</td>\n",
       "      <td>...</td>\n",
       "      <td>...</td>\n",
       "      <td>...</td>\n",
       "      <td>...</td>\n",
       "      <td>...</td>\n",
       "    </tr>\n",
       "    <tr>\n",
       "      <th>8253</th>\n",
       "      <td>4.770874</td>\n",
       "      <td>4.127014</td>\n",
       "      <td>0.267395</td>\n",
       "      <td>461.873</td>\n",
       "      <td>72.0</td>\n",
       "      <td>countingbest</td>\n",
       "      <td>500000</td>\n",
       "    </tr>\n",
       "    <tr>\n",
       "      <th>8254</th>\n",
       "      <td>4.993042</td>\n",
       "      <td>4.350403</td>\n",
       "      <td>0.276062</td>\n",
       "      <td>462.425</td>\n",
       "      <td>72.0</td>\n",
       "      <td>countingbest</td>\n",
       "      <td>500000</td>\n",
       "    </tr>\n",
       "    <tr>\n",
       "      <th>8255</th>\n",
       "      <td>4.759277</td>\n",
       "      <td>4.151917</td>\n",
       "      <td>0.265015</td>\n",
       "      <td>447.493</td>\n",
       "      <td>72.0</td>\n",
       "      <td>countingbest</td>\n",
       "      <td>500000</td>\n",
       "    </tr>\n",
       "    <tr>\n",
       "      <th>8256</th>\n",
       "      <td>4.862610</td>\n",
       "      <td>4.235168</td>\n",
       "      <td>0.271790</td>\n",
       "      <td>454.795</td>\n",
       "      <td>72.0</td>\n",
       "      <td>countingbest</td>\n",
       "      <td>500000</td>\n",
       "    </tr>\n",
       "    <tr>\n",
       "      <th>8257</th>\n",
       "      <td>4.968689</td>\n",
       "      <td>4.288086</td>\n",
       "      <td>0.284241</td>\n",
       "      <td>491.011</td>\n",
       "      <td>72.0</td>\n",
       "      <td>countingbest</td>\n",
       "      <td>500000</td>\n",
       "    </tr>\n",
       "  </tbody>\n",
       "</table>\n",
       "<p>2877 rows × 7 columns</p>\n",
       "</div>"
      ],
      "text/plain": [
       "       PKG (J)   CPU (J)  DRAM (J)  Time (ms)  Temp (C)    Input case    Size\n",
       "5381  1.904785  1.648987  0.105103    189.384      69.0  countingbest   25000\n",
       "5382  1.782349  1.539551  0.097961    189.379      69.0  countingbest   25000\n",
       "5383  1.775085  1.534424  0.096680    188.027      69.0  countingbest   25000\n",
       "5384  1.917053  1.667603  0.102844    193.625      69.0  countingbest   25000\n",
       "5385  1.919495  1.659485  0.109985    191.954      69.0  countingbest   25000\n",
       "...        ...       ...       ...        ...       ...           ...     ...\n",
       "8253  4.770874  4.127014  0.267395    461.873      72.0  countingbest  500000\n",
       "8254  4.993042  4.350403  0.276062    462.425      72.0  countingbest  500000\n",
       "8255  4.759277  4.151917  0.265015    447.493      72.0  countingbest  500000\n",
       "8256  4.862610  4.235168  0.271790    454.795      72.0  countingbest  500000\n",
       "8257  4.968689  4.288086  0.284241    491.011      72.0  countingbest  500000\n",
       "\n",
       "[2877 rows x 7 columns]"
      ]
     },
     "execution_count": 45,
     "metadata": {},
     "output_type": "execute_result"
    }
   ],
   "source": [
    "dfCountingBest16"
   ]
  },
  {
   "attachments": {},
   "cell_type": "markdown",
   "metadata": {},
   "source": [
    "# Shapiro Wilks Test For Normal Distribution "
   ]
  },
  {
   "attachments": {},
   "cell_type": "markdown",
   "metadata": {},
   "source": [
    "### Normal Distribution of CPU (J) of all Cases and Input Sizes for PC 16"
   ]
  },
  {
   "cell_type": "code",
   "execution_count": 46,
   "metadata": {},
   "outputs": [
    {
     "name": "stdout",
     "output_type": "stream",
     "text": [
      "1.7309124800135578e-08\n",
      "3.4744415677856466e-10\n",
      "1.7217564041160927e-09\n",
      "4.530529007507056e-10\n",
      "0.0002691977424547076\n",
      "4.1811956180026755e-05\n",
      "1.5001328392827418e-06\n",
      "2.25322719415999e-06\n",
      "[0, 0, 0, 0, 0, 0, 0, 0]\n"
     ]
    }
   ],
   "source": [
    "data = []\n",
    "size = []\n",
    "for i in [25000,50000,75000,100000,200000,300000,400000,500000]:\n",
    "    if 0.05 < shapiro(dfCountingBest16[dfCountingBest16[\"Size\"]==i][\"CPU (J)\"]).pvalue:\n",
    "        data.append(1)\n",
    "    else:\n",
    "        data.append(0)\n",
    "    size.append(i)\n",
    "    print(shapiro(dfCountingBest16[dfCountingBest16[\"Size\"]==i][\"CPU (J)\"]).pvalue)\n",
    "print(data)"
   ]
  },
  {
   "cell_type": "code",
   "execution_count": 47,
   "metadata": {},
   "outputs": [
    {
     "name": "stdout",
     "output_type": "stream",
     "text": [
      "8.348366122845619e-07\n",
      "2.2256747342908056e-06\n",
      "6.952642905844186e-08\n",
      "0.0019251554040238261\n",
      "0.000225113210035488\n",
      "0.00986776128411293\n",
      "3.543917029885028e-16\n",
      "0.33564645051956177\n",
      "[0, 0, 0, 0, 0, 0, 0, 0, 0, 0, 0, 0, 0, 0, 0, 1]\n"
     ]
    }
   ],
   "source": [
    "for i in [25000,50000,75000,100000,200000,300000,400000,500000]:\n",
    "    if 0.05 < shapiro(dfCountingWorst16[dfCountingWorst16[\"Size\"]==i][\"CPU (J)\"]).pvalue:\n",
    "        data.append(1)\n",
    "    else:\n",
    "        data.append(0)\n",
    "    size.append(i)\n",
    "    print(shapiro(dfCountingWorst16[dfCountingWorst16[\"Size\"]==i][\"CPU (J)\"]).pvalue)\n",
    "print(data)"
   ]
  },
  {
   "cell_type": "code",
   "execution_count": 48,
   "metadata": {},
   "outputs": [
    {
     "name": "stdout",
     "output_type": "stream",
     "text": [
      "0.009629519656300545\n",
      "0.0013569594593718648\n",
      "2.5645786081440747e-06\n",
      "0.3658948540687561\n",
      "1.985448697811032e-12\n",
      "7.712430199374967e-17\n",
      "8.102681604668297e-18\n",
      "1.453188914899689e-17\n",
      "[0, 0, 0, 0, 0, 0, 0, 0, 0, 0, 0, 0, 0, 0, 0, 1, 0, 0, 0, 1, 0, 0, 0, 0]\n"
     ]
    }
   ],
   "source": [
    "for i in [25000,50000,75000,100000,200000,300000,400000,500000]:\n",
    "    if 0.05 < shapiro(dfCountingRandom16[dfCountingRandom16[\"Size\"]==i][\"CPU (J)\"]).pvalue:\n",
    "        data.append(1)\n",
    "    else:\n",
    "        data.append(0)\n",
    "    size.append(i)\n",
    "    print(shapiro(dfCountingRandom16[dfCountingRandom16[\"Size\"]==i][\"CPU (J)\"]).pvalue)\n",
    "print(data)"
   ]
  },
  {
   "cell_type": "code",
   "execution_count": 49,
   "metadata": {},
   "outputs": [],
   "source": [
    "# for i in [25000,50000,75000,100000,200000,300000,400000,500000]:\n",
    "#     if 0.05 < shapiro(dfMergeBest16[dfMergeBest16[\"Size\"]==i][\"CPU (J)\"]).pvalue:\n",
    "#         data.append(1)\n",
    "#     else:\n",
    "#         data.append(0)\n",
    "#     size.append(i)\n",
    "#     print(shapiro(dfMergeBest16[dfMergeBest16[\"Size\"]==i][\"CPU (J)\"]).pvalue)\n",
    "# print(data)"
   ]
  },
  {
   "cell_type": "code",
   "execution_count": 50,
   "metadata": {},
   "outputs": [
    {
     "name": "stdout",
     "output_type": "stream",
     "text": [
      "2.564143643642375e-15\n",
      "1.7615557226235978e-05\n",
      "3.6780002654612787e-11\n",
      "3.495046485113562e-06\n",
      "0.06762541830539703\n",
      "0.0053144642151892185\n",
      "0.05326027795672417\n",
      "5.479732499225065e-05\n",
      "[0, 0, 0, 0, 0, 0, 0, 0, 0, 0, 0, 0, 0, 0, 0, 1, 0, 0, 0, 1, 0, 0, 0, 0, 0, 0, 0, 0, 1, 0, 1, 0]\n"
     ]
    }
   ],
   "source": [
    "for i in [25000,50000,75000,100000,200000,300000,400000,500000]:\n",
    "    if 0.05 < shapiro(dfMergeWorst16[dfMergeWorst16[\"Size\"]==i][\"CPU (J)\"]).pvalue:\n",
    "        data.append(1)\n",
    "    else:\n",
    "        data.append(0)\n",
    "    size.append(i)\n",
    "    print(shapiro(dfMergeWorst16[dfMergeWorst16[\"Size\"]==i][\"CPU (J)\"]).pvalue)\n",
    "print(data)"
   ]
  },
  {
   "cell_type": "code",
   "execution_count": 51,
   "metadata": {},
   "outputs": [
    {
     "name": "stdout",
     "output_type": "stream",
     "text": [
      "8.497177706465533e-14\n",
      "8.713866918697022e-06\n",
      "3.5998604271114676e-12\n",
      "7.745544280624017e-06\n",
      "0.05808153748512268\n",
      "0.011378862895071507\n",
      "0.005571644753217697\n",
      "0.00014936871593818069\n",
      "[0, 0, 0, 0, 0, 0, 0, 0, 0, 0, 0, 0, 0, 0, 0, 1, 0, 0, 0, 1, 0, 0, 0, 0, 0, 0, 0, 0, 1, 0, 1, 0, 0, 0, 0, 0, 1, 0, 0, 0]\n"
     ]
    }
   ],
   "source": [
    "for i in [25000,50000,75000,100000,200000,300000,400000,500000]:\n",
    "    if 0.05 < shapiro(dfQuickBest16[dfQuickBest16[\"Size\"]==i][\"CPU (J)\"]).pvalue:\n",
    "        data.append(1)\n",
    "    else:\n",
    "        data.append(0)\n",
    "    size.append(i)\n",
    "    print(shapiro(dfQuickBest16[dfQuickBest16[\"Size\"]==i][\"CPU (J)\"]).pvalue)\n",
    "print(data)"
   ]
  },
  {
   "cell_type": "code",
   "execution_count": 52,
   "metadata": {},
   "outputs": [
    {
     "name": "stdout",
     "output_type": "stream",
     "text": [
      "0.0007182743865996599\n",
      "0.0035270347725600004\n",
      "2.2159580836955683e-08\n",
      "1.962078567885328e-05\n",
      "1.1942540706355587e-11\n",
      "3.4938367574500334e-14\n",
      "3.77477571748752e-20\n",
      "3.811123830135993e-17\n",
      "[0, 0, 0, 0, 0, 0, 0, 0, 0, 0, 0, 0, 0, 0, 0, 1, 0, 0, 0, 1, 0, 0, 0, 0, 0, 0, 0, 0, 1, 0, 1, 0, 0, 0, 0, 0, 1, 0, 0, 0, 0, 0, 0, 0, 0, 0, 0, 0]\n"
     ]
    }
   ],
   "source": [
    "for i in [25000,50000,75000,100000,200000,300000,400000,500000]:\n",
    "    if 0.05 < shapiro(dfreadCSVRandom16[dfreadCSVRandom16[\"Size\"]==i][\"CPU (J)\"]).pvalue:\n",
    "        data.append(1)\n",
    "    else:\n",
    "        data.append(0)\n",
    "    size.append(i)\n",
    "    print(shapiro(dfreadCSVRandom16[dfreadCSVRandom16[\"Size\"]==i][\"CPU (J)\"]).pvalue)\n",
    "print(data)"
   ]
  },
  {
   "cell_type": "code",
   "execution_count": 53,
   "metadata": {},
   "outputs": [
    {
     "name": "stdout",
     "output_type": "stream",
     "text": [
      "1.900379231756233e-08\n",
      "0.12961260974407196\n",
      "4.157455196079907e-12\n",
      "9.264106148876294e-11\n",
      "0.01643647998571396\n",
      "0.017125306650996208\n",
      "0.01603827066719532\n",
      "0.12623783946037292\n",
      "[0, 0, 0, 0, 0, 0, 0, 0, 0, 0, 0, 0, 0, 0, 0, 1, 0, 0, 0, 1, 0, 0, 0, 0, 0, 0, 0, 0, 1, 0, 1, 0, 0, 0, 0, 0, 1, 0, 0, 0, 0, 0, 0, 0, 0, 0, 0, 0, 0, 1, 0, 0, 0, 0, 0, 1]\n"
     ]
    }
   ],
   "source": [
    "for i in [25000,50000,75000,100000,200000,300000,400000,500000]:\n",
    "    if 0.05 < shapiro(dfreverseSorted16[dfreverseSorted16[\"Size\"]==i][\"CPU (J)\"]).pvalue:\n",
    "        data.append(1)\n",
    "    else:\n",
    "        data.append(0)\n",
    "    size.append(i)\n",
    "    print(shapiro(dfreverseSorted16[dfreverseSorted16[\"Size\"]==i][\"CPU (J)\"]).pvalue)\n",
    "print(data)"
   ]
  },
  {
   "cell_type": "code",
   "execution_count": 54,
   "metadata": {},
   "outputs": [
    {
     "name": "stdout",
     "output_type": "stream",
     "text": [
      "7.42968222766649e-06\n",
      "1.3185548596084118e-05\n",
      "7.00694471333918e-08\n",
      "6.409548092278783e-08\n",
      "0.00035431553260423243\n",
      "0.002593159908428788\n",
      "0.00037529156543314457\n",
      "0.003717480693012476\n",
      "[0, 0, 0, 0, 0, 0, 0, 0, 0, 0, 0, 0, 0, 0, 0, 1, 0, 0, 0, 1, 0, 0, 0, 0, 0, 0, 0, 0, 1, 0, 1, 0, 0, 0, 0, 0, 1, 0, 0, 0, 0, 0, 0, 0, 0, 0, 0, 0, 0, 1, 0, 0, 0, 0, 0, 1, 0, 0, 0, 0, 0, 0, 0, 0]\n"
     ]
    }
   ],
   "source": [
    "for i in [25000,50000,75000,100000,200000,300000,400000,500000]:\n",
    "    if 0.05 < shapiro(dfSorted16[dfSorted16[\"Size\"]==i][\"CPU (J)\"]).pvalue:\n",
    "        data.append(1)\n",
    "    else:\n",
    "        data.append(0)\n",
    "    size.append(i)\n",
    "    print(shapiro(dfSorted16[dfSorted16[\"Size\"]==i][\"CPU (J)\"]).pvalue)\n",
    "print(data)"
   ]
  },
  {
   "attachments": {},
   "cell_type": "markdown",
   "metadata": {},
   "source": [
    "### Normal Distribution of Time (ms) of all Cases and Input Sizes for PC 16"
   ]
  },
  {
   "cell_type": "code",
   "execution_count": 55,
   "metadata": {},
   "outputs": [
    {
     "name": "stdout",
     "output_type": "stream",
     "text": [
      "1.5399837952575658e-20\n",
      "4.728895195424297e-18\n",
      "3.917851876256151e-10\n",
      "0.0006498308503068984\n",
      "4.388908564578742e-05\n",
      "6.807264526287327e-06\n",
      "2.577558859684359e-07\n",
      "1.2963918379682582e-05\n",
      "[0, 0, 0, 0, 0, 0, 0, 0]\n"
     ]
    }
   ],
   "source": [
    "#Best Case\n",
    "dataTime = []\n",
    "sizeTime = []\n",
    "\n",
    "for i in [25000,50000,75000,100000,200000,300000,400000,500000]:\n",
    "    if 0.05 < shapiro(dfCountingBest16[dfCountingBest16[\"Size\"]==i][\"Time (ms)\"]).pvalue:\n",
    "        dataTime.append(1)\n",
    "    else:\n",
    "        dataTime.append(0)\n",
    "    sizeTime.append(i)\n",
    "    print(shapiro(dfCountingBest16[dfCountingBest16[\"Size\"]==i][\"Time (ms)\"]).pvalue)\n",
    "print(dataTime)\n"
   ]
  },
  {
   "cell_type": "code",
   "execution_count": 56,
   "metadata": {},
   "outputs": [
    {
     "name": "stdout",
     "output_type": "stream",
     "text": [
      "1.2441389656393102e-19\n",
      "4.548026844020114e-09\n",
      "3.0960445656091906e-06\n",
      "0.01679067127406597\n",
      "7.393848500214517e-05\n",
      "0.0029500904493033886\n",
      "0.00023205361503642052\n",
      "0.06803238391876221\n",
      "[0, 0, 0, 0, 0, 0, 0, 0, 0, 0, 0, 0, 0, 0, 0, 1]\n"
     ]
    }
   ],
   "source": [
    "\n",
    "for i in [25000,50000,75000,100000,200000,300000,400000,500000]:\n",
    "    if 0.05 < shapiro(dfCountingWorst16[dfCountingWorst16[\"Size\"]==i][\"Time (ms)\"]).pvalue:\n",
    "        dataTime.append(1)\n",
    "    else:\n",
    "        dataTime.append(0)\n",
    "    sizeTime.append(i)\n",
    "    print(shapiro(dfCountingWorst16[dfCountingWorst16[\"Size\"]==i][\"Time (ms)\"]).pvalue)\n",
    "print(dataTime)"
   ]
  },
  {
   "cell_type": "code",
   "execution_count": 57,
   "metadata": {},
   "outputs": [
    {
     "name": "stdout",
     "output_type": "stream",
     "text": [
      "9.257165508771615e-17\n",
      "6.275778074299465e-12\n",
      "0.000279920146567747\n",
      "0.010317273437976837\n",
      "0.001071489998139441\n",
      "7.267096646668136e-11\n",
      "0.007781866937875748\n",
      "0.05020894482731819\n",
      "[0, 0, 0, 0, 0, 0, 0, 0, 0, 0, 0, 0, 0, 0, 0, 1, 0, 0, 0, 0, 0, 0, 0, 1]\n"
     ]
    }
   ],
   "source": [
    "\n",
    "for i in [25000,50000,75000,100000,200000,300000,400000,500000]:\n",
    "    if 0.05 < shapiro(dfCountingRandom16[dfCountingRandom16[\"Size\"]==i][\"Time (ms)\"]).pvalue:\n",
    "        dataTime.append(1)\n",
    "    else:\n",
    "        dataTime.append(0)\n",
    "    sizeTime.append(i)\n",
    "    print(shapiro(dfCountingRandom16[dfCountingRandom16[\"Size\"]==i][\"Time (ms)\"]).pvalue)\n",
    "print(dataTime)"
   ]
  },
  {
   "cell_type": "code",
   "execution_count": 58,
   "metadata": {},
   "outputs": [],
   "source": [
    "\n",
    "# for i in [25000,50000,75000,100000,200000,300000,400000,500000]:\n",
    "#     if 0.05 < shapiro(dfMergeBest16[dfMergeBest16[\"Size\"]==i][\"Time (ms)\"]).pvalue:\n",
    "#         dataTime.append(1)\n",
    "#     else:\n",
    "#         dataTime.append(0)\n",
    "#     sizeTime.append(i)\n",
    "#     print(shapiro(dfMergeBest16[dfMergeBest16[\"Size\"]==i][\"Time (ms)\"]).pvalue)\n",
    "# print(dataTime)"
   ]
  },
  {
   "cell_type": "code",
   "execution_count": 59,
   "metadata": {},
   "outputs": [
    {
     "name": "stdout",
     "output_type": "stream",
     "text": [
      "5.405470346886432e-07\n",
      "5.3688715695443534e-08\n",
      "0.00023967779998201877\n",
      "0.028530089184641838\n",
      "0.0016527678817510605\n",
      "0.0005918939714320004\n",
      "8.075082587311044e-05\n",
      "0.05330759659409523\n",
      "[0, 0, 0, 0, 0, 0, 0, 0, 0, 0, 0, 0, 0, 0, 0, 1, 0, 0, 0, 0, 0, 0, 0, 1, 0, 0, 0, 0, 0, 0, 0, 1]\n"
     ]
    }
   ],
   "source": [
    "\n",
    "for i in [25000,50000,75000,100000,200000,300000,400000,500000]:\n",
    "    if 0.05 < shapiro(dfMergeWorst16[dfMergeWorst16[\"Size\"]==i][\"Time (ms)\"]).pvalue:\n",
    "        dataTime.append(1)\n",
    "    else:\n",
    "        dataTime.append(0)\n",
    "    sizeTime.append(i)\n",
    "    print(shapiro(dfMergeWorst16[dfMergeWorst16[\"Size\"]==i][\"Time (ms)\"]).pvalue)\n",
    "print(dataTime)"
   ]
  },
  {
   "cell_type": "code",
   "execution_count": 60,
   "metadata": {},
   "outputs": [
    {
     "name": "stdout",
     "output_type": "stream",
     "text": [
      "1.6899355490655761e-19\n",
      "5.923216696854597e-16\n",
      "5.244034127827035e-06\n",
      "9.584286090102978e-06\n",
      "0.001304054050706327\n",
      "0.0781233012676239\n",
      "0.0526098906993866\n",
      "0.07832686603069305\n",
      "[0, 0, 0, 0, 0, 0, 0, 0, 0, 0, 0, 0, 0, 0, 0, 1, 0, 0, 0, 0, 0, 0, 0, 1, 0, 0, 0, 0, 0, 0, 0, 1, 0, 0, 0, 0, 0, 1, 1, 1]\n"
     ]
    }
   ],
   "source": [
    "for i in [25000,50000,75000,100000,200000,300000,400000,500000]:\n",
    "    if 0.05 < shapiro(dfQuickBest16[dfQuickBest16[\"Size\"]==i][\"Time (ms)\"]).pvalue:\n",
    "        dataTime.append(1)\n",
    "    else:\n",
    "        dataTime.append(0)\n",
    "    sizeTime.append(i)\n",
    "    print(shapiro(dfQuickBest16[dfQuickBest16[\"Size\"]==i][\"Time (ms)\"]).pvalue)\n",
    "print(dataTime)"
   ]
  },
  {
   "cell_type": "code",
   "execution_count": 61,
   "metadata": {},
   "outputs": [
    {
     "name": "stdout",
     "output_type": "stream",
     "text": [
      "5.731663407781973e-12\n",
      "1.1411416700468635e-08\n",
      "0.022626595571637154\n",
      "0.0023179538547992706\n",
      "0.00012186950334580615\n",
      "8.898533997125924e-05\n",
      "1.6897124623937998e-06\n",
      "0.0007047414546832442\n",
      "[0, 0, 0, 0, 0, 0, 0, 0, 0, 0, 0, 0, 0, 0, 0, 1, 0, 0, 0, 0, 0, 0, 0, 1, 0, 0, 0, 0, 0, 0, 0, 1, 0, 0, 0, 0, 0, 1, 1, 1, 0, 0, 0, 0, 0, 0, 0, 0]\n"
     ]
    }
   ],
   "source": [
    "for i in [25000,50000,75000,100000,200000,300000,400000,500000]:\n",
    "    if 0.05 < shapiro(dfreadCSVRandom16[dfreadCSVRandom16[\"Size\"]==i][\"Time (ms)\"]).pvalue:\n",
    "        dataTime.append(1)\n",
    "    else:\n",
    "        dataTime.append(0)\n",
    "    sizeTime.append(i)\n",
    "    print(shapiro(dfreadCSVRandom16[dfreadCSVRandom16[\"Size\"]==i][\"Time (ms)\"]).pvalue)\n",
    "print(dataTime)"
   ]
  },
  {
   "cell_type": "code",
   "execution_count": 62,
   "metadata": {},
   "outputs": [
    {
     "name": "stdout",
     "output_type": "stream",
     "text": [
      "6.879613244302452e-16\n",
      "3.794254610479074e-14\n",
      "1.5711750165792182e-05\n",
      "0.002818545326590538\n",
      "0.004859066568315029\n",
      "0.22661109268665314\n",
      "0.01982029713690281\n",
      "0.4704310894012451\n",
      "[0, 0, 0, 0, 0, 0, 0, 0, 0, 0, 0, 0, 0, 0, 0, 1, 0, 0, 0, 0, 0, 0, 0, 1, 0, 0, 0, 0, 0, 0, 0, 1, 0, 0, 0, 0, 0, 1, 1, 1, 0, 0, 0, 0, 0, 0, 0, 0, 0, 0, 0, 0, 0, 1, 0, 1]\n"
     ]
    }
   ],
   "source": [
    "for i in [25000,50000,75000,100000,200000,300000,400000,500000]:\n",
    "    if 0.05 < shapiro(dfreverseSorted16[dfreverseSorted16[\"Size\"]==i][\"Time (ms)\"]).pvalue:\n",
    "        dataTime.append(1)\n",
    "    else:\n",
    "        dataTime.append(0)\n",
    "    sizeTime.append(i)\n",
    "    print(shapiro(dfreverseSorted16[dfreverseSorted16[\"Size\"]==i][\"Time (ms)\"]).pvalue)\n",
    "print(dataTime)"
   ]
  },
  {
   "cell_type": "code",
   "execution_count": 63,
   "metadata": {},
   "outputs": [
    {
     "name": "stdout",
     "output_type": "stream",
     "text": [
      "2.0295769748673577e-20\n",
      "3.136916904635949e-16\n",
      "1.350381353404373e-05\n",
      "2.084658990497701e-05\n",
      "5.3443622164195403e-05\n",
      "0.00787402968853712\n",
      "0.0623830184340477\n",
      "0.025223219767212868\n",
      "[0, 0, 0, 0, 0, 0, 0, 0, 0, 0, 0, 0, 0, 0, 0, 1, 0, 0, 0, 0, 0, 0, 0, 1, 0, 0, 0, 0, 0, 0, 0, 1, 0, 0, 0, 0, 0, 1, 1, 1, 0, 0, 0, 0, 0, 0, 0, 0, 0, 0, 0, 0, 0, 1, 0, 1, 0, 0, 0, 0, 0, 0, 1, 0]\n"
     ]
    }
   ],
   "source": [
    "for i in [25000,50000,75000,100000,200000,300000,400000,500000]:\n",
    "    if 0.05 < shapiro(dfSorted16[dfSorted16[\"Size\"]==i][\"Time (ms)\"]).pvalue:\n",
    "        dataTime.append(1)\n",
    "    else:\n",
    "        dataTime.append(0)\n",
    "    sizeTime.append(i)\n",
    "    print(shapiro(dfSorted16[dfSorted16[\"Size\"]==i][\"Time (ms)\"]).pvalue)\n",
    "print(dataTime)"
   ]
  },
  {
   "attachments": {},
   "cell_type": "markdown",
   "metadata": {},
   "source": [
    "### Normal Distribution of Time (ms) of all Cases and Input Sizes for PC 16"
   ]
  },
  {
   "cell_type": "code",
   "execution_count": 64,
   "metadata": {},
   "outputs": [
    {
     "name": "stdout",
     "output_type": "stream",
     "text": [
      "0.0017690935637801886\n",
      "0.002821078523993492\n",
      "9.048570177583315e-07\n",
      "2.888479139073752e-05\n",
      "0.2010548710823059\n",
      "0.1365600824356079\n",
      "0.08279186487197876\n",
      "0.19144698977470398\n",
      "[0, 0, 0, 0, 1, 1, 1, 1]\n"
     ]
    }
   ],
   "source": [
    " \n",
    "dataDRAM = []\n",
    "sizeDRAM = []\n",
    "for i in [25000,50000,75000,100000,200000,300000,400000,500000]:\n",
    "    if 0.05 < shapiro(dfCountingBest16[dfCountingBest16[\"Size\"]==i][\"DRAM (J)\"]).pvalue:\n",
    "        dataDRAM.append(1)\n",
    "    else:\n",
    "        dataDRAM.append(0)\n",
    "    sizeDRAM.append(i)\n",
    "    print(shapiro(dfCountingBest16[dfCountingBest16[\"Size\"]==i][\"DRAM (J)\"]).pvalue)\n",
    "print(dataDRAM)"
   ]
  },
  {
   "cell_type": "code",
   "execution_count": 65,
   "metadata": {},
   "outputs": [
    {
     "name": "stdout",
     "output_type": "stream",
     "text": [
      "3.044531737828038e-08\n",
      "9.277727804146707e-05\n",
      "0.0010028766700997949\n",
      "0.022048600018024445\n",
      "0.021465597674250603\n",
      "0.0004277935950085521\n",
      "3.5102130595181876e-17\n",
      "1.7746837954746297e-07\n",
      "[0, 0, 0, 0, 1, 1, 1, 1, 0, 0, 0, 0, 0, 0, 0, 0]\n"
     ]
    }
   ],
   "source": [
    "for i in [25000,50000,75000,100000,200000,300000,400000,500000]:\n",
    "    if 0.05 < shapiro(dfCountingWorst16[dfCountingWorst16[\"Size\"]==i][\"DRAM (J)\"]).pvalue:\n",
    "        dataDRAM.append(1)\n",
    "    else:\n",
    "        dataDRAM.append(0)\n",
    "    sizeDRAM.append(i)\n",
    "    print(shapiro(dfCountingWorst16[dfCountingWorst16[\"Size\"]==i][\"DRAM (J)\"]).pvalue)\n",
    "print(dataDRAM)"
   ]
  },
  {
   "cell_type": "code",
   "execution_count": 66,
   "metadata": {},
   "outputs": [
    {
     "name": "stdout",
     "output_type": "stream",
     "text": [
      "0.0022935352753847837\n",
      "0.001272714463993907\n",
      "0.0007322978344745934\n",
      "0.0031574300955981016\n",
      "6.0601390572401215e-09\n",
      "1.1897219371644193e-15\n",
      "3.7946215252167717e-19\n",
      "1.9739184652046646e-14\n",
      "[0, 0, 0, 0, 1, 1, 1, 1, 0, 0, 0, 0, 0, 0, 0, 0, 0, 0, 0, 0, 0, 0, 0, 0]\n"
     ]
    }
   ],
   "source": [
    "for i in [25000,50000,75000,100000,200000,300000,400000,500000]:\n",
    "    if 0.05 < shapiro(dfCountingRandom16[dfCountingRandom16[\"Size\"]==i][\"DRAM (J)\"]).pvalue:\n",
    "        dataDRAM.append(1)\n",
    "    else:\n",
    "        dataDRAM.append(0)\n",
    "    sizeDRAM.append(i)\n",
    "    print(shapiro(dfCountingRandom16[dfCountingRandom16[\"Size\"]==i][\"DRAM (J)\"]).pvalue)\n",
    "print(dataDRAM)"
   ]
  },
  {
   "cell_type": "code",
   "execution_count": 67,
   "metadata": {},
   "outputs": [],
   "source": [
    "# for i in [25000,50000,75000,100000,200000,300000,400000,500000]:\n",
    "#     if 0.05 < shapiro(dfMergeBest16[dfMergeBest16[\"Size\"]==i][\"DRAM (J)\"]).pvalue:\n",
    "#         dataDRAM.append(1)\n",
    "#     else:\n",
    "#         dataDRAM.append(0)\n",
    "#     sizeDRAM.append(i)\n",
    "#     print(shapiro(dfMergeBest16[dfMergeBest16[\"Size\"]==i][\"DRAM (J)\"]).pvalue)\n",
    "# print(dataDRAM)"
   ]
  },
  {
   "cell_type": "code",
   "execution_count": 68,
   "metadata": {},
   "outputs": [
    {
     "data": {
      "text/html": [
       "<div>\n",
       "<style scoped>\n",
       "    .dataframe tbody tr th:only-of-type {\n",
       "        vertical-align: middle;\n",
       "    }\n",
       "\n",
       "    .dataframe tbody tr th {\n",
       "        vertical-align: top;\n",
       "    }\n",
       "\n",
       "    .dataframe thead th {\n",
       "        text-align: right;\n",
       "    }\n",
       "</style>\n",
       "<table border=\"1\" class=\"dataframe\">\n",
       "  <thead>\n",
       "    <tr style=\"text-align: right;\">\n",
       "      <th></th>\n",
       "      <th>PKG (J)</th>\n",
       "      <th>CPU (J)</th>\n",
       "      <th>DRAM (J)</th>\n",
       "      <th>Time (ms)</th>\n",
       "      <th>Temp (C)</th>\n",
       "      <th>Input case</th>\n",
       "      <th>Size</th>\n",
       "    </tr>\n",
       "  </thead>\n",
       "  <tbody>\n",
       "  </tbody>\n",
       "</table>\n",
       "</div>"
      ],
      "text/plain": [
       "Empty DataFrame\n",
       "Columns: [PKG (J), CPU (J), DRAM (J), Time (ms), Temp (C), Input case, Size]\n",
       "Index: []"
      ]
     },
     "execution_count": 68,
     "metadata": {},
     "output_type": "execute_result"
    }
   ],
   "source": [
    "dfMergeBest16"
   ]
  },
  {
   "cell_type": "code",
   "execution_count": 69,
   "metadata": {},
   "outputs": [
    {
     "name": "stdout",
     "output_type": "stream",
     "text": [
      "1.48345810462025e-12\n",
      "0.15408200025558472\n",
      "1.339256186838611e-06\n",
      "1.1019556040992029e-05\n",
      "0.128671795129776\n",
      "0.4474211037158966\n",
      "0.4321538805961609\n",
      "0.08285970240831375\n",
      "[0, 0, 0, 0, 1, 1, 1, 1, 0, 0, 0, 0, 0, 0, 0, 0, 0, 0, 0, 0, 0, 0, 0, 0, 0, 1, 0, 0, 1, 1, 1, 1]\n"
     ]
    }
   ],
   "source": [
    "for i in [25000,50000,75000,100000,200000,300000,400000,500000]:\n",
    "    if 0.05 < shapiro(dfMergeWorst16[dfMergeWorst16[\"Size\"]==i][\"DRAM (J)\"]).pvalue:\n",
    "        dataDRAM.append(1)\n",
    "    else:\n",
    "        dataDRAM.append(0)\n",
    "    sizeDRAM.append(i)\n",
    "    print(shapiro(dfMergeWorst16[dfMergeWorst16[\"Size\"]==i][\"DRAM (J)\"]).pvalue)\n",
    "print(dataDRAM)"
   ]
  },
  {
   "cell_type": "code",
   "execution_count": 70,
   "metadata": {},
   "outputs": [
    {
     "name": "stdout",
     "output_type": "stream",
     "text": [
      "6.5508078961329375e-09\n",
      "0.04702698066830635\n",
      "4.411605525334039e-10\n",
      "0.00018931261729449034\n",
      "0.30982568860054016\n",
      "0.0004278089909348637\n",
      "0.06558521836996078\n",
      "0.0023159345146268606\n",
      "[0, 0, 0, 0, 1, 1, 1, 1, 0, 0, 0, 0, 0, 0, 0, 0, 0, 0, 0, 0, 0, 0, 0, 0, 0, 1, 0, 0, 1, 1, 1, 1, 0, 0, 0, 0, 1, 0, 1, 0]\n"
     ]
    }
   ],
   "source": [
    "for i in [25000,50000,75000,100000,200000,300000,400000,500000]:\n",
    "    if 0.05 < shapiro(dfQuickBest16[dfQuickBest16[\"Size\"]==i][\"DRAM (J)\"]).pvalue:\n",
    "        dataDRAM.append(1)\n",
    "    else:\n",
    "        dataDRAM.append(0)\n",
    "    sizeDRAM.append(i)\n",
    "    print(shapiro(dfQuickBest16[dfQuickBest16[\"Size\"]==i][\"DRAM (J)\"]).pvalue)\n",
    "print(dataDRAM)"
   ]
  },
  {
   "cell_type": "code",
   "execution_count": 71,
   "metadata": {},
   "outputs": [
    {
     "name": "stdout",
     "output_type": "stream",
     "text": [
      "0.00028810687945224345\n",
      "0.009210804477334023\n",
      "4.108147550141439e-05\n",
      "4.4818760216003284e-05\n",
      "9.140124497897098e-19\n",
      "9.989747761239608e-16\n",
      "1.9190799200205558e-25\n",
      "2.300083775982951e-20\n",
      "[0, 0, 0, 0, 1, 1, 1, 1, 0, 0, 0, 0, 0, 0, 0, 0, 0, 0, 0, 0, 0, 0, 0, 0, 0, 1, 0, 0, 1, 1, 1, 1, 0, 0, 0, 0, 1, 0, 1, 0, 0, 0, 0, 0, 0, 0, 0, 0]\n"
     ]
    }
   ],
   "source": [
    "for i in [25000,50000,75000,100000,200000,300000,400000,500000]:\n",
    "    if 0.05 < shapiro(dfreadCSVRandom16[dfreadCSVRandom16[\"Size\"]==i][\"DRAM (J)\"]).pvalue:\n",
    "        dataDRAM.append(1)\n",
    "    else:\n",
    "        dataDRAM.append(0)\n",
    "    sizeDRAM.append(i)\n",
    "    print(shapiro(dfreadCSVRandom16[dfreadCSVRandom16[\"Size\"]==i][\"DRAM (J)\"]).pvalue)\n",
    "print(dataDRAM)"
   ]
  },
  {
   "cell_type": "code",
   "execution_count": 72,
   "metadata": {},
   "outputs": [
    {
     "name": "stdout",
     "output_type": "stream",
     "text": [
      "0.00020083197159692645\n",
      "0.004345434717833996\n",
      "3.0849908131541648e-12\n",
      "7.714286986981733e-09\n",
      "0.053238898515701294\n",
      "0.00013155025953892618\n",
      "0.0003343583084642887\n",
      "0.0017839218489825726\n",
      "[0, 0, 0, 0, 1, 1, 1, 1, 0, 0, 0, 0, 0, 0, 0, 0, 0, 0, 0, 0, 0, 0, 0, 0, 0, 1, 0, 0, 1, 1, 1, 1, 0, 0, 0, 0, 1, 0, 1, 0, 0, 0, 0, 0, 0, 0, 0, 0, 0, 0, 0, 0, 1, 0, 0, 0]\n"
     ]
    }
   ],
   "source": [
    "for i in [25000,50000,75000,100000,200000,300000,400000,500000]:\n",
    "    if 0.05 < shapiro(dfreverseSorted16[dfreverseSorted16[\"Size\"]==i][\"DRAM (J)\"]).pvalue:\n",
    "        dataDRAM.append(1)\n",
    "    else:\n",
    "        dataDRAM.append(0)\n",
    "    sizeDRAM.append(i)\n",
    "    print(shapiro(dfreverseSorted16[dfreverseSorted16[\"Size\"]==i][\"DRAM (J)\"]).pvalue)\n",
    "print(dataDRAM)"
   ]
  },
  {
   "cell_type": "code",
   "execution_count": 73,
   "metadata": {},
   "outputs": [
    {
     "name": "stdout",
     "output_type": "stream",
     "text": [
      "7.327196271944558e-08\n",
      "0.0023155841045081615\n",
      "1.6710859540580714e-07\n",
      "1.7095687780965818e-06\n",
      "0.006371207535266876\n",
      "0.0006328031304292381\n",
      "0.007616725284606218\n",
      "0.34577447175979614\n",
      "[0, 0, 0, 0, 1, 1, 1, 1, 0, 0, 0, 0, 0, 0, 0, 0, 0, 0, 0, 0, 0, 0, 0, 0, 0, 1, 0, 0, 1, 1, 1, 1, 0, 0, 0, 0, 1, 0, 1, 0, 0, 0, 0, 0, 0, 0, 0, 0, 0, 0, 0, 0, 1, 0, 0, 0, 0, 0, 0, 0, 0, 0, 0, 1]\n"
     ]
    }
   ],
   "source": [
    "for i in [25000,50000,75000,100000,200000,300000,400000,500000]:\n",
    "    if 0.05 < shapiro(dfSorted16[dfSorted16[\"Size\"]==i][\"DRAM (J)\"]).pvalue:\n",
    "        dataDRAM.append(1)\n",
    "    else:\n",
    "        dataDRAM.append(0)\n",
    "    sizeDRAM.append(i)\n",
    "    print(shapiro(dfSorted16[dfSorted16[\"Size\"]==i][\"DRAM (J)\"]).pvalue)\n",
    "print(dataDRAM)"
   ]
  },
  {
   "cell_type": "code",
   "execution_count": null,
   "metadata": {},
   "outputs": [],
   "source": []
  }
 ],
 "metadata": {
  "kernelspec": {
   "display_name": "Python 3",
   "language": "python",
   "name": "python3"
  },
  "language_info": {
   "codemirror_mode": {
    "name": "ipython",
    "version": 3
   },
   "file_extension": ".py",
   "mimetype": "text/x-python",
   "name": "python",
   "nbconvert_exporter": "python",
   "pygments_lexer": "ipython3",
   "version": "3.8.2"
  },
  "orig_nbformat": 4
 },
 "nbformat": 4,
 "nbformat_minor": 2
}
