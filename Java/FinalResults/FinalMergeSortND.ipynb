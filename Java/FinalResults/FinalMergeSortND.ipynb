{
 "cells": [
  {
   "cell_type": "code",
   "execution_count": 1,
   "metadata": {},
   "outputs": [],
   "source": [
    "import pandas as pd\n",
    "import matplotlib.pyplot as plt\n",
    "import numpy as np\n",
    "import seaborn as sns\n",
    "from scipy.stats import shapiro"
   ]
  },
  {
   "cell_type": "code",
   "execution_count": 2,
   "metadata": {},
   "outputs": [],
   "source": [
    "dfMergeSort16 = pd.read_csv(\"FinalAnalysis/CleanData/MergeClean-PC16.csv\")\n"
   ]
  },
  {
   "cell_type": "code",
   "execution_count": 3,
   "metadata": {},
   "outputs": [
    {
     "data": {
      "text/html": [
       "<div>\n",
       "<style scoped>\n",
       "    .dataframe tbody tr th:only-of-type {\n",
       "        vertical-align: middle;\n",
       "    }\n",
       "\n",
       "    .dataframe tbody tr th {\n",
       "        vertical-align: top;\n",
       "    }\n",
       "\n",
       "    .dataframe thead th {\n",
       "        text-align: right;\n",
       "    }\n",
       "</style>\n",
       "<table border=\"1\" class=\"dataframe\">\n",
       "  <thead>\n",
       "    <tr style=\"text-align: right;\">\n",
       "      <th></th>\n",
       "      <th>PKG (J)</th>\n",
       "      <th>CPU (J)</th>\n",
       "      <th>DRAM (J)</th>\n",
       "      <th>Time (ms)</th>\n",
       "      <th>Temp (C)</th>\n",
       "      <th>Input case</th>\n",
       "      <th>Size</th>\n",
       "    </tr>\n",
       "  </thead>\n",
       "  <tbody>\n",
       "    <tr>\n",
       "      <th>0</th>\n",
       "      <td>2.144348</td>\n",
       "      <td>1.843567</td>\n",
       "      <td>0.133606</td>\n",
       "      <td>209.112</td>\n",
       "      <td>72.0</td>\n",
       "      <td>best</td>\n",
       "      <td>25000</td>\n",
       "    </tr>\n",
       "    <tr>\n",
       "      <th>1</th>\n",
       "      <td>2.076294</td>\n",
       "      <td>1.757446</td>\n",
       "      <td>0.127869</td>\n",
       "      <td>241.316</td>\n",
       "      <td>72.0</td>\n",
       "      <td>best</td>\n",
       "      <td>25000</td>\n",
       "    </tr>\n",
       "    <tr>\n",
       "      <th>2</th>\n",
       "      <td>2.113647</td>\n",
       "      <td>1.822815</td>\n",
       "      <td>0.119995</td>\n",
       "      <td>212.796</td>\n",
       "      <td>72.0</td>\n",
       "      <td>best</td>\n",
       "      <td>25000</td>\n",
       "    </tr>\n",
       "    <tr>\n",
       "      <th>3</th>\n",
       "      <td>2.221313</td>\n",
       "      <td>1.927490</td>\n",
       "      <td>0.131714</td>\n",
       "      <td>214.291</td>\n",
       "      <td>72.0</td>\n",
       "      <td>best</td>\n",
       "      <td>25000</td>\n",
       "    </tr>\n",
       "    <tr>\n",
       "      <th>4</th>\n",
       "      <td>2.150085</td>\n",
       "      <td>1.861267</td>\n",
       "      <td>0.121155</td>\n",
       "      <td>212.584</td>\n",
       "      <td>72.0</td>\n",
       "      <td>best</td>\n",
       "      <td>25000</td>\n",
       "    </tr>\n",
       "    <tr>\n",
       "      <th>...</th>\n",
       "      <td>...</td>\n",
       "      <td>...</td>\n",
       "      <td>...</td>\n",
       "      <td>...</td>\n",
       "      <td>...</td>\n",
       "      <td>...</td>\n",
       "      <td>...</td>\n",
       "    </tr>\n",
       "    <tr>\n",
       "      <th>11416</th>\n",
       "      <td>5.553040</td>\n",
       "      <td>4.821106</td>\n",
       "      <td>0.317017</td>\n",
       "      <td>562.680</td>\n",
       "      <td>71.0</td>\n",
       "      <td>worst</td>\n",
       "      <td>500000</td>\n",
       "    </tr>\n",
       "    <tr>\n",
       "      <th>11417</th>\n",
       "      <td>5.592651</td>\n",
       "      <td>4.848083</td>\n",
       "      <td>0.316772</td>\n",
       "      <td>580.584</td>\n",
       "      <td>71.0</td>\n",
       "      <td>worst</td>\n",
       "      <td>500000</td>\n",
       "    </tr>\n",
       "    <tr>\n",
       "      <th>11418</th>\n",
       "      <td>5.324646</td>\n",
       "      <td>4.633362</td>\n",
       "      <td>0.302002</td>\n",
       "      <td>535.628</td>\n",
       "      <td>71.0</td>\n",
       "      <td>worst</td>\n",
       "      <td>500000</td>\n",
       "    </tr>\n",
       "    <tr>\n",
       "      <th>11419</th>\n",
       "      <td>5.623474</td>\n",
       "      <td>4.864380</td>\n",
       "      <td>0.325439</td>\n",
       "      <td>589.700</td>\n",
       "      <td>70.0</td>\n",
       "      <td>worst</td>\n",
       "      <td>500000</td>\n",
       "    </tr>\n",
       "    <tr>\n",
       "      <th>11420</th>\n",
       "      <td>5.944275</td>\n",
       "      <td>5.183899</td>\n",
       "      <td>0.340942</td>\n",
       "      <td>579.271</td>\n",
       "      <td>70.0</td>\n",
       "      <td>worst</td>\n",
       "      <td>500000</td>\n",
       "    </tr>\n",
       "  </tbody>\n",
       "</table>\n",
       "<p>11421 rows × 7 columns</p>\n",
       "</div>"
      ],
      "text/plain": [
       "        PKG (J)   CPU (J)  DRAM (J)  Time (ms)  Temp (C) Input case    Size\n",
       "0      2.144348  1.843567  0.133606    209.112      72.0       best   25000\n",
       "1      2.076294  1.757446  0.127869    241.316      72.0       best   25000\n",
       "2      2.113647  1.822815  0.119995    212.796      72.0       best   25000\n",
       "3      2.221313  1.927490  0.131714    214.291      72.0       best   25000\n",
       "4      2.150085  1.861267  0.121155    212.584      72.0       best   25000\n",
       "...         ...       ...       ...        ...       ...        ...     ...\n",
       "11416  5.553040  4.821106  0.317017    562.680      71.0      worst  500000\n",
       "11417  5.592651  4.848083  0.316772    580.584      71.0      worst  500000\n",
       "11418  5.324646  4.633362  0.302002    535.628      71.0      worst  500000\n",
       "11419  5.623474  4.864380  0.325439    589.700      70.0      worst  500000\n",
       "11420  5.944275  5.183899  0.340942    579.271      70.0      worst  500000\n",
       "\n",
       "[11421 rows x 7 columns]"
      ]
     },
     "execution_count": 3,
     "metadata": {},
     "output_type": "execute_result"
    }
   ],
   "source": [
    "dfMergeSort16"
   ]
  },
  {
   "cell_type": "code",
   "execution_count": 4,
   "metadata": {},
   "outputs": [],
   "source": [
    "#making all the cases \n",
    "dfMergeSortBest16 = dfMergeSort16[dfMergeSort16[\"Input case\"].str.startswith(\"best\")]\n",
    "dfMergeSortWorst16 = dfMergeSort16[dfMergeSort16[\"Input case\"].str.startswith(\"worst\")]\n",
    "dfMergeSortRandom16 = dfMergeSort16[dfMergeSort16[\"Input case\"].str.startswith(\"random\")]\n"
   ]
  },
  {
   "cell_type": "code",
   "execution_count": 5,
   "metadata": {},
   "outputs": [
    {
     "data": {
      "text/html": [
       "<div>\n",
       "<style scoped>\n",
       "    .dataframe tbody tr th:only-of-type {\n",
       "        vertical-align: middle;\n",
       "    }\n",
       "\n",
       "    .dataframe tbody tr th {\n",
       "        vertical-align: top;\n",
       "    }\n",
       "\n",
       "    .dataframe thead th {\n",
       "        text-align: right;\n",
       "    }\n",
       "</style>\n",
       "<table border=\"1\" class=\"dataframe\">\n",
       "  <thead>\n",
       "    <tr style=\"text-align: right;\">\n",
       "      <th></th>\n",
       "      <th>PKG (J)</th>\n",
       "      <th>CPU (J)</th>\n",
       "      <th>DRAM (J)</th>\n",
       "      <th>Time (ms)</th>\n",
       "      <th>Temp (C)</th>\n",
       "      <th>Input case</th>\n",
       "      <th>Size</th>\n",
       "    </tr>\n",
       "  </thead>\n",
       "  <tbody>\n",
       "    <tr>\n",
       "      <th>0</th>\n",
       "      <td>2.144348</td>\n",
       "      <td>1.843567</td>\n",
       "      <td>0.133606</td>\n",
       "      <td>209.112</td>\n",
       "      <td>72.0</td>\n",
       "      <td>best</td>\n",
       "      <td>25000</td>\n",
       "    </tr>\n",
       "    <tr>\n",
       "      <th>1</th>\n",
       "      <td>2.076294</td>\n",
       "      <td>1.757446</td>\n",
       "      <td>0.127869</td>\n",
       "      <td>241.316</td>\n",
       "      <td>72.0</td>\n",
       "      <td>best</td>\n",
       "      <td>25000</td>\n",
       "    </tr>\n",
       "    <tr>\n",
       "      <th>2</th>\n",
       "      <td>2.113647</td>\n",
       "      <td>1.822815</td>\n",
       "      <td>0.119995</td>\n",
       "      <td>212.796</td>\n",
       "      <td>72.0</td>\n",
       "      <td>best</td>\n",
       "      <td>25000</td>\n",
       "    </tr>\n",
       "    <tr>\n",
       "      <th>3</th>\n",
       "      <td>2.221313</td>\n",
       "      <td>1.927490</td>\n",
       "      <td>0.131714</td>\n",
       "      <td>214.291</td>\n",
       "      <td>72.0</td>\n",
       "      <td>best</td>\n",
       "      <td>25000</td>\n",
       "    </tr>\n",
       "    <tr>\n",
       "      <th>4</th>\n",
       "      <td>2.150085</td>\n",
       "      <td>1.861267</td>\n",
       "      <td>0.121155</td>\n",
       "      <td>212.584</td>\n",
       "      <td>72.0</td>\n",
       "      <td>best</td>\n",
       "      <td>25000</td>\n",
       "    </tr>\n",
       "    <tr>\n",
       "      <th>...</th>\n",
       "      <td>...</td>\n",
       "      <td>...</td>\n",
       "      <td>...</td>\n",
       "      <td>...</td>\n",
       "      <td>...</td>\n",
       "      <td>...</td>\n",
       "      <td>...</td>\n",
       "    </tr>\n",
       "    <tr>\n",
       "      <th>2742</th>\n",
       "      <td>6.257141</td>\n",
       "      <td>5.420349</td>\n",
       "      <td>0.372925</td>\n",
       "      <td>586.100</td>\n",
       "      <td>76.0</td>\n",
       "      <td>best</td>\n",
       "      <td>500000</td>\n",
       "    </tr>\n",
       "    <tr>\n",
       "      <th>2743</th>\n",
       "      <td>5.413147</td>\n",
       "      <td>4.671997</td>\n",
       "      <td>0.307861</td>\n",
       "      <td>544.046</td>\n",
       "      <td>76.0</td>\n",
       "      <td>best</td>\n",
       "      <td>500000</td>\n",
       "    </tr>\n",
       "    <tr>\n",
       "      <th>2744</th>\n",
       "      <td>5.864563</td>\n",
       "      <td>5.083130</td>\n",
       "      <td>0.343384</td>\n",
       "      <td>548.031</td>\n",
       "      <td>76.0</td>\n",
       "      <td>best</td>\n",
       "      <td>500000</td>\n",
       "    </tr>\n",
       "    <tr>\n",
       "      <th>2745</th>\n",
       "      <td>6.014587</td>\n",
       "      <td>5.185547</td>\n",
       "      <td>0.353271</td>\n",
       "      <td>594.057</td>\n",
       "      <td>76.0</td>\n",
       "      <td>best</td>\n",
       "      <td>500000</td>\n",
       "    </tr>\n",
       "    <tr>\n",
       "      <th>2746</th>\n",
       "      <td>6.218384</td>\n",
       "      <td>5.404053</td>\n",
       "      <td>0.377380</td>\n",
       "      <td>568.825</td>\n",
       "      <td>76.0</td>\n",
       "      <td>best</td>\n",
       "      <td>500000</td>\n",
       "    </tr>\n",
       "  </tbody>\n",
       "</table>\n",
       "<p>2747 rows × 7 columns</p>\n",
       "</div>"
      ],
      "text/plain": [
       "       PKG (J)   CPU (J)  DRAM (J)  Time (ms)  Temp (C) Input case    Size\n",
       "0     2.144348  1.843567  0.133606    209.112      72.0       best   25000\n",
       "1     2.076294  1.757446  0.127869    241.316      72.0       best   25000\n",
       "2     2.113647  1.822815  0.119995    212.796      72.0       best   25000\n",
       "3     2.221313  1.927490  0.131714    214.291      72.0       best   25000\n",
       "4     2.150085  1.861267  0.121155    212.584      72.0       best   25000\n",
       "...        ...       ...       ...        ...       ...        ...     ...\n",
       "2742  6.257141  5.420349  0.372925    586.100      76.0       best  500000\n",
       "2743  5.413147  4.671997  0.307861    544.046      76.0       best  500000\n",
       "2744  5.864563  5.083130  0.343384    548.031      76.0       best  500000\n",
       "2745  6.014587  5.185547  0.353271    594.057      76.0       best  500000\n",
       "2746  6.218384  5.404053  0.377380    568.825      76.0       best  500000\n",
       "\n",
       "[2747 rows x 7 columns]"
      ]
     },
     "execution_count": 5,
     "metadata": {},
     "output_type": "execute_result"
    }
   ],
   "source": [
    "dfMergeSortBest16"
   ]
  },
  {
   "attachments": {},
   "cell_type": "markdown",
   "metadata": {},
   "source": [
    "# Shapiro Wilks Test for Normal Distribution "
   ]
  },
  {
   "attachments": {},
   "cell_type": "markdown",
   "metadata": {},
   "source": [
    "### Normal Distribution of CPU (J) of all Cases and Input Sizes for PC 16"
   ]
  },
  {
   "cell_type": "code",
   "execution_count": 6,
   "metadata": {},
   "outputs": [
    {
     "name": "stdout",
     "output_type": "stream",
     "text": [
      "1.571459193883129e-07\n",
      "1.8400132830720395e-06\n",
      "1.51748995314005e-11\n",
      "8.466629708436813e-08\n",
      "4.210086868971369e-13\n",
      "5.219103794973368e-12\n",
      "1.8104169552390914e-10\n",
      "2.162680798334371e-11\n",
      "[0, 0, 0, 0, 0, 0, 0, 0]\n"
     ]
    }
   ],
   "source": [
    "data = []\n",
    "size = []\n",
    "for i in [25000,50000,75000,100000,200000,300000,400000,500000]:\n",
    "    if 0.05 < shapiro(dfMergeSortBest16[dfMergeSortBest16[\"Size\"]==i][\"CPU (J)\"]).pvalue:\n",
    "        data.append(1)\n",
    "    else:\n",
    "        data.append(0)\n",
    "    size.append(i)\n",
    "    print(shapiro(dfMergeSortBest16[dfMergeSortBest16[\"Size\"]==i][\"CPU (J)\"]).pvalue)\n",
    "print(data)"
   ]
  },
  {
   "cell_type": "code",
   "execution_count": 7,
   "metadata": {},
   "outputs": [
    {
     "name": "stdout",
     "output_type": "stream",
     "text": [
      "2.1698399166325544e-07\n",
      "7.530266188382484e-09\n",
      "8.562242711715462e-13\n",
      "5.6053316654924856e-08\n",
      "2.707984769756422e-08\n",
      "5.743044928507857e-10\n",
      "0.006190084386616945\n",
      "0.014219531789422035\n",
      "[0, 0, 0, 0, 0, 0, 0, 0, 0, 0, 0, 0, 0, 0, 0, 0]\n"
     ]
    }
   ],
   "source": [
    "\n",
    "for i in [25000,50000,75000,100000,200000,300000,400000,500000]:\n",
    "    if 0.05 < shapiro(dfMergeSortWorst16[dfMergeSortWorst16[\"Size\"]==i][\"CPU (J)\"]).pvalue:\n",
    "        data.append(1)\n",
    "    else:\n",
    "        data.append(0)\n",
    "    size.append(i)\n",
    "    print(shapiro(dfMergeSortWorst16[dfMergeSortWorst16[\"Size\"]==i][\"CPU (J)\"]).pvalue)\n",
    "print(data)"
   ]
  },
  {
   "cell_type": "code",
   "execution_count": 8,
   "metadata": {},
   "outputs": [
    {
     "name": "stdout",
     "output_type": "stream",
     "text": [
      "0.003644923446699977\n",
      "3.1506500186573305e-10\n",
      "3.171108264865552e-09\n",
      "2.0807041437365115e-05\n",
      "3.1363465495815035e-06\n",
      "5.5619443078969155e-11\n",
      "5.775846198922149e-16\n",
      "2.511238035240043e-18\n",
      "[0, 0, 0, 0, 0, 0, 0, 0, 0, 0, 0, 0, 0, 0, 0, 0, 0, 0, 0, 0, 0, 0, 0, 0]\n"
     ]
    }
   ],
   "source": [
    "\n",
    "for i in [25000,50000,75000,100000,200000,300000,400000,500000]:\n",
    "    if 0.05 < shapiro(dfMergeSortRandom16[dfMergeSortRandom16[\"Size\"]==i][\"CPU (J)\"]).pvalue:\n",
    "        data.append(1)\n",
    "    else:\n",
    "        data.append(0)\n",
    "    size.append(i)\n",
    "    print(shapiro(dfMergeSortRandom16[dfMergeSortRandom16[\"Size\"]==i][\"CPU (J)\"]).pvalue)\n",
    "print(data)"
   ]
  },
  {
   "attachments": {},
   "cell_type": "markdown",
   "metadata": {},
   "source": [
    "### Normal Distribution of Time (ms) of all Cases and Input Sizes for PC 16"
   ]
  },
  {
   "cell_type": "code",
   "execution_count": 9,
   "metadata": {},
   "outputs": [
    {
     "name": "stdout",
     "output_type": "stream",
     "text": [
      "3.807505493336267e-21\n",
      "1.55357520270627e-06\n",
      "0.23827320337295532\n",
      "0.0185370072722435\n",
      "0.07428228855133057\n",
      "0.019843610003590584\n",
      "0.009792116470634937\n",
      "0.6126136779785156\n",
      "[0, 0, 1, 0, 1, 0, 0, 1]\n"
     ]
    }
   ],
   "source": [
    "#Best Case\n",
    "dataTime = []\n",
    "sizeTime = []\n",
    "\n",
    "for i in [25000,50000,75000,100000,200000,300000,400000,500000]:\n",
    "    if 0.05 < shapiro(dfMergeSortBest16[dfMergeSortBest16[\"Size\"]==i][\"Time (ms)\"]).pvalue:\n",
    "        dataTime.append(1)\n",
    "    else:\n",
    "        dataTime.append(0)\n",
    "    sizeTime.append(i)\n",
    "    print(shapiro(dfMergeSortBest16[dfMergeSortBest16[\"Size\"]==i][\"Time (ms)\"]).pvalue)\n",
    "print(dataTime)"
   ]
  },
  {
   "cell_type": "code",
   "execution_count": 10,
   "metadata": {},
   "outputs": [
    {
     "name": "stdout",
     "output_type": "stream",
     "text": [
      "8.839192055147244e-19\n",
      "4.021414104493637e-11\n",
      "0.09647226333618164\n",
      "0.02188093401491642\n",
      "0.7000463604927063\n",
      "0.05254245549440384\n",
      "0.027569755911827087\n",
      "0.011807641014456749\n",
      "[0, 0, 1, 0, 1, 0, 0, 1, 0, 0, 1, 0, 1, 1, 0, 0]\n"
     ]
    }
   ],
   "source": [
    "#Worst Case\n",
    "\n",
    "\n",
    "for i in [25000,50000,75000,100000,200000,300000,400000,500000]:\n",
    "    if 0.05 < shapiro(dfMergeSortWorst16[dfMergeSortWorst16[\"Size\"]==i][\"Time (ms)\"]).pvalue:\n",
    "        dataTime.append(1)\n",
    "    else:\n",
    "        dataTime.append(0)\n",
    "    sizeTime.append(i)\n",
    "    print(shapiro(dfMergeSortWorst16[dfMergeSortWorst16[\"Size\"]==i][\"Time (ms)\"]).pvalue)\n",
    "print(dataTime)"
   ]
  },
  {
   "cell_type": "code",
   "execution_count": 11,
   "metadata": {},
   "outputs": [
    {
     "name": "stdout",
     "output_type": "stream",
     "text": [
      "7.635698478947834e-22\n",
      "4.007190000265837e-06\n",
      "2.733212022576481e-05\n",
      "9.291505193687044e-06\n",
      "1.8449398453412869e-07\n",
      "3.646225010811577e-08\n",
      "4.7560240190591685e-09\n",
      "1.1705159508323959e-08\n",
      "[0, 0, 1, 0, 1, 0, 0, 1, 0, 0, 1, 0, 1, 1, 0, 0, 0, 0, 0, 0, 0, 0, 0, 0]\n"
     ]
    }
   ],
   "source": [
    "#Random Case\n",
    "\n",
    "\n",
    "for i in [25000,50000,75000,100000,200000,300000,400000,500000]:\n",
    "    if 0.05 < shapiro(dfMergeSortRandom16[dfMergeSortRandom16[\"Size\"]==i][\"Time (ms)\"]).pvalue:\n",
    "        dataTime.append(1)\n",
    "    else:\n",
    "        dataTime.append(0)\n",
    "    sizeTime.append(i)\n",
    "    print(shapiro(dfMergeSortRandom16[dfMergeSortRandom16[\"Size\"]==i][\"Time (ms)\"]).pvalue)\n",
    "print(dataTime)"
   ]
  },
  {
   "attachments": {},
   "cell_type": "markdown",
   "metadata": {},
   "source": [
    "### Normal Distribution of DRAM (J) of all Cases and Input Sizes for PC 16"
   ]
  },
  {
   "cell_type": "code",
   "execution_count": 14,
   "metadata": {},
   "outputs": [
    {
     "name": "stdout",
     "output_type": "stream",
     "text": [
      "0.0029507630970329046\n",
      "1.7559366824571043e-05\n",
      "5.180014639449837e-08\n",
      "5.894200967304641e-07\n",
      "4.677714040223456e-16\n",
      "1.753441315924351e-16\n",
      "1.2075616114687326e-13\n",
      "2.625616466866293e-13\n",
      "[0, 0, 0, 0, 0, 0, 0, 0]\n"
     ]
    }
   ],
   "source": [
    "#Best case \n",
    "dataDRAM = []\n",
    "sizeDRAM = []\n",
    "for i in [25000,50000,75000,100000,200000,300000,400000,500000]:\n",
    "    if 0.05 < shapiro(dfMergeSortBest16[dfMergeSortBest16[\"Size\"]==i][\"DRAM (J)\"]).pvalue:\n",
    "        dataDRAM.append(1)\n",
    "    else:\n",
    "        dataDRAM.append(0)\n",
    "    sizeDRAM.append(i)\n",
    "    print(shapiro(dfMergeSortBest16[dfMergeSortBest16[\"Size\"]==i][\"DRAM (J)\"]).pvalue)\n",
    "print(dataDRAM)"
   ]
  },
  {
   "cell_type": "code",
   "execution_count": 15,
   "metadata": {},
   "outputs": [
    {
     "name": "stdout",
     "output_type": "stream",
     "text": [
      "1.8276615776358085e-09\n",
      "1.0857527740881778e-05\n",
      "3.2960933982195684e-09\n",
      "1.8928701592813013e-06\n",
      "3.57835742761381e-05\n",
      "0.01209145039319992\n",
      "0.036224115639925\n",
      "1.0192078434556606e-06\n",
      "[0, 0, 0, 0, 0, 0, 0, 0, 0, 0, 0, 0, 0, 0, 0, 0]\n"
     ]
    }
   ],
   "source": [
    "#Worst case \n",
    "\n",
    "for i in [25000,50000,75000,100000,200000,300000,400000,500000]:\n",
    "    if 0.05 < shapiro(dfMergeSortWorst16[dfMergeSortWorst16[\"Size\"]==i][\"DRAM (J)\"]).pvalue:\n",
    "        dataDRAM.append(1)\n",
    "    else:\n",
    "        dataDRAM.append(0)\n",
    "    sizeDRAM.append(i)\n",
    "    print(shapiro(dfMergeSortWorst16[dfMergeSortWorst16[\"Size\"]==i][\"DRAM (J)\"]).pvalue)\n",
    "print(dataDRAM)"
   ]
  },
  {
   "cell_type": "code",
   "execution_count": 16,
   "metadata": {},
   "outputs": [
    {
     "name": "stdout",
     "output_type": "stream",
     "text": [
      "1.0305051034720236e-07\n",
      "4.209257440379588e-06\n",
      "6.68066568323411e-05\n",
      "2.3600030818471396e-09\n",
      "6.806076821672039e-18\n",
      "6.898854935599351e-23\n",
      "6.916254170054041e-25\n",
      "1.3488723373910348e-26\n",
      "[0, 0, 0, 0, 0, 0, 0, 0, 0, 0, 0, 0, 0, 0, 0, 0, 0, 0, 0, 0, 0, 0, 0, 0]\n"
     ]
    }
   ],
   "source": [
    "#Random case \n",
    "\n",
    "for i in [25000,50000,75000,100000,200000,300000,400000,500000]:\n",
    "    if 0.05 < shapiro(dfMergeSortRandom16[dfMergeSortRandom16[\"Size\"]==i][\"DRAM (J)\"]).pvalue:\n",
    "        dataDRAM.append(1)\n",
    "    else:\n",
    "        dataDRAM.append(0)\n",
    "    sizeDRAM.append(i)\n",
    "    print(shapiro(dfMergeSortRandom16[dfMergeSortRandom16[\"Size\"]==i][\"DRAM (J)\"]).pvalue)\n",
    "print(dataDRAM)"
   ]
  },
  {
   "cell_type": "code",
   "execution_count": null,
   "metadata": {},
   "outputs": [],
   "source": []
  }
 ],
 "metadata": {
  "kernelspec": {
   "display_name": "Python 3",
   "language": "python",
   "name": "python3"
  },
  "language_info": {
   "codemirror_mode": {
    "name": "ipython",
    "version": 3
   },
   "file_extension": ".py",
   "mimetype": "text/x-python",
   "name": "python",
   "nbconvert_exporter": "python",
   "pygments_lexer": "ipython3",
   "version": "3.8.2"
  },
  "orig_nbformat": 4
 },
 "nbformat": 4,
 "nbformat_minor": 2
}
