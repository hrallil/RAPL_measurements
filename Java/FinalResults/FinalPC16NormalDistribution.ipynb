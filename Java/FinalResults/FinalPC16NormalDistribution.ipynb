{
 "cells": [
  {
   "cell_type": "code",
   "execution_count": 67,
   "metadata": {},
   "outputs": [],
   "source": [
    "import pandas as pd\n",
    "import matplotlib.pyplot as plt\n",
    "import numpy as np\n",
    "import seaborn as sns\n",
    "from scipy.stats import shapiro"
   ]
  },
  {
   "cell_type": "code",
   "execution_count": 68,
   "metadata": {},
   "outputs": [],
   "source": [
    "dfBubbleSort6 = pd.read_csv(\"FinalAnalysis/CleanData/BubbleClean-PC6.csv\")\n",
    "dfBubbleSort16 = pd.read_csv(\"FinalAnalysis/CleanData/BubbleClean-PC16.csv\")\n",
    "dfBubbleSort21 = pd.read_csv(\"FinalAnalysis/CleanData/BubbleClean-PC21.csv\")\n",
    "dfBubbleSort23 = pd.read_csv(\"FinalAnalysis/CleanData/BubbleClean-PC23.csv\")\n"
   ]
  },
  {
   "cell_type": "code",
   "execution_count": 69,
   "metadata": {},
   "outputs": [
    {
     "data": {
      "text/html": [
       "<div>\n",
       "<style scoped>\n",
       "    .dataframe tbody tr th:only-of-type {\n",
       "        vertical-align: middle;\n",
       "    }\n",
       "\n",
       "    .dataframe tbody tr th {\n",
       "        vertical-align: top;\n",
       "    }\n",
       "\n",
       "    .dataframe thead th {\n",
       "        text-align: right;\n",
       "    }\n",
       "</style>\n",
       "<table border=\"1\" class=\"dataframe\">\n",
       "  <thead>\n",
       "    <tr style=\"text-align: right;\">\n",
       "      <th></th>\n",
       "      <th>PKG (J)</th>\n",
       "      <th>CPU (J)</th>\n",
       "      <th>DRAM (J)</th>\n",
       "      <th>Time (ms)</th>\n",
       "      <th>Temp (C)</th>\n",
       "      <th>Input case</th>\n",
       "      <th>Size</th>\n",
       "    </tr>\n",
       "  </thead>\n",
       "  <tbody>\n",
       "    <tr>\n",
       "      <th>0</th>\n",
       "      <td>3.971802</td>\n",
       "      <td>3.439758</td>\n",
       "      <td>0.211914</td>\n",
       "      <td>436.274</td>\n",
       "      <td>67.0</td>\n",
       "      <td>best</td>\n",
       "      <td>25000.0</td>\n",
       "    </tr>\n",
       "    <tr>\n",
       "      <th>1</th>\n",
       "      <td>3.906067</td>\n",
       "      <td>3.412231</td>\n",
       "      <td>0.196228</td>\n",
       "      <td>387.021</td>\n",
       "      <td>67.0</td>\n",
       "      <td>best</td>\n",
       "      <td>25000.0</td>\n",
       "    </tr>\n",
       "    <tr>\n",
       "      <th>2</th>\n",
       "      <td>4.092834</td>\n",
       "      <td>3.593201</td>\n",
       "      <td>0.196289</td>\n",
       "      <td>403.466</td>\n",
       "      <td>67.0</td>\n",
       "      <td>best</td>\n",
       "      <td>25000.0</td>\n",
       "    </tr>\n",
       "    <tr>\n",
       "      <th>3</th>\n",
       "      <td>4.208069</td>\n",
       "      <td>3.704956</td>\n",
       "      <td>0.201599</td>\n",
       "      <td>407.394</td>\n",
       "      <td>67.0</td>\n",
       "      <td>best</td>\n",
       "      <td>25000.0</td>\n",
       "    </tr>\n",
       "    <tr>\n",
       "      <th>4</th>\n",
       "      <td>3.952576</td>\n",
       "      <td>3.416504</td>\n",
       "      <td>0.207581</td>\n",
       "      <td>446.493</td>\n",
       "      <td>67.0</td>\n",
       "      <td>best</td>\n",
       "      <td>25000.0</td>\n",
       "    </tr>\n",
       "    <tr>\n",
       "      <th>...</th>\n",
       "      <td>...</td>\n",
       "      <td>...</td>\n",
       "      <td>...</td>\n",
       "      <td>...</td>\n",
       "      <td>...</td>\n",
       "      <td>...</td>\n",
       "      <td>...</td>\n",
       "    </tr>\n",
       "    <tr>\n",
       "      <th>10224</th>\n",
       "      <td>801.124939</td>\n",
       "      <td>704.917297</td>\n",
       "      <td>18.237854</td>\n",
       "      <td>107265.000</td>\n",
       "      <td>57.0</td>\n",
       "      <td>worst</td>\n",
       "      <td>500000.0</td>\n",
       "    </tr>\n",
       "    <tr>\n",
       "      <th>10225</th>\n",
       "      <td>815.602600</td>\n",
       "      <td>719.116455</td>\n",
       "      <td>18.233643</td>\n",
       "      <td>107186.000</td>\n",
       "      <td>64.0</td>\n",
       "      <td>worst</td>\n",
       "      <td>500000.0</td>\n",
       "    </tr>\n",
       "    <tr>\n",
       "      <th>10226</th>\n",
       "      <td>806.500366</td>\n",
       "      <td>709.628906</td>\n",
       "      <td>19.146301</td>\n",
       "      <td>107578.000</td>\n",
       "      <td>57.0</td>\n",
       "      <td>worst</td>\n",
       "      <td>500000.0</td>\n",
       "    </tr>\n",
       "    <tr>\n",
       "      <th>10227</th>\n",
       "      <td>808.787598</td>\n",
       "      <td>712.215637</td>\n",
       "      <td>18.715515</td>\n",
       "      <td>107361.000</td>\n",
       "      <td>63.0</td>\n",
       "      <td>worst</td>\n",
       "      <td>500000.0</td>\n",
       "    </tr>\n",
       "    <tr>\n",
       "      <th>10228</th>\n",
       "      <td>804.544067</td>\n",
       "      <td>707.847473</td>\n",
       "      <td>18.875793</td>\n",
       "      <td>107400.000</td>\n",
       "      <td>56.0</td>\n",
       "      <td>worst</td>\n",
       "      <td>500000.0</td>\n",
       "    </tr>\n",
       "  </tbody>\n",
       "</table>\n",
       "<p>10229 rows × 7 columns</p>\n",
       "</div>"
      ],
      "text/plain": [
       "          PKG (J)     CPU (J)   DRAM (J)   Time (ms)  Temp (C) Input case  \\\n",
       "0        3.971802    3.439758   0.211914     436.274      67.0       best   \n",
       "1        3.906067    3.412231   0.196228     387.021      67.0       best   \n",
       "2        4.092834    3.593201   0.196289     403.466      67.0       best   \n",
       "3        4.208069    3.704956   0.201599     407.394      67.0       best   \n",
       "4        3.952576    3.416504   0.207581     446.493      67.0       best   \n",
       "...           ...         ...        ...         ...       ...        ...   \n",
       "10224  801.124939  704.917297  18.237854  107265.000      57.0      worst   \n",
       "10225  815.602600  719.116455  18.233643  107186.000      64.0      worst   \n",
       "10226  806.500366  709.628906  19.146301  107578.000      57.0      worst   \n",
       "10227  808.787598  712.215637  18.715515  107361.000      63.0      worst   \n",
       "10228  804.544067  707.847473  18.875793  107400.000      56.0      worst   \n",
       "\n",
       "           Size  \n",
       "0       25000.0  \n",
       "1       25000.0  \n",
       "2       25000.0  \n",
       "3       25000.0  \n",
       "4       25000.0  \n",
       "...         ...  \n",
       "10224  500000.0  \n",
       "10225  500000.0  \n",
       "10226  500000.0  \n",
       "10227  500000.0  \n",
       "10228  500000.0  \n",
       "\n",
       "[10229 rows x 7 columns]"
      ]
     },
     "execution_count": 69,
     "metadata": {},
     "output_type": "execute_result"
    }
   ],
   "source": [
    "dfBubbleSort16"
   ]
  },
  {
   "cell_type": "code",
   "execution_count": 70,
   "metadata": {},
   "outputs": [],
   "source": [
    "#making the dataframes for each case \n",
    "dfBubbleSortBest6 = dfBubbleSort6[dfBubbleSort6[\"Input case\"].str.startswith(\"best\")]\n",
    "dfBubbleSortWorst6 = dfBubbleSort6[dfBubbleSort6[\"Input case\"].str.startswith(\"best\")]\n",
    "dfBubbleSortRandom6 = dfBubbleSort6[dfBubbleSort6[\"Input case\"].str.startswith(\"best\")]\n",
    "\n",
    "\n",
    "dfBubbleSortBest16 = dfBubbleSort16[dfBubbleSort16[\"Input case\"].str.startswith(\"best\")]\n",
    "dfBubbleSortWorst16 = dfBubbleSort16[dfBubbleSort16[\"Input case\"].str.startswith(\"worst\")]\n",
    "dfBubbleSortRandom16 = dfBubbleSort16[dfBubbleSort16[\"Input case\"].str.startswith(\"random\")]\n",
    "\n",
    "dfBubbleSortBest21 = dfBubbleSort21[dfBubbleSort21[\"Input case\"].str.startswith(\"best\")]\n",
    "dfBubbleSortWorst21 = dfBubbleSort21[dfBubbleSort21[\"Input case\"].str.startswith(\"worst\")]\n",
    "dfBubbleSortRandom21 = dfBubbleSort21[dfBubbleSort21[\"Input case\"].str.startswith(\"random\")]\n",
    "\n",
    "dfBubbleSortBest23 = dfBubbleSort23[dfBubbleSort23[\"Input case\"].str.startswith(\"best\")]\n",
    "dfBubbleSortWorst23 = dfBubbleSort23[dfBubbleSort23[\"Input case\"].str.startswith(\"worst\")]\n",
    "dfBubbleSortRandom23 = dfBubbleSort23[dfBubbleSort23[\"Input case\"].str.startswith(\"random\")]"
   ]
  },
  {
   "cell_type": "code",
   "execution_count": 71,
   "metadata": {},
   "outputs": [
    {
     "data": {
      "text/html": [
       "<div>\n",
       "<style scoped>\n",
       "    .dataframe tbody tr th:only-of-type {\n",
       "        vertical-align: middle;\n",
       "    }\n",
       "\n",
       "    .dataframe tbody tr th {\n",
       "        vertical-align: top;\n",
       "    }\n",
       "\n",
       "    .dataframe thead th {\n",
       "        text-align: right;\n",
       "    }\n",
       "</style>\n",
       "<table border=\"1\" class=\"dataframe\">\n",
       "  <thead>\n",
       "    <tr style=\"text-align: right;\">\n",
       "      <th></th>\n",
       "      <th>PKG (J)</th>\n",
       "      <th>CPU (J)</th>\n",
       "      <th>DRAM (J)</th>\n",
       "      <th>Time (ms)</th>\n",
       "      <th>Temp (C)</th>\n",
       "      <th>Input case</th>\n",
       "      <th>Size</th>\n",
       "    </tr>\n",
       "  </thead>\n",
       "  <tbody>\n",
       "    <tr>\n",
       "      <th>0</th>\n",
       "      <td>3.971802</td>\n",
       "      <td>3.439758</td>\n",
       "      <td>0.211914</td>\n",
       "      <td>436.274</td>\n",
       "      <td>67.0</td>\n",
       "      <td>best</td>\n",
       "      <td>25000.0</td>\n",
       "    </tr>\n",
       "    <tr>\n",
       "      <th>1</th>\n",
       "      <td>3.906067</td>\n",
       "      <td>3.412231</td>\n",
       "      <td>0.196228</td>\n",
       "      <td>387.021</td>\n",
       "      <td>67.0</td>\n",
       "      <td>best</td>\n",
       "      <td>25000.0</td>\n",
       "    </tr>\n",
       "    <tr>\n",
       "      <th>2</th>\n",
       "      <td>4.092834</td>\n",
       "      <td>3.593201</td>\n",
       "      <td>0.196289</td>\n",
       "      <td>403.466</td>\n",
       "      <td>67.0</td>\n",
       "      <td>best</td>\n",
       "      <td>25000.0</td>\n",
       "    </tr>\n",
       "    <tr>\n",
       "      <th>3</th>\n",
       "      <td>4.208069</td>\n",
       "      <td>3.704956</td>\n",
       "      <td>0.201599</td>\n",
       "      <td>407.394</td>\n",
       "      <td>67.0</td>\n",
       "      <td>best</td>\n",
       "      <td>25000.0</td>\n",
       "    </tr>\n",
       "    <tr>\n",
       "      <th>4</th>\n",
       "      <td>3.952576</td>\n",
       "      <td>3.416504</td>\n",
       "      <td>0.207581</td>\n",
       "      <td>446.493</td>\n",
       "      <td>67.0</td>\n",
       "      <td>best</td>\n",
       "      <td>25000.0</td>\n",
       "    </tr>\n",
       "    <tr>\n",
       "      <th>...</th>\n",
       "      <td>...</td>\n",
       "      <td>...</td>\n",
       "      <td>...</td>\n",
       "      <td>...</td>\n",
       "      <td>...</td>\n",
       "      <td>...</td>\n",
       "      <td>...</td>\n",
       "    </tr>\n",
       "    <tr>\n",
       "      <th>2818</th>\n",
       "      <td>431.166931</td>\n",
       "      <td>379.487732</td>\n",
       "      <td>9.919800</td>\n",
       "      <td>57515.400</td>\n",
       "      <td>57.0</td>\n",
       "      <td>best</td>\n",
       "      <td>500000.0</td>\n",
       "    </tr>\n",
       "    <tr>\n",
       "      <th>2819</th>\n",
       "      <td>437.413879</td>\n",
       "      <td>385.345886</td>\n",
       "      <td>10.358276</td>\n",
       "      <td>57861.500</td>\n",
       "      <td>63.0</td>\n",
       "      <td>best</td>\n",
       "      <td>500000.0</td>\n",
       "    </tr>\n",
       "    <tr>\n",
       "      <th>2820</th>\n",
       "      <td>437.612915</td>\n",
       "      <td>385.795898</td>\n",
       "      <td>10.052307</td>\n",
       "      <td>57637.800</td>\n",
       "      <td>63.0</td>\n",
       "      <td>best</td>\n",
       "      <td>500000.0</td>\n",
       "    </tr>\n",
       "    <tr>\n",
       "      <th>2821</th>\n",
       "      <td>437.277649</td>\n",
       "      <td>385.316528</td>\n",
       "      <td>10.179382</td>\n",
       "      <td>57746.100</td>\n",
       "      <td>63.0</td>\n",
       "      <td>best</td>\n",
       "      <td>500000.0</td>\n",
       "    </tr>\n",
       "    <tr>\n",
       "      <th>2822</th>\n",
       "      <td>437.159912</td>\n",
       "      <td>385.186523</td>\n",
       "      <td>10.126831</td>\n",
       "      <td>57734.200</td>\n",
       "      <td>63.0</td>\n",
       "      <td>best</td>\n",
       "      <td>500000.0</td>\n",
       "    </tr>\n",
       "  </tbody>\n",
       "</table>\n",
       "<p>2823 rows × 7 columns</p>\n",
       "</div>"
      ],
      "text/plain": [
       "         PKG (J)     CPU (J)   DRAM (J)  Time (ms)  Temp (C) Input case  \\\n",
       "0       3.971802    3.439758   0.211914    436.274      67.0       best   \n",
       "1       3.906067    3.412231   0.196228    387.021      67.0       best   \n",
       "2       4.092834    3.593201   0.196289    403.466      67.0       best   \n",
       "3       4.208069    3.704956   0.201599    407.394      67.0       best   \n",
       "4       3.952576    3.416504   0.207581    446.493      67.0       best   \n",
       "...          ...         ...        ...        ...       ...        ...   \n",
       "2818  431.166931  379.487732   9.919800  57515.400      57.0       best   \n",
       "2819  437.413879  385.345886  10.358276  57861.500      63.0       best   \n",
       "2820  437.612915  385.795898  10.052307  57637.800      63.0       best   \n",
       "2821  437.277649  385.316528  10.179382  57746.100      63.0       best   \n",
       "2822  437.159912  385.186523  10.126831  57734.200      63.0       best   \n",
       "\n",
       "          Size  \n",
       "0      25000.0  \n",
       "1      25000.0  \n",
       "2      25000.0  \n",
       "3      25000.0  \n",
       "4      25000.0  \n",
       "...        ...  \n",
       "2818  500000.0  \n",
       "2819  500000.0  \n",
       "2820  500000.0  \n",
       "2821  500000.0  \n",
       "2822  500000.0  \n",
       "\n",
       "[2823 rows x 7 columns]"
      ]
     },
     "execution_count": 71,
     "metadata": {},
     "output_type": "execute_result"
    }
   ],
   "source": [
    "dfBubbleSortBest16\n"
   ]
  },
  {
   "attachments": {},
   "cell_type": "markdown",
   "metadata": {},
   "source": [
    "# Shapiro Wilks Test For Normal Distribution "
   ]
  },
  {
   "attachments": {},
   "cell_type": "markdown",
   "metadata": {},
   "source": [
    "### Normal Distribution of CPU (J) of all Cases and Input Sizes for PC 6"
   ]
  },
  {
   "cell_type": "code",
   "execution_count": 72,
   "metadata": {},
   "outputs": [
    {
     "name": "stdout",
     "output_type": "stream",
     "text": [
      "4.3828438833770633e-07\n",
      "3.9341423452299296e-09\n",
      "0.00023399374913424253\n",
      "4.297245686757378e-05\n",
      "4.342781288659697e-14\n",
      "1.20146843872104e-26\n",
      "4.060755027603676e-17\n",
      "2.65815647896773e-18\n",
      "[0, 0, 0, 0, 0, 0, 0, 0]\n"
     ]
    }
   ],
   "source": [
    "data = []\n",
    "size = []\n",
    "for i in [25000,50000,75000,100000,200000,300000,400000,500000]:\n",
    "    if 0.05 < shapiro(dfBubbleSortBest6[dfBubbleSortBest6[\"Size\"]==i][\"CPU (J)\"]).pvalue:\n",
    "        data.append(1)\n",
    "    else:\n",
    "        data.append(0)\n",
    "    size.append(i)\n",
    "    print(shapiro(dfBubbleSortBest6[dfBubbleSortBest6[\"Size\"]==i][\"CPU (J)\"]).pvalue)\n",
    "print(data)"
   ]
  },
  {
   "attachments": {},
   "cell_type": "markdown",
   "metadata": {},
   "source": [
    "### Normal Distribution of CPU (J) of all Cases and Input Sizes for PC 16"
   ]
  },
  {
   "cell_type": "code",
   "execution_count": 73,
   "metadata": {},
   "outputs": [
    {
     "name": "stdout",
     "output_type": "stream",
     "text": [
      "0.0001655130326980725\n",
      "8.380357030546293e-08\n",
      "0.005284424405544996\n",
      "1.217784756590845e-05\n",
      "2.11365256894136e-12\n",
      "2.5511307155380646e-27\n",
      "4.005579505236834e-14\n",
      "5.94751123350612e-11\n",
      "[0, 0, 0, 0, 0, 0, 0, 0, 0, 0, 0, 0, 0, 0, 0, 0]\n"
     ]
    }
   ],
   "source": [
    "\n",
    "\n",
    "for i in [25000,50000,75000,100000,200000,300000,400000,500000]:\n",
    "    if 0.05 < shapiro(dfBubbleSortBest16[dfBubbleSortBest16[\"Size\"]==i][\"CPU (J)\"]).pvalue:\n",
    "        data.append(1)\n",
    "    else:\n",
    "        data.append(0)\n",
    "    size.append(i)\n",
    "    print(shapiro(dfBubbleSortBest16[dfBubbleSortBest16[\"Size\"]==i][\"CPU (J)\"]).pvalue)\n",
    "    # stat, p = shapiro(dfBubbleSortBest16[dfBubbleSortBest16[\"Size\"]==i][\"CPU (J)\"])\n",
    "    # print('stat=%.3f, p=%.3f' % (stat, p))\n",
    "print(data)\n",
    "# plt.plot(size,data,\"o\")\n",
    "# plt.xlabel(\"Input Size\")\n",
    "# plt.ylabel(\"Normal Distribution\")\n",
    "# plt.title(\"Normal Distribution of Best Case of Bubble Sort on PC 16\")\n",
    "# plt.show()"
   ]
  },
  {
   "cell_type": "code",
   "execution_count": 74,
   "metadata": {},
   "outputs": [
    {
     "name": "stdout",
     "output_type": "stream",
     "text": [
      "0.0004097396449651569\n",
      "5.821109839678406e-15\n",
      "0.45853719115257263\n",
      "0.00275481422431767\n",
      "0.007273418363183737\n",
      "0.00016975239850580692\n",
      "0.0008490056497976184\n",
      "0.00422398978844285\n",
      "[0, 0, 0, 0, 0, 0, 0, 0, 0, 0, 0, 0, 0, 0, 0, 0, 0, 0, 1, 0, 0, 0, 0, 0]\n"
     ]
    }
   ],
   "source": [
    "for i in [25000,50000,75000,100000,200000,300000,400000,500000]:\n",
    "    if 0.05 < shapiro(dfBubbleSortWorst16[dfBubbleSortWorst16[\"Size\"]==i][\"CPU (J)\"]).pvalue:\n",
    "        data.append(1)\n",
    "    else:\n",
    "        data.append(0)\n",
    "    size.append(i)\n",
    "    print(shapiro(dfBubbleSortWorst16[dfBubbleSortWorst16[\"Size\"]==i][\"CPU (J)\"]).pvalue)\n",
    "print(data)\n"
   ]
  },
  {
   "cell_type": "code",
   "execution_count": 75,
   "metadata": {},
   "outputs": [
    {
     "name": "stdout",
     "output_type": "stream",
     "text": [
      "1.4275391322371433e-06\n",
      "3.082141764235697e-28\n",
      "0.033321380615234375\n",
      "2.5356894184369594e-07\n",
      "1.2752405353921858e-08\n",
      "2.018045279328362e-06\n",
      "1.8401630086373189e-07\n",
      "4.976408831680601e-07\n",
      "[0, 0, 0, 0, 0, 0, 0, 0, 0, 0, 0, 0, 0, 0, 0, 0, 0, 0, 1, 0, 0, 0, 0, 0, 0, 0, 0, 0, 0, 0, 0, 0]\n"
     ]
    }
   ],
   "source": [
    "for i in [25000,50000,75000,100000,200000,300000,400000,500000]:\n",
    "    if 0.05 < shapiro(dfBubbleSortRandom16[dfBubbleSortRandom16[\"Size\"]==i][\"CPU (J)\"]).pvalue:\n",
    "        data.append(1)\n",
    "    else:\n",
    "        data.append(0)\n",
    "    size.append(i)\n",
    "    print(shapiro(dfBubbleSortRandom16[dfBubbleSortRandom16[\"Size\"]==i][\"CPU (J)\"]).pvalue)\n",
    "print(data)\n"
   ]
  },
  {
   "attachments": {},
   "cell_type": "markdown",
   "metadata": {},
   "source": [
    "### Normal Distribution of CPU (J) of all Cases and Input Sizes for PC 21"
   ]
  },
  {
   "cell_type": "code",
   "execution_count": 76,
   "metadata": {},
   "outputs": [
    {
     "name": "stdout",
     "output_type": "stream",
     "text": [
      "1.961431195240948e-07\n",
      "0.04389740899205208\n",
      "5.30708506654709e-13\n",
      "4.8532414198554363e-11\n",
      "1.837400850490667e-05\n",
      "1.0707400118815276e-27\n",
      "3.6629461419579457e-07\n",
      "0.0005918112583458424\n",
      "[0, 0, 0, 0, 0, 0, 0, 0, 0, 0, 0, 0, 0, 0, 0, 0, 0, 0, 1, 0, 0, 0, 0, 0, 0, 0, 0, 0, 0, 0, 0, 0, 0, 0, 0, 0, 0, 0, 0, 0]\n"
     ]
    }
   ],
   "source": [
    "for i in [25000,50000,75000,100000,200000,300000,400000,500000]:\n",
    "    if 0.05 < shapiro(dfBubbleSortBest21[dfBubbleSortBest21[\"Size\"]==i][\"CPU (J)\"]).pvalue:\n",
    "        data.append(1)\n",
    "    else:\n",
    "        data.append(0)\n",
    "    size.append(i)\n",
    "    print(shapiro(dfBubbleSortBest21[dfBubbleSortBest21[\"Size\"]==i][\"CPU (J)\"]).pvalue)\n",
    "print(data)"
   ]
  },
  {
   "attachments": {},
   "cell_type": "markdown",
   "metadata": {},
   "source": [
    "### Normal Distribution of CPU (J) of all Cases and Input Sizes for PC 23"
   ]
  },
  {
   "cell_type": "code",
   "execution_count": 77,
   "metadata": {},
   "outputs": [
    {
     "name": "stdout",
     "output_type": "stream",
     "text": [
      "9.955788846127689e-05\n",
      "6.2672159129029126e-12\n",
      "1.540665289212484e-05\n",
      "0.0002451045729685575\n",
      "1.996202627196908e-05\n",
      "6.062074907805249e-28\n",
      "7.1948793447518256e-06\n",
      "0.012440544553101063\n",
      "[0, 0, 0, 0, 0, 0, 0, 0, 0, 0, 0, 0, 0, 0, 0, 0, 0, 0, 1, 0, 0, 0, 0, 0, 0, 0, 0, 0, 0, 0, 0, 0, 0, 0, 0, 0, 0, 0, 0, 0, 0, 0, 0, 0, 0, 0, 0, 0]\n"
     ]
    }
   ],
   "source": [
    "for i in [25000,50000,75000,100000,200000,300000,400000,500000]:\n",
    "    if 0.05 < shapiro(dfBubbleSortBest23[dfBubbleSortBest23[\"Size\"]==i][\"CPU (J)\"]).pvalue:\n",
    "        data.append(1)\n",
    "    else:\n",
    "        data.append(0)\n",
    "    size.append(i)\n",
    "    print(shapiro(dfBubbleSortBest23[dfBubbleSortBest23[\"Size\"]==i][\"CPU (J)\"]).pvalue)\n",
    "print(data)"
   ]
  },
  {
   "attachments": {},
   "cell_type": "markdown",
   "metadata": {},
   "source": [
    "### Normal Distribution of Time (ms) of all Cases and Input Sizes for PC 16"
   ]
  },
  {
   "cell_type": "code",
   "execution_count": 78,
   "metadata": {},
   "outputs": [
    {
     "name": "stdout",
     "output_type": "stream",
     "text": [
      "8.096121462131123e-08\n",
      "0.39368554949760437\n",
      "3.8804064388386905e-06\n",
      "0.0003195004537701607\n",
      "1.5079799595696386e-05\n",
      "2.545941441747659e-28\n",
      "3.8752431575110255e-14\n",
      "0.00046738950186409056\n",
      "[0, 1, 0, 0, 0, 0, 0, 0]\n"
     ]
    }
   ],
   "source": [
    "#Best Case\n",
    "dataTime = []\n",
    "sizeTime = []\n",
    "\n",
    "for i in [25000,50000,75000,100000,200000,300000,400000,500000]:\n",
    "    if 0.05 < shapiro(dfBubbleSortBest16[dfBubbleSortBest16[\"Size\"]==i][\"Time (ms)\"]).pvalue:\n",
    "        dataTime.append(1)\n",
    "    else:\n",
    "        dataTime.append(0)\n",
    "    sizeTime.append(i)\n",
    "    print(shapiro(dfBubbleSortBest16[dfBubbleSortBest16[\"Size\"]==i][\"Time (ms)\"]).pvalue)\n",
    "print(dataTime)\n"
   ]
  },
  {
   "cell_type": "code",
   "execution_count": 79,
   "metadata": {},
   "outputs": [
    {
     "name": "stdout",
     "output_type": "stream",
     "text": [
      "0.0003154429141432047\n",
      "1.421479184360308e-10\n",
      "0.3167273998260498\n",
      "1.2801700403153894e-22\n",
      "9.085337069336674e-07\n",
      "0.034093745052814484\n",
      "0.010161872953176498\n",
      "0.0001995710626943037\n",
      "[0, 1, 0, 0, 0, 0, 0, 0, 0, 0, 1, 0, 0, 0, 0, 0]\n"
     ]
    }
   ],
   "source": [
    "#Worst Case\n",
    "for i in [25000,50000,75000,100000,200000,300000,400000,500000]:\n",
    "    if 0.05 < shapiro(dfBubbleSortWorst16[dfBubbleSortWorst16[\"Size\"]==i][\"Time (ms)\"]).pvalue:\n",
    "        dataTime.append(1)\n",
    "    else:\n",
    "        dataTime.append(0)\n",
    "    sizeTime.append(i)\n",
    "    print(shapiro(dfBubbleSortWorst16[dfBubbleSortWorst16[\"Size\"]==i][\"Time (ms)\"]).pvalue)\n",
    "print(dataTime)"
   ]
  },
  {
   "cell_type": "code",
   "execution_count": 80,
   "metadata": {},
   "outputs": [
    {
     "name": "stdout",
     "output_type": "stream",
     "text": [
      "3.669761286602714e-28\n",
      "1.0668949980718524e-29\n",
      "0.33342230319976807\n",
      "0.0017138144467025995\n",
      "2.4652574666106375e-06\n",
      "4.281346826974934e-25\n",
      "9.46783329709433e-05\n",
      "6.295782077359036e-05\n",
      "[0, 1, 0, 0, 0, 0, 0, 0, 0, 0, 1, 0, 0, 0, 0, 0, 0, 0, 1, 0, 0, 0, 0, 0]\n"
     ]
    }
   ],
   "source": [
    "#Random Case\n",
    "for i in [25000,50000,75000,100000,200000,300000,400000,500000]:\n",
    "    if 0.05 < shapiro(dfBubbleSortRandom16[dfBubbleSortRandom16[\"Size\"]==i][\"Time (ms)\"]).pvalue:\n",
    "        dataTime.append(1)\n",
    "    else:\n",
    "        dataTime.append(0)\n",
    "    sizeTime.append(i)\n",
    "    print(shapiro(dfBubbleSortRandom16[dfBubbleSortRandom16[\"Size\"]==i][\"Time (ms)\"]).pvalue)\n",
    "print(dataTime)"
   ]
  },
  {
   "attachments": {},
   "cell_type": "markdown",
   "metadata": {},
   "source": [
    "### Normal Distribution of Time (ms) of all Cases and Input Sizes for PC 23"
   ]
  },
  {
   "attachments": {},
   "cell_type": "markdown",
   "metadata": {},
   "source": [
    "### Nomral Distribution of DRAM (J) of all Cases and Input Sizes for PC 16"
   ]
  },
  {
   "cell_type": "code",
   "execution_count": 81,
   "metadata": {},
   "outputs": [
    {
     "name": "stdout",
     "output_type": "stream",
     "text": [
      "0.022861579433083534\n",
      "1.7443217009693868e-12\n",
      "9.325151814189593e-17\n",
      "2.3070966843020093e-18\n",
      "7.289549181404017e-20\n",
      "3.033847722729226e-27\n",
      "7.473509832786988e-18\n",
      "2.716290907756047e-07\n",
      "[0, 0, 0, 0, 0, 0, 0, 0]\n"
     ]
    }
   ],
   "source": [
    "#Best case \n",
    "dataDRAM = []\n",
    "sizeDRAM = []\n",
    "for i in [25000,50000,75000,100000,200000,300000,400000,500000]:\n",
    "    if 0.05 < shapiro(dfBubbleSortBest16[dfBubbleSortBest16[\"Size\"]==i][\"DRAM (J)\"]).pvalue:\n",
    "        dataDRAM.append(1)\n",
    "    else:\n",
    "        dataDRAM.append(0)\n",
    "    sizeDRAM.append(i)\n",
    "    print(shapiro(dfBubbleSortBest16[dfBubbleSortBest16[\"Size\"]==i][\"DRAM (J)\"]).pvalue)\n",
    "print(dataDRAM)"
   ]
  },
  {
   "cell_type": "code",
   "execution_count": 82,
   "metadata": {},
   "outputs": [
    {
     "name": "stdout",
     "output_type": "stream",
     "text": [
      "0.0014079775428399444\n",
      "1.548340063951695e-28\n",
      "1.829900825655242e-22\n",
      "1.0682730561678973e-16\n",
      "9.896906205493935e-28\n",
      "3.3749715439948297e-16\n",
      "3.366031203260404e-20\n",
      "1.6092267518530434e-09\n",
      "[0, 0, 0, 0, 0, 0, 0, 0, 0, 0, 0, 0, 0, 0, 0, 0]\n"
     ]
    }
   ],
   "source": [
    "#Worst case\n",
    "for i in [25000,50000,75000,100000,200000,300000,400000,500000]:\n",
    "    if 0.05 < shapiro(dfBubbleSortWorst16[dfBubbleSortWorst16[\"Size\"]==i][\"DRAM (J)\"]).pvalue:\n",
    "        dataDRAM.append(1)\n",
    "    else:\n",
    "        dataDRAM.append(0)\n",
    "    sizeDRAM.append(i)\n",
    "    print(shapiro(dfBubbleSortWorst16[dfBubbleSortWorst16[\"Size\"]==i][\"DRAM (J)\"]).pvalue)\n",
    "print(dataDRAM)"
   ]
  },
  {
   "cell_type": "code",
   "execution_count": 83,
   "metadata": {},
   "outputs": [
    {
     "name": "stdout",
     "output_type": "stream",
     "text": [
      "2.996221049045289e-10\n",
      "1.3574453399779017e-22\n",
      "6.144689978056705e-15\n",
      "1.4836585058393068e-14\n",
      "3.0232890821935143e-06\n",
      "3.617888700478106e-19\n",
      "2.458343298886092e-19\n",
      "8.312432328239083e-06\n",
      "[0, 0, 0, 0, 0, 0, 0, 0, 0, 0, 0, 0, 0, 0, 0, 0, 0, 0, 0, 0, 0, 0, 0, 0]\n"
     ]
    }
   ],
   "source": [
    "#Random Case \n",
    "for i in [25000,50000,75000,100000,200000,300000,400000,500000]:\n",
    "    if 0.05 < shapiro(dfBubbleSortRandom16[dfBubbleSortRandom16[\"Size\"]==i][\"DRAM (J)\"]).pvalue:\n",
    "        dataDRAM.append(1)\n",
    "    else:\n",
    "        dataDRAM.append(0)\n",
    "    sizeDRAM.append(i)\n",
    "    print(shapiro(dfBubbleSortRandom16[dfBubbleSortRandom16[\"Size\"]==i][\"DRAM (J)\"]).pvalue)\n",
    "print(dataDRAM)"
   ]
  },
  {
   "attachments": {},
   "cell_type": "markdown",
   "metadata": {},
   "source": [
    "### Normal Distribution of DRAM (J) of all Cases and Input Sizes for PC 23"
   ]
  },
  {
   "attachments": {},
   "cell_type": "markdown",
   "metadata": {},
   "source": []
  }
 ],
 "metadata": {
  "kernelspec": {
   "display_name": "Python 3",
   "language": "python",
   "name": "python3"
  },
  "language_info": {
   "codemirror_mode": {
    "name": "ipython",
    "version": 3
   },
   "file_extension": ".py",
   "mimetype": "text/x-python",
   "name": "python",
   "nbconvert_exporter": "python",
   "pygments_lexer": "ipython3",
   "version": "3.8.2"
  },
  "orig_nbformat": 4
 },
 "nbformat": 4,
 "nbformat_minor": 2
}
