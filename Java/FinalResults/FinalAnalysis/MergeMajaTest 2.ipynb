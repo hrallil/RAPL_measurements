{
 "cells": [
  {
   "attachments": {},
   "cell_type": "markdown",
   "metadata": {},
   "source": [
    "# Data analysis for all data collected during our project\n",
    " "
   ]
  },
  {
   "attachments": {},
   "cell_type": "markdown",
   "metadata": {},
   "source": [
    "#### imports and  loading Data "
   ]
  },
  {
   "cell_type": "code",
   "execution_count": 2,
   "metadata": {},
   "outputs": [
    {
     "data": {
      "text/html": [
       "<div>\n",
       "<style scoped>\n",
       "    .dataframe tbody tr th:only-of-type {\n",
       "        vertical-align: middle;\n",
       "    }\n",
       "\n",
       "    .dataframe tbody tr th {\n",
       "        vertical-align: top;\n",
       "    }\n",
       "\n",
       "    .dataframe thead th {\n",
       "        text-align: right;\n",
       "    }\n",
       "</style>\n",
       "<table border=\"1\" class=\"dataframe\">\n",
       "  <thead>\n",
       "    <tr style=\"text-align: right;\">\n",
       "      <th></th>\n",
       "      <th>PKG (J)</th>\n",
       "      <th>CPU (J)</th>\n",
       "      <th>DRAM (J)</th>\n",
       "      <th>Time (ms)</th>\n",
       "      <th>Temp (C)</th>\n",
       "      <th>Input case</th>\n",
       "      <th>Size</th>\n",
       "    </tr>\n",
       "  </thead>\n",
       "  <tbody>\n",
       "    <tr>\n",
       "      <th>0</th>\n",
       "      <td>8.543701</td>\n",
       "      <td>7.319702</td>\n",
       "      <td>0.505432</td>\n",
       "      <td>1004.640</td>\n",
       "      <td>64.0</td>\n",
       "      <td>best</td>\n",
       "      <td>25000</td>\n",
       "    </tr>\n",
       "    <tr>\n",
       "      <th>1</th>\n",
       "      <td>8.301086</td>\n",
       "      <td>7.139343</td>\n",
       "      <td>0.478271</td>\n",
       "      <td>970.802</td>\n",
       "      <td>63.0</td>\n",
       "      <td>best</td>\n",
       "      <td>25000</td>\n",
       "    </tr>\n",
       "    <tr>\n",
       "      <th>2</th>\n",
       "      <td>8.312134</td>\n",
       "      <td>7.124695</td>\n",
       "      <td>0.483093</td>\n",
       "      <td>998.576</td>\n",
       "      <td>63.0</td>\n",
       "      <td>best</td>\n",
       "      <td>25000</td>\n",
       "    </tr>\n",
       "    <tr>\n",
       "      <th>3</th>\n",
       "      <td>8.493774</td>\n",
       "      <td>7.304321</td>\n",
       "      <td>0.501648</td>\n",
       "      <td>987.148</td>\n",
       "      <td>62.0</td>\n",
       "      <td>best</td>\n",
       "      <td>25000</td>\n",
       "    </tr>\n",
       "    <tr>\n",
       "      <th>4</th>\n",
       "      <td>8.501953</td>\n",
       "      <td>7.313782</td>\n",
       "      <td>0.501038</td>\n",
       "      <td>970.400</td>\n",
       "      <td>61.0</td>\n",
       "      <td>best</td>\n",
       "      <td>25000</td>\n",
       "    </tr>\n",
       "  </tbody>\n",
       "</table>\n",
       "</div>"
      ],
      "text/plain": [
       "    PKG (J)   CPU (J)  DRAM (J)  Time (ms)  Temp (C) Input case   Size\n",
       "0  8.543701  7.319702  0.505432   1004.640      64.0       best  25000\n",
       "1  8.301086  7.139343  0.478271    970.802      63.0       best  25000\n",
       "2  8.312134  7.124695  0.483093    998.576      63.0       best  25000\n",
       "3  8.493774  7.304321  0.501648    987.148      62.0       best  25000\n",
       "4  8.501953  7.313782  0.501038    970.400      61.0       best  25000"
      ]
     },
     "execution_count": 2,
     "metadata": {},
     "output_type": "execute_result"
    }
   ],
   "source": [
    "import pandas as pd\n",
    "import matplotlib.pyplot as plt\n",
    "import numpy as np\n",
    "import seaborn as sns\n",
    "from sklearn.linear_model import LinearRegression\n",
    "from sklearn.preprocessing import PolynomialFeatures\n",
    "from sklearn import metrics\n",
    "from operator import itemgetter\n",
    "from scipy.stats import shapiro \n",
    "\n",
    "dfMerge16 = pd.read_csv(\"CleanData/Merge-400runsClean-PC16.csv\")\n",
    "\n",
    "\n",
    "dfRead16 = pd.read_csv(\"CleanData/ReadCSVClean-PC16.csv\")\n",
    "\n",
    "dfMerge16.head()"
   ]
  },
  {
   "cell_type": "code",
   "execution_count": 3,
   "metadata": {},
   "outputs": [
    {
     "name": "stderr",
     "output_type": "stream",
     "text": [
      "<ipython-input-3-69cd3316f86f>:2: UserWarning: Boolean Series key will be reindexed to match DataFrame index.\n",
      "  meandf = df[df[\"Input case\"] == type][df[\"Size\"]==size].mean()\n"
     ]
    },
    {
     "data": {
      "text/html": [
       "<div>\n",
       "<style scoped>\n",
       "    .dataframe tbody tr th:only-of-type {\n",
       "        vertical-align: middle;\n",
       "    }\n",
       "\n",
       "    .dataframe tbody tr th {\n",
       "        vertical-align: top;\n",
       "    }\n",
       "\n",
       "    .dataframe thead th {\n",
       "        text-align: right;\n",
       "    }\n",
       "</style>\n",
       "<table border=\"1\" class=\"dataframe\">\n",
       "  <thead>\n",
       "    <tr style=\"text-align: right;\">\n",
       "      <th></th>\n",
       "      <th>PKG (J)</th>\n",
       "      <th>CPU (J)</th>\n",
       "      <th>DRAM (J)</th>\n",
       "      <th>Time (ms)</th>\n",
       "      <th>Temp (C)</th>\n",
       "      <th>Size</th>\n",
       "      <th>Input case</th>\n",
       "    </tr>\n",
       "  </thead>\n",
       "  <tbody>\n",
       "    <tr>\n",
       "      <th>0</th>\n",
       "      <td>8.5927</td>\n",
       "      <td>7.38346</td>\n",
       "      <td>0.511481</td>\n",
       "      <td>995.586</td>\n",
       "      <td>61.5556</td>\n",
       "      <td>25000</td>\n",
       "      <td>best</td>\n",
       "    </tr>\n",
       "    <tr>\n",
       "      <th>1</th>\n",
       "      <td>13.6266</td>\n",
       "      <td>11.6149</td>\n",
       "      <td>0.863065</td>\n",
       "      <td>1637.28</td>\n",
       "      <td>63.5455</td>\n",
       "      <td>50000</td>\n",
       "      <td>best</td>\n",
       "    </tr>\n",
       "    <tr>\n",
       "      <th>2</th>\n",
       "      <td>18.4479</td>\n",
       "      <td>15.6576</td>\n",
       "      <td>1.22604</td>\n",
       "      <td>2220.3</td>\n",
       "      <td>63.25</td>\n",
       "      <td>75000</td>\n",
       "      <td>best</td>\n",
       "    </tr>\n",
       "    <tr>\n",
       "      <th>3</th>\n",
       "      <td>23.2982</td>\n",
       "      <td>19.694</td>\n",
       "      <td>1.60739</td>\n",
       "      <td>2824.99</td>\n",
       "      <td>63.2333</td>\n",
       "      <td>100000</td>\n",
       "      <td>best</td>\n",
       "    </tr>\n",
       "    <tr>\n",
       "      <th>4</th>\n",
       "      <td>43.4894</td>\n",
       "      <td>36.4976</td>\n",
       "      <td>3.25283</td>\n",
       "      <td>5300.37</td>\n",
       "      <td>64.2333</td>\n",
       "      <td>200000</td>\n",
       "      <td>best</td>\n",
       "    </tr>\n",
       "  </tbody>\n",
       "</table>\n",
       "</div>"
      ],
      "text/plain": [
       "   PKG (J)  CPU (J)  DRAM (J) Time (ms) Temp (C)    Size Input case\n",
       "0   8.5927  7.38346  0.511481   995.586  61.5556   25000       best\n",
       "1  13.6266  11.6149  0.863065   1637.28  63.5455   50000       best\n",
       "2  18.4479  15.6576   1.22604    2220.3    63.25   75000       best\n",
       "3  23.2982   19.694   1.60739   2824.99  63.2333  100000       best\n",
       "4  43.4894  36.4976   3.25283   5300.37  64.2333  200000       best"
      ]
     },
     "execution_count": 3,
     "metadata": {},
     "output_type": "execute_result"
    }
   ],
   "source": [
    "def calcMean(df,type,size):\n",
    "    meandf = df[df[\"Input case\"] == type][df[\"Size\"]==size].mean()\n",
    "    meandf[\"Input case\"] = type\n",
    "    return meandf\n",
    "\n",
    "def mean_of_dataset(df):\n",
    "    s = [25000,50000,75000,100000,200000,300000,400000,500000,600000,700000,800000,900000,1000000]\n",
    "    c = [\"best\", \"worst\", \"random1\",\"random2\",\"random3\",\"random4\",\"random5\",\"random6\",\"random7\",\"random8\",\"random9\",\"random10\",]\n",
    "    l = []\n",
    "    for case in c:\n",
    "        for size in s:\n",
    "            l.append(calcMean(df, case, size))   \n",
    "    \n",
    "    dfMeans = pd.concat([series.to_frame().T for series in l], ignore_index=True)\n",
    "    return dfMeans\n",
    "\n",
    "dfMergeMean16 = mean_of_dataset(dfMerge16)\n",
    "\n",
    "\n",
    "\n",
    "dfMergeMean16.head()\n",
    "\n"
   ]
  },
  {
   "cell_type": "code",
   "execution_count": 4,
   "metadata": {},
   "outputs": [
    {
     "name": "stderr",
     "output_type": "stream",
     "text": [
      "<ipython-input-3-69cd3316f86f>:2: UserWarning: Boolean Series key will be reindexed to match DataFrame index.\n",
      "  meandf = df[df[\"Input case\"] == type][df[\"Size\"]==size].mean()\n"
     ]
    },
    {
     "data": {
      "text/html": [
       "<div>\n",
       "<style scoped>\n",
       "    .dataframe tbody tr th:only-of-type {\n",
       "        vertical-align: middle;\n",
       "    }\n",
       "\n",
       "    .dataframe tbody tr th {\n",
       "        vertical-align: top;\n",
       "    }\n",
       "\n",
       "    .dataframe thead th {\n",
       "        text-align: right;\n",
       "    }\n",
       "</style>\n",
       "<table border=\"1\" class=\"dataframe\">\n",
       "  <thead>\n",
       "    <tr style=\"text-align: right;\">\n",
       "      <th></th>\n",
       "      <th>PKG (J)</th>\n",
       "      <th>CPU (J)</th>\n",
       "      <th>DRAM (J)</th>\n",
       "      <th>Time (ms)</th>\n",
       "      <th>Temp (C)</th>\n",
       "      <th>Size</th>\n",
       "      <th>Input case</th>\n",
       "    </tr>\n",
       "  </thead>\n",
       "  <tbody>\n",
       "    <tr>\n",
       "      <th>0</th>\n",
       "      <td>2.14915</td>\n",
       "      <td>1.87396</td>\n",
       "      <td>0.12836</td>\n",
       "      <td>231.807</td>\n",
       "      <td>53.9737</td>\n",
       "      <td>25000</td>\n",
       "      <td>random1</td>\n",
       "    </tr>\n",
       "    <tr>\n",
       "      <th>1</th>\n",
       "      <td>2.51943</td>\n",
       "      <td>2.18513</td>\n",
       "      <td>0.150334</td>\n",
       "      <td>264.781</td>\n",
       "      <td>57</td>\n",
       "      <td>50000</td>\n",
       "      <td>random1</td>\n",
       "    </tr>\n",
       "    <tr>\n",
       "      <th>2</th>\n",
       "      <td>3.05994</td>\n",
       "      <td>2.66851</td>\n",
       "      <td>0.178193</td>\n",
       "      <td>304.554</td>\n",
       "      <td>61</td>\n",
       "      <td>75000</td>\n",
       "      <td>random1</td>\n",
       "    </tr>\n",
       "    <tr>\n",
       "      <th>3</th>\n",
       "      <td>3.52485</td>\n",
       "      <td>3.07726</td>\n",
       "      <td>0.205626</td>\n",
       "      <td>343.571</td>\n",
       "      <td>63.5278</td>\n",
       "      <td>100000</td>\n",
       "      <td>random1</td>\n",
       "    </tr>\n",
       "    <tr>\n",
       "      <th>4</th>\n",
       "      <td>4.16606</td>\n",
       "      <td>3.62685</td>\n",
       "      <td>0.233299</td>\n",
       "      <td>420.754</td>\n",
       "      <td>65.425</td>\n",
       "      <td>200000</td>\n",
       "      <td>random1</td>\n",
       "    </tr>\n",
       "  </tbody>\n",
       "</table>\n",
       "</div>"
      ],
      "text/plain": [
       "   PKG (J)  CPU (J)  DRAM (J) Time (ms) Temp (C)    Size Input case\n",
       "0  2.14915  1.87396   0.12836   231.807  53.9737   25000    random1\n",
       "1  2.51943  2.18513  0.150334   264.781       57   50000    random1\n",
       "2  3.05994  2.66851  0.178193   304.554       61   75000    random1\n",
       "3  3.52485  3.07726  0.205626   343.571  63.5278  100000    random1\n",
       "4  4.16606  3.62685  0.233299   420.754   65.425  200000    random1"
      ]
     },
     "execution_count": 4,
     "metadata": {},
     "output_type": "execute_result"
    }
   ],
   "source": [
    "\n",
    "def list_of_case(df):\n",
    "    l = []\n",
    "    for i in range(len(df)):\n",
    "        if df[\"Input case\"].iloc[i] not in l:\n",
    "            l.append(df[\"Input case\"].iloc[i])\n",
    "    return l\n",
    "\n",
    "\n",
    "def mean_of_dataset_readCSV(df):\n",
    "    s = [25000,50000,75000,100000,200000,300000,400000,500000,600000,700000,800000,900000,1000000]\n",
    "    c = list_of_case(df)\n",
    "    l = []\n",
    "    for case in range(len(c)):\n",
    "        for size in range(len(s)):\n",
    "            l.append(calcMean(df, c[case], s[size]))  \n",
    "\n",
    "    dfMeans = pd.concat([series.to_frame().T  for series in l], ignore_index=True)\n",
    "    return dfMeans\n",
    "\n",
    "dfReadMean16 = mean_of_dataset_readCSV(dfRead16)\n",
    "\n",
    "dfReadMean16.head()\n"
   ]
  },
  {
   "cell_type": "code",
   "execution_count": 5,
   "metadata": {},
   "outputs": [
    {
     "data": {
      "text/html": [
       "<div>\n",
       "<style scoped>\n",
       "    .dataframe tbody tr th:only-of-type {\n",
       "        vertical-align: middle;\n",
       "    }\n",
       "\n",
       "    .dataframe tbody tr th {\n",
       "        vertical-align: top;\n",
       "    }\n",
       "\n",
       "    .dataframe thead th {\n",
       "        text-align: right;\n",
       "    }\n",
       "</style>\n",
       "<table border=\"1\" class=\"dataframe\">\n",
       "  <thead>\n",
       "    <tr style=\"text-align: right;\">\n",
       "      <th></th>\n",
       "      <th>PKG (J)</th>\n",
       "      <th>CPU (J)</th>\n",
       "      <th>DRAM (J)</th>\n",
       "      <th>Time (ms)</th>\n",
       "      <th>Temp (C)</th>\n",
       "      <th>Size</th>\n",
       "      <th>Input case</th>\n",
       "    </tr>\n",
       "  </thead>\n",
       "  <tbody>\n",
       "    <tr>\n",
       "      <th>0</th>\n",
       "      <td>8.5927</td>\n",
       "      <td>7.38346</td>\n",
       "      <td>0.511481</td>\n",
       "      <td>995.586</td>\n",
       "      <td>61.5556</td>\n",
       "      <td>25000</td>\n",
       "      <td>best</td>\n",
       "    </tr>\n",
       "    <tr>\n",
       "      <th>1</th>\n",
       "      <td>13.6266</td>\n",
       "      <td>11.6149</td>\n",
       "      <td>0.863065</td>\n",
       "      <td>1637.28</td>\n",
       "      <td>63.5455</td>\n",
       "      <td>50000</td>\n",
       "      <td>best</td>\n",
       "    </tr>\n",
       "    <tr>\n",
       "      <th>2</th>\n",
       "      <td>18.4479</td>\n",
       "      <td>15.6576</td>\n",
       "      <td>1.22604</td>\n",
       "      <td>2220.3</td>\n",
       "      <td>63.25</td>\n",
       "      <td>75000</td>\n",
       "      <td>best</td>\n",
       "    </tr>\n",
       "    <tr>\n",
       "      <th>3</th>\n",
       "      <td>23.2982</td>\n",
       "      <td>19.694</td>\n",
       "      <td>1.60739</td>\n",
       "      <td>2824.99</td>\n",
       "      <td>63.2333</td>\n",
       "      <td>100000</td>\n",
       "      <td>best</td>\n",
       "    </tr>\n",
       "    <tr>\n",
       "      <th>4</th>\n",
       "      <td>43.4894</td>\n",
       "      <td>36.4976</td>\n",
       "      <td>3.25283</td>\n",
       "      <td>5300.37</td>\n",
       "      <td>64.2333</td>\n",
       "      <td>200000</td>\n",
       "      <td>best</td>\n",
       "    </tr>\n",
       "  </tbody>\n",
       "</table>\n",
       "</div>"
      ],
      "text/plain": [
       "   PKG (J)  CPU (J)  DRAM (J) Time (ms) Temp (C)    Size Input case\n",
       "0   8.5927  7.38346  0.511481   995.586  61.5556   25000       best\n",
       "1  13.6266  11.6149  0.863065   1637.28  63.5455   50000       best\n",
       "2  18.4479  15.6576   1.22604    2220.3    63.25   75000       best\n",
       "3  23.2982   19.694   1.60739   2824.99  63.2333  100000       best\n",
       "4  43.4894  36.4976   3.25283   5300.37  64.2333  200000       best"
      ]
     },
     "execution_count": 5,
     "metadata": {},
     "output_type": "execute_result"
    }
   ],
   "source": [
    "dfMergeMean16 = dfMergeMean16.reset_index(drop=True)\n",
    "dfReadMean16 = dfReadMean16.reset_index(drop=True)\n",
    "\n",
    "dfMergeMean16.head()"
   ]
  },
  {
   "cell_type": "code",
   "execution_count": 6,
   "metadata": {},
   "outputs": [
    {
     "name": "stderr",
     "output_type": "stream",
     "text": [
      "<ipython-input-6-73928b5c4967>:16: UserWarning: Boolean Series key will be reindexed to match DataFrame index.\n",
      "  Cc = meanC[meanC[\"Input case\"] == case][meanC[\"Size\"]==size][\"CPU (J)\"][meanC[meanC[\"Input case\"] == case][meanC[\"Size\"]==size][\"CPU (J)\"].index.tolist()[0]]\n",
      "<ipython-input-6-73928b5c4967>:17: UserWarning: Boolean Series key will be reindexed to match DataFrame index.\n",
      "  Rc = meanR[meanR[\"Input case\"] == case2][meanR[\"Size\"]==size][\"CPU (J)\"][meanR[meanR[\"Input case\"] == case2][meanR[\"Size\"]==size][\"CPU (J)\"].index.tolist()[0]]\n",
      "<ipython-input-6-73928b5c4967>:20: UserWarning: Boolean Series key will be reindexed to match DataFrame index.\n",
      "  Ct = meanC[meanC[\"Input case\"] == case][meanC[\"Size\"]==size][\"Time (ms)\"][meanC[meanC[\"Input case\"] == case][meanC[\"Size\"]==size][\"Time (ms)\"].index.tolist()[0]]\n",
      "<ipython-input-6-73928b5c4967>:21: UserWarning: Boolean Series key will be reindexed to match DataFrame index.\n",
      "  Rt = meanR[meanR[\"Input case\"] == case2][meanR[\"Size\"]==size][\"Time (ms)\"][meanR[meanR[\"Input case\"] == case2][meanR[\"Size\"]==size][\"Time (ms)\"].index.tolist()[0]]\n",
      "<ipython-input-6-73928b5c4967>:24: UserWarning: Boolean Series key will be reindexed to match DataFrame index.\n",
      "  Cm = meanC[meanC[\"Input case\"] == case][meanC[\"Size\"]==size][\"DRAM (J)\"][meanC[meanC[\"Input case\"] == case][meanC[\"Size\"]==size][\"DRAM (J)\"].index.tolist()[0]]\n",
      "<ipython-input-6-73928b5c4967>:25: UserWarning: Boolean Series key will be reindexed to match DataFrame index.\n",
      "  Rm = meanR[meanR[\"Input case\"] == case2][meanR[\"Size\"]==size][\"DRAM (J)\"][meanR[meanR[\"Input case\"] == case2][meanR[\"Size\"]==size][\"DRAM (J)\"].index.tolist()[0]]\n"
     ]
    }
   ],
   "source": [
    "def deductReadFromAlg(meanC, meanR):\n",
    "    lc = []\n",
    "    lt = []\n",
    "    lm = []\n",
    "\n",
    "    for i in range(len(meanC[\"Size\"])):\n",
    "        case = meanC[\"Input case\"][i]\n",
    "        size = meanC[\"Size\"][i]\n",
    "        if case == \"best\":\n",
    "                case2 = \"sorted\"\n",
    "        if case == \"worst\":\n",
    "            case2 = \"mergeworst\"\n",
    "        if case.startswith(\"random\"):\n",
    "            case2 = \"random\"+case.split(\"m\")[-1]\n",
    "\n",
    "        Cc = meanC[meanC[\"Input case\"] == case][meanC[\"Size\"]==size][\"CPU (J)\"][meanC[meanC[\"Input case\"] == case][meanC[\"Size\"]==size][\"CPU (J)\"].index.tolist()[0]]\n",
    "        Rc = meanR[meanR[\"Input case\"] == case2][meanR[\"Size\"]==size][\"CPU (J)\"][meanR[meanR[\"Input case\"] == case2][meanR[\"Size\"]==size][\"CPU (J)\"].index.tolist()[0]]\n",
    "        lc.append((Cc-Rc)/400)\n",
    "\n",
    "        Ct = meanC[meanC[\"Input case\"] == case][meanC[\"Size\"]==size][\"Time (ms)\"][meanC[meanC[\"Input case\"] == case][meanC[\"Size\"]==size][\"Time (ms)\"].index.tolist()[0]]\n",
    "        Rt = meanR[meanR[\"Input case\"] == case2][meanR[\"Size\"]==size][\"Time (ms)\"][meanR[meanR[\"Input case\"] == case2][meanR[\"Size\"]==size][\"Time (ms)\"].index.tolist()[0]]\n",
    "        lt.append((Ct-Rt)/400)\n",
    "\n",
    "        Cm = meanC[meanC[\"Input case\"] == case][meanC[\"Size\"]==size][\"DRAM (J)\"][meanC[meanC[\"Input case\"] == case][meanC[\"Size\"]==size][\"DRAM (J)\"].index.tolist()[0]]\n",
    "        Rm = meanR[meanR[\"Input case\"] == case2][meanR[\"Size\"]==size][\"DRAM (J)\"][meanR[meanR[\"Input case\"] == case2][meanR[\"Size\"]==size][\"DRAM (J)\"].index.tolist()[0]]\n",
    "        lm.append((Cm-Rm)/400)\n",
    "\n",
    "    meanC[\"CPU - readCSV\"] = lc\n",
    "    meanC[\"Time - readCSV\"] = lt\n",
    "    meanC[\"Memory - readCSV\"] = lm\n",
    "\n",
    "\n",
    "deductReadFromAlg(dfMergeMean16,dfReadMean16)\n",
    "\n"
   ]
  },
  {
   "attachments": {},
   "cell_type": "markdown",
   "metadata": {},
   "source": [
    "# Shapiro Wilks Test"
   ]
  },
  {
   "cell_type": "code",
   "execution_count": 7,
   "metadata": {},
   "outputs": [
    {
     "name": "stdout",
     "output_type": "stream",
     "text": [
      "        PKG (J)     CPU (J)   DRAM (J)  Time (ms)  Temp (C) Input case  \\\n",
      "0      8.543701    7.319702   0.505432   1004.640      64.0       best   \n",
      "1      8.301086    7.139343   0.478271    970.802      63.0       best   \n",
      "2      8.312134    7.124695   0.483093    998.576      63.0       best   \n",
      "3      8.493774    7.304321   0.501648    987.148      62.0       best   \n",
      "4      8.501953    7.313782   0.501038    970.400      61.0       best   \n",
      "..          ...         ...        ...        ...       ...        ...   \n",
      "350  208.115845  173.067139  17.653809  25709.300      68.0       best   \n",
      "351  208.410522  173.338318  17.647339  25749.400      63.0       best   \n",
      "352  209.105225  173.813110  17.710938  25916.000      66.0       best   \n",
      "353  209.274597  173.898132  17.735718  25978.500      63.0       best   \n",
      "354  209.021057  173.924011  17.659912  25746.500      66.0       best   \n",
      "\n",
      "        Size  \n",
      "0      25000  \n",
      "1      25000  \n",
      "2      25000  \n",
      "3      25000  \n",
      "4      25000  \n",
      "..       ...  \n",
      "350  1000000  \n",
      "351  1000000  \n",
      "352  1000000  \n",
      "353  1000000  \n",
      "354  1000000  \n",
      "\n",
      "[355 rows x 7 columns]\n"
     ]
    }
   ],
   "source": [
    "dfMergeSortBest16 = dfMerge16[dfMerge16[\"Input case\"].str.startswith(\"best\")]\n",
    "dfMergeSortWorst16 = dfMerge16[dfMerge16[\"Input case\"].str.startswith(\"worst\")]\n",
    "dfMergeSortRandom16 = dfMerge16[dfMerge16[\"Input case\"].str.startswith(\"random\")]\n",
    "dfMergeSortRandom1 = dfMerge16[dfMerge16[\"Input case\"].str.endswith(\"random1\")]\n",
    "dfMergeSortRandom2 = dfMerge16[dfMerge16[\"Input case\"].str.startswith(\"random2\")]\n",
    "dfMergeSortRandom3 = dfMerge16[dfMerge16[\"Input case\"].str.startswith(\"random3\")]\n",
    "dfMergeSortRandom4 = dfMerge16[dfMerge16[\"Input case\"].str.startswith(\"random4\")]\n",
    "dfMergeSortRandom5 = dfMerge16[dfMerge16[\"Input case\"].str.startswith(\"random5\")]\n",
    "dfMergeSortRandom6 = dfMerge16[dfMerge16[\"Input case\"].str.startswith(\"random6\")]\n",
    "dfMergeSortRandom7 = dfMerge16[dfMerge16[\"Input case\"].str.startswith(\"random7\")]\n",
    "dfMergeSortRandom8 = dfMerge16[dfMerge16[\"Input case\"].str.startswith(\"random8\")]\n",
    "dfMergeSortRandom9 = dfMerge16[dfMerge16[\"Input case\"].str.startswith(\"random9\")]\n",
    "dfMergeSortRandom10 = dfMerge16[dfMerge16[\"Input case\"].str.startswith(\"random10\")]\n",
    "\n",
    "\n",
    "print(dfMergeSortBest16)\n"
   ]
  },
  {
   "cell_type": "code",
   "execution_count": 8,
   "metadata": {},
   "outputs": [
    {
     "name": "stdout",
     "output_type": "stream",
     "text": [
      "6.542381743201986e-05\n",
      "2.7448802939034067e-05\n",
      "2.7803325792774558e-05\n",
      "4.66905657958705e-05\n",
      "2.592724558780901e-05\n",
      "1.911731123982463e-05"
     ]
    },
    {
     "name": "stdout",
     "output_type": "stream",
     "text": [
      "\n",
      "2.9247437851154245e-05\n",
      "2.441618198645301e-05\n",
      "2.575294092821423e-05\n",
      "2.580329601187259e-05\n",
      "2.10239268199075e-05\n",
      "2.360296275583096e-05\n",
      "2.6871384761761874e-05\n",
      "[0, 0, 0, 0, 0, 0, 0, 0, 0, 0, 0, 0, 0]\n"
     ]
    }
   ],
   "source": [
    "data = []\n",
    "size = []\n",
    "for i in [25000,50000,75000,100000,200000,300000,400000,500000,600000,700000,800000,900000,1000000]:\n",
    "    if 0.05 < shapiro(dfMergeMean16[dfMergeMean16[\"Size\"]==i][\"CPU (J)\"]).pvalue:\n",
    "        data.append(1)\n",
    "    else:\n",
    "        data.append(0)\n",
    "    size.append(i)\n",
    "    print(shapiro(dfMergeMean16[dfMergeMean16[\"Size\"]==i][\"CPU (J)\"]).pvalue)\n",
    "print(data)"
   ]
  },
  {
   "cell_type": "code",
   "execution_count": 9,
   "metadata": {},
   "outputs": [
    {
     "name": "stdout",
     "output_type": "stream",
     "text": [
      "0.02785400301218033\n",
      "0.377338707447052\n",
      "0.3100185692310333\n",
      "0.5057286620140076\n",
      "0.3550143837928772\n",
      "0.046356745064258575\n",
      "0.017209040001034737\n",
      "0.28425148129463196\n",
      "0.9258238077163696\n",
      "0.3138777017593384\n",
      "0.29810822010040283\n",
      "0.2148781716823578\n",
      "0.22961750626564026\n",
      "[0, 1, 1, 1, 1, 0, 0, 1, 1, 1, 1, 1, 1]\n"
     ]
    }
   ],
   "source": [
    "dataBest = []\n",
    "sizeBest = []\n",
    "for i in [25000,50000,75000,100000,200000,300000,400000,500000,600000,700000,800000,900000,1000000]:\n",
    "    if 0.05 < shapiro(dfMergeSortBest16[dfMergeSortBest16[\"Size\"]==i][\"CPU (J)\"]).pvalue:\n",
    "        dataBest.append(1)\n",
    "    else:\n",
    "        dataBest.append(0)\n",
    "    sizeBest.append(i)\n",
    "    print(shapiro(dfMergeSortBest16[dfMergeSortBest16[\"Size\"]==i][\"CPU (J)\"]).pvalue)\n",
    "print(dataBest)"
   ]
  },
  {
   "cell_type": "code",
   "execution_count": 10,
   "metadata": {},
   "outputs": [
    {
     "name": "stdout",
     "output_type": "stream",
     "text": [
      "0.8175856471061707\n",
      "0.007321147248148918\n",
      "0.4363113045692444\n",
      "0.5252784490585327\n",
      "0.5608131289482117\n",
      "0.15774917602539062\n",
      "0.07174211740493774\n",
      "0.0028398733120411634\n",
      "0.2429305613040924\n",
      "0.17438054084777832\n",
      "0.24171732366085052\n",
      "0.38993868231773376\n",
      "0.7804232835769653\n",
      "[1, 0, 1, 1, 1, 1, 1, 0, 1, 1, 1, 1, 1]\n"
     ]
    }
   ],
   "source": [
    "data2 = []\n",
    "size2 = []\n",
    "for i in [25000,50000,75000,100000,200000,300000,400000,500000,600000,700000,800000,900000,1000000]:\n",
    "    if 0.05 < shapiro(dfMergeSortWorst16[dfMergeSortWorst16[\"Size\"]==i][\"CPU (J)\"]).pvalue:\n",
    "        data2.append(1)\n",
    "    else:\n",
    "        data2.append(0)\n",
    "    size2.append(i)\n",
    "    print(shapiro(dfMergeSortWorst16[dfMergeSortWorst16[\"Size\"]==i][\"CPU (J)\"]).pvalue)\n",
    "print(data2)"
   ]
  },
  {
   "cell_type": "code",
   "execution_count": 11,
   "metadata": {},
   "outputs": [
    {
     "name": "stdout",
     "output_type": "stream",
     "text": [
      "0.009733965620398521\n",
      "0.09020685404539108\n",
      "0.34720438718795776\n",
      "0.0001767556241247803\n",
      "0.0006491682142950594\n",
      "6.3155107810075606e-09\n",
      "9.737329673953354e-05\n",
      "0.00047675444511696696\n",
      "0.00029996520606800914\n",
      "2.2558670309535955e-07\n",
      "0.0001643199793761596\n",
      "5.324820904206717e-07\n",
      "4.936126742904889e-07\n",
      "[0, 1, 1, 0, 0, 0, 0, 0, 0, 0, 0, 0, 0]\n"
     ]
    }
   ],
   "source": [
    "data3 = []\n",
    "size3 = []\n",
    "for i in [25000,50000,75000,100000,200000,300000,400000,500000,600000,700000,800000,900000,1000000]:\n",
    "    if 0.05 < shapiro(dfMergeSortRandom16[dfMergeSortRandom16[\"Size\"]==i][\"CPU (J)\"]).pvalue:\n",
    "        data3.append(1)\n",
    "    else:\n",
    "        data3.append(0)\n",
    "    size3.append(i)\n",
    "    print(shapiro(dfMergeSortRandom16[dfMergeSortRandom16[\"Size\"]==i][\"CPU (J)\"]).pvalue)\n",
    "print(data3)\n",
    "#make for each random "
   ]
  },
  {
   "cell_type": "code",
   "execution_count": 12,
   "metadata": {},
   "outputs": [
    {
     "name": "stdout",
     "output_type": "stream",
     "text": [
      "0.34467244148254395\n",
      "0.061782918870449066\n",
      "0.5463182926177979\n",
      "0.9654688835144043\n",
      "0.6062363386154175\n",
      "0.3307318091392517\n",
      "0.22573019564151764\n",
      "0.5737915635108948\n",
      "0.13692158460617065\n",
      "0.008128378540277481\n",
      "0.11271927505731583\n",
      "0.06055348739027977\n",
      "0.8204988241195679\n",
      "[1, 1, 1, 1, 1, 1, 1, 1, 1, 0, 1, 1, 1]\n"
     ]
    }
   ],
   "source": [
    "dataRandom1 = []\n",
    "sizeRandom1 = []\n",
    "for i in [25000,50000,75000,100000,200000,300000,400000,500000,600000,700000,800000,900000,1000000]:\n",
    "    if 0.05 < shapiro(dfMergeSortRandom1[dfMergeSortRandom1[\"Size\"]==i][\"CPU (J)\"]).pvalue:\n",
    "        dataRandom1.append(1)\n",
    "    else:\n",
    "        dataRandom1.append(0)\n",
    "    sizeRandom1.append(i)\n",
    "    print(shapiro(dfMergeSortRandom1[dfMergeSortRandom1[\"Size\"]==i][\"CPU (J)\"]).pvalue)\n",
    "print(dataRandom1)\n"
   ]
  },
  {
   "cell_type": "code",
   "execution_count": 13,
   "metadata": {},
   "outputs": [
    {
     "name": "stdout",
     "output_type": "stream",
     "text": [
      "0.39557671546936035\n",
      "0.5919594168663025\n",
      "0.33906418085098267\n",
      "0.16369979083538055\n",
      "0.4110327363014221\n",
      "0.26940014958381653\n",
      "0.9016250967979431\n",
      "0.814214825630188\n",
      "0.4312787652015686\n",
      "0.9115609526634216\n",
      "0.03011179342865944\n",
      "0.0013373508118093014\n",
      "0.5179447531700134\n",
      "[1, 1, 1, 1, 1, 1, 1, 1, 1, 1, 0, 0, 1]\n"
     ]
    }
   ],
   "source": [
    "dataRandom2 = []\n",
    "sizeRandom2 = []\n",
    "for i in [25000,50000,75000,100000,200000,300000,400000,500000,600000,700000,800000,900000,1000000]:\n",
    "    if 0.05 < shapiro(dfMergeSortRandom2[dfMergeSortRandom2[\"Size\"]==i][\"CPU (J)\"]).pvalue:\n",
    "        dataRandom2.append(1)\n",
    "    else:\n",
    "        dataRandom2.append(0)\n",
    "    sizeRandom2.append(i)\n",
    "    print(shapiro(dfMergeSortRandom2[dfMergeSortRandom2[\"Size\"]==i][\"CPU (J)\"]).pvalue)\n",
    "print(dataRandom2)"
   ]
  },
  {
   "cell_type": "code",
   "execution_count": 14,
   "metadata": {},
   "outputs": [
    {
     "name": "stdout",
     "output_type": "stream",
     "text": [
      "0.03371767699718475\n",
      "0.3961124122142792\n",
      "0.1568131446838379\n",
      "0.03404119983315468\n",
      "0.05875077098608017\n",
      "0.7583418488502502\n",
      "0.1298946887254715\n",
      "0.7013111710548401\n",
      "0.8639441132545471\n",
      "0.21062181890010834\n",
      "0.11621905863285065\n",
      "0.1078038141131401\n",
      "0.7980441451072693\n",
      "[0, 1, 1, 0, 1, 1, 1, 1, 1, 1, 1, 1, 1]\n"
     ]
    }
   ],
   "source": [
    "dataRandom3 = []\n",
    "sizeRandom3 = []\n",
    "for i in [25000,50000,75000,100000,200000,300000,400000,500000,600000,700000,800000,900000,1000000]:\n",
    "    if 0.05 < shapiro(dfMergeSortRandom3[dfMergeSortRandom3[\"Size\"]==i][\"CPU (J)\"]).pvalue:\n",
    "        dataRandom3.append(1)\n",
    "    else:\n",
    "        dataRandom3.append(0)\n",
    "    sizeRandom3.append(i)\n",
    "    print(shapiro(dfMergeSortRandom3[dfMergeSortRandom3[\"Size\"]==i][\"CPU (J)\"]).pvalue)\n",
    "print(dataRandom3)"
   ]
  },
  {
   "cell_type": "code",
   "execution_count": 15,
   "metadata": {},
   "outputs": [
    {
     "name": "stdout",
     "output_type": "stream",
     "text": [
      "0.3529811501502991\n",
      "0.166574165225029\n",
      "0.8171971440315247\n",
      "0.4505314826965332\n",
      "0.7365840673446655\n",
      "0.5318218469619751\n",
      "0.022952163591980934\n",
      "0.25316205620765686\n",
      "0.4734073877334595\n",
      "0.0013246011221781373\n",
      "0.33568641543388367\n",
      "0.5130420327186584\n",
      "0.05215827375650406\n",
      "[1, 1, 1, 1, 1, 1, 0, 1, 1, 0, 1, 1, 1]\n"
     ]
    }
   ],
   "source": [
    "dataRandom4 = []\n",
    "sizeRandom4 = []\n",
    "for i in [25000,50000,75000,100000,200000,300000,400000,500000,600000,700000,800000,900000,1000000]:\n",
    "    if 0.05 < shapiro(dfMergeSortRandom4[dfMergeSortRandom4[\"Size\"]==i][\"CPU (J)\"]).pvalue:\n",
    "        dataRandom4.append(1)\n",
    "    else:\n",
    "        dataRandom4.append(0)\n",
    "    sizeRandom4.append(i)\n",
    "    print(shapiro(dfMergeSortRandom4[dfMergeSortRandom4[\"Size\"]==i][\"CPU (J)\"]).pvalue)\n",
    "print(dataRandom4)"
   ]
  },
  {
   "cell_type": "code",
   "execution_count": 16,
   "metadata": {},
   "outputs": [
    {
     "name": "stdout",
     "output_type": "stream",
     "text": [
      "0.3051377236843109\n",
      "0.6138588190078735\n",
      "0.6862027645111084\n",
      "0.4293556213378906\n",
      "0.21081921458244324\n",
      "0.00807920191437006\n",
      "0.42166051268577576\n",
      "0.26327893137931824\n",
      "0.2625606060028076\n",
      "0.7857748866081238\n",
      "0.22065286338329315\n",
      "0.5400167107582092\n",
      "0.9477994441986084\n",
      "[1, 1, 1, 1, 1, 0, 1, 1, 1, 1, 1, 1, 1]\n"
     ]
    }
   ],
   "source": [
    "dataRandom5 = []\n",
    "sizeRandom5 = []\n",
    "for i in [25000,50000,75000,100000,200000,300000,400000,500000,600000,700000,800000,900000,1000000]:\n",
    "    if 0.05 < shapiro(dfMergeSortRandom5[dfMergeSortRandom5[\"Size\"]==i][\"CPU (J)\"]).pvalue:\n",
    "        dataRandom5.append(1)\n",
    "    else:\n",
    "        dataRandom5.append(0)\n",
    "    sizeRandom5.append(i)\n",
    "    print(shapiro(dfMergeSortRandom5[dfMergeSortRandom5[\"Size\"]==i][\"CPU (J)\"]).pvalue)\n",
    "print(dataRandom5)"
   ]
  },
  {
   "cell_type": "code",
   "execution_count": 17,
   "metadata": {},
   "outputs": [
    {
     "name": "stdout",
     "output_type": "stream",
     "text": [
      "0.4648077189922333\n",
      "0.43591898679733276\n",
      "0.7653974294662476\n",
      "0.6518433094024658\n",
      "0.3644624650478363\n",
      "0.8522672057151794\n",
      "0.4469793438911438\n",
      "0.7371211647987366\n",
      "0.0999133512377739\n",
      "0.03390300273895264\n",
      "0.611962080001831\n",
      "0.8597280383110046\n",
      "0.20047876238822937\n",
      "[1, 1, 1, 1, 1, 1, 1, 1, 1, 0, 1, 1, 1]\n"
     ]
    }
   ],
   "source": [
    "dataRandom6 = []\n",
    "sizeRandom6 = []\n",
    "for i in [25000,50000,75000,100000,200000,300000,400000,500000,600000,700000,800000,900000,1000000]:\n",
    "    if 0.05 < shapiro(dfMergeSortRandom6[dfMergeSortRandom6[\"Size\"]==i][\"CPU (J)\"]).pvalue:\n",
    "        dataRandom6.append(1)\n",
    "    else:\n",
    "        dataRandom6.append(0)\n",
    "    sizeRandom6.append(i)\n",
    "    print(shapiro(dfMergeSortRandom6[dfMergeSortRandom6[\"Size\"]==i][\"CPU (J)\"]).pvalue)\n",
    "print(dataRandom6)"
   ]
  },
  {
   "cell_type": "code",
   "execution_count": 18,
   "metadata": {},
   "outputs": [
    {
     "name": "stdout",
     "output_type": "stream",
     "text": [
      "0.24190931022167206\n",
      "0.5932052135467529\n",
      "0.7989434599876404\n",
      "0.7813555002212524\n",
      "0.7088598608970642\n",
      "0.4359802305698395\n",
      "0.02527579292654991\n",
      "0.12185874581336975\n",
      "0.5210465788841248\n",
      "0.0379130057990551\n",
      "0.5369600057601929\n",
      "0.3655106723308563\n",
      "0.32696473598480225\n",
      "[1, 1, 1, 1, 1, 1, 0, 1, 1, 0, 1, 1, 1]\n"
     ]
    }
   ],
   "source": [
    "dataRandom7 = []\n",
    "sizeRandom7 = []\n",
    "for i in [25000,50000,75000,100000,200000,300000,400000,500000,600000,700000,800000,900000,1000000]:\n",
    "    if 0.05 < shapiro(dfMergeSortRandom7[dfMergeSortRandom7[\"Size\"]==i][\"CPU (J)\"]).pvalue:\n",
    "        dataRandom7.append(1)\n",
    "    else:\n",
    "        dataRandom7.append(0)\n",
    "    sizeRandom7.append(i)\n",
    "    print(shapiro(dfMergeSortRandom7[dfMergeSortRandom7[\"Size\"]==i][\"CPU (J)\"]).pvalue)\n",
    "print(dataRandom7)"
   ]
  },
  {
   "cell_type": "code",
   "execution_count": 19,
   "metadata": {},
   "outputs": [
    {
     "name": "stdout",
     "output_type": "stream",
     "text": [
      "0.8503003120422363\n",
      "0.5859135389328003\n",
      "0.8003076910972595\n",
      "0.8315616846084595\n",
      "0.060579895973205566\n",
      "0.6936096549034119\n",
      "0.2643449008464813\n",
      "0.9553377032279968\n",
      "0.037230897694826126\n",
      "0.039541322737932205\n",
      "0.12895166873931885\n",
      "0.1745361089706421\n",
      "0.07749326527118683\n",
      "[1, 1, 1, 1, 1, 1, 1, 1, 0, 0, 1, 1, 1]\n"
     ]
    }
   ],
   "source": [
    "dataRandom8 = []\n",
    "sizeRandom8 = []\n",
    "for i in [25000,50000,75000,100000,200000,300000,400000,500000,600000,700000,800000,900000,1000000]:\n",
    "    if 0.05 < shapiro(dfMergeSortRandom8[dfMergeSortRandom8[\"Size\"]==i][\"CPU (J)\"]).pvalue:\n",
    "        dataRandom8.append(1)\n",
    "    else:\n",
    "        dataRandom8.append(0)\n",
    "    sizeRandom8.append(i)\n",
    "    print(shapiro(dfMergeSortRandom8[dfMergeSortRandom8[\"Size\"]==i][\"CPU (J)\"]).pvalue)\n",
    "print(dataRandom8)"
   ]
  },
  {
   "cell_type": "code",
   "execution_count": 20,
   "metadata": {},
   "outputs": [
    {
     "name": "stdout",
     "output_type": "stream",
     "text": [
      "0.5441107749938965\n",
      "0.19046707451343536\n",
      "0.16318388283252716\n",
      "0.24676421284675598\n",
      "0.2439189851284027\n",
      "0.13460160791873932\n",
      "0.2752326726913452\n",
      "0.1448969691991806\n",
      "0.5078939199447632\n",
      "0.35752367973327637\n",
      "0.18448564410209656\n",
      "0.13131332397460938\n",
      "0.9058226943016052\n",
      "[1, 1, 1, 1, 1, 1, 1, 1, 1, 1, 1, 1, 1]\n"
     ]
    }
   ],
   "source": [
    "dataRandom9 = []\n",
    "sizeRandom9 = []\n",
    "for i in [25000,50000,75000,100000,200000,300000,400000,500000,600000,700000,800000,900000,1000000]:\n",
    "    if 0.05 < shapiro(dfMergeSortRandom9[dfMergeSortRandom9[\"Size\"]==i][\"CPU (J)\"]).pvalue:\n",
    "        dataRandom9.append(1)\n",
    "    else:\n",
    "        dataRandom9.append(0)\n",
    "    sizeRandom9.append(i)\n",
    "    print(shapiro(dfMergeSortRandom9[dfMergeSortRandom9[\"Size\"]==i][\"CPU (J)\"]).pvalue)\n",
    "print(dataRandom9)"
   ]
  },
  {
   "cell_type": "code",
   "execution_count": 21,
   "metadata": {},
   "outputs": [
    {
     "name": "stdout",
     "output_type": "stream",
     "text": [
      "0.2580253779888153\n",
      "0.3669620752334595\n",
      "0.6043224930763245\n",
      "0.07451324909925461\n",
      "0.06809287518262863\n",
      "0.5001773834228516\n",
      "0.47645819187164307\n",
      "0.5749356150627136\n",
      "0.23496665060520172\n",
      "0.3965033292770386\n",
      "0.02258128486573696\n",
      "0.04656616970896721\n",
      "0.1271357536315918\n",
      "[1, 1, 1, 1, 1, 1, 1, 1, 1, 1, 0, 0, 1]\n"
     ]
    }
   ],
   "source": [
    "dataRandom10 = []\n",
    "sizeRandom10 = []\n",
    "for i in [25000,50000,75000,100000,200000,300000,400000,500000,600000,700000,800000,900000,1000000]:\n",
    "    if 0.05 < shapiro(dfMergeSortRandom10[dfMergeSortRandom10[\"Size\"]==i][\"CPU (J)\"]).pvalue:\n",
    "        dataRandom10.append(1)\n",
    "    else:\n",
    "        dataRandom10.append(0)\n",
    "    sizeRandom10.append(i)\n",
    "    print(shapiro(dfMergeSortRandom10[dfMergeSortRandom10[\"Size\"]==i][\"CPU (J)\"]).pvalue)\n",
    "print(dataRandom10)"
   ]
  },
  {
   "attachments": {},
   "cell_type": "markdown",
   "metadata": {},
   "source": [
    "# PLOTS"
   ]
  },
  {
   "cell_type": "code",
   "execution_count": 22,
   "metadata": {},
   "outputs": [],
   "source": [
    "# For bubblesort: polynomial regression\n",
    "#!!!!MAKE HOLLOW IN THIS CELL!!!!!\n",
    "#THIS IS WHERE PLOT SETTING ARE DEFINIED!!!!\n",
    "def polyReg(SeriesX, SeriesY,dg, Label, color, plotLabel = True, regLine=True, printR2Score = True, plotGraph = True, dots=\"o\"):\n",
    "    X = SeriesX.values.reshape(SeriesX.size, -1)\n",
    "    y = SeriesY.values\n",
    "\n",
    "    fitness = []\n",
    "   #for dg in range(minDegrees, maxDegrees):\n",
    "    # Create an empty polynomial function with degree of 4\n",
    "    poly_reg = PolynomialFeatures(degree=dg)\n",
    "    \n",
    "    # Fit the function to the X and transform X to the polynomial format\n",
    "    X_poly = poly_reg.fit_transform(X)\n",
    "\n",
    "    # Now we construct a Multiple Linear Regressor on the transformed X_ploy\n",
    "    lr_2 = LinearRegression()  \n",
    "    lr_2.fit(X_poly, y)  \n",
    "    \n",
    "    # Get the y values using the constructed Multiple Linear Regressor\n",
    "    y_poly = lr_2.predict(X_poly)\n",
    "    \n",
    "    r2 = metrics.r2_score(y,y_poly)\n",
    "    #if printR2Score:\n",
    "    #    print(f\"r2_score for {Label} {dg} is: {r2}\")\n",
    "    fitness.append((f\"poly {dg}dg\", r2, y_poly))\n",
    "    #print(f\"Parameters of poly: {poly_reg.get_params()}\") #does not give what we are looking for\n",
    "    \n",
    "    if plotGraph:\n",
    "        plt.plot(X, y,dots, color=color,markersize=10, markerfacecolor = \"none\")    #!!!!MAKE HOLLOW HERE!!!!! \n",
    "        if r2 > 0.5 and regLine:\n",
    "            plt.plot(X, y_poly, color=color, linewidth=2)\n",
    "        #plt.legend(loc='upper left')\n",
    "    print(lr_2.intercept_, lr_2.coef_)\n",
    "    return max(fitness,key=itemgetter(1))"
   ]
  },
  {
   "cell_type": "code",
   "execution_count": 23,
   "metadata": {},
   "outputs": [],
   "source": [
    "def getIndex(df,case,size):\n",
    "    return df[df[\"Input case\"] == case][df[\"Size\"]==size].index.tolist()[0]\n"
   ]
  },
  {
   "cell_type": "code",
   "execution_count": 24,
   "metadata": {},
   "outputs": [
    {
     "name": "stderr",
     "output_type": "stream",
     "text": [
      "<ipython-input-23-565db17a79a7>:2: UserWarning: Boolean Series key will be reindexed to match DataFrame index.\n",
      "  return df[df[\"Input case\"] == case][df[\"Size\"]==size].index.tolist()[0]\n"
     ]
    },
    {
     "data": {
      "text/html": [
       "<div>\n",
       "<style scoped>\n",
       "    .dataframe tbody tr th:only-of-type {\n",
       "        vertical-align: middle;\n",
       "    }\n",
       "\n",
       "    .dataframe tbody tr th {\n",
       "        vertical-align: top;\n",
       "    }\n",
       "\n",
       "    .dataframe thead th {\n",
       "        text-align: right;\n",
       "    }\n",
       "</style>\n",
       "<table border=\"1\" class=\"dataframe\">\n",
       "  <thead>\n",
       "    <tr style=\"text-align: right;\">\n",
       "      <th></th>\n",
       "      <th>PKG (J)</th>\n",
       "      <th>CPU (J)</th>\n",
       "      <th>DRAM (J)</th>\n",
       "      <th>Time (ms)</th>\n",
       "      <th>Temp (C)</th>\n",
       "      <th>Size</th>\n",
       "      <th>Input case</th>\n",
       "      <th>CPU - readCSV</th>\n",
       "      <th>Time - readCSV</th>\n",
       "      <th>Memory - readCSV</th>\n",
       "      <th>CPU % of PKG</th>\n",
       "      <th>PKG %</th>\n",
       "      <th>full EC</th>\n",
       "      <th>nlog(n)</th>\n",
       "    </tr>\n",
       "  </thead>\n",
       "  <tbody>\n",
       "    <tr>\n",
       "      <th>0</th>\n",
       "      <td>8.5927</td>\n",
       "      <td>7.38346</td>\n",
       "      <td>0.511481</td>\n",
       "      <td>995.586</td>\n",
       "      <td>61.5556</td>\n",
       "      <td>25000</td>\n",
       "      <td>best</td>\n",
       "      <td>0.014246</td>\n",
       "      <td>1.970851</td>\n",
       "      <td>0.000994</td>\n",
       "      <td>85.927173</td>\n",
       "      <td>100</td>\n",
       "      <td>0.015240</td>\n",
       "      <td>3.652410e+05</td>\n",
       "    </tr>\n",
       "    <tr>\n",
       "      <th>1</th>\n",
       "      <td>13.6266</td>\n",
       "      <td>11.6149</td>\n",
       "      <td>0.863065</td>\n",
       "      <td>1637.28</td>\n",
       "      <td>63.5455</td>\n",
       "      <td>50000</td>\n",
       "      <td>best</td>\n",
       "      <td>0.023702</td>\n",
       "      <td>3.477878</td>\n",
       "      <td>0.001802</td>\n",
       "      <td>85.236888</td>\n",
       "      <td>100</td>\n",
       "      <td>0.025504</td>\n",
       "      <td>7.804820e+05</td>\n",
       "    </tr>\n",
       "    <tr>\n",
       "      <th>2</th>\n",
       "      <td>18.4479</td>\n",
       "      <td>15.6576</td>\n",
       "      <td>1.22604</td>\n",
       "      <td>2220.3</td>\n",
       "      <td>63.25</td>\n",
       "      <td>75000</td>\n",
       "      <td>best</td>\n",
       "      <td>0.032756</td>\n",
       "      <td>4.839167</td>\n",
       "      <td>0.002638</td>\n",
       "      <td>84.874402</td>\n",
       "      <td>100</td>\n",
       "      <td>0.035394</td>\n",
       "      <td>1.214595e+06</td>\n",
       "    </tr>\n",
       "    <tr>\n",
       "      <th>3</th>\n",
       "      <td>23.2982</td>\n",
       "      <td>19.694</td>\n",
       "      <td>1.60739</td>\n",
       "      <td>2824.99</td>\n",
       "      <td>63.2333</td>\n",
       "      <td>100000</td>\n",
       "      <td>best</td>\n",
       "      <td>0.042071</td>\n",
       "      <td>6.276871</td>\n",
       "      <td>0.003547</td>\n",
       "      <td>84.530260</td>\n",
       "      <td>100</td>\n",
       "      <td>0.045618</td>\n",
       "      <td>1.660964e+06</td>\n",
       "    </tr>\n",
       "    <tr>\n",
       "      <th>4</th>\n",
       "      <td>43.4894</td>\n",
       "      <td>36.4976</td>\n",
       "      <td>3.25283</td>\n",
       "      <td>5300.37</td>\n",
       "      <td>64.2333</td>\n",
       "      <td>200000</td>\n",
       "      <td>best</td>\n",
       "      <td>0.082144</td>\n",
       "      <td>12.257489</td>\n",
       "      <td>0.007564</td>\n",
       "      <td>83.923116</td>\n",
       "      <td>100</td>\n",
       "      <td>0.089708</td>\n",
       "      <td>3.521928e+06</td>\n",
       "    </tr>\n",
       "  </tbody>\n",
       "</table>\n",
       "</div>"
      ],
      "text/plain": [
       "   PKG (J)  CPU (J)  DRAM (J) Time (ms) Temp (C)    Size Input case  \\\n",
       "0   8.5927  7.38346  0.511481   995.586  61.5556   25000       best   \n",
       "1  13.6266  11.6149  0.863065   1637.28  63.5455   50000       best   \n",
       "2  18.4479  15.6576   1.22604    2220.3    63.25   75000       best   \n",
       "3  23.2982   19.694   1.60739   2824.99  63.2333  100000       best   \n",
       "4  43.4894  36.4976   3.25283   5300.37  64.2333  200000       best   \n",
       "\n",
       "   CPU - readCSV  Time - readCSV  Memory - readCSV  CPU % of PKG  PKG %  \\\n",
       "0       0.014246        1.970851          0.000994     85.927173    100   \n",
       "1       0.023702        3.477878          0.001802     85.236888    100   \n",
       "2       0.032756        4.839167          0.002638     84.874402    100   \n",
       "3       0.042071        6.276871          0.003547     84.530260    100   \n",
       "4       0.082144       12.257489          0.007564     83.923116    100   \n",
       "\n",
       "    full EC       nlog(n)  \n",
       "0  0.015240  3.652410e+05  \n",
       "1  0.025504  7.804820e+05  \n",
       "2  0.035394  1.214595e+06  \n",
       "3  0.045618  1.660964e+06  \n",
       "4  0.089708  3.521928e+06  "
      ]
     },
     "execution_count": 24,
     "metadata": {},
     "output_type": "execute_result"
    }
   ],
   "source": [
    "import math\n",
    "def calcPercent(df):\n",
    "    cpuPercent = []\n",
    "    pkgPercent = []\n",
    "    fullEC = []\n",
    "    nlogn = []\n",
    "    for case in [\"best\", \"worst\", \"random\"]:\n",
    "        if case != \"random\":\n",
    "            for size in [25000,50000,75000,100000,200000,300000,400000,500000,600000,700000,800000,900000,1000000]:\n",
    "                cpuPercent.append(df[\"CPU (J)\"][getIndex(df,case,size)] / df[\"PKG (J)\"][getIndex(df,case,size)] * 100)\n",
    "                pkgPercent.append(100)\n",
    "                fullEC.append(df[\"CPU - readCSV\"][getIndex(df,case,size)]+df[\"Memory - readCSV\"][getIndex(df,case,size)])\n",
    "                nlogn.append(df[\"Size\"][getIndex(df,case,size)] * math.log2(df[\"Size\"][getIndex(df,case,size)]))\n",
    "        else :\n",
    "            for i in range(1,11):\n",
    "                for size in [25000,50000,75000,100000,200000,300000,400000,500000,600000,700000,800000,900000,1000000]:\n",
    "                    cpuPercent.append(df[\"CPU (J)\"][getIndex(df,case+str(i),size)] / df[\"PKG (J)\"][getIndex(df,case+str(i),size)] * 100)\n",
    "                    pkgPercent.append(100)\n",
    "                    fullEC.append(df[\"CPU - readCSV\"][getIndex(df,case+str(i),size)]+df[\"Memory - readCSV\"][getIndex(df,case+str(i),size)])\n",
    "                    nlogn.append(df[\"Size\"][getIndex(df,case+str(i),size)] * math.log2(df[\"Size\"][getIndex(df,case+str(i),size)]))\n",
    "\n",
    "    df[\"CPU % of PKG\"] = cpuPercent\n",
    "    df[\"PKG %\"] = pkgPercent\n",
    "    df[\"full EC\"] = fullEC\n",
    "    df[\"nlog(n)\"] = nlogn\n",
    "calcPercent(dfMergeMean16)\n",
    "\n",
    "\n",
    "dfMergeMean16.head()"
   ]
  },
  {
   "cell_type": "code",
   "execution_count": 34,
   "metadata": {},
   "outputs": [
    {
     "name": "stdout",
     "output_type": "stream",
     "text": [
      "-2.1256834985006066 [0.        0.0001884]\n",
      "-2.7214322809959555 [0.         0.00019059]\n",
      "-2.018559750681831 [0.         0.00018727]\n",
      "-2.3419033526543984 [0.         0.00018969]\n",
      "-2.6727209214598275 [0.        0.0001911]\n",
      "-2.011303408989235 [0.         0.00018948]\n",
      "-2.1052164565335687 [0.         0.00018862]\n",
      "-2.372608496033095 [0.         0.00019048]\n",
      "-1.7931924778208383 [0.         0.00018809]\n",
      "-2.1855649355677826 [0.         0.00018956]\n",
      "0.04993981265281988 [0.00000000e+00 6.17349585e-05]\n",
      "0.25823059267815296 [0.00000000e+00 8.57485026e-05]\n"
     ]
    },
    {
     "data": {
      "image/png": "[encoded data removed]",
      "text/plain": [
       "<Figure size 720x504 with 1 Axes>"
      ]
     },
     "metadata": {
      "needs_background": "light"
     },
     "output_type": "display_data"
    }
   ],
   "source": [
    "plt.figure(figsize=(10,7))\n",
    "color = \"red\"\n",
    "\n",
    "Rs = []\n",
    "plt.plot(-1000000,0,\"d\", color=\"c\",label=\"best case input\")\n",
    "plt.plot(-1000000,0,\"s\", color=\"m\",label=\"worst case input\")\n",
    "plt.plot(-1000000,0,\"v\", color=\"peru\",label=\"random1 - random10\")\n",
    "\n",
    "for i in range(1,11):\n",
    "    Rs.append(polyReg(dfMergeMean16[dfMergeMean16[\"Input case\"] == f\"random{i}\"][\"Size\"], dfMergeMean16[dfMergeMean16[\"Input case\"] == f\"random{i}\"][\"Time - readCSV\"],1, f\"random{i} case input\", \"peru\",dots=\"v\",regLine=False))\n",
    "best = polyReg(dfMergeMean16[dfMergeMean16[\"Input case\"] == \"best\"][\"Size\"], dfMergeMean16[dfMergeMean16[\"Input case\"] == \"best\"][\"Time - readCSV\"],1, \"Merge time for best case input\", \"c\",dots=\"d\",regLine=False)\n",
    "worst = polyReg(dfMergeMean16[dfMergeMean16[\"Input case\"] == \"worst\"][\"Size\"], dfMergeMean16[dfMergeMean16[\"Input case\"] == \"worst\"][\"Time - readCSV\"],1, \"Merge time for worst case input\", \"m\",dots=\"s\",regLine=False)\n",
    "\n",
    "#print(f\"worst R2 \", worst[1], \"\\n\")\n",
    "#print(f\"best R2 \", best[1], \"\\n\")\n",
    "#for i in range(len(Rs)):\n",
    " #   print(f\"random{i} R2\", Rs[i][1], \" \\n\")\n",
    "\n",
    "#plt.title(\"Merge sort wall time vs input size.\")\n",
    "plt.xlabel(\"input size (n)\", fontsize = 22)\n",
    "plt.ylabel(\"Time (ms)\", fontsize = 22)\n",
    "plt.rc('xtick', labelsize= 22) \n",
    "plt.rc('ytick', labelsize= 22) \n",
    "plt.xlim(-10000, 1020000)\n",
    "plt.ylim(-5, 200)\n",
    "plt.grid()\n",
    "plt.legend()\n",
    "plt.show()\n"
   ]
  },
  {
   "attachments": {},
   "cell_type": "markdown",
   "metadata": {},
   "source": [
    "# Time v big-o"
   ]
  },
  {
   "cell_type": "code",
   "execution_count": 26,
   "metadata": {},
   "outputs": [
    {
     "name": "stdout",
     "output_type": "stream",
     "text": [
      "1.457625989776517 [0.00000000e+00 9.38629715e-06]\n",
      "0.8769830651262254 [0.00000000e+00 9.49875609e-06]\n",
      "1.5354539045445676 [0.00000000e+00 9.33096627e-06]\n",
      "1.2532313406241968 [0.00000000e+00 9.45235561e-06]\n",
      "0.9382954590810755 [0.00000000e+00 9.52367881e-06]\n",
      "1.593528785454879 [0.00000000e+00 9.44011615e-06]\n",
      "1.4813483016718436 [0.00000000e+00 9.39779057e-06]\n",
      "1.2399206411219694 [0.00000000e+00 9.49116201e-06]\n",
      "1.787997175963298 [0.00000000e+00 9.37056726e-06]\n",
      "1.4172544970322178 [0.0000000e+00 9.4445568e-06]\n",
      "random0 R2 0.999638783050605  \n",
      "\n",
      "random1 R2 0.9997822421830674  \n",
      "\n",
      "random2 R2 0.9997921730000388  \n",
      "\n",
      "random3 R2 0.9997722682415568  \n",
      "\n",
      "random4 R2 0.9993707756774823  \n",
      "\n",
      "random5 R2 0.9997132619376393  \n",
      "\n",
      "random6 R2 0.9997063664615938  \n",
      "\n",
      "random7 R2 0.9998358932232683  \n",
      "\n",
      "random8 R2 0.9996161170640948  \n",
      "\n",
      "random9 R2 0.9996466495040939  \n",
      "\n",
      "1.2216359663578125 [0.0000000e+00 3.0760611e-06]\n",
      "1.8988695672840024 [0.00000000e+00 4.27100148e-06]\n",
      "worst R2  0.9989226116934481 \n",
      "\n",
      "best R2  0.9998685573198899 \n",
      "\n"
     ]
    },
    {
     "data": {
      "image/png": "[encoded data removed]",
      "text/plain": [
       "<Figure size 864x604.8 with 1 Axes>"
      ]
     },
     "metadata": {
      "needs_background": "light"
     },
     "output_type": "display_data"
    }
   ],
   "source": [
    "plt.figure(figsize=(10*1.2,7*1.2))\n",
    "color = \"red\"\n",
    "\n",
    "Rs = []\n",
    "\n",
    "for i in range(1,11):\n",
    "    Rs.append(polyReg(dfMergeMean16[dfMergeMean16[\"Input case\"] == f\"random{i}\"][\"nlog(n)\"], dfMergeMean16[dfMergeMean16[\"Input case\"] == f\"random{i}\"][\"Time - readCSV\"],1, f\"random{i} case input\", \"peru\",dots=\"v\"))\n",
    "plt.plot(-10000,-10000,\"v\", color=\"peru\",label=\"random1 - random10\")\n",
    "for i in range(len(Rs)):\n",
    "    print(f\"random{i} R2\", Rs[i][1], \" \\n\")\n",
    "best = polyReg(dfMergeMean16[dfMergeMean16[\"Input case\"] == \"best\"][\"nlog(n)\"], dfMergeMean16[dfMergeMean16[\"Input case\"] == \"best\"][\"Time - readCSV\"],1, \"Merge time for best case input\", \"c\",dots=\"d\",regLine=True)\n",
    "plt.plot(-10000,-10000,\"d\", color=\"c\",label=\"best case input\")\n",
    "worst = polyReg(dfMergeMean16[dfMergeMean16[\"Input case\"] == \"worst\"][\"nlog(n)\"], dfMergeMean16[dfMergeMean16[\"Input case\"] == \"worst\"][\"Time - readCSV\"],1, \"Merge time for worst case input\", \"m\",dots=\"s\",regLine=True)\n",
    "plt.plot(-10000,-10000,\"s\", color=\"m\",label=\"worst case input\")\n",
    "print(f\"worst R2 \", worst[1], \"\\n\")\n",
    "print(f\"best R2 \", best[1], \"\\n\")\n",
    "#plt.title(\"Merge sort wall time vs input size, with linear regression.\")\n",
    "plt.xlabel(\"n log(n) of input size n\", fontsize = 14)\n",
    "plt.ylabel(\"Time (ms)\", fontsize = 14)\n",
    "plt.rc('xtick', labelsize= 14) \n",
    "plt.rc('ytick', labelsize= 14) \n",
    "plt.xlim(-50000, 21000000)\n",
    "plt.ylim(-10, 210)\n",
    "plt.grid()\n",
    "plt.legend()\n",
    "plt.show()\n"
   ]
  },
  {
   "attachments": {},
   "cell_type": "markdown",
   "metadata": {},
   "source": [
    "# EC v Time"
   ]
  },
  {
   "cell_type": "code",
   "execution_count": 27,
   "metadata": {},
   "outputs": [
    {
     "name": "stdout",
     "output_type": "stream",
     "text": [
      "0.0001277969376041188 [0.         0.00664063]\n",
      "-0.00020426659579031448 [0.         0.00664228]\n",
      "-0.0012889952622699985 [0.         0.00667521]\n",
      "-2.061044694279257e-05 [0.         0.00664701]\n",
      "-0.0003506573877019026 [0.         0.00664439]\n",
      "-0.0005488147082772787 [0.        0.0066515]\n",
      "-0.0008851946879911976 [0.         0.00666586]\n",
      "-0.0002894481133792759 [0.        0.0066386]\n",
      "-0.0006439269838900419 [0.         0.00665319]\n",
      "9.419911780161883e-06 [0.        0.0066325]\n",
      "random0 R2 0.9999702470557561  \n",
      "\n",
      "random1 R2 0.9999860110213735  \n",
      "\n",
      "random2 R2 0.9999675496219377  \n",
      "\n",
      "random3 R2 0.9999724599947918  \n",
      "\n",
      "random4 R2 0.9999567669323067  \n",
      "\n",
      "random5 R2 0.9999764418340047  \n",
      "\n",
      "random6 R2 0.9999634674471619  \n",
      "\n",
      "random7 R2 0.9999822371068179  \n",
      "\n",
      "random8 R2 0.9999530845181243  \n",
      "\n",
      "random9 R2 0.9999738200187925  \n",
      "\n",
      "-0.0007218841111540086 [0.        0.0073961]\n",
      "best R2  0.9999487622040144 \n",
      "\n",
      "-0.002712860192803146 [0.         0.00746632]\n",
      "worst R2  0.9998584482160954 \n",
      "\n"
     ]
    },
    {
     "data": {
      "image/png": "[encoded data removed]",
      "text/plain": [
       "<Figure size 720x504 with 1 Axes>"
      ]
     },
     "metadata": {
      "needs_background": "light"
     },
     "output_type": "display_data"
    }
   ],
   "source": [
    "plt.figure(figsize=(10,7))\n",
    "color = \"red\"\n",
    "\n",
    "Rs = []\n",
    "\n",
    "for i in range(1,11):\n",
    "    Rs.append(polyReg(dfMergeMean16[dfMergeMean16[\"Input case\"] == f\"random{i}\"][\"Time - readCSV\"], dfMergeMean16[dfMergeMean16[\"Input case\"] == f\"random{i}\"][\"full EC\"],1, f\"Random{i} case input\", \"peru\",dots=\"v\"))\n",
    "plt.plot(-100,0,\"v\", color=\"peru\",label=\"random1 - random10\")\n",
    "for i in range(len(Rs)):\n",
    "    print(f\"random{i} R2\", Rs[i][1], \" \\n\")\n",
    "best = polyReg(dfMergeMean16[dfMergeMean16[\"Input case\"] == \"best\"][\"Time - readCSV\"], dfMergeMean16[dfMergeMean16[\"Input case\"] == \"best\"][\"full EC\"],1, \"Merge time for best case input\", \"c\",dots=\"d\")\n",
    "plt.plot(-100,0,\"d\", color=\"c\",label=\"best case input\")\n",
    "print(f\"best R2 \", best[1], \"\\n\")\n",
    "worst = polyReg(dfMergeMean16[dfMergeMean16[\"Input case\"] == \"worst\"][\"Time - readCSV\"], dfMergeMean16[dfMergeMean16[\"Input case\"] == \"worst\"][\"full EC\"],1, \"Merge time for worst case input\", \"m\",dots=\"s\")\n",
    "plt.plot(-100,0,\"s\", color=\"m\",label=\"worst case input\")\n",
    "print(f\"worst R2 \", worst[1], \"\\n\")\n",
    "#plt.title(\"Merge sort energy consumption vs wall time, with linear regression.\")\n",
    "plt.ylabel(\"Total energy (J)\", fontsize = 14)\n",
    "plt.xlabel(\"Time (ms)\", fontsize = 14)\n",
    "plt.rc('xtick', labelsize= 14) \n",
    "plt.rc('ytick', labelsize= 14) \n",
    "plt.xlim(-5, 200)\n",
    "plt.ylim(-0.05, 1.5)\n",
    "plt.legend()\n",
    "plt.grid()\n",
    "plt.show()\n"
   ]
  },
  {
   "cell_type": "code",
   "execution_count": 28,
   "metadata": {},
   "outputs": [
    {
     "name": "stdout",
     "output_type": "stream",
     "text": [
      "-0.0007218841111540086 [0.        0.0073961]\n",
      "best R2  0.9999487622040144 \n",
      "\n",
      "-0.002712860192803146 [0.         0.00746632]\n",
      "worst R2  0.9998584482160954 \n",
      "\n"
     ]
    },
    {
     "data": {
      "image/png": "[encoded data removed]",
      "text/plain": [
       "<Figure size 720x504 with 1 Axes>"
      ]
     },
     "metadata": {
      "needs_background": "light"
     },
     "output_type": "display_data"
    }
   ],
   "source": [
    "plt.figure(figsize=(10,7))\n",
    "color = \"red\"\n",
    "\n",
    "Rs = []\n",
    "\n",
    "# for i in range(1,11):\n",
    "#     Rs.append(polyReg(dfMergeMean16[dfMergeMean16[\"Input case\"] == f\"random{i}\"][\"Time - readCSV\"], dfMergeMean16[dfMergeMean16[\"Input case\"] == f\"random{i}\"][\"full EC\"],1, f\"Random{i} case input\", \"darkorange\",dots=\"v\"))\n",
    "# plt.plot(0,0,\"v\", color=\"darkorange\",label=\"random1 - random10\")\n",
    "# for i in range(len(Rs)):\n",
    "#     print(f\"random{i} R2\", Rs[i][1], \" \\n\")\n",
    "best = polyReg(dfMergeMean16[dfMergeMean16[\"Input case\"] == \"best\"][\"Time - readCSV\"], dfMergeMean16[dfMergeMean16[\"Input case\"] == \"best\"][\"full EC\"],1, \"Merge time for best case input\", \"c\",dots=\"d\")\n",
    "plt.plot(-100,0,\"d\", color=\"c\",label=\"best case input\")\n",
    "print(f\"best R2 \", best[1], \"\\n\")\n",
    "worst = polyReg(dfMergeMean16[dfMergeMean16[\"Input case\"] == \"worst\"][\"Time - readCSV\"], dfMergeMean16[dfMergeMean16[\"Input case\"] == \"worst\"][\"full EC\"],1, \"Merge time for worst case input\", \"m\",dots=\"s\")\n",
    "plt.plot(-100,0,\"s\", color=\"m\",label=\"worst case input\")\n",
    "print(f\"worst R2 \", worst[1], \"\\n\")\n",
    "#plt.title(\"Merge sort energy consumption vs wall time, with linear regression.\")\n",
    "plt.ylabel(\"Total energy (J)\", fontsize = 14)\n",
    "plt.xlabel(\"Time (ms)\", fontsize = 14)\n",
    "plt.rc('xtick', labelsize= 14) \n",
    "plt.rc('ytick', labelsize= 14)\n",
    "plt.xlim(0, 100)\n",
    "plt.ylim(0, 0.9)\n",
    "plt.legend()\n",
    "plt.grid()\n",
    "plt.show()\n"
   ]
  },
  {
   "attachments": {},
   "cell_type": "markdown",
   "metadata": {},
   "source": [
    "# EC v big-oh"
   ]
  },
  {
   "cell_type": "code",
   "execution_count": 29,
   "metadata": {},
   "outputs": [
    {
     "name": "stdout",
     "output_type": "stream",
     "text": [
      "-0.013993413152183276 [0.0000000e+00 1.2510836e-06]\n",
      "-0.018274637669291605 [0.00000000e+00 1.26593525e-06]\n",
      "-0.014728916316847585 [0.00000000e+00 1.24996779e-06]\n",
      "-0.01559089157082405 [0.00000000e+00 1.26089054e-06]\n",
      "-0.01811205971181551 [0.00000000e+00 1.26973032e-06]\n",
      "-0.013905845369834413 [0.00000000e+00 1.26027117e-06]\n",
      "-0.01490719122192019 [0.00000000e+00 1.25732018e-06]\n",
      "-0.016017672659521587 [0.00000000e+00 1.26444471e-06]\n",
      "-0.012568053141288171 [0.0000000e+00 1.2513828e-06]\n",
      "-0.01446913656043991 [0.00000000e+00 1.25721375e-06]\n",
      "random0 R2 0.9996723309262097  \n",
      "\n",
      "random1 R2 0.9991182629381911  \n",
      "\n",
      "random2 R2 0.9994761289726742  \n",
      "\n",
      "random3 R2 0.9994768644689332  \n",
      "\n",
      "random4 R2 0.9987862274423733  \n",
      "\n",
      "random5 R2 0.9996798705322765  \n",
      "\n",
      "random6 R2 0.9996453348003616  \n",
      "\n",
      "random7 R2 0.9995185449044941  \n",
      "\n",
      "random8 R2 0.9996846437158603  \n",
      "\n",
      "random9 R2 0.999534961468199  \n",
      "\n",
      "-0.0003397068294931638 [0.00000000e+00 4.56568693e-07]\n",
      "-0.0008215844272569384 [0.00000000e+00 6.40309978e-07]\n",
      "worst R2  0.9996327962406457 \n",
      "\n",
      "best R2  0.9995366443307881 \n",
      "\n"
     ]
    },
    {
     "data": {
      "image/png": "[encoded data removed]",
      "text/plain": [
       "<Figure size 720x504 with 1 Axes>"
      ]
     },
     "metadata": {
      "needs_background": "light"
     },
     "output_type": "display_data"
    }
   ],
   "source": [
    "plt.figure(figsize=(10,7))\n",
    "color = \"red\"\n",
    "\n",
    "Rs = []\n",
    "\n",
    "for i in range(1,11):\n",
    "    Rs.append(polyReg(dfMergeMean16[dfMergeMean16[\"Input case\"] == f\"random{i}\"][\"Size\"], dfMergeMean16[dfMergeMean16[\"Input case\"] == f\"random{i}\"][\"full EC\"],1, f\"random{i} case input\", \"peru\", dots=\"v\",regLine=False))\n",
    "plt.plot(-10000,-10000,\"v\", color=\"peru\",label=\"random1 - random10\")\n",
    "for i in range(len(Rs)):\n",
    "    print(f\"random{i} R2\", Rs[i][1], \" \\n\")\n",
    "plt.plot(-10000,-10000,\"d\", color=\"c\",label=\"best case input\")\n",
    "best = polyReg(dfMergeMean16[dfMergeMean16[\"Input case\"] == \"best\"][\"Size\"], dfMergeMean16[dfMergeMean16[\"Input case\"] == \"best\"][\"full EC\"],1, \"Merge time for best case input\", \"c\",dots=\"d\",regLine=False)\n",
    "plt.plot(-10000,-10000,\"s\", color=\"m\",label=\"worst case input\")\n",
    "worst = polyReg(dfMergeMean16[dfMergeMean16[\"Input case\"] == \"worst\"][\"Size\"], dfMergeMean16[dfMergeMean16[\"Input case\"] == \"worst\"][\"full EC\"],1, \"Merge time for worst case input\", \"m\",dots=\"s\",regLine=False)\n",
    "print(f\"worst R2 \", worst[1], \"\\n\")\n",
    "print(f\"best R2 \", best[1], \"\\n\")\n",
    "#plt.title(\"Merge sort energy consumption vs input size.\")\n",
    "plt.xlabel(\"input size (n)\", fontsize = 14)\n",
    "plt.ylabel(\"Total energy (J)\", fontsize = 14)\n",
    "plt.rc('xtick', labelsize= 14) \n",
    "plt.rc('ytick', labelsize= 14)\n",
    "plt.grid()\n",
    "plt.xlim(-5000,1050000)\n",
    "plt.ylim(-0.05,1.3)\n",
    "plt.legend()\n",
    "plt.show()"
   ]
  },
  {
   "cell_type": "code",
   "execution_count": 30,
   "metadata": {},
   "outputs": [
    {
     "name": "stdout",
     "output_type": "stream",
     "text": [
      "0.009759880365069029 [0.00000000e+00 6.23365996e-08]\n",
      "0.0056070381889878895 [0.00000000e+00 6.30950126e-08]\n",
      "0.008931582500143143 [0.00000000e+00 6.22895879e-08]\n",
      "0.008274187978493441 [0.00000000e+00 6.28341614e-08]\n",
      "0.005834065023914925 [0.00000000e+00 6.32850174e-08]\n",
      "0.010020655688260605 [0.0000000e+00 6.2794528e-08]\n",
      "0.008938143307566704 [0.00000000e+00 6.26505054e-08]\n",
      "0.007918896189470503 [0.00000000e+00 6.30107714e-08]\n",
      "0.011192816724587384 [0.00000000e+00 6.23512806e-08]\n",
      "0.009371867429417202 [0.00000000e+00 6.26454791e-08]\n",
      "random0 R2 0.999791571190728  \n",
      "\n",
      "random1 R2 0.9998209068410496  \n",
      "\n",
      "random2 R2 0.9998709281399937  \n",
      "\n",
      "random3 R2 0.9998799613385828  \n",
      "\n",
      "random4 R2 0.999515691882726  \n",
      "\n",
      "random5 R2 0.9998038048726476  \n",
      "\n",
      "random6 R2 0.9998654652575579  \n",
      "\n",
      "random7 R2 0.9999056067373483  \n",
      "\n",
      "random8 R2 0.9997965976322355  \n",
      "\n",
      "random9 R2 0.9997639142274098  \n",
      "\n",
      "0.008303420893563451 [0.00000000e+00 2.27520721e-08]\n",
      "0.011370264922480444 [0.00000000e+00 3.18999672e-08]\n",
      "worst R2  0.9994905037992499 \n",
      "\n",
      "best R2  0.999923136776137 \n",
      "\n"
     ]
    },
    {
     "data": {
      "image/png": "[encoded data removed]",
      "text/plain": [
       "<Figure size 720x504 with 1 Axes>"
      ]
     },
     "metadata": {
      "needs_background": "light"
     },
     "output_type": "display_data"
    }
   ],
   "source": [
    "plt.figure(figsize=(10,7))\n",
    "color = \"red\"\n",
    "\n",
    "Rs = []\n",
    "\n",
    "for i in range(1,11):\n",
    "    Rs.append(polyReg(dfMergeMean16[dfMergeMean16[\"Input case\"] == f\"random{i}\"][\"nlog(n)\"], dfMergeMean16[dfMergeMean16[\"Input case\"] == f\"random{i}\"][\"full EC\"],1, f\"random{i} case input\", \"peru\",dots=\"v\"))\n",
    "plt.plot(-10000,-10000,\"v\", color=\"peru\",label=\"random1 - random10\")\n",
    "for i in range(len(Rs)):\n",
    "    print(f\"random{i} R2\", Rs[i][1], \" \\n\")\n",
    "best = polyReg(dfMergeMean16[dfMergeMean16[\"Input case\"] == \"best\"][\"nlog(n)\"], dfMergeMean16[dfMergeMean16[\"Input case\"] == \"best\"][\"full EC\"],1, \"Merge time for best case input\", \"c\",dots=\"d\",regLine=True)\n",
    "plt.plot(-10000,-10000,\"d\", color=\"c\",label=\"best case input\")\n",
    "worst = polyReg(dfMergeMean16[dfMergeMean16[\"Input case\"] == \"worst\"][\"nlog(n)\"], dfMergeMean16[dfMergeMean16[\"Input case\"] == \"worst\"][\"full EC\"],1, \"Merge time for worst case input\", \"m\",dots=\"s\",regLine=True)\n",
    "plt.plot(-10000,-10000,\"s\", color=\"m\",label=\"worst case input\")\n",
    "print(f\"worst R2 \", worst[1], \"\\n\")\n",
    "print(f\"best R2 \", best[1], \"\\n\")\n",
    "#plt.title(\"Merge sort energy consumption vs n log(n) of input size n, with linear regression.\")\n",
    "plt.xlabel(\"n log(n) of input size n\", fontsize = 14)\n",
    "plt.ylabel(\"Total energy (J)\", fontsize = 14)\n",
    "plt.rc('xtick', labelsize= 14) \n",
    "plt.rc('ytick', labelsize= 14)\n",
    "plt.xlim(-50000, 21000000)\n",
    "plt.ylim(-0.05, 1.4)\n",
    "plt.grid()\n",
    "plt.legend()\n",
    "plt.show()"
   ]
  },
  {
   "cell_type": "code",
   "execution_count": null,
   "metadata": {},
   "outputs": [],
   "source": []
  }
 ],
 "metadata": {
  "kernelspec": {
   "display_name": "base",
   "language": "python",
   "name": "python3"
  },
  "language_info": {
   "codemirror_mode": {
    "name": "ipython",
    "version": 3
   },
   "file_extension": ".py",
   "mimetype": "text/x-python",
   "name": "python",
   "nbconvert_exporter": "python",
   "pygments_lexer": "ipython3",
   "version": "3.8.2"
  },
  "orig_nbformat": 4
 },
 "nbformat": 4,
 "nbformat_minor": 2
}
