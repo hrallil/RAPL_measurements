{
 "cells": [
  {
   "attachments": {},
   "cell_type": "markdown",
   "metadata": {},
   "source": [
    "# Data analysis for all data collected during our project\n",
    " "
   ]
  },
  {
   "attachments": {},
   "cell_type": "markdown",
   "metadata": {},
   "source": [
    "#### imports and  loading Data "
   ]
  },
  {
   "cell_type": "code",
   "execution_count": 1,
   "metadata": {},
   "outputs": [
    {
     "data": {
      "text/html": [
       "<div>\n",
       "<style scoped>\n",
       "    .dataframe tbody tr th:only-of-type {\n",
       "        vertical-align: middle;\n",
       "    }\n",
       "\n",
       "    .dataframe tbody tr th {\n",
       "        vertical-align: top;\n",
       "    }\n",
       "\n",
       "    .dataframe thead th {\n",
       "        text-align: right;\n",
       "    }\n",
       "</style>\n",
       "<table border=\"1\" class=\"dataframe\">\n",
       "  <thead>\n",
       "    <tr style=\"text-align: right;\">\n",
       "      <th></th>\n",
       "      <th>PKG (J)</th>\n",
       "      <th>CPU (J)</th>\n",
       "      <th>DRAM (J)</th>\n",
       "      <th>Time (ms)</th>\n",
       "      <th>Temp (C)</th>\n",
       "      <th>Input case</th>\n",
       "      <th>Size</th>\n",
       "    </tr>\n",
       "  </thead>\n",
       "  <tbody>\n",
       "    <tr>\n",
       "      <th>0</th>\n",
       "      <td>4.396484</td>\n",
       "      <td>3.866089</td>\n",
       "      <td>0.213867</td>\n",
       "      <td>424.846</td>\n",
       "      <td>64.0</td>\n",
       "      <td>best</td>\n",
       "      <td>25000.0</td>\n",
       "    </tr>\n",
       "    <tr>\n",
       "      <th>1</th>\n",
       "      <td>4.326294</td>\n",
       "      <td>3.802795</td>\n",
       "      <td>0.212158</td>\n",
       "      <td>418.592</td>\n",
       "      <td>64.0</td>\n",
       "      <td>best</td>\n",
       "      <td>25000.0</td>\n",
       "    </tr>\n",
       "    <tr>\n",
       "      <th>2</th>\n",
       "      <td>4.566711</td>\n",
       "      <td>4.002136</td>\n",
       "      <td>0.215454</td>\n",
       "      <td>470.242</td>\n",
       "      <td>64.0</td>\n",
       "      <td>best</td>\n",
       "      <td>25000.0</td>\n",
       "    </tr>\n",
       "    <tr>\n",
       "      <th>3</th>\n",
       "      <td>4.493408</td>\n",
       "      <td>3.941650</td>\n",
       "      <td>0.214966</td>\n",
       "      <td>455.232</td>\n",
       "      <td>64.0</td>\n",
       "      <td>best</td>\n",
       "      <td>25000.0</td>\n",
       "    </tr>\n",
       "    <tr>\n",
       "      <th>4</th>\n",
       "      <td>4.564880</td>\n",
       "      <td>3.991516</td>\n",
       "      <td>0.213379</td>\n",
       "      <td>497.503</td>\n",
       "      <td>64.0</td>\n",
       "      <td>best</td>\n",
       "      <td>25000.0</td>\n",
       "    </tr>\n",
       "  </tbody>\n",
       "</table>\n",
       "</div>"
      ],
      "text/plain": [
       "    PKG (J)   CPU (J)  DRAM (J)  Time (ms)  Temp (C) Input case     Size\n",
       "0  4.396484  3.866089  0.213867    424.846      64.0       best  25000.0\n",
       "1  4.326294  3.802795  0.212158    418.592      64.0       best  25000.0\n",
       "2  4.566711  4.002136  0.215454    470.242      64.0       best  25000.0\n",
       "3  4.493408  3.941650  0.214966    455.232      64.0       best  25000.0\n",
       "4  4.564880  3.991516  0.213379    497.503      64.0       best  25000.0"
      ]
     },
     "execution_count": 1,
     "metadata": {},
     "output_type": "execute_result"
    }
   ],
   "source": [
    "import pandas as pd\n",
    "import matplotlib.pyplot as plt\n",
    "import numpy as np\n",
    "import seaborn as sns\n",
    "from sklearn.linear_model import LinearRegression\n",
    "from sklearn.preprocessing import PolynomialFeatures\n",
    "from sklearn import metrics\n",
    "from operator import itemgetter\n",
    "from scipy.stats import shapiro \n",
    "\n",
    "dfQuick16 = pd.read_csv(\"CleanData/Quick-400runsClean-PC16.csv\")\n",
    "\n",
    "dfRead16 = pd.read_csv(\"CleanData/ReadCSVClean-PC16.csv\")\n",
    "dfQuick16.head()"
   ]
  },
  {
   "cell_type": "code",
   "execution_count": 2,
   "metadata": {},
   "outputs": [
    {
     "data": {
      "text/html": [
       "<div>\n",
       "<style scoped>\n",
       "    .dataframe tbody tr th:only-of-type {\n",
       "        vertical-align: middle;\n",
       "    }\n",
       "\n",
       "    .dataframe tbody tr th {\n",
       "        vertical-align: top;\n",
       "    }\n",
       "\n",
       "    .dataframe thead th {\n",
       "        text-align: right;\n",
       "    }\n",
       "</style>\n",
       "<table border=\"1\" class=\"dataframe\">\n",
       "  <thead>\n",
       "    <tr style=\"text-align: right;\">\n",
       "      <th></th>\n",
       "      <th>PKG (J)</th>\n",
       "      <th>CPU (J)</th>\n",
       "      <th>DRAM (J)</th>\n",
       "      <th>Time (ms)</th>\n",
       "      <th>Temp (C)</th>\n",
       "      <th>Input case</th>\n",
       "      <th>Size</th>\n",
       "    </tr>\n",
       "  </thead>\n",
       "  <tbody>\n",
       "    <tr>\n",
       "      <th>0</th>\n",
       "      <td>2.240601</td>\n",
       "      <td>1.966187</td>\n",
       "      <td>0.134399</td>\n",
       "      <td>227.880</td>\n",
       "      <td>53.0</td>\n",
       "      <td>random1</td>\n",
       "      <td>25000</td>\n",
       "    </tr>\n",
       "    <tr>\n",
       "      <th>1</th>\n",
       "      <td>2.062317</td>\n",
       "      <td>1.775085</td>\n",
       "      <td>0.126160</td>\n",
       "      <td>250.212</td>\n",
       "      <td>53.0</td>\n",
       "      <td>random1</td>\n",
       "      <td>25000</td>\n",
       "    </tr>\n",
       "    <tr>\n",
       "      <th>2</th>\n",
       "      <td>2.140869</td>\n",
       "      <td>1.876709</td>\n",
       "      <td>0.121887</td>\n",
       "      <td>222.526</td>\n",
       "      <td>53.0</td>\n",
       "      <td>random1</td>\n",
       "      <td>25000</td>\n",
       "    </tr>\n",
       "    <tr>\n",
       "      <th>3</th>\n",
       "      <td>2.217102</td>\n",
       "      <td>1.940735</td>\n",
       "      <td>0.133545</td>\n",
       "      <td>226.620</td>\n",
       "      <td>53.0</td>\n",
       "      <td>random1</td>\n",
       "      <td>25000</td>\n",
       "    </tr>\n",
       "    <tr>\n",
       "      <th>4</th>\n",
       "      <td>2.058533</td>\n",
       "      <td>1.796814</td>\n",
       "      <td>0.119385</td>\n",
       "      <td>219.516</td>\n",
       "      <td>53.0</td>\n",
       "      <td>random1</td>\n",
       "      <td>25000</td>\n",
       "    </tr>\n",
       "  </tbody>\n",
       "</table>\n",
       "</div>"
      ],
      "text/plain": [
       "    PKG (J)   CPU (J)  DRAM (J)  Time (ms)  Temp (C) Input case   Size\n",
       "0  2.240601  1.966187  0.134399    227.880      53.0    random1  25000\n",
       "1  2.062317  1.775085  0.126160    250.212      53.0    random1  25000\n",
       "2  2.140869  1.876709  0.121887    222.526      53.0    random1  25000\n",
       "3  2.217102  1.940735  0.133545    226.620      53.0    random1  25000\n",
       "4  2.058533  1.796814  0.119385    219.516      53.0    random1  25000"
      ]
     },
     "execution_count": 2,
     "metadata": {},
     "output_type": "execute_result"
    }
   ],
   "source": [
    "dfRead16.head()"
   ]
  },
  {
   "cell_type": "code",
   "execution_count": 3,
   "metadata": {},
   "outputs": [
    {
     "name": "stderr",
     "output_type": "stream",
     "text": [
      "<ipython-input-3-37a79081b241>:2: UserWarning: Boolean Series key will be reindexed to match DataFrame index.\n",
      "  meandf = df[df[\"Input case\"] == type][df[\"Size\"]==size].mean()\n"
     ]
    },
    {
     "data": {
      "text/html": [
       "<div>\n",
       "<style scoped>\n",
       "    .dataframe tbody tr th:only-of-type {\n",
       "        vertical-align: middle;\n",
       "    }\n",
       "\n",
       "    .dataframe tbody tr th {\n",
       "        vertical-align: top;\n",
       "    }\n",
       "\n",
       "    .dataframe thead th {\n",
       "        text-align: right;\n",
       "    }\n",
       "</style>\n",
       "<table border=\"1\" class=\"dataframe\">\n",
       "  <thead>\n",
       "    <tr style=\"text-align: right;\">\n",
       "      <th></th>\n",
       "      <th>PKG (J)</th>\n",
       "      <th>CPU (J)</th>\n",
       "      <th>DRAM (J)</th>\n",
       "      <th>Time (ms)</th>\n",
       "      <th>Temp (C)</th>\n",
       "      <th>Size</th>\n",
       "      <th>Input case</th>\n",
       "    </tr>\n",
       "  </thead>\n",
       "  <tbody>\n",
       "    <tr>\n",
       "      <th>0</th>\n",
       "      <td>4.48754</td>\n",
       "      <td>3.92696</td>\n",
       "      <td>0.216488</td>\n",
       "      <td>463.748</td>\n",
       "      <td>64</td>\n",
       "      <td>25000</td>\n",
       "      <td>best</td>\n",
       "    </tr>\n",
       "    <tr>\n",
       "      <th>1</th>\n",
       "      <td>6.60104</td>\n",
       "      <td>5.77747</td>\n",
       "      <td>0.28219</td>\n",
       "      <td>737.9</td>\n",
       "      <td>64.2222</td>\n",
       "      <td>50000</td>\n",
       "      <td>best</td>\n",
       "    </tr>\n",
       "    <tr>\n",
       "      <th>2</th>\n",
       "      <td>8.71006</td>\n",
       "      <td>7.64023</td>\n",
       "      <td>0.341715</td>\n",
       "      <td>994.702</td>\n",
       "      <td>64.5833</td>\n",
       "      <td>75000</td>\n",
       "      <td>best</td>\n",
       "    </tr>\n",
       "    <tr>\n",
       "      <th>3</th>\n",
       "      <td>11.1021</td>\n",
       "      <td>9.73918</td>\n",
       "      <td>0.406585</td>\n",
       "      <td>1304.07</td>\n",
       "      <td>65.1111</td>\n",
       "      <td>100000</td>\n",
       "      <td>best</td>\n",
       "    </tr>\n",
       "    <tr>\n",
       "      <th>4</th>\n",
       "      <td>19.5232</td>\n",
       "      <td>17.1352</td>\n",
       "      <td>0.650694</td>\n",
       "      <td>2389.13</td>\n",
       "      <td>65.8519</td>\n",
       "      <td>200000</td>\n",
       "      <td>best</td>\n",
       "    </tr>\n",
       "  </tbody>\n",
       "</table>\n",
       "</div>"
      ],
      "text/plain": [
       "   PKG (J)  CPU (J)  DRAM (J) Time (ms) Temp (C)    Size Input case\n",
       "0  4.48754  3.92696  0.216488   463.748       64   25000       best\n",
       "1  6.60104  5.77747   0.28219     737.9  64.2222   50000       best\n",
       "2  8.71006  7.64023  0.341715   994.702  64.5833   75000       best\n",
       "3  11.1021  9.73918  0.406585   1304.07  65.1111  100000       best\n",
       "4  19.5232  17.1352  0.650694   2389.13  65.8519  200000       best"
      ]
     },
     "execution_count": 3,
     "metadata": {},
     "output_type": "execute_result"
    }
   ],
   "source": [
    "def calcMean(df,type,size):\n",
    "    meandf = df[df[\"Input case\"] == type][df[\"Size\"]==size].mean()\n",
    "    meandf[\"Input case\"] = type\n",
    "    return meandf\n",
    "\n",
    "def mean_of_dataset(df):\n",
    "    s = [25000,50000,75000,100000,200000,300000,400000,500000,600000,700000,800000,900000,1000000]\n",
    "    c = [\"best\", \"random1\",\"random2\",\"random3\",\"random4\",\"random5\",\"random6\",\"random7\",\"random8\",\"random9\",\"random10\",]\n",
    "    l = []\n",
    "    for case in c:\n",
    "        if case != \"worst\":\n",
    "            for size in s:\n",
    "                l.append(calcMean(df, case, size))  \n",
    "        else :\n",
    "            for size in [25000,50000,75000,100000,200000,300000,40000,500000]:\n",
    "                l.append(calcMean(df, case, size))   \n",
    "    \n",
    "    dfMeans = pd.concat([series.to_frame().T for series in l], ignore_index=True)\n",
    "    return dfMeans\n",
    "\n",
    "dfQuickMean16 = mean_of_dataset(dfQuick16)\n",
    "dfQuickMean16.head()"
   ]
  },
  {
   "cell_type": "code",
   "execution_count": 4,
   "metadata": {},
   "outputs": [
    {
     "name": "stderr",
     "output_type": "stream",
     "text": [
      "<ipython-input-3-37a79081b241>:2: UserWarning: Boolean Series key will be reindexed to match DataFrame index.\n",
      "  meandf = df[df[\"Input case\"] == type][df[\"Size\"]==size].mean()\n"
     ]
    }
   ],
   "source": [
    "\n",
    "def list_of_case(df):\n",
    "    l = []\n",
    "    for i in range(len(df)):\n",
    "        if df[\"Input case\"].iloc[i] not in l:\n",
    "            l.append(df[\"Input case\"].iloc[i])\n",
    "    return l\n",
    "\n",
    "\n",
    "def mean_of_dataset_readCSV(df):\n",
    "    s = [25000,50000,75000,100000,200000,300000,400000,500000,600000,700000,800000,900000,1000000]\n",
    "    c = list_of_case(df)\n",
    "    l = []\n",
    "    for case in range(len(c)):\n",
    "        for size in range(len(s)):\n",
    "            l.append(calcMean(df, c[case], s[size]))  \n",
    "\n",
    "    dfMeans = pd.concat([series.to_frame().T  for series in l], ignore_index=True)\n",
    "    return dfMeans\n",
    "\n",
    "dfReadMean16 = mean_of_dataset_readCSV(dfRead16)\n"
   ]
  },
  {
   "cell_type": "code",
   "execution_count": 5,
   "metadata": {},
   "outputs": [
    {
     "data": {
      "text/html": [
       "<div>\n",
       "<style scoped>\n",
       "    .dataframe tbody tr th:only-of-type {\n",
       "        vertical-align: middle;\n",
       "    }\n",
       "\n",
       "    .dataframe tbody tr th {\n",
       "        vertical-align: top;\n",
       "    }\n",
       "\n",
       "    .dataframe thead th {\n",
       "        text-align: right;\n",
       "    }\n",
       "</style>\n",
       "<table border=\"1\" class=\"dataframe\">\n",
       "  <thead>\n",
       "    <tr style=\"text-align: right;\">\n",
       "      <th></th>\n",
       "      <th>PKG (J)</th>\n",
       "      <th>CPU (J)</th>\n",
       "      <th>DRAM (J)</th>\n",
       "      <th>Time (ms)</th>\n",
       "      <th>Temp (C)</th>\n",
       "      <th>Size</th>\n",
       "      <th>Input case</th>\n",
       "    </tr>\n",
       "  </thead>\n",
       "  <tbody>\n",
       "    <tr>\n",
       "      <th>0</th>\n",
       "      <td>4.48754</td>\n",
       "      <td>3.92696</td>\n",
       "      <td>0.216488</td>\n",
       "      <td>463.748</td>\n",
       "      <td>64</td>\n",
       "      <td>25000</td>\n",
       "      <td>best</td>\n",
       "    </tr>\n",
       "    <tr>\n",
       "      <th>1</th>\n",
       "      <td>6.60104</td>\n",
       "      <td>5.77747</td>\n",
       "      <td>0.28219</td>\n",
       "      <td>737.9</td>\n",
       "      <td>64.2222</td>\n",
       "      <td>50000</td>\n",
       "      <td>best</td>\n",
       "    </tr>\n",
       "    <tr>\n",
       "      <th>2</th>\n",
       "      <td>8.71006</td>\n",
       "      <td>7.64023</td>\n",
       "      <td>0.341715</td>\n",
       "      <td>994.702</td>\n",
       "      <td>64.5833</td>\n",
       "      <td>75000</td>\n",
       "      <td>best</td>\n",
       "    </tr>\n",
       "    <tr>\n",
       "      <th>3</th>\n",
       "      <td>11.1021</td>\n",
       "      <td>9.73918</td>\n",
       "      <td>0.406585</td>\n",
       "      <td>1304.07</td>\n",
       "      <td>65.1111</td>\n",
       "      <td>100000</td>\n",
       "      <td>best</td>\n",
       "    </tr>\n",
       "    <tr>\n",
       "      <th>4</th>\n",
       "      <td>19.5232</td>\n",
       "      <td>17.1352</td>\n",
       "      <td>0.650694</td>\n",
       "      <td>2389.13</td>\n",
       "      <td>65.8519</td>\n",
       "      <td>200000</td>\n",
       "      <td>best</td>\n",
       "    </tr>\n",
       "  </tbody>\n",
       "</table>\n",
       "</div>"
      ],
      "text/plain": [
       "   PKG (J)  CPU (J)  DRAM (J) Time (ms) Temp (C)    Size Input case\n",
       "0  4.48754  3.92696  0.216488   463.748       64   25000       best\n",
       "1  6.60104  5.77747   0.28219     737.9  64.2222   50000       best\n",
       "2  8.71006  7.64023  0.341715   994.702  64.5833   75000       best\n",
       "3  11.1021  9.73918  0.406585   1304.07  65.1111  100000       best\n",
       "4  19.5232  17.1352  0.650694   2389.13  65.8519  200000       best"
      ]
     },
     "execution_count": 5,
     "metadata": {},
     "output_type": "execute_result"
    }
   ],
   "source": [
    "dfQuickMean16 = dfQuickMean16.reset_index(drop=True)\n",
    "dfReadMean16 = dfReadMean16.reset_index(drop=True)\n",
    "dfQuickMean16.head()"
   ]
  },
  {
   "cell_type": "code",
   "execution_count": 6,
   "metadata": {},
   "outputs": [],
   "source": [
    "def getIndex(df,case,size):\n",
    "    return df[df[\"Input case\"] == case][df[\"Size\"]==size].index.tolist()[0]"
   ]
  },
  {
   "cell_type": "code",
   "execution_count": 7,
   "metadata": {},
   "outputs": [
    {
     "name": "stderr",
     "output_type": "stream",
     "text": [
      "<ipython-input-7-203c25cc64d4>:16: UserWarning: Boolean Series key will be reindexed to match DataFrame index.\n",
      "  Cc = meanC[meanC[\"Input case\"] == case][meanC[\"Size\"]==size][\"CPU (J)\"][meanC[meanC[\"Input case\"] == case][meanC[\"Size\"]==size][\"CPU (J)\"].index.tolist()[0]]\n",
      "<ipython-input-7-203c25cc64d4>:17: UserWarning: Boolean Series key will be reindexed to match DataFrame index.\n",
      "  Rc = meanR[meanR[\"Input case\"] == case2][meanR[\"Size\"]==size][\"CPU (J)\"][meanR[meanR[\"Input case\"] == case2][meanR[\"Size\"]==size][\"CPU (J)\"].index.tolist()[0]]\n",
      "<ipython-input-7-203c25cc64d4>:20: UserWarning: Boolean Series key will be reindexed to match DataFrame index.\n",
      "  Ct = meanC[meanC[\"Input case\"] == case][meanC[\"Size\"]==size][\"Time (ms)\"][meanC[meanC[\"Input case\"] == case][meanC[\"Size\"]==size][\"Time (ms)\"].index.tolist()[0]]\n",
      "<ipython-input-7-203c25cc64d4>:21: UserWarning: Boolean Series key will be reindexed to match DataFrame index.\n",
      "  Rt = meanR[meanR[\"Input case\"] == case2][meanR[\"Size\"]==size][\"Time (ms)\"][meanR[meanR[\"Input case\"] == case2][meanR[\"Size\"]==size][\"Time (ms)\"].index.tolist()[0]]\n",
      "<ipython-input-7-203c25cc64d4>:24: UserWarning: Boolean Series key will be reindexed to match DataFrame index.\n",
      "  Cm = meanC[meanC[\"Input case\"] == case][meanC[\"Size\"]==size][\"DRAM (J)\"][meanC[meanC[\"Input case\"] == case][meanC[\"Size\"]==size][\"DRAM (J)\"].index.tolist()[0]]\n",
      "<ipython-input-7-203c25cc64d4>:25: UserWarning: Boolean Series key will be reindexed to match DataFrame index.\n",
      "  Rm = meanR[meanR[\"Input case\"] == case2][meanR[\"Size\"]==size][\"DRAM (J)\"][meanR[meanR[\"Input case\"] == case2][meanR[\"Size\"]==size][\"DRAM (J)\"].index.tolist()[0]]\n"
     ]
    },
    {
     "data": {
      "text/plain": [
       "<function print>"
      ]
     },
     "execution_count": 7,
     "metadata": {},
     "output_type": "execute_result"
    }
   ],
   "source": [
    "def deductReadFromAlg(meanC, meanR):\n",
    "    lc = []\n",
    "    lt = []\n",
    "    lm = []\n",
    "\n",
    "    for i in range(len(meanC[\"Size\"])):\n",
    "        case = meanC[\"Input case\"][i]\n",
    "        size = meanC[\"Size\"][i]\n",
    "        if case == \"best\":\n",
    "            case2 = \"quickbest\"\n",
    "        if case == \"worst\":\n",
    "            case2 = \"reversesorted\"\n",
    "        if case.startswith(\"random\"):\n",
    "            case2 = \"random\"+case.split(\"m\")[-1]\n",
    "\n",
    "        Cc = meanC[meanC[\"Input case\"] == case][meanC[\"Size\"]==size][\"CPU (J)\"][meanC[meanC[\"Input case\"] == case][meanC[\"Size\"]==size][\"CPU (J)\"].index.tolist()[0]]\n",
    "        Rc = meanR[meanR[\"Input case\"] == case2][meanR[\"Size\"]==size][\"CPU (J)\"][meanR[meanR[\"Input case\"] == case2][meanR[\"Size\"]==size][\"CPU (J)\"].index.tolist()[0]]\n",
    "        lc.append((Cc-Rc)/400)\n",
    "\n",
    "        Ct = meanC[meanC[\"Input case\"] == case][meanC[\"Size\"]==size][\"Time (ms)\"][meanC[meanC[\"Input case\"] == case][meanC[\"Size\"]==size][\"Time (ms)\"].index.tolist()[0]]\n",
    "        Rt = meanR[meanR[\"Input case\"] == case2][meanR[\"Size\"]==size][\"Time (ms)\"][meanR[meanR[\"Input case\"] == case2][meanR[\"Size\"]==size][\"Time (ms)\"].index.tolist()[0]]\n",
    "        lt.append((Ct-Rt)/400)\n",
    "\n",
    "        Cm = meanC[meanC[\"Input case\"] == case][meanC[\"Size\"]==size][\"DRAM (J)\"][meanC[meanC[\"Input case\"] == case][meanC[\"Size\"]==size][\"DRAM (J)\"].index.tolist()[0]]\n",
    "        Rm = meanR[meanR[\"Input case\"] == case2][meanR[\"Size\"]==size][\"DRAM (J)\"][meanR[meanR[\"Input case\"] == case2][meanR[\"Size\"]==size][\"DRAM (J)\"].index.tolist()[0]]\n",
    "        lm.append((Cm-Rm)/400)\n",
    "\n",
    "    meanC[\"CPU - readCSV\"] = lc\n",
    "    meanC[\"Time - readCSV\"] = lt\n",
    "    meanC[\"Memory - readCSV\"] = lm\n",
    "\n",
    "\n",
    "deductReadFromAlg(dfQuickMean16, dfReadMean16)\n",
    "print\n",
    "\n",
    "\n"
   ]
  },
  {
   "attachments": {},
   "cell_type": "markdown",
   "metadata": {},
   "source": [
    "# Shapiro Wilks Test "
   ]
  },
  {
   "cell_type": "code",
   "execution_count": 8,
   "metadata": {},
   "outputs": [
    {
     "data": {
      "text/html": [
       "<div>\n",
       "<style scoped>\n",
       "    .dataframe tbody tr th:only-of-type {\n",
       "        vertical-align: middle;\n",
       "    }\n",
       "\n",
       "    .dataframe tbody tr th {\n",
       "        vertical-align: top;\n",
       "    }\n",
       "\n",
       "    .dataframe thead th {\n",
       "        text-align: right;\n",
       "    }\n",
       "</style>\n",
       "<table border=\"1\" class=\"dataframe\">\n",
       "  <thead>\n",
       "    <tr style=\"text-align: right;\">\n",
       "      <th></th>\n",
       "      <th>PKG (J)</th>\n",
       "      <th>CPU (J)</th>\n",
       "      <th>DRAM (J)</th>\n",
       "      <th>Time (ms)</th>\n",
       "      <th>Temp (C)</th>\n",
       "      <th>Input case</th>\n",
       "      <th>Size</th>\n",
       "    </tr>\n",
       "  </thead>\n",
       "  <tbody>\n",
       "    <tr>\n",
       "      <th>0</th>\n",
       "      <td>4.396484</td>\n",
       "      <td>3.866089</td>\n",
       "      <td>0.213867</td>\n",
       "      <td>424.846</td>\n",
       "      <td>64.0</td>\n",
       "      <td>best</td>\n",
       "      <td>25000.0</td>\n",
       "    </tr>\n",
       "    <tr>\n",
       "      <th>1</th>\n",
       "      <td>4.326294</td>\n",
       "      <td>3.802795</td>\n",
       "      <td>0.212158</td>\n",
       "      <td>418.592</td>\n",
       "      <td>64.0</td>\n",
       "      <td>best</td>\n",
       "      <td>25000.0</td>\n",
       "    </tr>\n",
       "    <tr>\n",
       "      <th>2</th>\n",
       "      <td>4.566711</td>\n",
       "      <td>4.002136</td>\n",
       "      <td>0.215454</td>\n",
       "      <td>470.242</td>\n",
       "      <td>64.0</td>\n",
       "      <td>best</td>\n",
       "      <td>25000.0</td>\n",
       "    </tr>\n",
       "    <tr>\n",
       "      <th>3</th>\n",
       "      <td>4.493408</td>\n",
       "      <td>3.941650</td>\n",
       "      <td>0.214966</td>\n",
       "      <td>455.232</td>\n",
       "      <td>64.0</td>\n",
       "      <td>best</td>\n",
       "      <td>25000.0</td>\n",
       "    </tr>\n",
       "    <tr>\n",
       "      <th>4</th>\n",
       "      <td>4.564880</td>\n",
       "      <td>3.991516</td>\n",
       "      <td>0.213379</td>\n",
       "      <td>497.503</td>\n",
       "      <td>64.0</td>\n",
       "      <td>best</td>\n",
       "      <td>25000.0</td>\n",
       "    </tr>\n",
       "    <tr>\n",
       "      <th>...</th>\n",
       "      <td>...</td>\n",
       "      <td>...</td>\n",
       "      <td>...</td>\n",
       "      <td>...</td>\n",
       "      <td>...</td>\n",
       "      <td>...</td>\n",
       "      <td>...</td>\n",
       "    </tr>\n",
       "    <tr>\n",
       "      <th>725</th>\n",
       "      <td>320.330994</td>\n",
       "      <td>277.220337</td>\n",
       "      <td>9.595825</td>\n",
       "      <td>46171.800</td>\n",
       "      <td>61.0</td>\n",
       "      <td>random10</td>\n",
       "      <td>900000.0</td>\n",
       "    </tr>\n",
       "    <tr>\n",
       "      <th>726</th>\n",
       "      <td>344.648315</td>\n",
       "      <td>298.666748</td>\n",
       "      <td>10.122620</td>\n",
       "      <td>49438.900</td>\n",
       "      <td>55.0</td>\n",
       "      <td>random10</td>\n",
       "      <td>900000.0</td>\n",
       "    </tr>\n",
       "    <tr>\n",
       "      <th>727</th>\n",
       "      <td>359.739807</td>\n",
       "      <td>311.416016</td>\n",
       "      <td>10.789001</td>\n",
       "      <td>51801.400</td>\n",
       "      <td>61.0</td>\n",
       "      <td>random10</td>\n",
       "      <td>1000000.0</td>\n",
       "    </tr>\n",
       "    <tr>\n",
       "      <th>728</th>\n",
       "      <td>369.317993</td>\n",
       "      <td>319.709045</td>\n",
       "      <td>11.041138</td>\n",
       "      <td>53394.700</td>\n",
       "      <td>55.0</td>\n",
       "      <td>random10</td>\n",
       "      <td>1000000.0</td>\n",
       "    </tr>\n",
       "    <tr>\n",
       "      <th>729</th>\n",
       "      <td>358.772217</td>\n",
       "      <td>310.618164</td>\n",
       "      <td>10.776367</td>\n",
       "      <td>51770.400</td>\n",
       "      <td>55.0</td>\n",
       "      <td>random10</td>\n",
       "      <td>1000000.0</td>\n",
       "    </tr>\n",
       "  </tbody>\n",
       "</table>\n",
       "<p>730 rows × 7 columns</p>\n",
       "</div>"
      ],
      "text/plain": [
       "        PKG (J)     CPU (J)   DRAM (J)  Time (ms)  Temp (C) Input case  \\\n",
       "0      4.396484    3.866089   0.213867    424.846      64.0       best   \n",
       "1      4.326294    3.802795   0.212158    418.592      64.0       best   \n",
       "2      4.566711    4.002136   0.215454    470.242      64.0       best   \n",
       "3      4.493408    3.941650   0.214966    455.232      64.0       best   \n",
       "4      4.564880    3.991516   0.213379    497.503      64.0       best   \n",
       "..          ...         ...        ...        ...       ...        ...   \n",
       "725  320.330994  277.220337   9.595825  46171.800      61.0   random10   \n",
       "726  344.648315  298.666748  10.122620  49438.900      55.0   random10   \n",
       "727  359.739807  311.416016  10.789001  51801.400      61.0   random10   \n",
       "728  369.317993  319.709045  11.041138  53394.700      55.0   random10   \n",
       "729  358.772217  310.618164  10.776367  51770.400      55.0   random10   \n",
       "\n",
       "          Size  \n",
       "0      25000.0  \n",
       "1      25000.0  \n",
       "2      25000.0  \n",
       "3      25000.0  \n",
       "4      25000.0  \n",
       "..         ...  \n",
       "725   900000.0  \n",
       "726   900000.0  \n",
       "727  1000000.0  \n",
       "728  1000000.0  \n",
       "729  1000000.0  \n",
       "\n",
       "[730 rows x 7 columns]"
      ]
     },
     "execution_count": 8,
     "metadata": {},
     "output_type": "execute_result"
    }
   ],
   "source": [
    "dfQuick16"
   ]
  },
  {
   "cell_type": "code",
   "execution_count": 9,
   "metadata": {},
   "outputs": [
    {
     "name": "stdout",
     "output_type": "stream",
     "text": [
      "        PKG (J)     CPU (J)   DRAM (J)  Time (ms)  Temp (C) Input case  \\\n",
      "341    9.745178    8.447754   0.384766    1238.98      63.0    random1   \n",
      "342   10.062805    8.794312   0.401794    1170.99      63.0    random1   \n",
      "343    9.318176    8.159607   0.311707    1162.87      62.0    random1   \n",
      "344   17.483582   15.111816   0.549255    2448.06      60.0    random1   \n",
      "345   17.194580   14.962463   0.521362    2329.66      60.0    random1   \n",
      "346   17.127686   14.885376   0.528259    2343.32      60.0    random1   \n",
      "347   25.646851   22.268311   0.775696    3509.21      62.0    random1   \n",
      "348   26.379700   22.938660   0.768738    3676.43      63.0    random1   \n",
      "349   26.760681   23.280579   0.778809    3680.30      62.0    random1   \n",
      "350   33.422241   28.993713   0.959656    4730.92      56.0    random1   \n",
      "351   35.240540   30.650391   1.047180    4901.58      56.0    random1   \n",
      "352   34.736145   30.185852   0.988159    4910.36      56.0    random1   \n",
      "353   69.169861   60.152039   1.875916    9818.76      57.0    random1   \n",
      "354   69.543457   60.541565   1.876526    9871.72      61.0    random1   \n",
      "355   69.196350   60.262268   1.851257    9802.45      62.0    random1   \n",
      "356  107.179077   93.096008   2.919373   15312.00      55.0    random1   \n",
      "357  102.970032   89.559631   2.812561   14620.50      62.0    random1   \n",
      "358  101.919922   88.527283   2.786194   14637.80      59.0    random1   \n",
      "359  133.043701  114.604309   3.877869   19184.40      61.0    random1   \n",
      "360  143.911133  124.323303   4.081543   20688.50      55.0    random1   \n",
      "361  132.796082  114.426697   3.873901   19190.40      55.0    random1   \n",
      "362  182.475037  157.724121   5.191040   26060.40      60.0    random1   \n",
      "363  165.448242  142.841736   4.825134   23688.40      55.0    random1   \n",
      "364  182.140503  157.592468   5.156921   25952.70      55.0    random1   \n",
      "365  217.365173  188.016235   6.167969   31004.70      55.0    random1   \n",
      "366  222.850464  192.760742   6.325867   31947.80      55.0    random1   \n",
      "367  205.087646  177.123535   5.910767   29586.20      56.0    random1   \n",
      "368  252.853516  218.887695   7.197083   36194.40      55.0    random1   \n",
      "369  251.607666  217.845581   7.154297   36022.60      59.0    random1   \n",
      "370  251.690552  217.886047   7.184937   36004.40      55.0    random1   \n",
      "371  298.987610  258.727112   8.681152   42979.10      55.0    random1   \n",
      "372  289.065186  250.321655   8.459900   41360.80      56.0    random1   \n",
      "373  295.887634  256.235718   8.607300   42451.50      59.0    random1   \n",
      "374  330.386841  286.168579   9.758667   47374.00      60.0    random1   \n",
      "375  327.917053  283.977539   9.685547   47251.80      57.0    random1   \n",
      "376  328.746460  284.680115   9.730835   47277.80      59.0    random1   \n",
      "377  377.118103  326.354736  11.183411   54582.20      56.0    random1   \n",
      "378  387.913940  336.267456  11.410828   55679.30      58.0    random1   \n",
      "379  387.267212  335.746155  11.384338   55617.40      54.0    random1   \n",
      "\n",
      "          Size  \n",
      "341    25000.0  \n",
      "342    25000.0  \n",
      "343    25000.0  \n",
      "344    50000.0  \n",
      "345    50000.0  \n",
      "346    50000.0  \n",
      "347    75000.0  \n",
      "348    75000.0  \n",
      "349    75000.0  \n",
      "350   100000.0  \n",
      "351   100000.0  \n",
      "352   100000.0  \n",
      "353   200000.0  \n",
      "354   200000.0  \n",
      "355   200000.0  \n",
      "356   300000.0  \n",
      "357   300000.0  \n",
      "358   300000.0  \n",
      "359   400000.0  \n",
      "360   400000.0  \n",
      "361   400000.0  \n",
      "362   500000.0  \n",
      "363   500000.0  \n",
      "364   500000.0  \n",
      "365   600000.0  \n",
      "366   600000.0  \n",
      "367   600000.0  \n",
      "368   700000.0  \n",
      "369   700000.0  \n",
      "370   700000.0  \n",
      "371   800000.0  \n",
      "372   800000.0  \n",
      "373   800000.0  \n",
      "374   900000.0  \n",
      "375   900000.0  \n",
      "376   900000.0  \n",
      "377  1000000.0  \n",
      "378  1000000.0  \n",
      "379  1000000.0  \n"
     ]
    }
   ],
   "source": [
    "dfQuickSortRandom1 = dfQuick16[dfQuick16[\"Input case\"].str.endswith(\"random1\")]\n",
    "print(dfQuickSortRandom1)"
   ]
  },
  {
   "cell_type": "code",
   "execution_count": 10,
   "metadata": {},
   "outputs": [
    {
     "name": "stdout",
     "output_type": "stream",
     "text": [
      "        PKG (J)     CPU (J)   DRAM (J)  Time (ms)  Temp (C) Input case  \\\n",
      "691    9.530029    8.241516   0.370300    1233.07      60.0   random10   \n",
      "692    9.251465    8.009827   0.365051    1208.49      60.0   random10   \n",
      "693    9.627197    8.411621   0.379578    1132.64      59.0   random10   \n",
      "694   18.006775   15.600647   0.548157    2493.16      59.0   random10   \n",
      "695   18.540649   16.148682   0.610107    2434.10      60.0   random10   \n",
      "696   18.179871   15.832581   0.570801    2437.58      61.0   random10   \n",
      "697   24.543762   21.338562   0.725708    3368.30      61.0   random10   \n",
      "698   24.614746   21.408875   0.721558    3392.31      61.0   random10   \n",
      "699   24.551819   21.358398   0.729858    3415.14      60.0   random10   \n",
      "700   33.068359   28.719299   0.942932    4656.36      62.0   random10   \n",
      "701   34.299500   29.883240   0.974670    4761.54      62.0   random10   \n",
      "702   33.071167   28.792664   0.942383    4628.63      62.0   random10   \n",
      "703   64.817688   56.315369   1.806335    9261.24      59.0   random10   \n",
      "704   71.764709   62.453064   1.956543   10214.40      56.0   random10   \n",
      "705   71.742798   62.462585   1.939819   10184.20      61.0   random10   \n",
      "706  105.620483   91.755859   2.930908   15051.40      57.0   random10   \n",
      "707  104.534607   90.828308   2.844666   14958.20      60.0   random10   \n",
      "708  104.528442   90.864624   2.851013   14926.60      61.0   random10   \n",
      "709  141.728760  122.551819   4.076904   20103.10      58.0   random10   \n",
      "710  138.463867  119.573364   3.956238   19884.90      59.0   random10   \n",
      "711  143.879883  124.358704   4.139465   20514.30      56.0   random10   \n",
      "712  182.686462  158.021362   5.188049   25892.80      55.0   random10   \n",
      "713  169.815552  146.617126   4.916809   24393.00      61.0   random10   \n",
      "714  182.348694  157.780457   5.170898   25932.70      55.0   random10   \n",
      "715  228.195190  197.484985   6.476990   32625.50      58.0   random10   \n",
      "716  224.274841  194.284363   6.328857   31898.40      61.0   random10   \n",
      "717  229.510681  198.848328   6.470825   32668.50      61.0   random10   \n",
      "718  251.156433  217.273621   7.184387   36070.20      58.0   random10   \n",
      "719  251.524353  217.686096   7.191895   36147.90      55.0   random10   \n",
      "720  233.795532  201.922791   6.797119   33870.20      55.0   random10   \n",
      "721  281.492554  243.018372   8.311523   41050.20      58.0   random10   \n",
      "722  293.690002  254.093689   8.544922   42447.90      55.0   random10   \n",
      "723  294.950745  255.655762   8.481750   42143.00      61.0   random10   \n",
      "724  333.954956  289.173096   9.879578   47858.50      55.0   random10   \n",
      "725  320.330994  277.220337   9.595825   46171.80      61.0   random10   \n",
      "726  344.648315  298.666748  10.122620   49438.90      55.0   random10   \n",
      "727  359.739807  311.416016  10.789001   51801.40      61.0   random10   \n",
      "728  369.317993  319.709045  11.041138   53394.70      55.0   random10   \n",
      "729  358.772217  310.618164  10.776367   51770.40      55.0   random10   \n",
      "\n",
      "          Size  \n",
      "691    25000.0  \n",
      "692    25000.0  \n",
      "693    25000.0  \n",
      "694    50000.0  \n",
      "695    50000.0  \n",
      "696    50000.0  \n",
      "697    75000.0  \n",
      "698    75000.0  \n",
      "699    75000.0  \n",
      "700   100000.0  \n",
      "701   100000.0  \n",
      "702   100000.0  \n",
      "703   200000.0  \n",
      "704   200000.0  \n",
      "705   200000.0  \n",
      "706   300000.0  \n",
      "707   300000.0  \n",
      "708   300000.0  \n",
      "709   400000.0  \n",
      "710   400000.0  \n",
      "711   400000.0  \n",
      "712   500000.0  \n",
      "713   500000.0  \n",
      "714   500000.0  \n",
      "715   600000.0  \n",
      "716   600000.0  \n",
      "717   600000.0  \n",
      "718   700000.0  \n",
      "719   700000.0  \n",
      "720   700000.0  \n",
      "721   800000.0  \n",
      "722   800000.0  \n",
      "723   800000.0  \n",
      "724   900000.0  \n",
      "725   900000.0  \n",
      "726   900000.0  \n",
      "727  1000000.0  \n",
      "728  1000000.0  \n",
      "729  1000000.0  \n"
     ]
    }
   ],
   "source": [
    "dfQuickSortRandom2 = dfQuick16[dfQuick16[\"Input case\"].str.startswith(\"random2\")]\n",
    "dfQuickSortRandom3 = dfQuick16[dfQuick16[\"Input case\"].str.startswith(\"random3\")]\n",
    "dfQuickSortRandom4 = dfQuick16[dfQuick16[\"Input case\"].str.startswith(\"random4\")]\n",
    "dfQuickSortRandom5 = dfQuick16[dfQuick16[\"Input case\"].str.startswith(\"random5\")]\n",
    "dfQuickSortRandom6 = dfQuick16[dfQuick16[\"Input case\"].str.startswith(\"random6\")]\n",
    "dfQuickSortRandom7 = dfQuick16[dfQuick16[\"Input case\"].str.startswith(\"random7\")]\n",
    "dfQuickSortRandom8 = dfQuick16[dfQuick16[\"Input case\"].str.startswith(\"random8\")]\n",
    "dfQuickSortRandom9 = dfQuick16[dfQuick16[\"Input case\"].str.startswith(\"random9\")]\n",
    "dfQuickSortRandom10 = dfQuick16[dfQuick16[\"Input case\"].str.startswith(\"random10\")]\n",
    "print(dfQuickSortRandom10)"
   ]
  },
  {
   "cell_type": "code",
   "execution_count": 11,
   "metadata": {},
   "outputs": [
    {
     "name": "stdout",
     "output_type": "stream",
     "text": [
      "       PKG (J)    CPU (J)  DRAM (J)  Time (ms)  Temp (C) Input case       Size\n",
      "0     4.396484   3.866089  0.213867    424.846      64.0       best    25000.0\n",
      "1     4.326294   3.802795  0.212158    418.592      64.0       best    25000.0\n",
      "2     4.566711   4.002136  0.215454    470.242      64.0       best    25000.0\n",
      "3     4.493408   3.941650  0.214966    455.232      64.0       best    25000.0\n",
      "4     4.564880   3.991516  0.213379    497.503      64.0       best    25000.0\n",
      "..         ...        ...       ...        ...       ...        ...        ...\n",
      "336  85.868652  73.624390  3.680725  10978.100      61.0       best  1000000.0\n",
      "337  85.119080  72.824768  3.693115  10952.400      61.0       best  1000000.0\n",
      "338  92.474243  79.504028  3.830383  11865.900      62.0       best  1000000.0\n",
      "339  92.084778  79.048645  3.840820  11878.200      61.0       best  1000000.0\n",
      "340  90.136536  77.255798  3.794678  11590.700      63.0       best  1000000.0\n",
      "\n",
      "[341 rows x 7 columns]\n"
     ]
    }
   ],
   "source": [
    "dfQuickSortBest16 = dfQuick16[dfQuick16[\"Input case\"].str.startswith(\"best\")]\n",
    "#dfQuickSortWorst16 = dfQuick16[dfQuick16[\"Input case\"].str.startswith(\"worst\")]\n",
    "dfQuickSortRandom16 = dfQuick16[dfQuick16[\"Input case\"].str.startswith(\"random\")]\n",
    "\n",
    "print(dfQuickSortBest16)"
   ]
  },
  {
   "cell_type": "code",
   "execution_count": 12,
   "metadata": {},
   "outputs": [
    {
     "name": "stdout",
     "output_type": "stream",
     "text": [
      "9.580511459716945e-07\n",
      "1.5840835203562165e-06\n",
      "3.892592303600395e-06\n",
      "2.7081250664195977e-07\n",
      "1.4347895671562583e-07\n",
      "5.689249746865244e-07\n",
      "1.5698456081736367e-06\n",
      "1.469584418600789e-07\n",
      "8.390046559725306e-07\n",
      "3.4842625495912216e-07\n",
      "8.960502668742265e-07\n",
      "1.4069711085085146e-07\n",
      "1.7251950623631274e-07\n",
      "[0, 0, 0, 0, 0, 0, 0, 0, 0, 0, 0, 0, 0]\n"
     ]
    }
   ],
   "source": [
    "data = []\n",
    "size = []\n",
    "for i in [25000,50000,75000,100000,200000,300000,400000,500000,600000,700000,800000,900000,1000000]:\n",
    "    if 0.05 < shapiro(dfQuickMean16[dfQuickMean16[\"Size\"]==i][\"CPU (J)\"]).pvalue:\n",
    "        data.append(1)\n",
    "    else:\n",
    "        data.append(0)\n",
    "    size.append(i)\n",
    "    print(shapiro(dfQuickMean16[dfQuickMean16[\"Size\"]==i][\"CPU (J)\"]).pvalue)\n",
    "print(data)"
   ]
  },
  {
   "cell_type": "code",
   "execution_count": 13,
   "metadata": {},
   "outputs": [
    {
     "name": "stdout",
     "output_type": "stream",
     "text": [
      "0.27855491638183594\n",
      "0.9220972061157227\n",
      "0.37662941217422485\n",
      "0.5048016309738159\n",
      "0.005593802779912949\n",
      "0.4148359000682831\n",
      "0.8979208469390869\n",
      "0.2653730809688568\n",
      "0.9982200264930725\n",
      "0.7556579113006592\n",
      "0.17103923857212067\n",
      "0.00020018883515149355\n",
      "0.008304305374622345\n",
      "[1, 1, 1, 1, 0, 1, 1, 1, 1, 1, 1, 0, 0]\n"
     ]
    }
   ],
   "source": [
    "dataBest = []\n",
    "sizeBest = []\n",
    "for i in [25000,50000,75000,100000,200000,300000,400000,500000,600000,700000,800000,900000,1000000]:\n",
    "    if 0.05 < shapiro(dfQuickSortBest16[dfQuickSortBest16[\"Size\"]==i][\"CPU (J)\"]).pvalue:\n",
    "        dataBest.append(1)\n",
    "    else:\n",
    "        dataBest.append(0)\n",
    "    sizeBest.append(i)\n",
    "    print(shapiro(dfQuickSortBest16[dfQuickSortBest16[\"Size\"]==i][\"CPU (J)\"]).pvalue)\n",
    "print(dataBest)"
   ]
  },
  {
   "cell_type": "code",
   "execution_count": 14,
   "metadata": {},
   "outputs": [
    {
     "name": "stdout",
     "output_type": "stream",
     "text": [
      "0.5265910625457764\n",
      "0.020440274849534035\n",
      "0.00011632541281869635\n",
      "0.22720147669315338\n",
      "0.038281310349702835\n",
      "0.6557552814483643\n",
      "0.006467602215707302\n",
      "0.03933396190404892\n",
      "0.23274527490139008\n",
      "0.04179774969816208\n",
      "0.008463266305625439\n",
      "0.000549027172382921\n",
      "0.008662333711981773\n",
      "[1, 0, 0, 1, 0, 1, 0, 0, 1, 0, 0, 0, 0]\n"
     ]
    }
   ],
   "source": [
    "dataRandom = []\n",
    "sizeRandom = []\n",
    "for i in [25000,50000,75000,100000,200000,300000,400000,500000,600000,700000,800000,900000,1000000]:\n",
    "    if 0.05 < shapiro(dfQuickSortRandom16[dfQuickSortRandom16[\"Size\"]==i][\"CPU (J)\"]).pvalue:\n",
    "        dataRandom.append(1)\n",
    "    else:\n",
    "        dataRandom.append(0)\n",
    "    sizeRandom.append(i)\n",
    "    print(shapiro(dfQuickSortRandom16[dfQuickSortRandom16[\"Size\"]==i][\"CPU (J)\"]).pvalue)\n",
    "print(dataRandom)\n",
    "#make for each random"
   ]
  },
  {
   "cell_type": "code",
   "execution_count": 15,
   "metadata": {},
   "outputs": [
    {
     "name": "stdout",
     "output_type": "stream",
     "text": [
      "0.8986175060272217\n",
      "0.652002215385437\n",
      "0.6463379263877869\n",
      "0.5257147550582886\n",
      "0.5310466289520264\n",
      "0.41469302773475647\n",
      "0.029948096722364426\n",
      "0.014695377089083195\n",
      "0.5736836194992065\n",
      "0.06547554582357407\n",
      "0.5590096712112427\n",
      "0.610017716884613\n",
      "0.08926531672477722\n",
      "[1, 1, 1, 1, 1, 1, 0, 0, 1, 1, 1, 1, 1]\n"
     ]
    }
   ],
   "source": [
    "dataRandom1 = []\n",
    "sizeRandom1 = []\n",
    "for i in [25000,50000,75000,100000,200000,300000,400000,500000,600000,700000,800000,900000,1000000]:\n",
    "    if 0.05 < shapiro(dfQuickSortRandom1[dfQuickSortRandom1[\"Size\"]==i][\"CPU (J)\"]).pvalue:\n",
    "        dataRandom1.append(1)\n",
    "    else:\n",
    "        dataRandom1.append(0)\n",
    "    sizeRandom1.append(i)\n",
    "    print(shapiro(dfQuickSortRandom1[dfQuickSortRandom1[\"Size\"]==i][\"CPU (J)\"]).pvalue)\n",
    "print(dataRandom1)\n"
   ]
  },
  {
   "cell_type": "code",
   "execution_count": 16,
   "metadata": {},
   "outputs": [
    {
     "name": "stdout",
     "output_type": "stream",
     "text": [
      "0.4511083960533142\n",
      "0.3909153342247009\n",
      "0.5889957547187805\n",
      "0.22528988122940063\n",
      "0.11703936755657196\n",
      "0.7108652591705322\n",
      "0.8032013773918152\n",
      "0.9869598746299744\n",
      "0.3579804003238678\n",
      "0.33844447135925293\n",
      "0.1550673544406891\n",
      "0.9463086128234863\n",
      "0.03924284502863884\n",
      "[1, 1, 1, 1, 1, 1, 1, 1, 1, 1, 1, 1, 0]\n"
     ]
    }
   ],
   "source": [
    "dataRandom2 = []\n",
    "sizeRandom2 = []\n",
    "for i in [25000,50000,75000,100000,200000,300000,400000,500000,600000,700000,800000,900000,1000000]:\n",
    "    if 0.05 < shapiro(dfQuickSortRandom2[dfQuickSortRandom2[\"Size\"]==i][\"CPU (J)\"]).pvalue:\n",
    "        dataRandom2.append(1)\n",
    "    else:\n",
    "        dataRandom2.append(0)\n",
    "    sizeRandom2.append(i)\n",
    "    print(shapiro(dfQuickSortRandom2[dfQuickSortRandom2[\"Size\"]==i][\"CPU (J)\"]).pvalue)\n",
    "print(dataRandom2)"
   ]
  },
  {
   "cell_type": "code",
   "execution_count": 17,
   "metadata": {},
   "outputs": [
    {
     "name": "stdout",
     "output_type": "stream",
     "text": [
      "0.014269400388002396\n",
      "0.5525091290473938\n",
      "0.610986053943634\n",
      "0.37285882234573364\n",
      "0.4478372037410736\n",
      "0.2304874211549759\n",
      "0.34504878520965576\n",
      "0.4262467622756958\n",
      "0.4445227384567261\n",
      "0.3847399353981018\n",
      "0.2736942768096924\n",
      "0.5163719654083252\n",
      "0.4039306938648224\n",
      "[0, 1, 1, 1, 1, 1, 1, 1, 1, 1, 1, 1, 1]\n"
     ]
    }
   ],
   "source": [
    "dataRandom3 = []\n",
    "sizeRandom3 = []\n",
    "for i in [25000,50000,75000,100000,200000,300000,400000,500000,600000,700000,800000,900000,1000000]:\n",
    "    if 0.05 < shapiro(dfQuickSortRandom3[dfQuickSortRandom3[\"Size\"]==i][\"CPU (J)\"]).pvalue:\n",
    "        dataRandom3.append(1)\n",
    "    else:\n",
    "        dataRandom3.append(0)\n",
    "    sizeRandom3.append(i)\n",
    "    print(shapiro(dfQuickSortRandom3[dfQuickSortRandom3[\"Size\"]==i][\"CPU (J)\"]).pvalue)\n",
    "print(dataRandom3)"
   ]
  },
  {
   "cell_type": "code",
   "execution_count": 18,
   "metadata": {},
   "outputs": [
    {
     "name": "stdout",
     "output_type": "stream",
     "text": [
      "0.9760047197341919\n",
      "0.770117998123169\n",
      "0.9549160599708557\n",
      "0.16615252196788788\n",
      "0.3851374387741089\n",
      "0.9810472130775452\n",
      "0.002662407234311104\n",
      "0.360605925321579\n",
      "0.06365416198968887\n",
      "0.8265039324760437\n",
      "0.20308902859687805\n",
      "0.103811115026474\n",
      "0.06261688470840454\n",
      "[1, 1, 1, 1, 1, 1, 0, 1, 1, 1, 1, 1, 1]\n"
     ]
    }
   ],
   "source": [
    "dataRandom4 = []\n",
    "sizeRandom4 = []\n",
    "for i in [25000,50000,75000,100000,200000,300000,400000,500000,600000,700000,800000,900000,1000000]:\n",
    "    if 0.05 < shapiro(dfQuickSortRandom4[dfQuickSortRandom4[\"Size\"]==i][\"CPU (J)\"]).pvalue:\n",
    "        dataRandom4.append(1)\n",
    "    else:\n",
    "        dataRandom4.append(0)\n",
    "    sizeRandom4.append(i)\n",
    "    print(shapiro(dfQuickSortRandom4[dfQuickSortRandom4[\"Size\"]==i][\"CPU (J)\"]).pvalue)\n",
    "print(dataRandom4)"
   ]
  },
  {
   "cell_type": "code",
   "execution_count": 19,
   "metadata": {},
   "outputs": [
    {
     "name": "stdout",
     "output_type": "stream",
     "text": [
      "0.774721086025238\n",
      "0.9074157476425171\n",
      "0.8478286862373352\n",
      "0.45407634973526\n",
      "0.060318298637866974\n",
      "0.24975629150867462\n",
      "0.14858481287956238\n",
      "0.11175143718719482\n",
      "0.12230771780014038\n",
      "0.622650146484375\n",
      "0.6891677975654602\n",
      "0.09205613285303116\n",
      "0.26431939005851746\n",
      "[1, 1, 1, 1, 1, 1, 1, 1, 1, 1, 1, 1, 1]\n"
     ]
    }
   ],
   "source": [
    "dataRandom5 = []\n",
    "sizeRandom5 = []\n",
    "for i in [25000,50000,75000,100000,200000,300000,400000,500000,600000,700000,800000,900000,1000000]:\n",
    "    if 0.05 < shapiro(dfQuickSortRandom5[dfQuickSortRandom5[\"Size\"]==i][\"CPU (J)\"]).pvalue:\n",
    "        dataRandom5.append(1)\n",
    "    else:\n",
    "        dataRandom5.append(0)\n",
    "    sizeRandom5.append(i)\n",
    "    print(shapiro(dfQuickSortRandom5[dfQuickSortRandom5[\"Size\"]==i][\"CPU (J)\"]).pvalue)\n",
    "print(dataRandom5)"
   ]
  },
  {
   "cell_type": "code",
   "execution_count": 20,
   "metadata": {},
   "outputs": [
    {
     "name": "stdout",
     "output_type": "stream",
     "text": [
      "0.870668888092041\n",
      "0.7835901379585266\n",
      "0.24794788658618927\n",
      "0.2195085734128952\n",
      "0.8240430355072021\n",
      "0.34123140573501587\n",
      "0.1174924373626709\n",
      "0.027512451633810997\n",
      "0.236882746219635\n",
      "0.10083520412445068\n",
      "0.7628461718559265\n",
      "0.6876111626625061\n",
      "0.48213818669319153\n",
      "[1, 1, 1, 1, 1, 1, 1, 0, 1, 1, 1, 1, 1]\n"
     ]
    }
   ],
   "source": [
    "dataRandom6 = []\n",
    "sizeRandom6 = []\n",
    "for i in [25000,50000,75000,100000,200000,300000,400000,500000,600000,700000,800000,900000,1000000]:\n",
    "    if 0.05 < shapiro(dfQuickSortRandom6[dfQuickSortRandom6[\"Size\"]==i][\"CPU (J)\"]).pvalue:\n",
    "        dataRandom6.append(1)\n",
    "    else:\n",
    "        dataRandom6.append(0)\n",
    "    sizeRandom6.append(i)\n",
    "    print(shapiro(dfQuickSortRandom6[dfQuickSortRandom6[\"Size\"]==i][\"CPU (J)\"]).pvalue)\n",
    "print(dataRandom6)"
   ]
  },
  {
   "cell_type": "code",
   "execution_count": 21,
   "metadata": {},
   "outputs": [
    {
     "name": "stdout",
     "output_type": "stream",
     "text": [
      "596    153.916504\n",
      "597    153.321045\n",
      "Name: CPU (J), dtype: float64\n"
     ]
    }
   ],
   "source": [
    "print(dfQuickSortRandom7[dfQuickSortRandom7[\"Size\"]==500000][\"CPU (J)\"])"
   ]
  },
  {
   "cell_type": "code",
   "execution_count": 22,
   "metadata": {},
   "outputs": [
    {
     "name": "stdout",
     "output_type": "stream",
     "text": [
      "598    178.954224\n",
      "599    185.653870\n",
      "600    186.417297\n",
      "Name: CPU (J), dtype: float64\n"
     ]
    }
   ],
   "source": [
    "print(dfQuickSortRandom7[dfQuickSortRandom7[\"Size\"]==600000][\"CPU (J)\"])"
   ]
  },
  {
   "cell_type": "code",
   "execution_count": 23,
   "metadata": {},
   "outputs": [
    {
     "name": "stdout",
     "output_type": "stream",
     "text": [
      "601    223.843811\n",
      "602    221.390320\n",
      "603    222.782166\n",
      "Name: CPU (J), dtype: float64\n"
     ]
    }
   ],
   "source": [
    "print(dfQuickSortRandom7[dfQuickSortRandom7[\"Size\"]==700000][\"CPU (J)\"])"
   ]
  },
  {
   "cell_type": "code",
   "execution_count": 24,
   "metadata": {},
   "outputs": [
    {
     "name": "stdout",
     "output_type": "stream",
     "text": [
      "604    248.024170\n",
      "605    256.264893\n",
      "606    227.605408\n",
      "Name: CPU (J), dtype: float64\n"
     ]
    }
   ],
   "source": [
    "print(dfQuickSortRandom7[dfQuickSortRandom7[\"Size\"]==800000][\"CPU (J)\"])"
   ]
  },
  {
   "cell_type": "code",
   "execution_count": 25,
   "metadata": {},
   "outputs": [
    {
     "name": "stdout",
     "output_type": "stream",
     "text": [
      "607    268.712463\n",
      "608    268.704956\n",
      "609    269.085876\n",
      "Name: CPU (J), dtype: float64\n"
     ]
    }
   ],
   "source": [
    "print(dfQuickSortRandom7[dfQuickSortRandom7[\"Size\"]==900000][\"CPU (J)\"])"
   ]
  },
  {
   "cell_type": "code",
   "execution_count": 26,
   "metadata": {},
   "outputs": [
    {
     "name": "stdout",
     "output_type": "stream",
     "text": [
      "610    325.682068\n",
      "611    323.986145\n",
      "612    324.243042\n",
      "Name: CPU (J), dtype: float64\n"
     ]
    }
   ],
   "source": [
    "print(dfQuickSortRandom7[dfQuickSortRandom7[\"Size\"]==1000000][\"CPU (J)\"])"
   ]
  },
  {
   "cell_type": "code",
   "execution_count": 27,
   "metadata": {},
   "outputs": [
    {
     "name": "stdout",
     "output_type": "stream",
     "text": [
      "0.4826463460922241\n",
      "0.06874265521764755\n",
      "0.9663297533988953\n",
      "0.1952500194311142\n",
      "0.15616336464881897\n",
      "0.04985422268509865\n",
      "0.1833602637052536\n",
      "0.17779843509197235\n",
      "0.851899266242981\n",
      "0.5405301451683044\n",
      "0.03292765095829964\n",
      "0.2692953944206238\n",
      "[1, 1, 1, 1, 1, 0, 1, 1, 1, 1, 0, 1]\n"
     ]
    }
   ],
   "source": [
    "dataRandom7 = []\n",
    "sizeRandom7 = []\n",
    "for i in [25000,50000,75000,100000,200000,300000,400000,600000,700000,800000,900000,1000000]:   #input size 500000 is exculded \n",
    "    if 0.05 < shapiro(dfQuickSortRandom7[dfQuickSortRandom7[\"Size\"]==i][\"CPU (J)\"]).pvalue:\n",
    "        dataRandom7.append(1)\n",
    "    else:\n",
    "        dataRandom7.append(0)\n",
    "    sizeRandom7.append(i)\n",
    "    print(shapiro(dfQuickSortRandom7[dfQuickSortRandom7[\"Size\"]==i][\"CPU (J)\"]).pvalue)\n",
    "print(dataRandom7)\n",
    "\n",
    "#input 500000 only has 2 values not three \n",
    "\n",
    "\n",
    "# valueError (Data must be length three) the first seven pvalues were obtained \n",
    "# (0.48264384269714355\n",
    "# 0.06874151527881622\n",
    "# 0.9663297533988953\n",
    "# 0.1952504813671112\n",
    "# 0.1561649590730667\n",
    "# 0.04984830319881439\n",
    "# 0.1833600401878357)"
   ]
  },
  {
   "cell_type": "code",
   "execution_count": 28,
   "metadata": {},
   "outputs": [
    {
     "name": "stdout",
     "output_type": "stream",
     "text": [
      "0.47247710824012756\n",
      "0.9770988821983337\n",
      "0.8609934449195862\n",
      "0.9395674467086792\n",
      "0.013556556776165962\n",
      "0.7535450458526611\n",
      "0.04566162824630737\n",
      "0.030368836596608162\n",
      "0.06000479310750961\n",
      "0.3859434127807617\n",
      "0.825757622718811\n",
      "0.34895041584968567\n",
      "0.19101257622241974\n",
      "[1, 1, 1, 1, 0, 1, 0, 0, 1, 1, 1, 1, 1]\n"
     ]
    }
   ],
   "source": [
    "dataRandom8 = []\n",
    "sizeRandom8 = []\n",
    "for i in [25000,50000,75000,100000,200000,300000,400000,500000,600000,700000,800000,900000,1000000]:\n",
    "    if 0.05 < shapiro(dfQuickSortRandom8[dfQuickSortRandom8[\"Size\"]==i][\"CPU (J)\"]).pvalue:\n",
    "        dataRandom8.append(1)\n",
    "    else:\n",
    "        dataRandom8.append(0)\n",
    "    sizeRandom8.append(i)\n",
    "    print(shapiro(dfQuickSortRandom8[dfQuickSortRandom8[\"Size\"]==i][\"CPU (J)\"]).pvalue)\n",
    "print(dataRandom8)"
   ]
  },
  {
   "cell_type": "code",
   "execution_count": 29,
   "metadata": {},
   "outputs": [
    {
     "name": "stdout",
     "output_type": "stream",
     "text": [
      "0.8856561183929443\n",
      "0.15184760093688965\n",
      "0.2904236912727356\n",
      "0.25407546758651733\n",
      "0.3410228490829468\n",
      "0.8367184996604919\n",
      "0.5217387080192566\n",
      "0.10387121886014938\n",
      "0.15576812624931335\n",
      "0.9506649374961853\n",
      "0.052608609199523926\n",
      "0.03939948230981827\n",
      "0.011248864233493805\n",
      "[1, 1, 1, 1, 1, 1, 1, 1, 1, 1, 1, 0, 0]\n"
     ]
    }
   ],
   "source": [
    "dataRandom9 = []\n",
    "sizeRandom9 = []\n",
    "for i in [25000,50000,75000,100000,200000,300000,400000,500000,600000,700000,800000,900000,1000000]:\n",
    "    if 0.05 < shapiro(dfQuickSortRandom9[dfQuickSortRandom9[\"Size\"]==i][\"CPU (J)\"]).pvalue:\n",
    "        dataRandom9.append(1)\n",
    "    else:\n",
    "        dataRandom9.append(0)\n",
    "    sizeRandom9.append(i)\n",
    "    print(shapiro(dfQuickSortRandom9[dfQuickSortRandom9[\"Size\"]==i][\"CPU (J)\"]).pvalue)\n",
    "print(dataRandom9)"
   ]
  },
  {
   "cell_type": "code",
   "execution_count": 30,
   "metadata": {},
   "outputs": [
    {
     "name": "stdout",
     "output_type": "stream",
     "text": [
      "0.8314326405525208\n",
      "0.8310906291007996\n",
      "0.5292418599128723\n",
      "0.10752901434898376\n",
      "0.0025626865681260824\n",
      "0.06602583080530167\n",
      "0.7318140864372253\n",
      "0.03530820086598396\n",
      "0.5638513565063477\n",
      "0.0438447967171669\n",
      "0.2169739007949829\n",
      "0.8737490177154541\n",
      "0.1515047252178192\n",
      "[1, 1, 1, 1, 0, 1, 1, 0, 1, 0, 1, 1, 1]\n"
     ]
    }
   ],
   "source": [
    "dataRandom10 = []\n",
    "sizeRandom10 = []\n",
    "for i in [25000,50000,75000,100000,200000,300000,400000,500000,600000,700000,800000,900000,1000000]:\n",
    "    if 0.05 < shapiro(dfQuickSortRandom10[dfQuickSortRandom10[\"Size\"]==i][\"CPU (J)\"]).pvalue:\n",
    "        dataRandom10.append(1)\n",
    "    else:\n",
    "        dataRandom10.append(0)\n",
    "    sizeRandom10.append(i)\n",
    "    print(shapiro(dfQuickSortRandom10[dfQuickSortRandom10[\"Size\"]==i][\"CPU (J)\"]).pvalue)\n",
    "print(dataRandom10)"
   ]
  },
  {
   "attachments": {},
   "cell_type": "markdown",
   "metadata": {},
   "source": [
    "# PLOTS"
   ]
  },
  {
   "cell_type": "code",
   "execution_count": 31,
   "metadata": {},
   "outputs": [],
   "source": [
    "# For bubblesort: polynomial regression\n",
    "def polyReg(SeriesX, SeriesY,dg, Label, color, plotLabel = True, regLine=True, printR2Score = True, plotGraph = True, dots=\"o\"):\n",
    "    X = SeriesX.values.reshape(SeriesX.size, -1)\n",
    "    y = SeriesY.values\n",
    "\n",
    "    fitness = []\n",
    "   #for dg in range(minDegrees, maxDegrees):\n",
    "    # Create an empty polynomial function with degree of 4\n",
    "    poly_reg = PolynomialFeatures(degree=dg)\n",
    "    \n",
    "    # Fit the function to the X and transform X to the polynomial format\n",
    "    X_poly = poly_reg.fit_transform(X)\n",
    "\n",
    "    # Now we construct a Multiple Linear Regressor on the transformed X_ploy\n",
    "    lr_2 = LinearRegression()  \n",
    "    lr_2.fit(X_poly, y)  \n",
    "    \n",
    "    # Get the y values using the constructed Multiple Linear Regressor\n",
    "    y_poly = lr_2.predict(X_poly)\n",
    "    \n",
    "    r2 = metrics.r2_score(y,y_poly)\n",
    "    #if printR2Score:\n",
    "    #    print(f\"r2_score for {Label} {dg} is: {r2}\")\n",
    "    fitness.append((f\"poly {dg}dg\", r2, y_poly))\n",
    "    #print(f\"Parameters of poly: {poly_reg.get_params()}\") #does not give what we are looking for\n",
    "    \n",
    "    if plotGraph:\n",
    "        plt.plot(X, y,dots, color=color,markersize=10, markerfacecolor = \"none\")\n",
    "        if regLine:\n",
    "            plt.plot(X, y_poly, color=color, linewidth=2)\n",
    "        #plt.legend(loc='upper left')\n",
    "    #print(lr_2.intercept_, lr_2.coef_)\n",
    "    return max(fitness,key=itemgetter(1))"
   ]
  },
  {
   "cell_type": "code",
   "execution_count": 32,
   "metadata": {},
   "outputs": [
    {
     "name": "stderr",
     "output_type": "stream",
     "text": [
      "<ipython-input-6-565db17a79a7>:2: UserWarning: Boolean Series key will be reindexed to match DataFrame index.\n",
      "  return df[df[\"Input case\"] == case][df[\"Size\"]==size].index.tolist()[0]\n"
     ]
    },
    {
     "data": {
      "text/html": [
       "<div>\n",
       "<style scoped>\n",
       "    .dataframe tbody tr th:only-of-type {\n",
       "        vertical-align: middle;\n",
       "    }\n",
       "\n",
       "    .dataframe tbody tr th {\n",
       "        vertical-align: top;\n",
       "    }\n",
       "\n",
       "    .dataframe thead th {\n",
       "        text-align: right;\n",
       "    }\n",
       "</style>\n",
       "<table border=\"1\" class=\"dataframe\">\n",
       "  <thead>\n",
       "    <tr style=\"text-align: right;\">\n",
       "      <th></th>\n",
       "      <th>PKG (J)</th>\n",
       "      <th>CPU (J)</th>\n",
       "      <th>DRAM (J)</th>\n",
       "      <th>Time (ms)</th>\n",
       "      <th>Temp (C)</th>\n",
       "      <th>Size</th>\n",
       "      <th>Input case</th>\n",
       "      <th>CPU - readCSV</th>\n",
       "      <th>Time - readCSV</th>\n",
       "      <th>Memory - readCSV</th>\n",
       "      <th>CPU % of PKG</th>\n",
       "      <th>PKG %</th>\n",
       "      <th>full EC</th>\n",
       "      <th>nlog(n)</th>\n",
       "      <th>n^2</th>\n",
       "    </tr>\n",
       "  </thead>\n",
       "  <tbody>\n",
       "    <tr>\n",
       "      <th>0</th>\n",
       "      <td>4.48754</td>\n",
       "      <td>3.92696</td>\n",
       "      <td>0.216488</td>\n",
       "      <td>463.748</td>\n",
       "      <td>64</td>\n",
       "      <td>25000</td>\n",
       "      <td>best</td>\n",
       "      <td>0.005554</td>\n",
       "      <td>0.661471</td>\n",
       "      <td>0.000257</td>\n",
       "      <td>87.507991</td>\n",
       "      <td>100</td>\n",
       "      <td>0.005811</td>\n",
       "      <td>3.652410e+05</td>\n",
       "      <td>6.250000e+08</td>\n",
       "    </tr>\n",
       "    <tr>\n",
       "      <th>1</th>\n",
       "      <td>6.60104</td>\n",
       "      <td>5.77747</td>\n",
       "      <td>0.28219</td>\n",
       "      <td>737.9</td>\n",
       "      <td>64.2222</td>\n",
       "      <td>50000</td>\n",
       "      <td>best</td>\n",
       "      <td>0.009136</td>\n",
       "      <td>1.228929</td>\n",
       "      <td>0.000349</td>\n",
       "      <td>87.523762</td>\n",
       "      <td>100</td>\n",
       "      <td>0.009485</td>\n",
       "      <td>7.804820e+05</td>\n",
       "      <td>2.500000e+09</td>\n",
       "    </tr>\n",
       "    <tr>\n",
       "      <th>2</th>\n",
       "      <td>8.71006</td>\n",
       "      <td>7.64023</td>\n",
       "      <td>0.341715</td>\n",
       "      <td>994.702</td>\n",
       "      <td>64.5833</td>\n",
       "      <td>75000</td>\n",
       "      <td>best</td>\n",
       "      <td>0.012666</td>\n",
       "      <td>1.777088</td>\n",
       "      <td>0.000426</td>\n",
       "      <td>87.717318</td>\n",
       "      <td>100</td>\n",
       "      <td>0.013092</td>\n",
       "      <td>1.214595e+06</td>\n",
       "      <td>5.625000e+09</td>\n",
       "    </tr>\n",
       "    <tr>\n",
       "      <th>3</th>\n",
       "      <td>11.1021</td>\n",
       "      <td>9.73918</td>\n",
       "      <td>0.406585</td>\n",
       "      <td>1304.07</td>\n",
       "      <td>65.1111</td>\n",
       "      <td>100000</td>\n",
       "      <td>best</td>\n",
       "      <td>0.017166</td>\n",
       "      <td>2.472748</td>\n",
       "      <td>0.000544</td>\n",
       "      <td>87.723449</td>\n",
       "      <td>100</td>\n",
       "      <td>0.017710</td>\n",
       "      <td>1.660964e+06</td>\n",
       "      <td>1.000000e+10</td>\n",
       "    </tr>\n",
       "    <tr>\n",
       "      <th>4</th>\n",
       "      <td>19.5232</td>\n",
       "      <td>17.1352</td>\n",
       "      <td>0.650694</td>\n",
       "      <td>2389.13</td>\n",
       "      <td>65.8519</td>\n",
       "      <td>200000</td>\n",
       "      <td>best</td>\n",
       "      <td>0.033809</td>\n",
       "      <td>4.974917</td>\n",
       "      <td>0.001063</td>\n",
       "      <td>87.768353</td>\n",
       "      <td>100</td>\n",
       "      <td>0.034871</td>\n",
       "      <td>3.521928e+06</td>\n",
       "      <td>4.000000e+10</td>\n",
       "    </tr>\n",
       "  </tbody>\n",
       "</table>\n",
       "</div>"
      ],
      "text/plain": [
       "   PKG (J)  CPU (J)  DRAM (J) Time (ms) Temp (C)    Size Input case  \\\n",
       "0  4.48754  3.92696  0.216488   463.748       64   25000       best   \n",
       "1  6.60104  5.77747   0.28219     737.9  64.2222   50000       best   \n",
       "2  8.71006  7.64023  0.341715   994.702  64.5833   75000       best   \n",
       "3  11.1021  9.73918  0.406585   1304.07  65.1111  100000       best   \n",
       "4  19.5232  17.1352  0.650694   2389.13  65.8519  200000       best   \n",
       "\n",
       "   CPU - readCSV  Time - readCSV  Memory - readCSV  CPU % of PKG  PKG %  \\\n",
       "0       0.005554        0.661471          0.000257     87.507991    100   \n",
       "1       0.009136        1.228929          0.000349     87.523762    100   \n",
       "2       0.012666        1.777088          0.000426     87.717318    100   \n",
       "3       0.017166        2.472748          0.000544     87.723449    100   \n",
       "4       0.033809        4.974917          0.001063     87.768353    100   \n",
       "\n",
       "    full EC       nlog(n)           n^2  \n",
       "0  0.005811  3.652410e+05  6.250000e+08  \n",
       "1  0.009485  7.804820e+05  2.500000e+09  \n",
       "2  0.013092  1.214595e+06  5.625000e+09  \n",
       "3  0.017710  1.660964e+06  1.000000e+10  \n",
       "4  0.034871  3.521928e+06  4.000000e+10  "
      ]
     },
     "execution_count": 32,
     "metadata": {},
     "output_type": "execute_result"
    }
   ],
   "source": [
    "import math\n",
    "def calcPercent(df):\n",
    "    cpuPercent = []\n",
    "    pkgPercent = []\n",
    "    fullEC = []\n",
    "    nlogn = []\n",
    "    n2 = []\n",
    "    for case in [\"best\", \"random\"]:\n",
    "        if case == \"best\":\n",
    "            for size in [25000,50000,75000,100000,200000,300000,400000,500000,600000,700000,800000,900000,1000000]:\n",
    "                cpuPercent.append(df[\"CPU (J)\"][getIndex(df,case,size)] / df[\"PKG (J)\"][getIndex(df,case,size)] * 100)\n",
    "                pkgPercent.append(100)\n",
    "                fullEC.append(df[\"CPU - readCSV\"][getIndex(df,case,size)]+df[\"Memory - readCSV\"][getIndex(df,case,size)])\n",
    "                nlogn.append(df[\"Size\"][getIndex(df,case,size)] * math.log2(df[\"Size\"][getIndex(df,case,size)]))\n",
    "                n2.append(df[\"Size\"][getIndex(df,case,size)] * df[\"Size\"][getIndex(df,case,size)])\n",
    "        elif case == \"worst\":\n",
    "            for size in [25000,50000,75000,100000,200000,300000,400000,500000]:\n",
    "                cpuPercent.append(df[\"CPU (J)\"][getIndex(df,case,size)] / df[\"PKG (J)\"][getIndex(df,case,size)] * 100)\n",
    "                pkgPercent.append(100)\n",
    "                fullEC.append(df[\"CPU - readCSV\"][getIndex(df,case,size)]+df[\"Memory - readCSV\"][getIndex(df,case,size)])\n",
    "                nlogn.append(df[\"Size\"][getIndex(df,case,size)] * math.log2(df[\"Size\"][getIndex(df,case,size)]))\n",
    "                n2.append(df[\"Size\"][getIndex(df,case,size)] * df[\"Size\"][getIndex(df,case,size)])\n",
    "        else :\n",
    "            for i in range(1,11):\n",
    "                for size in [25000,50000,75000,100000,200000,300000,400000,500000,600000,700000,800000,900000,1000000]:\n",
    "                    cpuPercent.append(df[\"CPU (J)\"][getIndex(df,case+str(i),size)] / df[\"PKG (J)\"][getIndex(df,case+str(i),size)] * 100)\n",
    "                    pkgPercent.append(100)\n",
    "                    fullEC.append(df[\"CPU - readCSV\"][getIndex(df,case+str(i),size)]+df[\"Memory - readCSV\"][getIndex(df,case+str(i),size)])\n",
    "                    nlogn.append(df[\"Size\"][getIndex(df,case+str(i),size)] * math.log2(df[\"Size\"][getIndex(df,case+str(i),size)]))\n",
    "                    n2.append(df[\"Size\"][getIndex(df,case+str(i),size)] * df[\"Size\"][getIndex(df,case+str(i),size)])\n",
    "\n",
    "    df[\"CPU % of PKG\"] = cpuPercent\n",
    "    df[\"PKG %\"] = pkgPercent\n",
    "    df[\"full EC\"] = fullEC\n",
    "    df[\"nlog(n)\"] = nlogn \n",
    "    df[\"n^2\"] = n2\n",
    "calcPercent(dfQuickMean16)\n",
    "dfQuickMean16.head()"
   ]
  },
  {
   "cell_type": "code",
   "execution_count": 33,
   "metadata": {},
   "outputs": [],
   "source": [
    "# print(max(dfQuickMean16[dfQuickMean16[\"Input case\"] == f\"worst\"][\"Time - readCSV\"]))"
   ]
  },
  {
   "cell_type": "code",
   "execution_count": 46,
   "metadata": {},
   "outputs": [
    {
     "data": {
      "image/png": "[encoded data removed]",
      "text/plain": [
       "<Figure size 720x504 with 1 Axes>"
      ]
     },
     "metadata": {
      "needs_background": "light"
     },
     "output_type": "display_data"
    }
   ],
   "source": [
    "plt.figure(figsize=(10,7))\n",
    "color = \"red\"\n",
    "plt.plot(0,-1111100,\"d\", color=\"c\",label=\"best case input\")\n",
    "plt.plot(0,-111110,\"v\", color=\"peru\",label=\"random1 - random10\")\n",
    "# plt.plot(0,-1111100,\"s\", color=\"fuchsia\",label=\"worst case input\")\n",
    "\n",
    "Rs = []\n",
    "best = polyReg(dfQuickMean16[dfQuickMean16[\"Input case\"] == \"best\"][\"Size\"], dfQuickMean16[dfQuickMean16[\"Input case\"] == \"best\"][\"Time - readCSV\"],1, \"Merge time for best case input\", \"c\",dots=\"d\", regLine=False)\n",
    "\n",
    "for i in range(1,11):\n",
    "    Rs.append(polyReg(dfQuickMean16[dfQuickMean16[\"Input case\"] == f\"random{i}\"][\"Size\"], dfQuickMean16[dfQuickMean16[\"Input case\"] == f\"random{i}\"][\"Time - readCSV\"],1, f\"random{i} case input\", \"peru\",dots=\"v\", regLine=False))\n",
    "#for i in range(len(Rs)):\n",
    "    #print(f\"random{i} R2\", Rs[i][1], \" \\n\")\n",
    "#worst = polyReg(dfQuickMean16[dfQuickMean16[\"Input case\"] == \"worst\"][\"Size\"], dfQuickMean16[dfQuickMean16[\"Input case\"] == \"worst\"][\"Time - readCSV\"],1, \"Merge time for worst case input\", \"fuchsia\",dots=\"s\", regLine=False)\n",
    "#print(f\"worst R2 \", worst[1], \"\\n\")\n",
    "#print(f\"best R2 \", best[1], \"\\n\")\n",
    "#plt.title(\"Quick sort wall time vs input size.\")\n",
    "plt.xlabel(\"input size (n)\", fontsize = 14)\n",
    "plt.ylabel(\"Time (ms)\", fontsize = 14)\n",
    "plt.rc('xtick', labelsize = 10)\n",
    "plt.rc('ytick', labelsize = 10)\n",
    "plt.grid()\n",
    "plt.legend()\n",
    "plt.xlim(-10,1030000)\n",
    "plt.ylim(-5,140)\n",
    "plt.show()\n"
   ]
  },
  {
   "attachments": {},
   "cell_type": "markdown",
   "metadata": {},
   "source": [
    "# SQ 2: Time vs. big-oh"
   ]
  },
  {
   "cell_type": "code",
   "execution_count": 35,
   "metadata": {},
   "outputs": [
    {
     "name": "stdout",
     "output_type": "stream",
     "text": [
      "random0 R2 0.9990045798032399  \n",
      "\n",
      "random1 R2 0.9992327974199863  \n",
      "\n",
      "random2 R2 0.9994532300289706  \n",
      "\n",
      "random3 R2 0.9972555381021101  \n",
      "\n",
      "random4 R2 0.9994471965910765  \n",
      "\n",
      "random5 R2 0.9990872457821737  \n",
      "\n",
      "random6 R2 0.9979373534224064  \n",
      "\n",
      "random7 R2 0.9982702548115961  \n",
      "\n",
      "random8 R2 0.9992740308986445  \n",
      "\n",
      "random9 R2 0.9989210557588849  \n",
      "\n",
      "best R2  0.9981625344255122 \n",
      "\n"
     ]
    },
    {
     "data": {
      "image/png": "[encoded data removed]",
      "text/plain": [
       "<Figure size 720x504 with 1 Axes>"
      ]
     },
     "metadata": {
      "needs_background": "light"
     },
     "output_type": "display_data"
    }
   ],
   "source": [
    "plt.figure(figsize=(10,7))\n",
    "color = \"red\"\n",
    "\n",
    "Rs = []\n",
    "best = polyReg(dfQuickMean16[dfQuickMean16[\"Input case\"] == \"best\"][\"nlog(n)\"], dfQuickMean16[dfQuickMean16[\"Input case\"] == \"best\"][\"Time - readCSV\"],1, \"Merge time for best case input\", \"c\",dots=\"d\", regLine=True)\n",
    "\n",
    "for i in range(1,11):\n",
    "    Rs.append(polyReg(dfQuickMean16[dfQuickMean16[\"Input case\"] == f\"random{i}\"][\"nlog(n)\"], dfQuickMean16[dfQuickMean16[\"Input case\"] == f\"random{i}\"][\"Time - readCSV\"],1, f\"random{i} case input\", \"peru\",dots=\"v\"))\n",
    "plt.plot(2000,20000000,\"v\", color=\"peru\",label=\"random1 - random10\")\n",
    "for i in range(len(Rs)):\n",
    "    print(f\"random{i} R2\", Rs[i][1], \" \\n\")\n",
    "#worst = polyReg(dfQuickMean16[dfQuickMean16[\"Input case\"] == \"worst\"][\"n^2\"], dfQuickMean16[dfQuickMean16[\"Input case\"] == \"worst\"][\"Time - readCSV\"],1, \"Merge time for worst case input\", \"fuchsia\",dots=\"s\")\n",
    "#plt.plot(0,0,\"s\", color=\"fuchsia\",label=\"worst case input\")\n",
    "plt.plot(200,20000000,\"d\", color=\"c\",label=\"best case input\")\n",
    "#print(f\"worst R2 \", worst[1], \"\\n\")\n",
    "print(f\"best R2 \", best[1], \"\\n\")\n",
    "#plt.title(\"Quick sort wall time vs n log(n) of input size n, with linear regression.\")\n",
    "plt.xlabel(\"n log(n) of input size n\")\n",
    "plt.ylabel(\"Time (ms)\")\n",
    "plt.grid()\n",
    "plt.xlim(-3,20500000)\n",
    "plt.ylim(-3, 140)\n",
    "plt.legend()\n",
    "plt.show()\n"
   ]
  },
  {
   "attachments": {},
   "cell_type": "markdown",
   "metadata": {},
   "source": [
    "# E v. T"
   ]
  },
  {
   "cell_type": "code",
   "execution_count": 36,
   "metadata": {},
   "outputs": [
    {
     "name": "stdout",
     "output_type": "stream",
     "text": [
      "random0 R2 0.9999722788509426  \n",
      "\n",
      "random1 R2 0.9999867305791522  \n",
      "\n",
      "random2 R2 0.999970580570141  \n",
      "\n",
      "random3 R2 0.999926294519992  \n",
      "\n",
      "random4 R2 0.9999753742170941  \n",
      "\n",
      "random5 R2 0.9999547079400963  \n",
      "\n",
      "random6 R2 0.9999299016164044  \n",
      "\n",
      "random7 R2 0.9999865113001994  \n",
      "\n",
      "random8 R2 0.9999638551108863  \n",
      "\n",
      "random9 R2 0.9999631790299023  \n",
      "\n"
     ]
    },
    {
     "data": {
      "image/png": "[encoded data removed]",
      "text/plain": [
       "<Figure size 720x504 with 1 Axes>"
      ]
     },
     "metadata": {
      "needs_background": "light"
     },
     "output_type": "display_data"
    }
   ],
   "source": [
    "plt.figure(figsize=(10,7))\n",
    "color = \"red\"\n",
    "\n",
    "Rs = []\n",
    "\n",
    "# worst = polyReg(dfQuickMean16[dfQuickMean16[\"Input case\"] == \"worst\"][\"Time - readCSV\"], dfQuickMean16[dfQuickMean16[\"Input case\"] == \"worst\"][\"full EC\"],1, \"Merge time for worst case input\", \"fuchsia\",dots=\"s\")\n",
    "best = polyReg(dfQuickMean16[dfQuickMean16[\"Input case\"] == \"best\"][\"Time - readCSV\"], dfQuickMean16[dfQuickMean16[\"Input case\"] == \"best\"][\"full EC\"],1, \"Merge time for best case input\", \"green\",dots=\"d\")\n",
    "for i in range(1,11):\n",
    "    Rs.append(polyReg(dfQuickMean16[dfQuickMean16[\"Input case\"] == f\"random{i}\"][\"Time - readCSV\"], dfQuickMean16[dfQuickMean16[\"Input case\"] == f\"random{i}\"][\"full EC\"],1, f\"Random{i} case input\", \"blue\",dots=\"v\"))\n",
    "plt.plot(3000,3000,\"v\", color=\"blue\",label=\"random1 - random10\")\n",
    "for i in range(len(Rs)):\n",
    "    print(f\"random{i} R2\", Rs[i][1], \" \\n\")\n",
    "plt.plot(3000,3000,\"s\", color=\"fuchsia\",label=\"worst case input\")\n",
    "# print(f\"worst R2 \", worst[1], \"\\n\")\n",
    "plt.plot(300,300,\"d\", color=\"green\",label=\"best case input\")\n",
    "#print(f\"best R2 \", best[1], \"\\n\")\n",
    "plt.title(\"Quick sort energy consumption vs wall time, with linear regression.\")\n",
    "plt.ylabel(\"Total energy (J)\")\n",
    "plt.xlabel(\"Time (ms)\")\n",
    "plt.xlim(-3,140)\n",
    "plt.ylim(-0.05, 0.9)\n",
    "plt.legend()\n",
    "plt.grid()\n",
    "plt.show()\n",
    "\n",
    "#print RD first \n"
   ]
  },
  {
   "cell_type": "code",
   "execution_count": 37,
   "metadata": {},
   "outputs": [
    {
     "name": "stdout",
     "output_type": "stream",
     "text": [
      "random0 R2 0.9999722788509426  \n",
      "\n",
      "random1 R2 0.9999867305791522  \n",
      "\n",
      "random2 R2 0.999970580570141  \n",
      "\n",
      "random3 R2 0.999926294519992  \n",
      "\n",
      "random4 R2 0.9999753742170941  \n",
      "\n",
      "random5 R2 0.9999547079400963  \n",
      "\n",
      "random6 R2 0.9999299016164044  \n",
      "\n",
      "random7 R2 0.9999865113001994  \n",
      "\n",
      "random8 R2 0.9999638551108863  \n",
      "\n",
      "random9 R2 0.9999631790299023  \n",
      "\n",
      "best R2  0.9998983351002083 \n",
      "\n"
     ]
    },
    {
     "data": {
      "image/png": "[encoded data removed]",
      "text/plain": [
       "<Figure size 720x504 with 1 Axes>"
      ]
     },
     "metadata": {
      "needs_background": "light"
     },
     "output_type": "display_data"
    }
   ],
   "source": [
    "plt.figure(figsize=(10,7))\n",
    "color = \"red\"\n",
    "\n",
    "Rs = []\n",
    "\n",
    "# worst = polyReg(dfQuickMean16[dfQuickMean16[\"Input case\"] == \"worst\"][\"Time - readCSV\"], dfQuickMean16[dfQuickMean16[\"Input case\"] == \"worst\"][\"full EC\"],1, \"Merge time for worst case input\", \"fuchsia\",dots=\"s\")\n",
    "for i in range(1,11):\n",
    "    Rs.append(polyReg(dfQuickMean16[dfQuickMean16[\"Input case\"] == f\"random{i}\"][\"Time - readCSV\"], dfQuickMean16[dfQuickMean16[\"Input case\"] == f\"random{i}\"][\"full EC\"],1, f\"Random{i} case input\", \"saddlebrown\",dots=\"v\"))\n",
    "plt.plot(-300,400,\"v\", color=\"saddlebrown\",label=\"random1 - random10\")\n",
    "for i in range(len(Rs)):\n",
    "    print(f\"random{i} R2\", Rs[i][1], \" \\n\")\n",
    "#plt.plot(0,0,\"s\", color=\"fuchsia\",label=\"worst case input\")\n",
    "# print(f\"worst R2 \", worst[1], \"\\n\")\n",
    "plt.plot(-300,400,\"d\", color=\"cyan\",label=\"best case input\")\n",
    "best = polyReg(dfQuickMean16[dfQuickMean16[\"Input case\"] == \"best\"][\"Time - readCSV\"], dfQuickMean16[dfQuickMean16[\"Input case\"] == \"best\"][\"full EC\"],1, \"Merge time for best case input\", \"cyan\",dots=\"d\",regLine=True)\n",
    "print(f\"best R2 \", best[1], \"\\n\")\n",
    "plt.title(\"Quick sort energy consumption vs wall time, with linear regression.\")\n",
    "plt.ylabel(\"Total energy (J)\")\n",
    "plt.xlabel(\"Time (ms)\")\n",
    "plt.legend(loc =\"upper left\")\n",
    "plt.grid()\n",
    "plt.xlim(-3,140)\n",
    "plt.ylim(-.05,0.9)\n",
    "plt.show()\n"
   ]
  },
  {
   "attachments": {},
   "cell_type": "markdown",
   "metadata": {},
   "source": [
    "# EC v. big-oh"
   ]
  },
  {
   "cell_type": "code",
   "execution_count": 38,
   "metadata": {},
   "outputs": [
    {
     "name": "stdout",
     "output_type": "stream",
     "text": [
      "random0 R2 0.9988945831101703  \n",
      "\n",
      "random1 R2 0.9990715560758515  \n",
      "\n",
      "random2 R2 0.9992942765314848  \n",
      "\n",
      "random3 R2 0.996371686272616  \n",
      "\n",
      "random4 R2 0.9994703303825512  \n",
      "\n",
      "random5 R2 0.9990462667601583  \n",
      "\n",
      "random6 R2 0.9973708193881528  \n",
      "\n",
      "random7 R2 0.9981161546973972  \n",
      "\n",
      "random8 R2 0.9991997855875592  \n",
      "\n",
      "random9 R2 0.9985975168826764  \n",
      "\n",
      "best R2  0.9974387958055995 \n",
      "\n"
     ]
    },
    {
     "data": {
      "image/png": "[encoded data removed]",
      "text/plain": [
       "<Figure size 720x504 with 1 Axes>"
      ]
     },
     "metadata": {
      "needs_background": "light"
     },
     "output_type": "display_data"
    }
   ],
   "source": [
    "plt.figure(figsize=(10,7))\n",
    "color = \"red\"\n",
    "\n",
    "Rs = []\n",
    "\n",
    "best = polyReg(dfQuickMean16[dfQuickMean16[\"Input case\"] == \"best\"][\"nlog(n)\"], dfQuickMean16[dfQuickMean16[\"Input case\"] == \"best\"][\"full EC\"],1, \"Merge time for best case input\", \"green\",dots=\"d\",regLine=True)\n",
    "plt.plot(200000,30000000,\"d\", color=\"green\",label=\"best case input\")\n",
    "for i in range(1,11):\n",
    "    Rs.append(polyReg(dfQuickMean16[dfQuickMean16[\"Input case\"] == f\"random{i}\"][\"nlog(n)\"], dfQuickMean16[dfQuickMean16[\"Input case\"] == f\"random{i}\"][\"full EC\"],1, f\"random{i} case input\", \"blue\",dots=\"v\"))\n",
    "plt.plot(-10000,30000000,\"v\", color=\"blue\",label=\"random1 - random10\")\n",
    "for i in range(len(Rs)):\n",
    "    print(f\"random{i} R2\", Rs[i][1], \" \\n\")\n",
    "# worst = polyReg(dfQuickMean16[dfQuickMean16[\"Input case\"] == \"worst\"][\"n^2\"], dfQuickMean16[dfQuickMean16[\"Input case\"] == \"worst\"][\"full EC\"],1, \"Merge time for worst case input\", \"fuchsia\",dots=\"s\")\n",
    "#plt.plot(0000,0000,\"s\", color=\"fuchsia\",label=\"worst case input\")\n",
    "# print(f\"worst R2 \", worst[1], \"\\n\")\n",
    "print(f\"best R2 \", best[1], \"\\n\")\n",
    "plt.title(\"Quick sort energy consumption vs n log(n) of input size n, with linear regression.\")\n",
    "plt.xlabel(\"n log(n) of input size n\")\n",
    "plt.ylabel(\"Total energy (J)\")\n",
    "plt.grid()\n",
    "plt.xlim(-10000,20500000)\n",
    "plt.ylim(-0.05, 0.9)\n",
    "plt.legend()\n",
    "plt.show()"
   ]
  },
  {
   "cell_type": "code",
   "execution_count": 39,
   "metadata": {},
   "outputs": [
    {
     "name": "stdout",
     "output_type": "stream",
     "text": [
      "random0 R2 0.9973701987502978  \n",
      "\n",
      "random1 R2 0.9990810169685957  \n",
      "\n",
      "random2 R2 0.9980054292860704  \n",
      "\n",
      "random3 R2 0.9951796535452435  \n",
      "\n",
      "random4 R2 0.998820373079689  \n",
      "\n",
      "random5 R2 0.9981775750995502  \n",
      "\n",
      "random6 R2 0.9966115572154722  \n",
      "\n",
      "random7 R2 0.998165468246672  \n",
      "\n",
      "random8 R2 0.9984266581384391  \n",
      "\n",
      "random9 R2 0.9985465957309183  \n",
      "\n",
      "best R2  0.9978153852388456 \n",
      "\n"
     ]
    },
    {
     "data": {
      "image/png": "[encoded data removed]",
      "text/plain": [
       "<Figure size 720x504 with 1 Axes>"
      ]
     },
     "metadata": {
      "needs_background": "light"
     },
     "output_type": "display_data"
    }
   ],
   "source": [
    "plt.figure(figsize=(10,7))\n",
    "color = \"red\"\n",
    "\n",
    "Rs = []\n",
    "\n",
    "best = polyReg(dfQuickMean16[dfQuickMean16[\"Input case\"] == \"best\"][\"Size\"], dfQuickMean16[dfQuickMean16[\"Input case\"] == \"best\"][\"full EC\"],1, \"Merge time for best case input\", \"green\",dots=\"d\",regLine=False)\n",
    "plt.plot(20000000,10000000,\"d\", color=\"green\",label=\"best case input\")\n",
    "for i in range(1,11):\n",
    "    Rs.append(polyReg(dfQuickMean16[dfQuickMean16[\"Input case\"] == f\"random{i}\"][\"Size\"], dfQuickMean16[dfQuickMean16[\"Input case\"] == f\"random{i}\"][\"full EC\"],1, f\"random{i} case input\", \"blue\",dots=\"v\",regLine=False))\n",
    "plt.plot(20000000,10000000,\"v\", color=\"blue\",label=\"random1 - random10\")\n",
    "for i in range(len(Rs)):\n",
    "    print(f\"random{i} R2\", Rs[i][1], \" \\n\")\n",
    "# worst = polyReg(dfQuickMean16[dfQuickMean16[\"Input case\"] == \"worst\"][\"Size\"], dfQuickMean16[dfQuickMean16[\"Input case\"] == \"worst\"][\"full EC\"],1, \"Merge time for worst case input\", \"fuchsia\",dots=\"s\",regLine=False)\n",
    "#plt.plot(0000,0000,\"s\", color=\"fuchsia\",label=\"worst case input\")\n",
    "# print(f\"worst R2 \", worst[1], \"\\n\")\n",
    "print(f\"best R2 \", best[1], \"\\n\")\n",
    "plt.title(\"Quick sort energy consumption vs input size (n).\")\n",
    "plt.xlabel(\"input size (n)\")\n",
    "plt.ylabel(\"Total energy (J)\")\n",
    "plt.grid()\n",
    "plt.xlim(-10000,1050000)\n",
    "plt.ylim(-0.05, 0.9)\n",
    "plt.legend()\n",
    "plt.show()"
   ]
  },
  {
   "cell_type": "code",
   "execution_count": 40,
   "metadata": {},
   "outputs": [
    {
     "data": {
      "image/png": "[encoded data removed]",
      "text/plain": [
       "<Figure size 720x504 with 1 Axes>"
      ]
     },
     "metadata": {
      "needs_background": "light"
     },
     "output_type": "display_data"
    }
   ],
   "source": [
    "plt.figure(figsize=(10,7))\n",
    "color = \"red\"\n",
    "\n",
    "Rs = []\n",
    "plt.plot(0000,-10000,\"v\", color=\"blue\",label=\"random1 - random10\")\n",
    "plt.plot(0000,-10000,\"d\", color=\"green\",label=\"best case input\")\n",
    "# plt.plot(0000,-10000,\"s\", color=\"fuchsia\",label=\"worst case input\")\n",
    "\n",
    "# worst = polyReg(dfQuickMean16[dfQuickMean16[\"Input case\"] == \"worst\"][\"Size\"], dfQuickMean16[dfQuickMean16[\"Input case\"] == \"worst\"][\"full EC\"],1, \"Merge time for worst case input\", \"fuchsia\",dots=\"s\",regLine=False)\n",
    "best = polyReg(dfQuickMean16[dfQuickMean16[\"Input case\"] == \"best\"][\"Size\"], dfQuickMean16[dfQuickMean16[\"Input case\"] == \"best\"][\"full EC\"],1, \"Merge time for best case input\", \"green\",dots=\"d\",regLine=False)\n",
    "for i in range(1,11):\n",
    "    Rs.append(polyReg(dfQuickMean16[dfQuickMean16[\"Input case\"] == f\"random{i}\"][\"Size\"], dfQuickMean16[dfQuickMean16[\"Input case\"] == f\"random{i}\"][\"full EC\"],1, f\"random{i} case input\", \"blue\",dots=\"v\",regLine=False))\n",
    "# for i in range(len(Rs)):\n",
    "#     print(f\"random{i} R2\", Rs[i][1], \" \\n\")\n",
    "# print(f\"worst R2 \", worst[1], \"\\n\")\n",
    "# print(f\"best R2 \", best[1], \"\\n\")\n",
    "plt.title(\"Quick sort energy consumption vs input size (n).\")\n",
    "plt.xlabel(\"Input size (n)\")\n",
    "plt.ylabel(\"Total energy (J)\")\n",
    "plt.grid()\n",
    "plt.legend()\n",
    "plt.ylim(-25, 1010)\n",
    "plt.show()"
   ]
  }
 ],
 "metadata": {
  "kernelspec": {
   "display_name": "base",
   "language": "python",
   "name": "python3"
  },
  "language_info": {
   "codemirror_mode": {
    "name": "ipython",
    "version": 3
   },
   "file_extension": ".py",
   "mimetype": "text/x-python",
   "name": "python",
   "nbconvert_exporter": "python",
   "pygments_lexer": "ipython3",
   "version": "3.8.3"
  },
  "orig_nbformat": 4
 },
 "nbformat": 4,
 "nbformat_minor": 2
}
