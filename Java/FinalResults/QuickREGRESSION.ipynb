{
 "cells": [
  {
   "attachments": {},
   "cell_type": "markdown",
   "metadata": {},
   "source": [
    "# Data analysis for all data collected during our project\n",
    " "
   ]
  },
  {
   "attachments": {},
   "cell_type": "markdown",
   "metadata": {},
   "source": [
    "#### imports and  loading Data "
   ]
  },
  {
   "cell_type": "code",
   "execution_count": 1,
   "metadata": {},
   "outputs": [],
   "source": [
    "import pandas as pd\n",
    "import matplotlib.pyplot as plt\n",
    "import numpy as np\n",
    "import seaborn as sns\n",
    "\n",
    "dfCounting6 = pd.read_csv(\"Results6/quickSort-PC6.csv\")\n",
    "dfCounting6.columns=[\"Test name\",\"PKG (J)\",\"CPU (J)\",\"GPU (J)\",\"Memory (J)\",\"Temperature\",\"Time (ms)\"]\n",
    "\n",
    "dfCounting16 = pd.read_csv(\"Results16/quickSort-PC16.csv\")\n",
    "dfCounting16.columns=[\"Test name\",\"PKG (J)\",\"CPU (J)\",\"GPU (J)\",\"Memory (J)\",\"Temperature\",\"Time (ms)\"]\n",
    "\n",
    "dfCounting21 = pd.read_csv(\"Results21/quickSort-PC21.csv\")\n",
    "dfCounting21.columns=[\"Test name\",\"PKG (J)\",\"CPU (J)\",\"GPU (J)\",\"Memory (J)\",\"Temperature\",\"Time (ms)\"]\n",
    "\n",
    "dfCounting23 = pd.read_csv(\"Results23/quickSort-PC23.csv\")\n",
    "dfCounting23.columns=[\"Test name\",\"PKG (J)\",\"CPU (J)\",\"GPU (J)\",\"Memory (J)\",\"Temperature\",\"Time (ms)\"]\n",
    "\n",
    "dfReadCSV6 = pd.read_csv(\"Results6/readCSV-PC6.csv\")\n",
    "dfReadCSV6.columns=[\"Test name\",\"PKG (J)\",\"CPU (J)\",\"GPU (J)\",\"Memory (J)\",\"Temperature\",\"Time (ms)\"]\n",
    "\n",
    "dfReadCSV16 = pd.read_csv(\"Results16/readCSV-PC16.csv\")\n",
    "dfReadCSV16.columns=[\"Test name\",\"PKG (J)\",\"CPU (J)\",\"GPU (J)\",\"Memory (J)\",\"Temperature\",\"Time (ms)\"]\n",
    "# \n",
    "dfReadCSV21 = pd.read_csv(\"Results21/readCSV-PC21.csv\")\n",
    "dfReadCSV21.columns=[\"Test name\",\"PKG (J)\",\"CPU (J)\",\"GPU (J)\",\"Memory (J)\",\"Temperature\",\"Time (ms)\"]\n",
    "\n",
    "dfReadCSV23 = pd.read_csv(\"Results23/readCSV-PC23.csv\")\n",
    "dfReadCSV23.columns=[\"Test name\",\"PKG (J)\",\"CPU (J)\",\"GPU (J)\",\"Memory (J)\",\"Temperature\",\"Time (ms)\"]"
   ]
  },
  {
   "attachments": {},
   "cell_type": "markdown",
   "metadata": {},
   "source": [
    "## Counting sort"
   ]
  },
  {
   "cell_type": "code",
   "execution_count": 2,
   "metadata": {},
   "outputs": [],
   "source": [
    "def removeNonsense(df):\n",
    "    df = df[df[\"PKG (J)\"]>=0]\n",
    "    df = df[df[\"CPU (J)\"]>=0]\n",
    "    df = df[df[\"Time (ms)\"]>=0]\n",
    "    return df\n",
    "\n",
    "dfC6 = removeNonsense(dfCounting6)\n",
    "dfC16 = removeNonsense(dfCounting16)\n",
    "dfC21 = removeNonsense(dfCounting21)\n",
    "dfC23 = removeNonsense(dfCounting23)\n",
    "\n",
    "\n",
    "dfR6 = removeNonsense(dfReadCSV6)\n",
    "dfR16 = removeNonsense(dfReadCSV16)\n",
    "dfR21 = removeNonsense(dfReadCSV21)\n",
    "dfR23 = removeNonsense(dfReadCSV23)\n"
   ]
  },
  {
   "cell_type": "code",
   "execution_count": 3,
   "metadata": {},
   "outputs": [
    {
     "name": "stdout",
     "output_type": "stream",
     "text": [
      "             Test name   PKG (J)   CPU (J) GPU (J)  Memory (J)  Temperature  \\\n",
      "0      random1-25000-1  1.962158  1.692078            0.127014           34   \n",
      "1      random1-25000-1  2.023621  1.674500            0.149536           34   \n",
      "2      random1-25000-1  2.120483  1.841614            0.138977           34   \n",
      "3      random1-25000-1  2.118164  1.841858            0.134216           34   \n",
      "4      random1-25000-1  2.049316  1.782532            0.127319           34   \n",
      "...                ...       ...       ...     ...         ...          ...   \n",
      "14073   best-1000000-1  7.147827  6.179016            0.391418           68   \n",
      "14074   best-1000000-1  7.349426  6.347900            0.425720           68   \n",
      "14075   best-1000000-1  7.313232  6.347717            0.419617           68   \n",
      "14076   best-1000000-1  7.535034  6.532166            0.428528           68   \n",
      "14077   best-1000000-1  7.502014  6.471680            0.431274           67   \n",
      "\n",
      "       Time (ms) Input case  \n",
      "0        229.315    random1  \n",
      "1        328.975    random1  \n",
      "2        228.547    random1  \n",
      "3        228.787    random1  \n",
      "4        222.677    random1  \n",
      "...          ...        ...  \n",
      "14073    793.451       best  \n",
      "14074    796.630       best  \n",
      "14075    757.244       best  \n",
      "14076    792.646       best  \n",
      "14077    828.790       best  \n",
      "\n",
      "[14067 rows x 8 columns]\n"
     ]
    }
   ],
   "source": [
    "def makeinputColumn(df):\n",
    "    l = []\n",
    "    for i in range(len(df)):\n",
    "        l.append(df.iloc[i][\"Test name\"].split(\"-\")[0])\n",
    "\n",
    "    df[\"Input case\"] = l\n",
    "\n",
    "makeinputColumn(dfC6)\n",
    "makeinputColumn(dfC16)\n",
    "makeinputColumn(dfC21)\n",
    "makeinputColumn(dfC23)\n",
    "print(dfC16)\n",
    "\n",
    "def makeinputColumn_readCSV(df):\n",
    "    l = []\n",
    "    for i in range(len(df)):\n",
    "        l.append(df.iloc[i][\"Test name\"].split(\"-\")[1].lower())\n",
    "    df[\"Input case\"] = l\n",
    "    \n",
    "makeinputColumn_readCSV(dfR6)\n",
    "makeinputColumn_readCSV(dfR16)\n",
    "makeinputColumn_readCSV(dfR21)\n",
    "makeinputColumn_readCSV(dfR23)\n"
   ]
  },
  {
   "cell_type": "code",
   "execution_count": 4,
   "metadata": {},
   "outputs": [],
   "source": [
    "def makeSizecolumn(df):\n",
    "    l = []\n",
    "    for i in range(len(df)):\n",
    "        l.append(int(df.iloc[i][\"Test name\"].split(\"-\")[1]))\n",
    "\n",
    "    df[\"Size\"] = l\n",
    "makeSizecolumn(dfC6)\n",
    "makeSizecolumn(dfC16)\n",
    "makeSizecolumn(dfC21)\n",
    "makeSizecolumn(dfC23)\n",
    "\n",
    "def makeSizecolumn_readCSV(df):\n",
    "    l = []\n",
    "    for i in range(len(df)):\n",
    "        l.append(int(df.iloc[i][\"Test name\"].split(\"-\")[-1]))\n",
    "\n",
    "    df[\"Size\"] = l\n",
    "\n",
    "makeSizecolumn_readCSV(dfR6)\n",
    "makeSizecolumn_readCSV(dfR16)\n",
    "makeSizecolumn_readCSV(dfR21)\n",
    "makeSizecolumn_readCSV(dfR23)"
   ]
  },
  {
   "cell_type": "code",
   "execution_count": 5,
   "metadata": {},
   "outputs": [
    {
     "name": "stdout",
     "output_type": "stream",
     "text": [
      "C6: 14069\n",
      "C16: 14067\n",
      "C21: 14070\n",
      "C23: 14068\n",
      "R6: 41599\n",
      "R16: 41599\n",
      "R21: 41599\n",
      "R23: 41599\n"
     ]
    }
   ],
   "source": [
    "print(f\"C6: {len(dfC6)}\")\n",
    "print(f\"C16: {len(dfC16)}\")\n",
    "print(f\"C21: {len(dfC21)}\")\n",
    "print(f\"C23: {len(dfC23)}\")\n",
    "print(f\"R6: {len(dfR6)}\")\n",
    "print(f\"R16: {len(dfR16)}\")\n",
    "print(f\"R21: {len(dfR21)}\")\n",
    "print(f\"R23: {len(dfR23)}\")"
   ]
  },
  {
   "attachments": {},
   "cell_type": "markdown",
   "metadata": {},
   "source": [
    "### remove outliers"
   ]
  },
  {
   "cell_type": "code",
   "execution_count": 6,
   "metadata": {},
   "outputs": [],
   "source": [
    "def remove_outliers(df, type, size, col):\n",
    "    q1 = df[df[\"Input case\"] == type][df[\"Size\"]==size][col].quantile(q=0.25)\n",
    "    q3 = df[df[\"Input case\"] == type][df[\"Size\"]==size][col].quantile(q=0.75)\n",
    "    IQR = q3 - q1 \n",
    "    LF = q1 - 1.5* IQR\n",
    "    UF = q3 + 1.5* IQR\n",
    "    # print(col)\n",
    "    # print(df[df[\"Input case\"] == type][df[\"Size\"]==size][df[col]>UF])\n",
    "    # print(df[df[\"Input case\"] == type][df[\"Size\"]==size][df[col]<LF])\n",
    "    #print(f\"For size, case: {size},{type}. Lower fence: {LF} Upper fence: {UF}.\")\n",
    "    df = df[df[\"Input case\"] == type][df[\"Size\"]==size][df[col] <= UF]\n",
    "    df = df[df[\"Input case\"] == type][df[\"Size\"]==size][df[col] >= LF]\n",
    "    return df"
   ]
  },
  {
   "cell_type": "code",
   "execution_count": 7,
   "metadata": {},
   "outputs": [
    {
     "name": "stderr",
     "output_type": "stream",
     "text": [
      "C:\\Users\\mathi\\AppData\\Local\\Temp/ipykernel_22096/388745506.py:2: UserWarning: Boolean Series key will be reindexed to match DataFrame index.\n",
      "  q1 = df[df[\"Input case\"] == type][df[\"Size\"]==size][col].quantile(q=0.25)\n",
      "C:\\Users\\mathi\\AppData\\Local\\Temp/ipykernel_22096/388745506.py:3: UserWarning: Boolean Series key will be reindexed to match DataFrame index.\n",
      "  q3 = df[df[\"Input case\"] == type][df[\"Size\"]==size][col].quantile(q=0.75)\n",
      "C:\\Users\\mathi\\AppData\\Local\\Temp/ipykernel_22096/388745506.py:11: UserWarning: Boolean Series key will be reindexed to match DataFrame index.\n",
      "  df = df[df[\"Input case\"] == type][df[\"Size\"]==size][df[col] <= UF]\n"
     ]
    }
   ],
   "source": [
    "def remove_outliers_for_pc(df):\n",
    "    s = [25000,50000,75000,100000,200000,300000,400000,500000,600000,700000,800000,900000,1000000]\n",
    "    c = [\"best\", \"worst\", \"random1\",\"random2\",\"random3\",\"random4\",\"random5\",\"random6\",\"random7\",\"random8\",\"random9\",\"random10\",]\n",
    "    col = [\"CPU (J)\", \"Memory (J)\", \"Temperature\",\"Time (ms)\", \"PKG (J)\"]\n",
    "    for case in c:\n",
    "        for size in s:\n",
    "            for column in col:\n",
    "                df = remove_outliers(df, case, size, column)\n",
    "remove_outliers_for_pc(dfC6)\n",
    "remove_outliers_for_pc(dfC16)\n",
    "remove_outliers_for_pc(dfC21)\n",
    "remove_outliers_for_pc(dfC23)\n",
    "remove_outliers_for_pc(dfR6)\n",
    "remove_outliers_for_pc(dfR16)\n",
    "remove_outliers_for_pc(dfR21)\n",
    "remove_outliers_for_pc(dfR23)"
   ]
  },
  {
   "cell_type": "code",
   "execution_count": 8,
   "metadata": {},
   "outputs": [
    {
     "name": "stdout",
     "output_type": "stream",
     "text": [
      "C6: 14069\n",
      "C16: 14067\n",
      "C21: 14070\n",
      "C23: 14068\n",
      "R6: 41599\n",
      "R16: 41599\n",
      "R21: 41599\n",
      "R23: 41599\n"
     ]
    }
   ],
   "source": [
    "print(f\"C6: {len(dfC6)}\")\n",
    "print(f\"C16: {len(dfC16)}\")\n",
    "print(f\"C21: {len(dfC21)}\")\n",
    "print(f\"C23: {len(dfC23)}\")\n",
    "print(f\"R6: {len(dfR6)}\")\n",
    "print(f\"R16: {len(dfR16)}\")\n",
    "print(f\"R21: {len(dfR21)}\")\n",
    "print(f\"R23: {len(dfR23)}\")"
   ]
  },
  {
   "cell_type": "code",
   "execution_count": 49,
   "metadata": {},
   "outputs": [
    {
     "name": "stderr",
     "output_type": "stream",
     "text": [
      "C:\\Users\\mathi\\AppData\\Local\\Temp/ipykernel_22096/3051381609.py:2: UserWarning: Boolean Series key will be reindexed to match DataFrame index.\n",
      "  meandf = df[df[\"Input case\"] == type][df[\"Size\"]==size].mean()\n",
      "C:\\Users\\mathi\\AppData\\Local\\Temp/ipykernel_22096/3051381609.py:2: FutureWarning: Dropping of nuisance columns in DataFrame reductions (with 'numeric_only=None') is deprecated; in a future version this will raise TypeError.  Select only valid columns before calling the reduction.\n",
      "  meandf = df[df[\"Input case\"] == type][df[\"Size\"]==size].mean()\n"
     ]
    }
   ],
   "source": [
    "def meanData(df,type,size):\n",
    "    meandf = df[df[\"Input case\"] == type][df[\"Size\"]==size].mean()\n",
    "    meandf[\"Input case\"] = type\n",
    "    return meandf\n",
    "\n",
    "def mean_of_dataset(df):\n",
    "    s = [25000,50000,75000,100000,200000,300000,400000,500000] #,600000,700000,800000,900000,1000000]\n",
    "    c = [\"best\", \"worst\", \"random1\",\"random2\",\"random3\",\"random4\",\"random5\",\"random6\",\"random7\",\"random8\",\"random9\",\"random10\",]\n",
    "    l = []\n",
    "    for case in c:\n",
    "        if case == \"worst\":\n",
    "            for size in s:\n",
    "                l.append(meanData(df, case, size))   \n",
    "    \n",
    "    dfMeans = pd.concat([series.to_frame().T for series in l], ignore_index=True)\n",
    "    return dfMeans\n",
    "\n",
    "meanC6 = mean_of_dataset(dfC6)\n",
    "meanC16 = mean_of_dataset(dfC16)\n",
    "meanC21 = mean_of_dataset(dfC21)\n",
    "meanC23 = mean_of_dataset(dfC23)\n",
    "\n"
   ]
  },
  {
   "cell_type": "code",
   "execution_count": 22,
   "metadata": {},
   "outputs": [
    {
     "data": {
      "text/html": [
       "<div>\n",
       "<style scoped>\n",
       "    .dataframe tbody tr th:only-of-type {\n",
       "        vertical-align: middle;\n",
       "    }\n",
       "\n",
       "    .dataframe tbody tr th {\n",
       "        vertical-align: top;\n",
       "    }\n",
       "\n",
       "    .dataframe thead th {\n",
       "        text-align: right;\n",
       "    }\n",
       "</style>\n",
       "<table border=\"1\" class=\"dataframe\">\n",
       "  <thead>\n",
       "    <tr style=\"text-align: right;\">\n",
       "      <th></th>\n",
       "      <th>PKG (J)</th>\n",
       "      <th>CPU (J)</th>\n",
       "      <th>Memory (J)</th>\n",
       "      <th>Temperature</th>\n",
       "      <th>Time (ms)</th>\n",
       "      <th>Size</th>\n",
       "      <th>Input case</th>\n",
       "    </tr>\n",
       "  </thead>\n",
       "  <tbody>\n",
       "    <tr>\n",
       "      <th>0</th>\n",
       "      <td>1.603815</td>\n",
       "      <td>1.366123</td>\n",
       "      <td>0.096176</td>\n",
       "      <td>59.26</td>\n",
       "      <td>187.543593</td>\n",
       "      <td>25000.0</td>\n",
       "      <td>best</td>\n",
       "    </tr>\n",
       "    <tr>\n",
       "      <th>1</th>\n",
       "      <td>2.161093</td>\n",
       "      <td>1.859081</td>\n",
       "      <td>0.131125</td>\n",
       "      <td>61.25</td>\n",
       "      <td>233.795242</td>\n",
       "      <td>50000.0</td>\n",
       "      <td>best</td>\n",
       "    </tr>\n",
       "    <tr>\n",
       "      <th>2</th>\n",
       "      <td>2.696685</td>\n",
       "      <td>2.333353</td>\n",
       "      <td>0.163701</td>\n",
       "      <td>63.9475</td>\n",
       "      <td>276.026345</td>\n",
       "      <td>75000.0</td>\n",
       "      <td>best</td>\n",
       "    </tr>\n",
       "    <tr>\n",
       "      <th>3</th>\n",
       "      <td>3.152685</td>\n",
       "      <td>2.73391</td>\n",
       "      <td>0.190914</td>\n",
       "      <td>65.89</td>\n",
       "      <td>315.825212</td>\n",
       "      <td>100000.0</td>\n",
       "      <td>best</td>\n",
       "    </tr>\n",
       "    <tr>\n",
       "      <th>4</th>\n",
       "      <td>4.18897</td>\n",
       "      <td>3.637285</td>\n",
       "      <td>0.249111</td>\n",
       "      <td>67.0375</td>\n",
       "      <td>417.551507</td>\n",
       "      <td>200000.0</td>\n",
       "      <td>best</td>\n",
       "    </tr>\n",
       "    <tr>\n",
       "      <th>...</th>\n",
       "      <td>...</td>\n",
       "      <td>...</td>\n",
       "      <td>...</td>\n",
       "      <td>...</td>\n",
       "      <td>...</td>\n",
       "      <td>...</td>\n",
       "      <td>...</td>\n",
       "    </tr>\n",
       "    <tr>\n",
       "      <th>138</th>\n",
       "      <td>6.65318</td>\n",
       "      <td>5.771539</td>\n",
       "      <td>0.362921</td>\n",
       "      <td>70.475</td>\n",
       "      <td>671.021975</td>\n",
       "      <td>600000.0</td>\n",
       "      <td>random10</td>\n",
       "    </tr>\n",
       "    <tr>\n",
       "      <th>139</th>\n",
       "      <td>7.016525</td>\n",
       "      <td>6.074104</td>\n",
       "      <td>0.375177</td>\n",
       "      <td>71.85</td>\n",
       "      <td>726.55195</td>\n",
       "      <td>700000.0</td>\n",
       "      <td>random10</td>\n",
       "    </tr>\n",
       "    <tr>\n",
       "      <th>140</th>\n",
       "      <td>7.675723</td>\n",
       "      <td>6.640553</td>\n",
       "      <td>0.408925</td>\n",
       "      <td>69.5</td>\n",
       "      <td>814.478425</td>\n",
       "      <td>800000.0</td>\n",
       "      <td>random10</td>\n",
       "    </tr>\n",
       "    <tr>\n",
       "      <th>141</th>\n",
       "      <td>8.371547</td>\n",
       "      <td>7.252245</td>\n",
       "      <td>0.435071</td>\n",
       "      <td>71.25</td>\n",
       "      <td>890.75345</td>\n",
       "      <td>900000.0</td>\n",
       "      <td>random10</td>\n",
       "    </tr>\n",
       "    <tr>\n",
       "      <th>142</th>\n",
       "      <td>8.537903</td>\n",
       "      <td>7.41246</td>\n",
       "      <td>0.441132</td>\n",
       "      <td>70.125</td>\n",
       "      <td>931.041825</td>\n",
       "      <td>1000000.0</td>\n",
       "      <td>random10</td>\n",
       "    </tr>\n",
       "  </tbody>\n",
       "</table>\n",
       "<p>143 rows × 7 columns</p>\n",
       "</div>"
      ],
      "text/plain": [
       "      PKG (J)   CPU (J) Memory (J) Temperature   Time (ms)       Size  \\\n",
       "0    1.603815  1.366123   0.096176       59.26  187.543593    25000.0   \n",
       "1    2.161093  1.859081   0.131125       61.25  233.795242    50000.0   \n",
       "2    2.696685  2.333353   0.163701     63.9475  276.026345    75000.0   \n",
       "3    3.152685   2.73391   0.190914       65.89  315.825212   100000.0   \n",
       "4     4.18897  3.637285   0.249111     67.0375  417.551507   200000.0   \n",
       "..        ...       ...        ...         ...         ...        ...   \n",
       "138   6.65318  5.771539   0.362921      70.475  671.021975   600000.0   \n",
       "139  7.016525  6.074104   0.375177       71.85   726.55195   700000.0   \n",
       "140  7.675723  6.640553   0.408925        69.5  814.478425   800000.0   \n",
       "141  8.371547  7.252245   0.435071       71.25   890.75345   900000.0   \n",
       "142  8.537903   7.41246   0.441132      70.125  931.041825  1000000.0   \n",
       "\n",
       "    Input case  \n",
       "0         best  \n",
       "1         best  \n",
       "2         best  \n",
       "3         best  \n",
       "4         best  \n",
       "..         ...  \n",
       "138   random10  \n",
       "139   random10  \n",
       "140   random10  \n",
       "141   random10  \n",
       "142   random10  \n",
       "\n",
       "[143 rows x 7 columns]"
      ]
     },
     "execution_count": 22,
     "metadata": {},
     "output_type": "execute_result"
    }
   ],
   "source": [
    "meanC16"
   ]
  },
  {
   "cell_type": "code",
   "execution_count": 23,
   "metadata": {},
   "outputs": [
    {
     "name": "stderr",
     "output_type": "stream",
     "text": [
      "C:\\Users\\mathi\\AppData\\Local\\Temp/ipykernel_22096/86660558.py:2: UserWarning: Boolean Series key will be reindexed to match DataFrame index.\n",
      "  meandf = df[df[\"Input case\"] == type][df[\"Size\"]==size].mean()\n",
      "C:\\Users\\mathi\\AppData\\Local\\Temp/ipykernel_22096/86660558.py:2: FutureWarning: Dropping of nuisance columns in DataFrame reductions (with 'numeric_only=None') is deprecated; in a future version this will raise TypeError.  Select only valid columns before calling the reduction.\n",
      "  meandf = df[df[\"Input case\"] == type][df[\"Size\"]==size].mean()\n"
     ]
    }
   ],
   "source": [
    "\n",
    "def list_of_case(df):\n",
    "    l = []\n",
    "    for i in range(len(df)):\n",
    "        if df[\"Input case\"].iloc[i] not in l:\n",
    "            l.append(df[\"Input case\"].iloc[i])\n",
    "    return l\n",
    "\n",
    "\n",
    "def mean_of_dataset_readCSV(df):\n",
    "    s = [25000,50000,75000,100000,200000,300000,400000,500000,600000,700000,800000,900000,1000000]\n",
    "    c = list_of_case(df)\n",
    "    l = []\n",
    "    for case in range(len(c)):\n",
    "        for size in range(len(s)):\n",
    "            l.append(meanData(df, c[case], s[size]))  \n",
    "\n",
    "    dfMeans = pd.concat([series.to_frame().T  for series in l], ignore_index=True)\n",
    "    return dfMeans\n",
    "\n",
    "\n",
    "meanR6 = mean_of_dataset_readCSV(dfR6)\n",
    "meanR16 = mean_of_dataset_readCSV(dfR16)\n",
    "meanR21 = mean_of_dataset_readCSV(dfR21)\n",
    "meanR23 = mean_of_dataset_readCSV(dfR23)"
   ]
  },
  {
   "cell_type": "code",
   "execution_count": 50,
   "metadata": {},
   "outputs": [
    {
     "data": {
      "text/html": [
       "<div>\n",
       "<style scoped>\n",
       "    .dataframe tbody tr th:only-of-type {\n",
       "        vertical-align: middle;\n",
       "    }\n",
       "\n",
       "    .dataframe tbody tr th {\n",
       "        vertical-align: top;\n",
       "    }\n",
       "\n",
       "    .dataframe thead th {\n",
       "        text-align: right;\n",
       "    }\n",
       "</style>\n",
       "<table border=\"1\" class=\"dataframe\">\n",
       "  <thead>\n",
       "    <tr style=\"text-align: right;\">\n",
       "      <th></th>\n",
       "      <th>PKG (J)</th>\n",
       "      <th>CPU (J)</th>\n",
       "      <th>Memory (J)</th>\n",
       "      <th>Temperature</th>\n",
       "      <th>Time (ms)</th>\n",
       "      <th>Size</th>\n",
       "      <th>Input case</th>\n",
       "    </tr>\n",
       "  </thead>\n",
       "  <tbody>\n",
       "    <tr>\n",
       "      <th>0</th>\n",
       "      <td>5.856885</td>\n",
       "      <td>5.127921</td>\n",
       "      <td>0.243954</td>\n",
       "      <td>71.0325</td>\n",
       "      <td>608.482677</td>\n",
       "      <td>25000.0</td>\n",
       "      <td>worst</td>\n",
       "    </tr>\n",
       "    <tr>\n",
       "      <th>1</th>\n",
       "      <td>13.603293</td>\n",
       "      <td>11.949443</td>\n",
       "      <td>0.422971</td>\n",
       "      <td>68.4175</td>\n",
       "      <td>1642.1829</td>\n",
       "      <td>50000.0</td>\n",
       "      <td>worst</td>\n",
       "    </tr>\n",
       "    <tr>\n",
       "      <th>2</th>\n",
       "      <td>27.592606</td>\n",
       "      <td>24.318024</td>\n",
       "      <td>0.7342</td>\n",
       "      <td>66.09</td>\n",
       "      <td>3423.134</td>\n",
       "      <td>75000.0</td>\n",
       "      <td>worst</td>\n",
       "    </tr>\n",
       "    <tr>\n",
       "      <th>3</th>\n",
       "      <td>47.159001</td>\n",
       "      <td>41.590818</td>\n",
       "      <td>1.165527</td>\n",
       "      <td>65.385965</td>\n",
       "      <td>5985.651353</td>\n",
       "      <td>100000.0</td>\n",
       "      <td>worst</td>\n",
       "    </tr>\n",
       "    <tr>\n",
       "      <th>4</th>\n",
       "      <td>172.251945</td>\n",
       "      <td>152.371327</td>\n",
       "      <td>3.855217</td>\n",
       "      <td>66.065163</td>\n",
       "      <td>21852.101754</td>\n",
       "      <td>200000.0</td>\n",
       "      <td>worst</td>\n",
       "    </tr>\n",
       "    <tr>\n",
       "      <th>5</th>\n",
       "      <td>396.443233</td>\n",
       "      <td>350.656779</td>\n",
       "      <td>8.6648</td>\n",
       "      <td>65.145</td>\n",
       "      <td>50643.67425</td>\n",
       "      <td>300000.0</td>\n",
       "      <td>worst</td>\n",
       "    </tr>\n",
       "    <tr>\n",
       "      <th>6</th>\n",
       "      <td>673.930628</td>\n",
       "      <td>595.935216</td>\n",
       "      <td>14.840654</td>\n",
       "      <td>63.619824</td>\n",
       "      <td>86596.969134</td>\n",
       "      <td>400000.0</td>\n",
       "      <td>worst</td>\n",
       "    </tr>\n",
       "    <tr>\n",
       "      <th>7</th>\n",
       "      <td>1050.987042</td>\n",
       "      <td>927.818574</td>\n",
       "      <td>24.062395</td>\n",
       "      <td>61.602537</td>\n",
       "      <td>136925.219873</td>\n",
       "      <td>500000.0</td>\n",
       "      <td>worst</td>\n",
       "    </tr>\n",
       "  </tbody>\n",
       "</table>\n",
       "</div>"
      ],
      "text/plain": [
       "       PKG (J)     CPU (J) Memory (J) Temperature      Time (ms)      Size  \\\n",
       "0     5.856885    5.127921   0.243954     71.0325     608.482677   25000.0   \n",
       "1    13.603293   11.949443   0.422971     68.4175      1642.1829   50000.0   \n",
       "2    27.592606   24.318024     0.7342       66.09       3423.134   75000.0   \n",
       "3    47.159001   41.590818   1.165527   65.385965    5985.651353  100000.0   \n",
       "4   172.251945  152.371327   3.855217   66.065163   21852.101754  200000.0   \n",
       "5   396.443233  350.656779     8.6648      65.145    50643.67425  300000.0   \n",
       "6   673.930628  595.935216  14.840654   63.619824   86596.969134  400000.0   \n",
       "7  1050.987042  927.818574  24.062395   61.602537  136925.219873  500000.0   \n",
       "\n",
       "  Input case  \n",
       "0      worst  \n",
       "1      worst  \n",
       "2      worst  \n",
       "3      worst  \n",
       "4      worst  \n",
       "5      worst  \n",
       "6      worst  \n",
       "7      worst  "
      ]
     },
     "execution_count": 50,
     "metadata": {},
     "output_type": "execute_result"
    }
   ],
   "source": [
    "meanC6 = meanC6.reset_index(drop=True)\n",
    "meanC16 = meanC16.reset_index(drop=True)\n",
    "meanC21 = meanC21.reset_index(drop=True)\n",
    "meanC23 = meanC23.reset_index(drop=True)\n",
    "meanR6 = meanR6.reset_index(drop=True)\n",
    "meanR16 = meanR16.reset_index(drop=True)\n",
    "meanR21 = meanR21.reset_index(drop=True)\n",
    "meanR23 = meanR23.reset_index(drop=True)\n",
    "meanC16"
   ]
  },
  {
   "cell_type": "code",
   "execution_count": 51,
   "metadata": {},
   "outputs": [
    {
     "name": "stderr",
     "output_type": "stream",
     "text": [
      "C:\\Users\\mathi\\AppData\\Local\\Temp/ipykernel_22096/3462347420.py:17: UserWarning: Boolean Series key will be reindexed to match DataFrame index.\n",
      "  Rc = meanR[meanR[\"Input case\"] == case2][meanR[\"Size\"]==size][\"CPU (J)\"][meanR[meanR[\"Input case\"] == case2][meanR[\"Size\"]==size][\"CPU (J)\"].index.tolist()[0]]\n",
      "C:\\Users\\mathi\\AppData\\Local\\Temp/ipykernel_22096/3462347420.py:21: UserWarning: Boolean Series key will be reindexed to match DataFrame index.\n",
      "  Rt = meanR[meanR[\"Input case\"] == case2][meanR[\"Size\"]==size][\"Time (ms)\"][meanR[meanR[\"Input case\"] == case2][meanR[\"Size\"]==size][\"Time (ms)\"].index.tolist()[0]]\n",
      "C:\\Users\\mathi\\AppData\\Local\\Temp/ipykernel_22096/3462347420.py:25: UserWarning: Boolean Series key will be reindexed to match DataFrame index.\n",
      "  Rm = meanR[meanR[\"Input case\"] == case2][meanR[\"Size\"]==size][\"Memory (J)\"][meanR[meanR[\"Input case\"] == case2][meanR[\"Size\"]==size][\"Memory (J)\"].index.tolist()[0]]\n"
     ]
    }
   ],
   "source": [
    "def makeCPU_sub_readCSV(meanC, meanR):\n",
    "    lc = []\n",
    "    lt = []\n",
    "    lm = []\n",
    "\n",
    "    for i in range(len(meanC[\"Size\"])):\n",
    "        case = meanC[\"Input case\"][i]\n",
    "        size = meanC[\"Size\"][i]\n",
    "        if case == \"best\":\n",
    "                case2 = \"countingbest\"\n",
    "        if case == \"worst\":\n",
    "            case2 = \"countingworst\"\n",
    "        if case.startswith(\"random\"):\n",
    "            case2 = \"countingrandom\"+case.split(\"m\")[-1]\n",
    "\n",
    "        Cc = meanC[meanC[\"Input case\"] == case][meanC[\"Size\"]==size][\"CPU (J)\"][meanC[meanC[\"Input case\"] == case][meanC[\"Size\"]==size][\"CPU (J)\"].index.tolist()[0]]\n",
    "        Rc = meanR[meanR[\"Input case\"] == case2][meanR[\"Size\"]==size][\"CPU (J)\"][meanR[meanR[\"Input case\"] == case2][meanR[\"Size\"]==size][\"CPU (J)\"].index.tolist()[0]]\n",
    "        lc.append(Cc-Rc)\n",
    "\n",
    "        Ct = meanC[meanC[\"Input case\"] == case][meanC[\"Size\"]==size][\"Time (ms)\"][meanC[meanC[\"Input case\"] == case][meanC[\"Size\"]==size][\"Time (ms)\"].index.tolist()[0]]\n",
    "        Rt = meanR[meanR[\"Input case\"] == case2][meanR[\"Size\"]==size][\"Time (ms)\"][meanR[meanR[\"Input case\"] == case2][meanR[\"Size\"]==size][\"Time (ms)\"].index.tolist()[0]]\n",
    "        lt.append(Ct-Rt)\n",
    "\n",
    "        Cm = meanC[meanC[\"Input case\"] == case][meanC[\"Size\"]==size][\"Memory (J)\"][meanC[meanC[\"Input case\"] == case][meanC[\"Size\"]==size][\"Memory (J)\"].index.tolist()[0]]\n",
    "        Rm = meanR[meanR[\"Input case\"] == case2][meanR[\"Size\"]==size][\"Memory (J)\"][meanR[meanR[\"Input case\"] == case2][meanR[\"Size\"]==size][\"Memory (J)\"].index.tolist()[0]]\n",
    "        lm.append(Cm-Rm)\n",
    "\n",
    "    meanC[\"CPU - readCSV\"] = lc\n",
    "    meanC[\"Time - readCSV\"] = lt\n",
    "    meanC[\"Memory - readCSV\"] = lm\n",
    "\n",
    "\n",
    "makeCPU_sub_readCSV(meanC6, meanR6)\n",
    "makeCPU_sub_readCSV(meanC16, meanR16)\n",
    "makeCPU_sub_readCSV(meanC21, meanR21)\n",
    "makeCPU_sub_readCSV(meanC23, meanR23)\n",
    "\n"
   ]
  },
  {
   "cell_type": "code",
   "execution_count": 52,
   "metadata": {},
   "outputs": [
    {
     "name": "stdout",
     "output_type": "stream",
     "text": [
      "Empty DataFrame\n",
      "Columns: [PKG (J), CPU (J), Memory (J), Temperature, Time (ms), Size, Input case, CPU - readCSV, Time - readCSV, Memory - readCSV]\n",
      "Index: []\n",
      "Empty DataFrame\n",
      "Columns: [PKG (J), CPU (J), Memory (J), Temperature, Time (ms), Size, Input case, CPU - readCSV, Time - readCSV, Memory - readCSV]\n",
      "Index: []\n",
      "       PKG (J)     CPU (J) Memory (J) Temperature      Time (ms)      Size  \\\n",
      "3    46.447702   41.216213   1.145212     59.9675     5949.08185  100000.0   \n",
      "4   169.403395  151.029199   3.821075       59.96      21969.804  200000.0   \n",
      "5   385.748335   343.89844   8.487252   59.426065   50378.642607  300000.0   \n",
      "6   665.327455  590.468909  14.613881   59.939698   86628.765578  400000.0   \n",
      "7  1045.007518  923.671066  23.753205   59.605042  136981.430672  500000.0   \n",
      "\n",
      "  Input case  CPU - readCSV  Time - readCSV  Memory - readCSV  \n",
      "3      worst      38.041963     5627.635380          0.944429  \n",
      "4      worst     147.162847    21568.671938          3.580301  \n",
      "5      worst     339.616057    49927.310994          8.220345  \n",
      "6      worst     585.680607    86127.607313         14.316191  \n",
      "7      worst     918.658566   136435.605440         23.443908  \n",
      "Empty DataFrame\n",
      "Columns: [PKG (J), CPU (J), Memory (J), Temperature, Time (ms), Size, Input case, CPU - readCSV, Time - readCSV, Memory - readCSV]\n",
      "Index: []\n"
     ]
    }
   ],
   "source": [
    "print(meanC6[meanC6[\"Temperature\"]<60])\n",
    "print(meanC16[meanC16[\"Temperature\"]<60])\n",
    "print(meanC21[meanC21[\"Temperature\"]<60])\n",
    "print(meanC23[meanC23[\"Temperature\"]<60])"
   ]
  },
  {
   "attachments": {},
   "cell_type": "markdown",
   "metadata": {},
   "source": [
    "# PLOTS"
   ]
  },
  {
   "cell_type": "code",
   "execution_count": 53,
   "metadata": {},
   "outputs": [],
   "source": [
    "def plotdf(X, Y, df, case, color):\n",
    "    for i in range(len(df)):\n",
    "        if df[\"Input case\"][i].startswith(case):\n",
    "            plt.plot( df[X][i],df[Y][i],\"o\", color = color)"
   ]
  },
  {
   "cell_type": "code",
   "execution_count": 54,
   "metadata": {},
   "outputs": [],
   "source": [
    "def plotdfs(X, Y, dfs, case, colors, title):\n",
    "    plt.figure(figsize=(10,7))\n",
    "\n",
    "    for df, color in zip(dfs, colors):\n",
    "        plotdf(X, Y, df, case, color)\n",
    "\n",
    "    plt.title(title + f\" for {case} case\")\n",
    "    for color, pc in zip(colors, [\"PC16\",\"PC21\",\"PC23\",\"PC6\"]):\n",
    "        plt.plot(0,0,\"\", color = color, label = pc)\n",
    "    plt.legend(loc=\"upper left\")\n",
    "    plt.xlabel(X)\n",
    "    plt.ylabel(Y)\n",
    "    plt.show()"
   ]
  },
  {
   "cell_type": "code",
   "execution_count": 55,
   "metadata": {},
   "outputs": [],
   "source": [
    "listOfDF = [meanC16, meanC21, meanC23, meanC6]\n",
    "colors = [\"red\", \"green\", \"blue\", \"orange\"]"
   ]
  },
  {
   "cell_type": "code",
   "execution_count": 56,
   "metadata": {},
   "outputs": [],
   "source": [
    "def plotRandDFs(X, Y, dfs, case, colors, title):\n",
    "    plt.figure(figsize=(10,7))\n",
    "    for i in range(1,11):\n",
    "        for df, color in zip(dfs, colors):\n",
    "            plotdf(X, Y, df, case+str(i), color)\n",
    "\n",
    "    plt.title(title + f\" for {case} case\")\n",
    "    for color, pc in zip(colors, [\"PC16\",\"PC21\",\"PC23\",\"PC6\"]):\n",
    "        plt.plot(0,0,\"\", color = color, label = pc)\n",
    "    plt.legend(loc=\"upper left\")\n",
    "    plt.xlabel(X)\n",
    "    plt.ylabel(Y)\n",
    "    plt.show()"
   ]
  },
  {
   "cell_type": "code",
   "execution_count": 57,
   "metadata": {},
   "outputs": [],
   "source": [
    "# case = \"random\"\n",
    "# x = \"Time (ms)\"\n",
    "\n",
    "# plotRandDFs(x, \"CPU (J)\", listOfDF, case, colors, \"time v cpu\")\n",
    "# plotRandDFs(x, \"Memory (J)\", listOfDF, case, colors, \"time v memory\")\n",
    "# plotRandDFs(\"Memory (J)\", \"CPU (J)\", listOfDF, case, colors, \"mem v cpu\")\n"
   ]
  },
  {
   "attachments": {},
   "cell_type": "markdown",
   "metadata": {},
   "source": [
    "# BEST"
   ]
  },
  {
   "cell_type": "code",
   "execution_count": 58,
   "metadata": {},
   "outputs": [],
   "source": [
    "\n",
    "# plotdfs(\"Size\", \"CPU - readCSV\", listOfDF, \"best\", colors, \"readCSV subtracted from Counting CPU for each PC\")\n",
    "# plotdfs(\"Size\", \"CPU (J)\", listOfDF, \"best\", colors, \"raw CPU (J) data from Counting for each PC\")\n"
   ]
  },
  {
   "cell_type": "code",
   "execution_count": 59,
   "metadata": {},
   "outputs": [],
   "source": [
    "# plotdfs(\"Size\", \"Time - readCSV\", listOfDF, \"best\", colors, \"readCSV subtracted from Counting Time for each PC\")\n",
    "# plotdfs(\"Size\", \"Time (ms)\", listOfDF, \"best\", colors, \"raw Time (ms) data from Counting for each PC\")"
   ]
  },
  {
   "cell_type": "code",
   "execution_count": 60,
   "metadata": {},
   "outputs": [],
   "source": [
    "# plotdfs(\"Size\", \"Memory - readCSV\", listOfDF, \"best\", colors, \"readCSV subtracted from Counting Memory for each PC\")\n",
    "# plotdfs(\"Size\", \"Memory (J)\", listOfDF, \"best\", colors, \"raw Memory (J) data from Counting for each PC\")"
   ]
  },
  {
   "cell_type": "code",
   "execution_count": 61,
   "metadata": {},
   "outputs": [],
   "source": [
    "# plotdfs(\"Size\", \"Temperature\", listOfDF, \"best\", colors, \"Temperature of Counting for each PC\")"
   ]
  },
  {
   "attachments": {},
   "cell_type": "markdown",
   "metadata": {},
   "source": [
    "# WORST"
   ]
  },
  {
   "cell_type": "code",
   "execution_count": 62,
   "metadata": {},
   "outputs": [],
   "source": [
    "# plotdfs(\"Size\", \"CPU - readCSV\", listOfDF, \"worst\", colors, \"readCSV subtracted from Counting CPU for each PC\")\n",
    "# plotdfs(\"Size\", \"CPU (J)\", listOfDF, \"worst\", colors, \"raw CPU (J) data from Counting for each PC\")"
   ]
  },
  {
   "cell_type": "code",
   "execution_count": 63,
   "metadata": {},
   "outputs": [],
   "source": [
    "# plotdfs(\"Size\", \"Time - readCSV\", listOfDF, \"worst\", colors, \"readCSV subtracted from Counting Time for each PC\")\n",
    "# plotdfs(\"Size\", \"Time (ms)\", listOfDF, \"worst\", colors, \"raw Time (ms) data from Counting for each PC\")"
   ]
  },
  {
   "cell_type": "code",
   "execution_count": 64,
   "metadata": {},
   "outputs": [],
   "source": [
    "# plotdfs(\"Size\", \"Memory - readCSV\", listOfDF, \"worst\", colors, \"readCSV subtracted from Counting Memory for each PC\")\n",
    "# plotdfs(\"Size\", \"Memory (J)\", listOfDF, \"worst\", colors, \"raw Memory (J) data from Counting for each PC\")"
   ]
  },
  {
   "cell_type": "code",
   "execution_count": 65,
   "metadata": {},
   "outputs": [],
   "source": [
    "# plotdfs(\"Size\", \"Temperature\", listOfDF, \"worst\", colors, \"Temperature of Counting for each PC\")"
   ]
  },
  {
   "attachments": {},
   "cell_type": "markdown",
   "metadata": {},
   "source": [
    "# RANDOM"
   ]
  },
  {
   "cell_type": "code",
   "execution_count": 66,
   "metadata": {},
   "outputs": [],
   "source": [
    "\n",
    "# plotRandDFs(\"Size\", \"CPU - readCSV\", listOfDF, \"random\", colors, \"readCSV subtracted from Counting CPU for each PC\")\n",
    "# plotRandDFs(\"Size\", \"CPU (J)\", listOfDF, \"random\", colors, \"raw CPU (J) data from Counting for each PC\")\n"
   ]
  },
  {
   "cell_type": "code",
   "execution_count": 67,
   "metadata": {},
   "outputs": [],
   "source": [
    "\n",
    "# plotRandDFs(\"Size\", \"Time - readCSV\", listOfDF, \"random\", colors, \"readCSV subtracted from Counting Time for each PC\")\n",
    "# plotRandDFs(\"Size\", \"Time (ms)\", listOfDF, \"random\", colors, \"raw Time (ms) data from Counting for each PC\")\n"
   ]
  },
  {
   "cell_type": "code",
   "execution_count": 68,
   "metadata": {},
   "outputs": [],
   "source": [
    "\n",
    "# plotRandDFs(\"Size\", \"Memory - readCSV\", listOfDF, \"random\", colors, \"readCSV subtracted from Counting Memory for each PC\")\n",
    "# plotRandDFs(\"Size\", \"Memory (J)\", listOfDF, \"random\", colors, \"raw Memory (J) data from Counting for each PC\")\n"
   ]
  },
  {
   "cell_type": "code",
   "execution_count": 69,
   "metadata": {},
   "outputs": [],
   "source": [
    "\n",
    "# plotRandDFs(\"Size\", \"Temperature\", listOfDF, \"random\", colors, \"Temperature of Counting for each PC\")\n"
   ]
  },
  {
   "cell_type": "code",
   "execution_count": 70,
   "metadata": {},
   "outputs": [],
   "source": [
    "from sklearn.linear_model import LinearRegression\n",
    "from sklearn.preprocessing import PolynomialFeatures\n",
    "from sklearn import metrics\n",
    "from operator import itemgetter\n",
    "\n",
    "def polyReg(SeriesX, SeriesY,dg, Label, color, plotLabel = True, printR2Score = True, plotGraph = True):\n",
    "    X = SeriesX.values.reshape(SeriesX.size, -1)\n",
    "    y = SeriesY.values\n",
    "\n",
    "    fitness = []\n",
    "   #for dg in range(minDegrees, maxDegrees):\n",
    "    # Create an empty polynomial function with degree of 4\n",
    "    poly_reg = PolynomialFeatures(degree=dg)\n",
    "    \n",
    "    # Fit the function to the X and transform X to the polynomial format\n",
    "    X_poly = poly_reg.fit_transform(X)\n",
    "\n",
    "    # Now we construct a Multiple Linear Regressor on the transformed X_ploy\n",
    "    lr_2 = LinearRegression()  \n",
    "    lr_2.fit(X_poly, y)  \n",
    "    \n",
    "    # Get the y values using the constructed Multiple Linear Regressor\n",
    "    y_poly = lr_2.predict(X_poly)\n",
    "    \n",
    "    r2 = metrics.r2_score(y,y_poly)\n",
    "    #if printR2Score:\n",
    "    #    print(f\"r2_score for {Label} {dg} is: {r2}\")\n",
    "    fitness.append((f\"poly {dg}dg\", r2, y_poly))\n",
    "    #print(f\"Parameters of poly: {poly_reg.get_params()}\") #does not give what we are looking for\n",
    "    \n",
    "    if plotGraph:\n",
    "        plt.scatter(X, y, color=color, label=Label)\n",
    "        plt.legend(loc='upper left')\n",
    "        plt.plot(X, y_poly, color=\"blue\",label= Label, linewidth=2)\n",
    "    print(lr_2.intercept_, lr_2.coef_)\n",
    "    return max(fitness,key=itemgetter(1))\n",
    "        \n"
   ]
  },
  {
   "cell_type": "code",
   "execution_count": 73,
   "metadata": {},
   "outputs": [
    {
     "name": "stdout",
     "output_type": "stream",
     "text": [
      "25.830503760218562 [0.00000000e+00 8.37592440e-04 5.42302792e-07]\n",
      "worst R2  0.9998484648932623 \n",
      "\n"
     ]
    },
    {
     "data": {
      "text/plain": [
       "Text(0, 0.5, 'Time (ms) -readCSV')"
      ]
     },
     "execution_count": 73,
     "metadata": {},
     "output_type": "execute_result"
    },
    {
     "data": {
      "image/png": "[encoded data removed]",
      "text/plain": [
       "<Figure size 720x504 with 1 Axes>"
      ]
     },
     "metadata": {
      "needs_background": "light"
     },
     "output_type": "display_data"
    }
   ],
   "source": [
    "plt.figure(figsize=(10,7))\n",
    "color = \"red\"\n",
    "\n",
    "# best = polyReg(meanC16[meanC16[\"Input case\"] == \"best\"][\"Size\"], meanC16[meanC16[\"Input case\"] == \"best\"][\"Time - readCSV\"],2, \"Quick time for best case input\", \"green\")\n",
    "worst = polyReg(meanC16[meanC16[\"Input case\"] == \"worst\"][\"Size\"], meanC16[meanC16[\"Input case\"] == \"worst\"][\"Time - readCSV\"],2, \"Quick time for worst case input\", \"red\")\n",
    "\n",
    "print(f\"worst R2 \", worst[1], \"\\n\")\n",
    "#print(f\"best R2 \", best[1], \"\\n\")\n",
    "plt.title(\"Quick sort worst case input regression for PC16\")\n",
    "plt.xlabel(\"Input size\")\n",
    "plt.ylabel(\"Time (ms) -readCSV\")\n"
   ]
  },
  {
   "cell_type": "code",
   "execution_count": null,
   "metadata": {},
   "outputs": [],
   "source": []
  },
  {
   "attachments": {},
   "cell_type": "markdown",
   "metadata": {},
   "source": [
    "0.4843292013581415 [ 0.00000000e+00  7.55519426e-03 -1.07833248e-06]\n",
    "f(x) = 0.00070729 x +  644.5733176424646 \n",
    "$f(x) = 7.55519426*10^{-3} * x^2 - 1.0783324810^{-6} * x + 0.4843292013581415$"
   ]
  }
 ],
 "metadata": {
  "kernelspec": {
   "display_name": "base",
   "language": "python",
   "name": "python3"
  },
  "language_info": {
   "codemirror_mode": {
    "name": "ipython",
    "version": 3
   },
   "file_extension": ".py",
   "mimetype": "text/x-python",
   "name": "python",
   "nbconvert_exporter": "python",
   "pygments_lexer": "ipython3",
   "version": "3.9.7"
  },
  "orig_nbformat": 4
 },
 "nbformat": 4,
 "nbformat_minor": 2
}
