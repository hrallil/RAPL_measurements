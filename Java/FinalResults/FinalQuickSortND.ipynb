{
 "cells": [
  {
   "cell_type": "code",
   "execution_count": 1,
   "metadata": {},
   "outputs": [],
   "source": [
    "import pandas as pd\n",
    "import matplotlib.pyplot as plt\n",
    "import numpy as np\n",
    "import seaborn as sns\n",
    "from scipy.stats import shapiro"
   ]
  },
  {
   "cell_type": "code",
   "execution_count": 2,
   "metadata": {},
   "outputs": [],
   "source": [
    "dfQuickSort16 = pd.read_csv(\"FinalAnalysis/CleanData/QuickClean-PC16.csv\")\n"
   ]
  },
  {
   "cell_type": "code",
   "execution_count": 3,
   "metadata": {},
   "outputs": [
    {
     "data": {
      "text/html": [
       "<div>\n",
       "<style scoped>\n",
       "    .dataframe tbody tr th:only-of-type {\n",
       "        vertical-align: middle;\n",
       "    }\n",
       "\n",
       "    .dataframe tbody tr th {\n",
       "        vertical-align: top;\n",
       "    }\n",
       "\n",
       "    .dataframe thead th {\n",
       "        text-align: right;\n",
       "    }\n",
       "</style>\n",
       "<table border=\"1\" class=\"dataframe\">\n",
       "  <thead>\n",
       "    <tr style=\"text-align: right;\">\n",
       "      <th></th>\n",
       "      <th>PKG (J)</th>\n",
       "      <th>CPU (J)</th>\n",
       "      <th>DRAM (J)</th>\n",
       "      <th>Time (ms)</th>\n",
       "      <th>Temp (C)</th>\n",
       "      <th>Input case</th>\n",
       "      <th>Size</th>\n",
       "    </tr>\n",
       "  </thead>\n",
       "  <tbody>\n",
       "    <tr>\n",
       "      <th>0</th>\n",
       "      <td>1.623169</td>\n",
       "      <td>1.355042</td>\n",
       "      <td>0.104736</td>\n",
       "      <td>210.359</td>\n",
       "      <td>60.0</td>\n",
       "      <td>best</td>\n",
       "      <td>25000</td>\n",
       "    </tr>\n",
       "    <tr>\n",
       "      <th>1</th>\n",
       "      <td>1.573853</td>\n",
       "      <td>1.350586</td>\n",
       "      <td>0.090576</td>\n",
       "      <td>175.050</td>\n",
       "      <td>60.0</td>\n",
       "      <td>best</td>\n",
       "      <td>25000</td>\n",
       "    </tr>\n",
       "    <tr>\n",
       "      <th>2</th>\n",
       "      <td>1.521057</td>\n",
       "      <td>1.276001</td>\n",
       "      <td>0.093689</td>\n",
       "      <td>197.807</td>\n",
       "      <td>60.0</td>\n",
       "      <td>best</td>\n",
       "      <td>25000</td>\n",
       "    </tr>\n",
       "    <tr>\n",
       "      <th>3</th>\n",
       "      <td>1.693542</td>\n",
       "      <td>1.455139</td>\n",
       "      <td>0.098450</td>\n",
       "      <td>176.312</td>\n",
       "      <td>60.0</td>\n",
       "      <td>best</td>\n",
       "      <td>25000</td>\n",
       "    </tr>\n",
       "    <tr>\n",
       "      <th>4</th>\n",
       "      <td>1.491455</td>\n",
       "      <td>1.241211</td>\n",
       "      <td>0.095825</td>\n",
       "      <td>205.452</td>\n",
       "      <td>60.0</td>\n",
       "      <td>best</td>\n",
       "      <td>25000</td>\n",
       "    </tr>\n",
       "    <tr>\n",
       "      <th>...</th>\n",
       "      <td>...</td>\n",
       "      <td>...</td>\n",
       "      <td>...</td>\n",
       "      <td>...</td>\n",
       "      <td>...</td>\n",
       "      <td>...</td>\n",
       "      <td>...</td>\n",
       "    </tr>\n",
       "    <tr>\n",
       "      <th>8440</th>\n",
       "      <td>1084.826721</td>\n",
       "      <td>958.793945</td>\n",
       "      <td>24.447266</td>\n",
       "      <td>139953.000</td>\n",
       "      <td>65.0</td>\n",
       "      <td>worst</td>\n",
       "      <td>500000</td>\n",
       "    </tr>\n",
       "    <tr>\n",
       "      <th>8441</th>\n",
       "      <td>1084.005920</td>\n",
       "      <td>958.204346</td>\n",
       "      <td>23.967590</td>\n",
       "      <td>139843.000</td>\n",
       "      <td>65.0</td>\n",
       "      <td>worst</td>\n",
       "      <td>500000</td>\n",
       "    </tr>\n",
       "    <tr>\n",
       "      <th>8442</th>\n",
       "      <td>1079.395020</td>\n",
       "      <td>952.453796</td>\n",
       "      <td>26.186157</td>\n",
       "      <td>140800.000</td>\n",
       "      <td>58.0</td>\n",
       "      <td>worst</td>\n",
       "      <td>500000</td>\n",
       "    </tr>\n",
       "    <tr>\n",
       "      <th>8443</th>\n",
       "      <td>1083.257996</td>\n",
       "      <td>957.007690</td>\n",
       "      <td>24.617859</td>\n",
       "      <td>140199.000</td>\n",
       "      <td>65.0</td>\n",
       "      <td>worst</td>\n",
       "      <td>500000</td>\n",
       "    </tr>\n",
       "    <tr>\n",
       "      <th>8444</th>\n",
       "      <td>1088.306152</td>\n",
       "      <td>961.266296</td>\n",
       "      <td>25.179443</td>\n",
       "      <td>140929.000</td>\n",
       "      <td>66.0</td>\n",
       "      <td>worst</td>\n",
       "      <td>500000</td>\n",
       "    </tr>\n",
       "  </tbody>\n",
       "</table>\n",
       "<p>8445 rows × 7 columns</p>\n",
       "</div>"
      ],
      "text/plain": [
       "          PKG (J)     CPU (J)   DRAM (J)   Time (ms)  Temp (C) Input case  \\\n",
       "0        1.623169    1.355042   0.104736     210.359      60.0       best   \n",
       "1        1.573853    1.350586   0.090576     175.050      60.0       best   \n",
       "2        1.521057    1.276001   0.093689     197.807      60.0       best   \n",
       "3        1.693542    1.455139   0.098450     176.312      60.0       best   \n",
       "4        1.491455    1.241211   0.095825     205.452      60.0       best   \n",
       "...           ...         ...        ...         ...       ...        ...   \n",
       "8440  1084.826721  958.793945  24.447266  139953.000      65.0      worst   \n",
       "8441  1084.005920  958.204346  23.967590  139843.000      65.0      worst   \n",
       "8442  1079.395020  952.453796  26.186157  140800.000      58.0      worst   \n",
       "8443  1083.257996  957.007690  24.617859  140199.000      65.0      worst   \n",
       "8444  1088.306152  961.266296  25.179443  140929.000      66.0      worst   \n",
       "\n",
       "        Size  \n",
       "0      25000  \n",
       "1      25000  \n",
       "2      25000  \n",
       "3      25000  \n",
       "4      25000  \n",
       "...      ...  \n",
       "8440  500000  \n",
       "8441  500000  \n",
       "8442  500000  \n",
       "8443  500000  \n",
       "8444  500000  \n",
       "\n",
       "[8445 rows x 7 columns]"
      ]
     },
     "execution_count": 3,
     "metadata": {},
     "output_type": "execute_result"
    }
   ],
   "source": [
    "dfQuickSort16"
   ]
  },
  {
   "cell_type": "code",
   "execution_count": 4,
   "metadata": {},
   "outputs": [],
   "source": [
    "dfQuickSortBest16 = dfQuickSort16[dfQuickSort16[\"Input case\"].str.startswith(\"best\")]\n",
    "dfQuickSortWorst16 = dfQuickSort16[dfQuickSort16[\"Input case\"].str.startswith(\"worst\")]\n",
    "dfQuickSortRandom16 = dfQuickSort16[dfQuickSort16[\"Input case\"].str.startswith(\"random\")]"
   ]
  },
  {
   "cell_type": "code",
   "execution_count": 5,
   "metadata": {},
   "outputs": [
    {
     "data": {
      "text/html": [
       "<div>\n",
       "<style scoped>\n",
       "    .dataframe tbody tr th:only-of-type {\n",
       "        vertical-align: middle;\n",
       "    }\n",
       "\n",
       "    .dataframe tbody tr th {\n",
       "        vertical-align: top;\n",
       "    }\n",
       "\n",
       "    .dataframe thead th {\n",
       "        text-align: right;\n",
       "    }\n",
       "</style>\n",
       "<table border=\"1\" class=\"dataframe\">\n",
       "  <thead>\n",
       "    <tr style=\"text-align: right;\">\n",
       "      <th></th>\n",
       "      <th>PKG (J)</th>\n",
       "      <th>CPU (J)</th>\n",
       "      <th>DRAM (J)</th>\n",
       "      <th>Time (ms)</th>\n",
       "      <th>Temp (C)</th>\n",
       "      <th>Input case</th>\n",
       "      <th>Size</th>\n",
       "    </tr>\n",
       "  </thead>\n",
       "  <tbody>\n",
       "    <tr>\n",
       "      <th>0</th>\n",
       "      <td>1.623169</td>\n",
       "      <td>1.355042</td>\n",
       "      <td>0.104736</td>\n",
       "      <td>210.359</td>\n",
       "      <td>60.0</td>\n",
       "      <td>best</td>\n",
       "      <td>25000</td>\n",
       "    </tr>\n",
       "    <tr>\n",
       "      <th>1</th>\n",
       "      <td>1.573853</td>\n",
       "      <td>1.350586</td>\n",
       "      <td>0.090576</td>\n",
       "      <td>175.050</td>\n",
       "      <td>60.0</td>\n",
       "      <td>best</td>\n",
       "      <td>25000</td>\n",
       "    </tr>\n",
       "    <tr>\n",
       "      <th>2</th>\n",
       "      <td>1.521057</td>\n",
       "      <td>1.276001</td>\n",
       "      <td>0.093689</td>\n",
       "      <td>197.807</td>\n",
       "      <td>60.0</td>\n",
       "      <td>best</td>\n",
       "      <td>25000</td>\n",
       "    </tr>\n",
       "    <tr>\n",
       "      <th>3</th>\n",
       "      <td>1.693542</td>\n",
       "      <td>1.455139</td>\n",
       "      <td>0.098450</td>\n",
       "      <td>176.312</td>\n",
       "      <td>60.0</td>\n",
       "      <td>best</td>\n",
       "      <td>25000</td>\n",
       "    </tr>\n",
       "    <tr>\n",
       "      <th>4</th>\n",
       "      <td>1.491455</td>\n",
       "      <td>1.241211</td>\n",
       "      <td>0.095825</td>\n",
       "      <td>205.452</td>\n",
       "      <td>60.0</td>\n",
       "      <td>best</td>\n",
       "      <td>25000</td>\n",
       "    </tr>\n",
       "    <tr>\n",
       "      <th>...</th>\n",
       "      <td>...</td>\n",
       "      <td>...</td>\n",
       "      <td>...</td>\n",
       "      <td>...</td>\n",
       "      <td>...</td>\n",
       "      <td>...</td>\n",
       "      <td>...</td>\n",
       "    </tr>\n",
       "    <tr>\n",
       "      <th>2643</th>\n",
       "      <td>5.022705</td>\n",
       "      <td>4.353577</td>\n",
       "      <td>0.297241</td>\n",
       "      <td>513.294</td>\n",
       "      <td>68.0</td>\n",
       "      <td>best</td>\n",
       "      <td>500000</td>\n",
       "    </tr>\n",
       "    <tr>\n",
       "      <th>2644</th>\n",
       "      <td>5.237976</td>\n",
       "      <td>4.521240</td>\n",
       "      <td>0.317749</td>\n",
       "      <td>552.646</td>\n",
       "      <td>68.0</td>\n",
       "      <td>best</td>\n",
       "      <td>500000</td>\n",
       "    </tr>\n",
       "    <tr>\n",
       "      <th>2645</th>\n",
       "      <td>5.401001</td>\n",
       "      <td>4.683044</td>\n",
       "      <td>0.322937</td>\n",
       "      <td>528.244</td>\n",
       "      <td>68.0</td>\n",
       "      <td>best</td>\n",
       "      <td>500000</td>\n",
       "    </tr>\n",
       "    <tr>\n",
       "      <th>2646</th>\n",
       "      <td>5.501709</td>\n",
       "      <td>4.781250</td>\n",
       "      <td>0.322266</td>\n",
       "      <td>533.248</td>\n",
       "      <td>68.0</td>\n",
       "      <td>best</td>\n",
       "      <td>500000</td>\n",
       "    </tr>\n",
       "    <tr>\n",
       "      <th>2647</th>\n",
       "      <td>5.535522</td>\n",
       "      <td>4.818054</td>\n",
       "      <td>0.320068</td>\n",
       "      <td>539.232</td>\n",
       "      <td>68.0</td>\n",
       "      <td>best</td>\n",
       "      <td>500000</td>\n",
       "    </tr>\n",
       "  </tbody>\n",
       "</table>\n",
       "<p>2648 rows × 7 columns</p>\n",
       "</div>"
      ],
      "text/plain": [
       "       PKG (J)   CPU (J)  DRAM (J)  Time (ms)  Temp (C) Input case    Size\n",
       "0     1.623169  1.355042  0.104736    210.359      60.0       best   25000\n",
       "1     1.573853  1.350586  0.090576    175.050      60.0       best   25000\n",
       "2     1.521057  1.276001  0.093689    197.807      60.0       best   25000\n",
       "3     1.693542  1.455139  0.098450    176.312      60.0       best   25000\n",
       "4     1.491455  1.241211  0.095825    205.452      60.0       best   25000\n",
       "...        ...       ...       ...        ...       ...        ...     ...\n",
       "2643  5.022705  4.353577  0.297241    513.294      68.0       best  500000\n",
       "2644  5.237976  4.521240  0.317749    552.646      68.0       best  500000\n",
       "2645  5.401001  4.683044  0.322937    528.244      68.0       best  500000\n",
       "2646  5.501709  4.781250  0.322266    533.248      68.0       best  500000\n",
       "2647  5.535522  4.818054  0.320068    539.232      68.0       best  500000\n",
       "\n",
       "[2648 rows x 7 columns]"
      ]
     },
     "execution_count": 5,
     "metadata": {},
     "output_type": "execute_result"
    }
   ],
   "source": [
    "dfQuickSortBest16"
   ]
  },
  {
   "attachments": {},
   "cell_type": "markdown",
   "metadata": {},
   "source": [
    "# Shapiro Wilks Test For Normal Distribution "
   ]
  },
  {
   "attachments": {},
   "cell_type": "markdown",
   "metadata": {},
   "source": [
    "### Normal Distribution of CPU (J) of all Cases and Input Sizes for PC 6"
   ]
  },
  {
   "cell_type": "code",
   "execution_count": 6,
   "metadata": {},
   "outputs": [
    {
     "name": "stdout",
     "output_type": "stream",
     "text": [
      "3.144221211517917e-12\n",
      "5.7995301894209206e-09\n",
      "1.4731385000743558e-08\n",
      "5.156552560947603e-06\n",
      "4.248853872901304e-12\n",
      "1.8008364577326574e-06\n",
      "7.516922778449953e-05\n",
      "6.374789612200241e-14\n",
      "[0, 0, 0, 0, 0, 0, 0, 0]\n"
     ]
    }
   ],
   "source": [
    "data = []\n",
    "size = []\n",
    "for i in [25000,50000,75000,100000,200000,300000,400000,500000]:\n",
    "    if 0.05 < shapiro(dfQuickSortBest16[dfQuickSortBest16[\"Size\"]==i][\"CPU (J)\"]).pvalue:\n",
    "        data.append(1)\n",
    "    else:\n",
    "        data.append(0)\n",
    "    size.append(i)\n",
    "    print(shapiro(dfQuickSortBest16[dfQuickSortBest16[\"Size\"]==i][\"CPU (J)\"]).pvalue)\n",
    "print(data)"
   ]
  },
  {
   "cell_type": "code",
   "execution_count": 7,
   "metadata": {},
   "outputs": [
    {
     "name": "stdout",
     "output_type": "stream",
     "text": [
      "0.019927896559238434\n",
      "7.741958892881885e-18\n",
      "0.09977319091558456\n",
      "3.781815497544259e-16\n",
      "2.9243913316591874e-19\n",
      "3.2680854008225457e-13\n",
      "6.306331151728628e-11\n",
      "7.224526825666544e-07\n",
      "[0, 0, 0, 0, 0, 0, 0, 0, 0, 0, 1, 0, 0, 0, 0, 0]\n"
     ]
    }
   ],
   "source": [
    "for i in [25000,50000,75000,100000,200000,300000,400000,500000]:\n",
    "    if 0.05 < shapiro(dfQuickSortWorst16[dfQuickSortWorst16[\"Size\"]==i][\"CPU (J)\"]).pvalue:\n",
    "        data.append(1)\n",
    "    else:\n",
    "        data.append(0)\n",
    "    size.append(i)\n",
    "    print(shapiro(dfQuickSortWorst16[dfQuickSortWorst16[\"Size\"]==i][\"CPU (J)\"]).pvalue)\n",
    "print(data)"
   ]
  },
  {
   "cell_type": "code",
   "execution_count": 8,
   "metadata": {},
   "outputs": [
    {
     "name": "stdout",
     "output_type": "stream",
     "text": [
      "1.3595401469501667e-05\n",
      "0.0004078790661878884\n",
      "8.53793906685496e-08\n",
      "0.00016738726117182523\n",
      "1.4936792069875082e-07\n",
      "9.739627992999544e-10\n",
      "1.0256244638295886e-12\n",
      "0.0009741028770804405\n",
      "[0, 0, 0, 0, 0, 0, 0, 0, 0, 0, 1, 0, 0, 0, 0, 0, 0, 0, 0, 0, 0, 0, 0, 0]\n"
     ]
    }
   ],
   "source": [
    "for i in [25000,50000,75000,100000,200000,300000,400000,500000]:\n",
    "    if 0.05 < shapiro(dfQuickSortRandom16[dfQuickSortRandom16[\"Size\"]==i][\"CPU (J)\"]).pvalue:\n",
    "        data.append(1)\n",
    "    else:\n",
    "        data.append(0)\n",
    "    size.append(i)\n",
    "    print(shapiro(dfQuickSortRandom16[dfQuickSortRandom16[\"Size\"]==i][\"CPU (J)\"]).pvalue)\n",
    "print(data)"
   ]
  },
  {
   "attachments": {},
   "cell_type": "markdown",
   "metadata": {},
   "source": [
    "### Normal Distribution of Time (ms) of all Cases and Input Sizes for PC 16"
   ]
  },
  {
   "cell_type": "code",
   "execution_count": 9,
   "metadata": {},
   "outputs": [
    {
     "name": "stdout",
     "output_type": "stream",
     "text": [
      "9.728608180976403e-23\n",
      "1.3614559479790955e-10\n",
      "9.081100870389491e-06\n",
      "0.05550257861614227\n",
      "0.0005717296153306961\n",
      "0.00036350791924633086\n",
      "0.08975324779748917\n",
      "0.19276675581932068\n",
      "[0, 0, 0, 1, 0, 0, 1, 1]\n"
     ]
    }
   ],
   "source": [
    "#Best Case\n",
    "dataTime = []\n",
    "sizeTime = []\n",
    "\n",
    "for i in [25000,50000,75000,100000,200000,300000,400000,500000]:\n",
    "    if 0.05 < shapiro(dfQuickSortBest16[dfQuickSortBest16[\"Size\"]==i][\"Time (ms)\"]).pvalue:\n",
    "        dataTime.append(1)\n",
    "    else:\n",
    "        dataTime.append(0)\n",
    "    sizeTime.append(i)\n",
    "    print(shapiro(dfQuickSortBest16[dfQuickSortBest16[\"Size\"]==i][\"Time (ms)\"]).pvalue)\n",
    "print(dataTime)\n"
   ]
  },
  {
   "cell_type": "code",
   "execution_count": 10,
   "metadata": {},
   "outputs": [
    {
     "name": "stdout",
     "output_type": "stream",
     "text": [
      "0.026001902297139168\n",
      "1.0441795480903835e-15\n",
      "2.006643809449038e-11\n",
      "7.003108268478463e-23\n",
      "3.232341109436847e-19\n",
      "4.648661641416837e-22\n",
      "4.587853308279834e-24\n",
      "0.08304575830698013\n",
      "[0, 0, 0, 1, 0, 0, 1, 1, 0, 0, 0, 0, 0, 0, 0, 1]\n"
     ]
    }
   ],
   "source": [
    "#Worst Case\n",
    "\n",
    "for i in [25000,50000,75000,100000,200000,300000,400000,500000]:\n",
    "    if 0.05 < shapiro(dfQuickSortWorst16[dfQuickSortWorst16[\"Size\"]==i][\"Time (ms)\"]).pvalue:\n",
    "        dataTime.append(1)\n",
    "    else:\n",
    "        dataTime.append(0)\n",
    "    sizeTime.append(i)\n",
    "    print(shapiro(dfQuickSortWorst16[dfQuickSortWorst16[\"Size\"]==i][\"Time (ms)\"]).pvalue)\n",
    "print(dataTime)"
   ]
  },
  {
   "cell_type": "code",
   "execution_count": 11,
   "metadata": {},
   "outputs": [
    {
     "name": "stdout",
     "output_type": "stream",
     "text": [
      "3.902638913530661e-14\n",
      "1.477464411436813e-05\n",
      "2.9740465834038332e-05\n",
      "0.018313154578208923\n",
      "4.9875114200403914e-05\n",
      "7.570585580651823e-08\n",
      "2.6307789084967226e-05\n",
      "0.0004726439656224102\n",
      "[0, 0, 0, 1, 0, 0, 1, 1, 0, 0, 0, 0, 0, 0, 0, 1, 0, 0, 0, 0, 0, 0, 0, 0]\n"
     ]
    }
   ],
   "source": [
    "#Random Case\n",
    "\n",
    "for i in [25000,50000,75000,100000,200000,300000,400000,500000]:\n",
    "    if 0.05 < shapiro(dfQuickSortRandom16[dfQuickSortRandom16[\"Size\"]==i][\"Time (ms)\"]).pvalue:\n",
    "        dataTime.append(1)\n",
    "    else:\n",
    "        dataTime.append(0)\n",
    "    sizeTime.append(i)\n",
    "    print(shapiro(dfQuickSortRandom16[dfQuickSortRandom16[\"Size\"]==i][\"Time (ms)\"]).pvalue)\n",
    "print(dataTime)"
   ]
  },
  {
   "attachments": {},
   "cell_type": "markdown",
   "metadata": {},
   "source": [
    "### Nomral Distribution of DRAM (J) of all Cases and Input Sizes for PC 16"
   ]
  },
  {
   "cell_type": "code",
   "execution_count": 13,
   "metadata": {},
   "outputs": [
    {
     "name": "stdout",
     "output_type": "stream",
     "text": [
      "5.87600970902713e-06\n",
      "0.0005747685208916664\n",
      "4.318325954955071e-05\n",
      "2.6613921022544673e-07\n",
      "8.699954179292035e-08\n",
      "0.22585022449493408\n",
      "0.12819048762321472\n",
      "6.845855316944255e-19\n",
      "[0, 0, 0, 0, 0, 1, 1, 0]\n"
     ]
    }
   ],
   "source": [
    "#Best case \n",
    "dataDRAM = []\n",
    "sizeDRAM = []\n",
    "for i in [25000,50000,75000,100000,200000,300000,400000,500000]:\n",
    "    if 0.05 < shapiro(dfQuickSortBest16[dfQuickSortBest16[\"Size\"]==i][\"DRAM (J)\"]).pvalue:\n",
    "        dataDRAM.append(1)\n",
    "    else:\n",
    "        dataDRAM.append(0)\n",
    "    sizeDRAM.append(i)\n",
    "    print(shapiro(dfQuickSortBest16[dfQuickSortBest16[\"Size\"]==i][\"DRAM (J)\"]).pvalue)\n",
    "print(dataDRAM)"
   ]
  },
  {
   "cell_type": "code",
   "execution_count": 14,
   "metadata": {},
   "outputs": [
    {
     "name": "stdout",
     "output_type": "stream",
     "text": [
      "6.024988010722154e-07\n",
      "2.764095619056661e-10\n",
      "0.001682994537986815\n",
      "3.513220522789308e-18\n",
      "4.2835323027931924e-17\n",
      "5.331561618937569e-19\n",
      "3.461538898502454e-20\n",
      "2.7985927317786263e-06\n",
      "[0, 0, 0, 0, 0, 1, 1, 0, 0, 0, 0, 0, 0, 0, 0, 0]\n"
     ]
    }
   ],
   "source": [
    "#Worst case \n",
    "\n",
    "for i in [25000,50000,75000,100000,200000,300000,400000,500000]:\n",
    "    if 0.05 < shapiro(dfQuickSortWorst16[dfQuickSortWorst16[\"Size\"]==i][\"DRAM (J)\"]).pvalue:\n",
    "        dataDRAM.append(1)\n",
    "    else:\n",
    "        dataDRAM.append(0)\n",
    "    sizeDRAM.append(i)\n",
    "    print(shapiro(dfQuickSortWorst16[dfQuickSortWorst16[\"Size\"]==i][\"DRAM (J)\"]).pvalue)\n",
    "print(dataDRAM)"
   ]
  },
  {
   "cell_type": "code",
   "execution_count": 15,
   "metadata": {},
   "outputs": [
    {
     "name": "stdout",
     "output_type": "stream",
     "text": [
      "2.8804886824218556e-05\n",
      "0.019894670695066452\n",
      "0.018716108053922653\n",
      "0.0039515187963843346\n",
      "2.4874644508449627e-17\n",
      "9.632515586202047e-17\n",
      "1.2441869679642324e-18\n",
      "2.370284846620052e-06\n",
      "[0, 0, 0, 0, 0, 1, 1, 0, 0, 0, 0, 0, 0, 0, 0, 0, 0, 0, 0, 0, 0, 0, 0, 0]\n"
     ]
    }
   ],
   "source": [
    "#Random case \n",
    "\n",
    "for i in [25000,50000,75000,100000,200000,300000,400000,500000]:\n",
    "    if 0.05 < shapiro(dfQuickSortRandom16[dfQuickSortRandom16[\"Size\"]==i][\"DRAM (J)\"]).pvalue:\n",
    "        dataDRAM.append(1)\n",
    "    else:\n",
    "        dataDRAM.append(0)\n",
    "    sizeDRAM.append(i)\n",
    "    print(shapiro(dfQuickSortRandom16[dfQuickSortRandom16[\"Size\"]==i][\"DRAM (J)\"]).pvalue)\n",
    "print(dataDRAM)"
   ]
  },
  {
   "cell_type": "code",
   "execution_count": null,
   "metadata": {},
   "outputs": [],
   "source": []
  }
 ],
 "metadata": {
  "kernelspec": {
   "display_name": "Python 3",
   "language": "python",
   "name": "python3"
  },
  "language_info": {
   "codemirror_mode": {
    "name": "ipython",
    "version": 3
   },
   "file_extension": ".py",
   "mimetype": "text/x-python",
   "name": "python",
   "nbconvert_exporter": "python",
   "pygments_lexer": "ipython3",
   "version": "3.8.2"
  },
  "orig_nbformat": 4
 },
 "nbformat": 4,
 "nbformat_minor": 2
}
