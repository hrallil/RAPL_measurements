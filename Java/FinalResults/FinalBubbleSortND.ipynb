{
 "cells": [
  {
   "cell_type": "code",
   "execution_count": 1,
   "metadata": {},
   "outputs": [],
   "source": [
    "import pandas as pd\n",
    "import matplotlib.pyplot as plt\n",
    "import numpy as np\n",
    "import seaborn as sns\n",
    "from scipy.stats import shapiro"
   ]
  },
  {
   "cell_type": "code",
   "execution_count": 2,
   "metadata": {},
   "outputs": [],
   "source": [
    "dfQuickSort16 = pd.read_csv(\"FinalAnalysis/CleanData/QuickClean-PC16.csv\")\n",
    "dfMergeSort16 = pd.read_csv(\"FinalAnalysis/CleanData/MergeClean-PC16.csv\")\n",
    "dfCountingSort16 = pd.read_csv(\"FinalAnalysis/CleanData/CountingClean-PC16.csv\")\n",
    "dfBubbleSort16 = pd.read_csv(\"FinalAnalysis/CleanData/BubbleClean-PC16.csv\")\n"
   ]
  },
  {
   "cell_type": "code",
   "execution_count": 3,
   "metadata": {},
   "outputs": [],
   "source": [
    "merge = []\n",
    "quick = []\n",
    "count = []\n",
    "bubble = []\n",
    "\n",
    "for case in [\"best\", \"worst\", \"random\"]:\n",
    "    merge.append(dfMergeSort16[dfMergeSort16[\"Input case\"].str.startswith(case)])\n",
    "    quick.append(dfQuickSort16[dfQuickSort16[\"Input case\"].str.startswith(case)])\n",
    "    bubble.append(dfBubbleSort16[dfBubbleSort16[\"Input case\"].str.startswith(case)])\n",
    "    count.append(dfCountingSort16[dfCountingSort16[\"Input case\"].str.startswith(case)])\n",
    "\n"
   ]
  },
  {
   "cell_type": "code",
   "execution_count": 4,
   "metadata": {},
   "outputs": [],
   "source": [
    "def shapiroWilks(df, sizes, col):\n",
    "    data = []\n",
    "    size = []\n",
    "    pvalues =[]\n",
    "\n",
    "    for i in sizes:\n",
    "        if 0.05 < shapiro(df[df[\"Size\"]==i][col]).pvalue:\n",
    "            data.append(1)\n",
    "        else:\n",
    "            data.append(0)\n",
    "        size.append(i)\n",
    "        pvalues.append(shapiro(df[df[\"Size\"]==i][col]).pvalue)\n",
    "\n",
    "    return pvalues"
   ]
  },
  {
   "cell_type": "code",
   "execution_count": 5,
   "metadata": {},
   "outputs": [],
   "source": [
    "def getSharp(df, col):\n",
    "    data = []\n",
    "    size = []\n",
    "    pvalues = []\n",
    "    s = [25000,50000,75000,100000,200000,300000,400000,500000,600000,700000,800000,900000,1000000]\n",
    "    s2 = [25000,50000,75000,100000,200000,300000,400000,500000]\n",
    "    \n",
    "    # print(type(df[col]))\n",
    "    long = max(df[\"Size\"])> 500000\n",
    "    # print(df)\n",
    "\n",
    "    for i in s if long else s2:\n",
    "        if 0.05 < shapiro(df[df[\"Size\"]==i][col]).pvalue:\n",
    "            data.append(1)\n",
    "        else:\n",
    "            data.append(0)\n",
    "        size.append(i)\n",
    "        # print(shapiro(df[df[\"Size\"]==i][col]).pvalue)\n",
    "        pvalues.append(shapiro(df[df[\"Size\"]==i][col]).pvalue)\n",
    "    # print(data)\n",
    "    # print(pvalues)\n",
    "\n",
    "    return pvalues"
   ]
  },
  {
   "cell_type": "code",
   "execution_count": 6,
   "metadata": {},
   "outputs": [],
   "source": [
    "def countGreaterThan(list):\n",
    "    count = 0\n",
    "    for item in list:\n",
    "        if item > 0.05:\n",
    "            count += 1\n",
    "\n",
    "    return count"
   ]
  },
  {
   "cell_type": "code",
   "execution_count": 7,
   "metadata": {},
   "outputs": [],
   "source": [
    "def percentNormal(pvalues):\n",
    "    return countGreaterThan(pvalues) / len(pvalues) * 100"
   ]
  },
  {
   "cell_type": "code",
   "execution_count": 8,
   "metadata": {},
   "outputs": [
    {
     "data": {
      "text/html": [
       "<div>\n",
       "<style scoped>\n",
       "    .dataframe tbody tr th:only-of-type {\n",
       "        vertical-align: middle;\n",
       "    }\n",
       "\n",
       "    .dataframe tbody tr th {\n",
       "        vertical-align: top;\n",
       "    }\n",
       "\n",
       "    .dataframe thead th {\n",
       "        text-align: right;\n",
       "    }\n",
       "</style>\n",
       "<table border=\"1\" class=\"dataframe\">\n",
       "  <thead>\n",
       "    <tr style=\"text-align: right;\">\n",
       "      <th></th>\n",
       "      <th>Algorithm</th>\n",
       "      <th>CPU best %</th>\n",
       "      <th>CPU worst %</th>\n",
       "      <th>CPU random %</th>\n",
       "    </tr>\n",
       "  </thead>\n",
       "  <tbody>\n",
       "    <tr>\n",
       "      <th>0</th>\n",
       "      <td>merge</td>\n",
       "      <td>0.000000</td>\n",
       "      <td>7.692308</td>\n",
       "      <td>0.0</td>\n",
       "    </tr>\n",
       "    <tr>\n",
       "      <th>1</th>\n",
       "      <td>quick</td>\n",
       "      <td>15.384615</td>\n",
       "      <td>12.500000</td>\n",
       "      <td>0.0</td>\n",
       "    </tr>\n",
       "    <tr>\n",
       "      <th>2</th>\n",
       "      <td>counting</td>\n",
       "      <td>0.000000</td>\n",
       "      <td>7.692308</td>\n",
       "      <td>0.0</td>\n",
       "    </tr>\n",
       "    <tr>\n",
       "      <th>3</th>\n",
       "      <td>bubble</td>\n",
       "      <td>0.000000</td>\n",
       "      <td>12.500000</td>\n",
       "      <td>0.0</td>\n",
       "    </tr>\n",
       "  </tbody>\n",
       "</table>\n",
       "</div>"
      ],
      "text/plain": [
       "  Algorithm  CPU best %  CPU worst %  CPU random %\n",
       "0     merge    0.000000     7.692308           0.0\n",
       "1     quick   15.384615    12.500000           0.0\n",
       "2  counting    0.000000     7.692308           0.0\n",
       "3    bubble    0.000000    12.500000           0.0"
      ]
     },
     "execution_count": 8,
     "metadata": {},
     "output_type": "execute_result"
    }
   ],
   "source": [
    "list = [merge, quick, count, bubble]\n",
    "cases = [\"best\", \"worst\", \"random\"]\n",
    "names = [\"merge\", \"quick\", \"count\", \"bubble\"]\n",
    "\n",
    "dfCPU = pd.DataFrame({\"Algorithm\": [\"merge\", \"quick\", \"counting\", \"bubble\"]})\n",
    "dfTime = pd.DataFrame({\"Algorithm\": [\"merge\", \"quick\", \"counting\", \"bubble\"]})\n",
    "dfDRAM = pd.DataFrame({\"Algorithm\": [\"merge\", \"quick\", \"counting\", \"bubble\"]})\n",
    "algCount = 0\n",
    "for case in range(len(cases)):\n",
    "    cpu = []\n",
    "    time = []\n",
    "    dram = []\n",
    "    for alg in range(len(list)):\n",
    "        cpu.append(percentNormal( getSharp (list[alg][case], \"CPU (J)\")))\n",
    "        time.append(percentNormal( getSharp (list[alg][case], \"Time (ms)\")))\n",
    "        dram.append(percentNormal( getSharp (list[alg][case], \"DRAM (J)\")))\n",
    "\n",
    "    dfCPU[\"CPU \"+cases[case]+\" %\"] = cpu\n",
    "    dfTime[\"Time \"+cases[case]+\" %\"] = time\n",
    "    dfDRAM[\"DRAM \"+cases[case]+\" %\"] = dram\n",
    "    algCount += 1\n",
    "\n",
    "dfCPU"
   ]
  },
  {
   "cell_type": "code",
   "execution_count": 9,
   "metadata": {},
   "outputs": [
    {
     "data": {
      "text/html": [
       "<div>\n",
       "<style scoped>\n",
       "    .dataframe tbody tr th:only-of-type {\n",
       "        vertical-align: middle;\n",
       "    }\n",
       "\n",
       "    .dataframe tbody tr th {\n",
       "        vertical-align: top;\n",
       "    }\n",
       "\n",
       "    .dataframe thead th {\n",
       "        text-align: right;\n",
       "    }\n",
       "</style>\n",
       "<table border=\"1\" class=\"dataframe\">\n",
       "  <thead>\n",
       "    <tr style=\"text-align: right;\">\n",
       "      <th></th>\n",
       "      <th>Algorithm</th>\n",
       "      <th>Time best %</th>\n",
       "      <th>Time worst %</th>\n",
       "      <th>Time random %</th>\n",
       "    </tr>\n",
       "  </thead>\n",
       "  <tbody>\n",
       "    <tr>\n",
       "      <th>0</th>\n",
       "      <td>merge</td>\n",
       "      <td>53.846154</td>\n",
       "      <td>38.461538</td>\n",
       "      <td>15.384615</td>\n",
       "    </tr>\n",
       "    <tr>\n",
       "      <th>1</th>\n",
       "      <td>quick</td>\n",
       "      <td>61.538462</td>\n",
       "      <td>12.500000</td>\n",
       "      <td>0.000000</td>\n",
       "    </tr>\n",
       "    <tr>\n",
       "      <th>2</th>\n",
       "      <td>counting</td>\n",
       "      <td>15.384615</td>\n",
       "      <td>46.153846</td>\n",
       "      <td>0.000000</td>\n",
       "    </tr>\n",
       "    <tr>\n",
       "      <th>3</th>\n",
       "      <td>bubble</td>\n",
       "      <td>12.500000</td>\n",
       "      <td>12.500000</td>\n",
       "      <td>12.500000</td>\n",
       "    </tr>\n",
       "  </tbody>\n",
       "</table>\n",
       "</div>"
      ],
      "text/plain": [
       "  Algorithm  Time best %  Time worst %  Time random %\n",
       "0     merge    53.846154     38.461538      15.384615\n",
       "1     quick    61.538462     12.500000       0.000000\n",
       "2  counting    15.384615     46.153846       0.000000\n",
       "3    bubble    12.500000     12.500000      12.500000"
      ]
     },
     "execution_count": 9,
     "metadata": {},
     "output_type": "execute_result"
    }
   ],
   "source": [
    "dfTime"
   ]
  },
  {
   "cell_type": "code",
   "execution_count": 10,
   "metadata": {},
   "outputs": [
    {
     "data": {
      "text/html": [
       "<div>\n",
       "<style scoped>\n",
       "    .dataframe tbody tr th:only-of-type {\n",
       "        vertical-align: middle;\n",
       "    }\n",
       "\n",
       "    .dataframe tbody tr th {\n",
       "        vertical-align: top;\n",
       "    }\n",
       "\n",
       "    .dataframe thead th {\n",
       "        text-align: right;\n",
       "    }\n",
       "</style>\n",
       "<table border=\"1\" class=\"dataframe\">\n",
       "  <thead>\n",
       "    <tr style=\"text-align: right;\">\n",
       "      <th></th>\n",
       "      <th>Algorithm</th>\n",
       "      <th>DRAM best %</th>\n",
       "      <th>DRAM worst %</th>\n",
       "      <th>DRAM random %</th>\n",
       "    </tr>\n",
       "  </thead>\n",
       "  <tbody>\n",
       "    <tr>\n",
       "      <th>0</th>\n",
       "      <td>merge</td>\n",
       "      <td>0.000000</td>\n",
       "      <td>0.0</td>\n",
       "      <td>0.0</td>\n",
       "    </tr>\n",
       "    <tr>\n",
       "      <th>1</th>\n",
       "      <td>quick</td>\n",
       "      <td>46.153846</td>\n",
       "      <td>0.0</td>\n",
       "      <td>0.0</td>\n",
       "    </tr>\n",
       "    <tr>\n",
       "      <th>2</th>\n",
       "      <td>counting</td>\n",
       "      <td>7.692308</td>\n",
       "      <td>0.0</td>\n",
       "      <td>0.0</td>\n",
       "    </tr>\n",
       "    <tr>\n",
       "      <th>3</th>\n",
       "      <td>bubble</td>\n",
       "      <td>0.000000</td>\n",
       "      <td>0.0</td>\n",
       "      <td>0.0</td>\n",
       "    </tr>\n",
       "  </tbody>\n",
       "</table>\n",
       "</div>"
      ],
      "text/plain": [
       "  Algorithm  DRAM best %  DRAM worst %  DRAM random %\n",
       "0     merge     0.000000           0.0            0.0\n",
       "1     quick    46.153846           0.0            0.0\n",
       "2  counting     7.692308           0.0            0.0\n",
       "3    bubble     0.000000           0.0            0.0"
      ]
     },
     "execution_count": 10,
     "metadata": {},
     "output_type": "execute_result"
    }
   ],
   "source": [
    "dfDRAM"
   ]
  }
 ],
 "metadata": {
  "kernelspec": {
   "display_name": "base",
   "language": "python",
   "name": "python3"
  },
  "language_info": {
   "codemirror_mode": {
    "name": "ipython",
    "version": 3
   },
   "file_extension": ".py",
   "mimetype": "text/x-python",
   "name": "python",
   "nbconvert_exporter": "python",
   "pygments_lexer": "ipython3",
   "version": "3.9.12"
  },
  "orig_nbformat": 4
 },
 "nbformat": 4,
 "nbformat_minor": 2
}
