{
 "cells": [
  {
   "cell_type": "code",
   "execution_count": 1,
   "metadata": {},
   "outputs": [],
   "source": [
    "import pandas as pd\n",
    "import matplotlib.pyplot as plt\n",
    "import numpy as np\n",
    "import seaborn as sns\n",
    "from scipy.stats import shapiro"
   ]
  },
  {
   "cell_type": "code",
   "execution_count": 2,
   "metadata": {},
   "outputs": [],
   "source": [
    "dfCountingSort16 = pd.read_csv(\"FinalAnalysis/CleanData/CountingClean-PC16.csv\")\n"
   ]
  },
  {
   "cell_type": "code",
   "execution_count": 3,
   "metadata": {},
   "outputs": [
    {
     "data": {
      "text/html": [
       "<div>\n",
       "<style scoped>\n",
       "    .dataframe tbody tr th:only-of-type {\n",
       "        vertical-align: middle;\n",
       "    }\n",
       "\n",
       "    .dataframe tbody tr th {\n",
       "        vertical-align: top;\n",
       "    }\n",
       "\n",
       "    .dataframe thead th {\n",
       "        text-align: right;\n",
       "    }\n",
       "</style>\n",
       "<table border=\"1\" class=\"dataframe\">\n",
       "  <thead>\n",
       "    <tr style=\"text-align: right;\">\n",
       "      <th></th>\n",
       "      <th>PKG (J)</th>\n",
       "      <th>CPU (J)</th>\n",
       "      <th>DRAM (J)</th>\n",
       "      <th>Time (ms)</th>\n",
       "      <th>Temp (C)</th>\n",
       "      <th>Input case</th>\n",
       "      <th>Size</th>\n",
       "    </tr>\n",
       "  </thead>\n",
       "  <tbody>\n",
       "    <tr>\n",
       "      <th>0</th>\n",
       "      <td>1.876892</td>\n",
       "      <td>1.619263</td>\n",
       "      <td>0.113342</td>\n",
       "      <td>195.949</td>\n",
       "      <td>62.0</td>\n",
       "      <td>best</td>\n",
       "      <td>25000</td>\n",
       "    </tr>\n",
       "    <tr>\n",
       "      <th>1</th>\n",
       "      <td>1.891479</td>\n",
       "      <td>1.635620</td>\n",
       "      <td>0.111633</td>\n",
       "      <td>196.755</td>\n",
       "      <td>62.0</td>\n",
       "      <td>best</td>\n",
       "      <td>25000</td>\n",
       "    </tr>\n",
       "    <tr>\n",
       "      <th>2</th>\n",
       "      <td>1.785217</td>\n",
       "      <td>1.534607</td>\n",
       "      <td>0.105225</td>\n",
       "      <td>200.035</td>\n",
       "      <td>62.0</td>\n",
       "      <td>best</td>\n",
       "      <td>25000</td>\n",
       "    </tr>\n",
       "    <tr>\n",
       "      <th>3</th>\n",
       "      <td>1.878052</td>\n",
       "      <td>1.621521</td>\n",
       "      <td>0.114441</td>\n",
       "      <td>192.267</td>\n",
       "      <td>62.0</td>\n",
       "      <td>best</td>\n",
       "      <td>25000</td>\n",
       "    </tr>\n",
       "    <tr>\n",
       "      <th>4</th>\n",
       "      <td>1.678101</td>\n",
       "      <td>1.440918</td>\n",
       "      <td>0.102600</td>\n",
       "      <td>184.385</td>\n",
       "      <td>62.0</td>\n",
       "      <td>best</td>\n",
       "      <td>25000</td>\n",
       "    </tr>\n",
       "    <tr>\n",
       "      <th>...</th>\n",
       "      <td>...</td>\n",
       "      <td>...</td>\n",
       "      <td>...</td>\n",
       "      <td>...</td>\n",
       "      <td>...</td>\n",
       "      <td>...</td>\n",
       "      <td>...</td>\n",
       "    </tr>\n",
       "    <tr>\n",
       "      <th>11801</th>\n",
       "      <td>8.396423</td>\n",
       "      <td>7.127625</td>\n",
       "      <td>0.637207</td>\n",
       "      <td>995.757</td>\n",
       "      <td>58.0</td>\n",
       "      <td>worst</td>\n",
       "      <td>500000</td>\n",
       "    </tr>\n",
       "    <tr>\n",
       "      <th>11802</th>\n",
       "      <td>8.375000</td>\n",
       "      <td>7.123596</td>\n",
       "      <td>0.639038</td>\n",
       "      <td>983.054</td>\n",
       "      <td>59.0</td>\n",
       "      <td>worst</td>\n",
       "      <td>500000</td>\n",
       "    </tr>\n",
       "    <tr>\n",
       "      <th>11803</th>\n",
       "      <td>8.276245</td>\n",
       "      <td>7.031433</td>\n",
       "      <td>0.628906</td>\n",
       "      <td>982.591</td>\n",
       "      <td>58.0</td>\n",
       "      <td>worst</td>\n",
       "      <td>500000</td>\n",
       "    </tr>\n",
       "    <tr>\n",
       "      <th>11804</th>\n",
       "      <td>8.073608</td>\n",
       "      <td>6.853577</td>\n",
       "      <td>0.605469</td>\n",
       "      <td>984.863</td>\n",
       "      <td>58.0</td>\n",
       "      <td>worst</td>\n",
       "      <td>500000</td>\n",
       "    </tr>\n",
       "    <tr>\n",
       "      <th>11805</th>\n",
       "      <td>8.207397</td>\n",
       "      <td>6.954468</td>\n",
       "      <td>0.611877</td>\n",
       "      <td>1016.280</td>\n",
       "      <td>58.0</td>\n",
       "      <td>worst</td>\n",
       "      <td>500000</td>\n",
       "    </tr>\n",
       "  </tbody>\n",
       "</table>\n",
       "<p>11806 rows × 7 columns</p>\n",
       "</div>"
      ],
      "text/plain": [
       "        PKG (J)   CPU (J)  DRAM (J)  Time (ms)  Temp (C) Input case    Size\n",
       "0      1.876892  1.619263  0.113342    195.949      62.0       best   25000\n",
       "1      1.891479  1.635620  0.111633    196.755      62.0       best   25000\n",
       "2      1.785217  1.534607  0.105225    200.035      62.0       best   25000\n",
       "3      1.878052  1.621521  0.114441    192.267      62.0       best   25000\n",
       "4      1.678101  1.440918  0.102600    184.385      62.0       best   25000\n",
       "...         ...       ...       ...        ...       ...        ...     ...\n",
       "11801  8.396423  7.127625  0.637207    995.757      58.0      worst  500000\n",
       "11802  8.375000  7.123596  0.639038    983.054      59.0      worst  500000\n",
       "11803  8.276245  7.031433  0.628906    982.591      58.0      worst  500000\n",
       "11804  8.073608  6.853577  0.605469    984.863      58.0      worst  500000\n",
       "11805  8.207397  6.954468  0.611877   1016.280      58.0      worst  500000\n",
       "\n",
       "[11806 rows x 7 columns]"
      ]
     },
     "execution_count": 3,
     "metadata": {},
     "output_type": "execute_result"
    }
   ],
   "source": [
    "dfCountingSort16"
   ]
  },
  {
   "cell_type": "code",
   "execution_count": 4,
   "metadata": {},
   "outputs": [],
   "source": [
    "dfCountingSortBest16 = dfCountingSort16[dfCountingSort16[\"Input case\"].str.startswith(\"best\")]\n",
    "dfCountingSortWorst16 = dfCountingSort16[dfCountingSort16[\"Input case\"].str.startswith(\"worst\")]\n",
    "dfCountingSortRandom16 = dfCountingSort16[dfCountingSort16[\"Input case\"].str.startswith(\"random\")]"
   ]
  },
  {
   "cell_type": "code",
   "execution_count": 5,
   "metadata": {},
   "outputs": [
    {
     "data": {
      "text/html": [
       "<div>\n",
       "<style scoped>\n",
       "    .dataframe tbody tr th:only-of-type {\n",
       "        vertical-align: middle;\n",
       "    }\n",
       "\n",
       "    .dataframe tbody tr th {\n",
       "        vertical-align: top;\n",
       "    }\n",
       "\n",
       "    .dataframe thead th {\n",
       "        text-align: right;\n",
       "    }\n",
       "</style>\n",
       "<table border=\"1\" class=\"dataframe\">\n",
       "  <thead>\n",
       "    <tr style=\"text-align: right;\">\n",
       "      <th></th>\n",
       "      <th>PKG (J)</th>\n",
       "      <th>CPU (J)</th>\n",
       "      <th>DRAM (J)</th>\n",
       "      <th>Time (ms)</th>\n",
       "      <th>Temp (C)</th>\n",
       "      <th>Input case</th>\n",
       "      <th>Size</th>\n",
       "    </tr>\n",
       "  </thead>\n",
       "  <tbody>\n",
       "    <tr>\n",
       "      <th>0</th>\n",
       "      <td>1.876892</td>\n",
       "      <td>1.619263</td>\n",
       "      <td>0.113342</td>\n",
       "      <td>195.949</td>\n",
       "      <td>62.0</td>\n",
       "      <td>best</td>\n",
       "      <td>25000</td>\n",
       "    </tr>\n",
       "    <tr>\n",
       "      <th>1</th>\n",
       "      <td>1.891479</td>\n",
       "      <td>1.635620</td>\n",
       "      <td>0.111633</td>\n",
       "      <td>196.755</td>\n",
       "      <td>62.0</td>\n",
       "      <td>best</td>\n",
       "      <td>25000</td>\n",
       "    </tr>\n",
       "    <tr>\n",
       "      <th>2</th>\n",
       "      <td>1.785217</td>\n",
       "      <td>1.534607</td>\n",
       "      <td>0.105225</td>\n",
       "      <td>200.035</td>\n",
       "      <td>62.0</td>\n",
       "      <td>best</td>\n",
       "      <td>25000</td>\n",
       "    </tr>\n",
       "    <tr>\n",
       "      <th>3</th>\n",
       "      <td>1.878052</td>\n",
       "      <td>1.621521</td>\n",
       "      <td>0.114441</td>\n",
       "      <td>192.267</td>\n",
       "      <td>62.0</td>\n",
       "      <td>best</td>\n",
       "      <td>25000</td>\n",
       "    </tr>\n",
       "    <tr>\n",
       "      <th>4</th>\n",
       "      <td>1.678101</td>\n",
       "      <td>1.440918</td>\n",
       "      <td>0.102600</td>\n",
       "      <td>184.385</td>\n",
       "      <td>62.0</td>\n",
       "      <td>best</td>\n",
       "      <td>25000</td>\n",
       "    </tr>\n",
       "    <tr>\n",
       "      <th>...</th>\n",
       "      <td>...</td>\n",
       "      <td>...</td>\n",
       "      <td>...</td>\n",
       "      <td>...</td>\n",
       "      <td>...</td>\n",
       "      <td>...</td>\n",
       "      <td>...</td>\n",
       "    </tr>\n",
       "    <tr>\n",
       "      <th>2941</th>\n",
       "      <td>4.877441</td>\n",
       "      <td>4.203003</td>\n",
       "      <td>0.279907</td>\n",
       "      <td>479.996</td>\n",
       "      <td>72.0</td>\n",
       "      <td>best</td>\n",
       "      <td>500000</td>\n",
       "    </tr>\n",
       "    <tr>\n",
       "      <th>2942</th>\n",
       "      <td>5.337036</td>\n",
       "      <td>4.637451</td>\n",
       "      <td>0.324341</td>\n",
       "      <td>482.310</td>\n",
       "      <td>72.0</td>\n",
       "      <td>best</td>\n",
       "      <td>500000</td>\n",
       "    </tr>\n",
       "    <tr>\n",
       "      <th>2943</th>\n",
       "      <td>4.866943</td>\n",
       "      <td>4.192078</td>\n",
       "      <td>0.292786</td>\n",
       "      <td>484.467</td>\n",
       "      <td>73.0</td>\n",
       "      <td>best</td>\n",
       "      <td>500000</td>\n",
       "    </tr>\n",
       "    <tr>\n",
       "      <th>2944</th>\n",
       "      <td>4.921875</td>\n",
       "      <td>4.266052</td>\n",
       "      <td>0.282104</td>\n",
       "      <td>475.421</td>\n",
       "      <td>73.0</td>\n",
       "      <td>best</td>\n",
       "      <td>500000</td>\n",
       "    </tr>\n",
       "    <tr>\n",
       "      <th>2945</th>\n",
       "      <td>4.867188</td>\n",
       "      <td>4.223022</td>\n",
       "      <td>0.277039</td>\n",
       "      <td>463.869</td>\n",
       "      <td>73.0</td>\n",
       "      <td>best</td>\n",
       "      <td>500000</td>\n",
       "    </tr>\n",
       "  </tbody>\n",
       "</table>\n",
       "<p>2946 rows × 7 columns</p>\n",
       "</div>"
      ],
      "text/plain": [
       "       PKG (J)   CPU (J)  DRAM (J)  Time (ms)  Temp (C) Input case    Size\n",
       "0     1.876892  1.619263  0.113342    195.949      62.0       best   25000\n",
       "1     1.891479  1.635620  0.111633    196.755      62.0       best   25000\n",
       "2     1.785217  1.534607  0.105225    200.035      62.0       best   25000\n",
       "3     1.878052  1.621521  0.114441    192.267      62.0       best   25000\n",
       "4     1.678101  1.440918  0.102600    184.385      62.0       best   25000\n",
       "...        ...       ...       ...        ...       ...        ...     ...\n",
       "2941  4.877441  4.203003  0.279907    479.996      72.0       best  500000\n",
       "2942  5.337036  4.637451  0.324341    482.310      72.0       best  500000\n",
       "2943  4.866943  4.192078  0.292786    484.467      73.0       best  500000\n",
       "2944  4.921875  4.266052  0.282104    475.421      73.0       best  500000\n",
       "2945  4.867188  4.223022  0.277039    463.869      73.0       best  500000\n",
       "\n",
       "[2946 rows x 7 columns]"
      ]
     },
     "execution_count": 5,
     "metadata": {},
     "output_type": "execute_result"
    }
   ],
   "source": [
    "dfCountingSortBest16"
   ]
  },
  {
   "attachments": {},
   "cell_type": "markdown",
   "metadata": {},
   "source": [
    "# Shapiro Wilks Test For Normal Distribution "
   ]
  },
  {
   "attachments": {},
   "cell_type": "markdown",
   "metadata": {},
   "source": [
    "### Normal Distribution of CPU (J) of all Cases and Input Sizes for PC 16"
   ]
  },
  {
   "cell_type": "code",
   "execution_count": 6,
   "metadata": {},
   "outputs": [
    {
     "name": "stdout",
     "output_type": "stream",
     "text": [
      "1.7398483912259288e-12\n",
      "3.1346252171715605e-07\n",
      "1.2678401731247568e-11\n",
      "1.6870833072571423e-12\n",
      "7.27009989986982e-08\n",
      "2.7203141144127585e-05\n",
      "2.651973085576742e-09\n",
      "8.453465483171385e-09\n",
      "[0, 0, 0, 0, 0, 0, 0, 0]\n"
     ]
    }
   ],
   "source": [
    "data = []\n",
    "size = []\n",
    "for i in [25000,50000,75000,100000,200000,300000,400000,500000]:\n",
    "    if 0.05 < shapiro(dfCountingSortBest16[dfCountingSortBest16[\"Size\"]==i][\"CPU (J)\"]).pvalue:\n",
    "        data.append(1)\n",
    "    else:\n",
    "        data.append(0)\n",
    "    size.append(i)\n",
    "    print(shapiro(dfCountingSortBest16[dfCountingSortBest16[\"Size\"]==i][\"CPU (J)\"]).pvalue)\n",
    "print(data)"
   ]
  },
  {
   "cell_type": "code",
   "execution_count": 7,
   "metadata": {},
   "outputs": [
    {
     "name": "stdout",
     "output_type": "stream",
     "text": [
      "0.00515724765136838\n",
      "0.0021382078994065523\n",
      "0.03925459459424019\n",
      "0.017887739464640617\n",
      "2.7539316313496265e-12\n",
      "1.4353654376186853e-10\n",
      "0.002322426298633218\n",
      "1.182309944391946e-10\n",
      "[0, 0, 0, 0, 0, 0, 0, 0, 0, 0, 0, 0, 0, 0, 0, 0]\n"
     ]
    }
   ],
   "source": [
    "\n",
    "for i in [25000,50000,75000,100000,200000,300000,400000,500000]:\n",
    "    if 0.05 < shapiro(dfCountingSortWorst16[dfCountingSortWorst16[\"Size\"]==i][\"CPU (J)\"]).pvalue:\n",
    "        data.append(1)\n",
    "    else:\n",
    "        data.append(0)\n",
    "    size.append(i)\n",
    "    print(shapiro(dfCountingSortWorst16[dfCountingSortWorst16[\"Size\"]==i][\"CPU (J)\"]).pvalue)\n",
    "print(data)"
   ]
  },
  {
   "cell_type": "code",
   "execution_count": 8,
   "metadata": {},
   "outputs": [
    {
     "name": "stdout",
     "output_type": "stream",
     "text": [
      "1.0427969755255617e-05\n",
      "2.496121538630991e-11\n",
      "5.539133604917645e-13\n",
      "5.707033803870054e-11\n",
      "1.1514606158331032e-19\n",
      "1.9991172831186627e-18\n",
      "3.2830354225767848e-21\n",
      "2.118955778758273e-20\n",
      "[0, 0, 0, 0, 0, 0, 0, 0, 0, 0, 0, 0, 0, 0, 0, 0, 0, 0, 0, 0, 0, 0, 0, 0]\n"
     ]
    }
   ],
   "source": [
    "\n",
    "for i in [25000,50000,75000,100000,200000,300000,400000,500000]:\n",
    "    if 0.05 < shapiro(dfCountingSortRandom16[dfCountingSortRandom16[\"Size\"]==i][\"CPU (J)\"]).pvalue:\n",
    "        data.append(1)\n",
    "    else:\n",
    "        data.append(0)\n",
    "    size.append(i)\n",
    "    print(shapiro(dfCountingSortRandom16[dfCountingSortRandom16[\"Size\"]==i][\"CPU (J)\"]).pvalue)\n",
    "print(data)"
   ]
  },
  {
   "attachments": {},
   "cell_type": "markdown",
   "metadata": {},
   "source": [
    "### Normal Distribution of Time (ms) of all Cases and Input Sizes for PC 16"
   ]
  },
  {
   "cell_type": "code",
   "execution_count": 9,
   "metadata": {},
   "outputs": [
    {
     "name": "stdout",
     "output_type": "stream",
     "text": [
      "0.00018854903464671224\n",
      "1.4190840343097921e-13\n",
      "7.985035921365125e-08\n",
      "6.88232175889425e-05\n",
      "1.4619730563936173e-06\n",
      "1.4633259297625045e-06\n",
      "5.1766775868600234e-05\n",
      "0.30627062916755676\n",
      "[0, 0, 0, 0, 0, 0, 0, 1]\n"
     ]
    }
   ],
   "source": [
    "#Best Case\n",
    "dataTime = []\n",
    "sizeTime = []\n",
    "\n",
    "for i in [25000,50000,75000,100000,200000,300000,400000,500000]:\n",
    "    if 0.05 < shapiro(dfCountingSortBest16[dfCountingSortBest16[\"Size\"]==i][\"Time (ms)\"]).pvalue:\n",
    "        dataTime.append(1)\n",
    "    else:\n",
    "        dataTime.append(0)\n",
    "    sizeTime.append(i)\n",
    "    print(shapiro(dfCountingSortBest16[dfCountingSortBest16[\"Size\"]==i][\"Time (ms)\"]).pvalue)\n",
    "print(dataTime)\n"
   ]
  },
  {
   "cell_type": "code",
   "execution_count": 10,
   "metadata": {},
   "outputs": [
    {
     "name": "stdout",
     "output_type": "stream",
     "text": [
      "0.002036859281361103\n",
      "0.725250780582428\n",
      "0.0014048611046746373\n",
      "0.025835340842604637\n",
      "0.0026496779173612595\n",
      "0.29986438155174255\n",
      "0.7516871690750122\n",
      "0.3820970952510834\n",
      "[0, 0, 0, 0, 0, 0, 0, 1, 0, 1, 0, 0, 0, 1, 1, 1]\n"
     ]
    }
   ],
   "source": [
    "#Worst Case\n",
    "\n",
    "for i in [25000,50000,75000,100000,200000,300000,400000,500000]:\n",
    "    if 0.05 < shapiro(dfCountingSortWorst16[dfCountingSortWorst16[\"Size\"]==i][\"Time (ms)\"]).pvalue:\n",
    "        dataTime.append(1)\n",
    "    else:\n",
    "        dataTime.append(0)\n",
    "    sizeTime.append(i)\n",
    "    print(shapiro(dfCountingSortWorst16[dfCountingSortWorst16[\"Size\"]==i][\"Time (ms)\"]).pvalue)\n",
    "print(dataTime)\n"
   ]
  },
  {
   "cell_type": "code",
   "execution_count": 11,
   "metadata": {},
   "outputs": [
    {
     "name": "stdout",
     "output_type": "stream",
     "text": [
      "2.2286407386218343e-07\n",
      "4.504912851643894e-07\n",
      "2.380634001042381e-08\n",
      "0.0018363005947321653\n",
      "0.00018415192607790232\n",
      "9.624377383943283e-08\n",
      "7.356545594916497e-09\n",
      "2.5930941774277017e-05\n",
      "[0, 0, 0, 0, 0, 0, 0, 1, 0, 1, 0, 0, 0, 1, 1, 1, 0, 0, 0, 0, 0, 0, 0, 0]\n"
     ]
    }
   ],
   "source": [
    "#Random Case\n",
    "\n",
    "for i in [25000,50000,75000,100000,200000,300000,400000,500000]:\n",
    "    if 0.05 < shapiro(dfCountingSortRandom16[dfCountingSortRandom16[\"Size\"]==i][\"Time (ms)\"]).pvalue:\n",
    "        dataTime.append(1)\n",
    "    else:\n",
    "        dataTime.append(0)\n",
    "    sizeTime.append(i)\n",
    "    print(shapiro(dfCountingSortRandom16[dfCountingSortRandom16[\"Size\"]==i][\"Time (ms)\"]).pvalue)\n",
    "print(dataTime)\n"
   ]
  },
  {
   "attachments": {},
   "cell_type": "markdown",
   "metadata": {},
   "source": [
    "### Nomral Distribution of DRAM (J) of all Cases and Input Sizes for PC 16"
   ]
  },
  {
   "cell_type": "code",
   "execution_count": 12,
   "metadata": {},
   "outputs": [
    {
     "name": "stdout",
     "output_type": "stream",
     "text": [
      "6.418585107859087e-11\n",
      "0.05216896906495094\n",
      "4.490337596507743e-05\n",
      "4.6288544552908206e-08\n",
      "1.651780490163901e-09\n",
      "3.189663810854171e-11\n",
      "3.928302995392929e-12\n",
      "6.615009321558896e-12\n",
      "[0, 1, 0, 0, 0, 0, 0, 0]\n"
     ]
    }
   ],
   "source": [
    "#Best case \n",
    "dataDRAM = []\n",
    "sizeDRAM = []\n",
    "for i in [25000,50000,75000,100000,200000,300000,400000,500000]:\n",
    "    if 0.05 < shapiro(dfCountingSortBest16[dfCountingSortBest16[\"Size\"]==i][\"DRAM (J)\"]).pvalue:\n",
    "        dataDRAM.append(1)\n",
    "    else:\n",
    "        dataDRAM.append(0)\n",
    "    sizeDRAM.append(i)\n",
    "    print(shapiro(dfCountingSortBest16[dfCountingSortBest16[\"Size\"]==i][\"DRAM (J)\"]).pvalue)\n",
    "print(dataDRAM)"
   ]
  },
  {
   "cell_type": "code",
   "execution_count": 13,
   "metadata": {},
   "outputs": [
    {
     "name": "stdout",
     "output_type": "stream",
     "text": [
      "0.02199666015803814\n",
      "0.02095816284418106\n",
      "3.5666273561218986e-06\n",
      "1.457913367630681e-05\n",
      "6.831100491039646e-15\n",
      "1.100163363187967e-10\n",
      "5.500679094438965e-07\n",
      "3.3084516029568967e-13\n",
      "[0, 1, 0, 0, 0, 0, 0, 0, 0, 0, 0, 0, 0, 0, 0, 0]\n"
     ]
    }
   ],
   "source": [
    "#Worst case \n",
    "\n",
    "for i in [25000,50000,75000,100000,200000,300000,400000,500000]:\n",
    "    if 0.05 < shapiro(dfCountingSortWorst16[dfCountingSortWorst16[\"Size\"]==i][\"DRAM (J)\"]).pvalue:\n",
    "        dataDRAM.append(1)\n",
    "    else:\n",
    "        dataDRAM.append(0)\n",
    "    sizeDRAM.append(i)\n",
    "    print(shapiro(dfCountingSortWorst16[dfCountingSortWorst16[\"Size\"]==i][\"DRAM (J)\"]).pvalue)\n",
    "print(dataDRAM)"
   ]
  },
  {
   "cell_type": "code",
   "execution_count": null,
   "metadata": {},
   "outputs": [],
   "source": []
  }
 ],
 "metadata": {
  "kernelspec": {
   "display_name": "Python 3",
   "language": "python",
   "name": "python3"
  },
  "language_info": {
   "codemirror_mode": {
    "name": "ipython",
    "version": 3
   },
   "file_extension": ".py",
   "mimetype": "text/x-python",
   "name": "python",
   "nbconvert_exporter": "python",
   "pygments_lexer": "ipython3",
   "version": "3.8.2"
  },
  "orig_nbformat": 4
 },
 "nbformat": 4,
 "nbformat_minor": 2
}
