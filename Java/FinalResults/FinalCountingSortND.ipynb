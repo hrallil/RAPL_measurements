{
 "cells": [
  {
   "cell_type": "code",
   "execution_count": 31,
   "metadata": {},
   "outputs": [],
   "source": [
    "import pandas as pd\n",
    "import matplotlib.pyplot as plt\n",
    "import numpy as np\n",
    "import seaborn as sns\n",
    "from scipy.stats import shapiro"
   ]
  },
  {
   "cell_type": "code",
   "execution_count": 32,
   "metadata": {},
   "outputs": [],
   "source": [
    "dfCountingSort16 = pd.read_csv(\"FinalAnalysis/CleanData/CountingClean-PC16.csv\")\n"
   ]
  },
  {
   "cell_type": "code",
   "execution_count": 33,
   "metadata": {},
   "outputs": [
    {
     "data": {
      "text/html": [
       "<div>\n",
       "<style scoped>\n",
       "    .dataframe tbody tr th:only-of-type {\n",
       "        vertical-align: middle;\n",
       "    }\n",
       "\n",
       "    .dataframe tbody tr th {\n",
       "        vertical-align: top;\n",
       "    }\n",
       "\n",
       "    .dataframe thead th {\n",
       "        text-align: right;\n",
       "    }\n",
       "</style>\n",
       "<table border=\"1\" class=\"dataframe\">\n",
       "  <thead>\n",
       "    <tr style=\"text-align: right;\">\n",
       "      <th></th>\n",
       "      <th>PKG (J)</th>\n",
       "      <th>CPU (J)</th>\n",
       "      <th>DRAM (J)</th>\n",
       "      <th>Time (ms)</th>\n",
       "      <th>Temp (C)</th>\n",
       "      <th>Input case</th>\n",
       "      <th>Size</th>\n",
       "    </tr>\n",
       "  </thead>\n",
       "  <tbody>\n",
       "    <tr>\n",
       "      <th>0</th>\n",
       "      <td>1.876892</td>\n",
       "      <td>1.619263</td>\n",
       "      <td>0.113342</td>\n",
       "      <td>195.949</td>\n",
       "      <td>62.0</td>\n",
       "      <td>best</td>\n",
       "      <td>25000</td>\n",
       "    </tr>\n",
       "    <tr>\n",
       "      <th>1</th>\n",
       "      <td>1.891479</td>\n",
       "      <td>1.635620</td>\n",
       "      <td>0.111633</td>\n",
       "      <td>196.755</td>\n",
       "      <td>62.0</td>\n",
       "      <td>best</td>\n",
       "      <td>25000</td>\n",
       "    </tr>\n",
       "    <tr>\n",
       "      <th>2</th>\n",
       "      <td>1.785217</td>\n",
       "      <td>1.534607</td>\n",
       "      <td>0.105225</td>\n",
       "      <td>200.035</td>\n",
       "      <td>62.0</td>\n",
       "      <td>best</td>\n",
       "      <td>25000</td>\n",
       "    </tr>\n",
       "    <tr>\n",
       "      <th>3</th>\n",
       "      <td>1.878052</td>\n",
       "      <td>1.621521</td>\n",
       "      <td>0.114441</td>\n",
       "      <td>192.267</td>\n",
       "      <td>62.0</td>\n",
       "      <td>best</td>\n",
       "      <td>25000</td>\n",
       "    </tr>\n",
       "    <tr>\n",
       "      <th>4</th>\n",
       "      <td>1.678101</td>\n",
       "      <td>1.440918</td>\n",
       "      <td>0.102600</td>\n",
       "      <td>184.385</td>\n",
       "      <td>62.0</td>\n",
       "      <td>best</td>\n",
       "      <td>25000</td>\n",
       "    </tr>\n",
       "    <tr>\n",
       "      <th>...</th>\n",
       "      <td>...</td>\n",
       "      <td>...</td>\n",
       "      <td>...</td>\n",
       "      <td>...</td>\n",
       "      <td>...</td>\n",
       "      <td>...</td>\n",
       "      <td>...</td>\n",
       "    </tr>\n",
       "    <tr>\n",
       "      <th>19131</th>\n",
       "      <td>10.212769</td>\n",
       "      <td>8.609131</td>\n",
       "      <td>0.739380</td>\n",
       "      <td>1346.990</td>\n",
       "      <td>60.0</td>\n",
       "      <td>worst</td>\n",
       "      <td>1000000</td>\n",
       "    </tr>\n",
       "    <tr>\n",
       "      <th>19132</th>\n",
       "      <td>10.300110</td>\n",
       "      <td>8.668518</td>\n",
       "      <td>0.757263</td>\n",
       "      <td>1342.570</td>\n",
       "      <td>60.0</td>\n",
       "      <td>worst</td>\n",
       "      <td>1000000</td>\n",
       "    </tr>\n",
       "    <tr>\n",
       "      <th>19133</th>\n",
       "      <td>10.474915</td>\n",
       "      <td>8.800232</td>\n",
       "      <td>0.767151</td>\n",
       "      <td>1382.330</td>\n",
       "      <td>61.0</td>\n",
       "      <td>worst</td>\n",
       "      <td>1000000</td>\n",
       "    </tr>\n",
       "    <tr>\n",
       "      <th>19134</th>\n",
       "      <td>10.169312</td>\n",
       "      <td>8.535522</td>\n",
       "      <td>0.756592</td>\n",
       "      <td>1326.740</td>\n",
       "      <td>60.0</td>\n",
       "      <td>worst</td>\n",
       "      <td>1000000</td>\n",
       "    </tr>\n",
       "    <tr>\n",
       "      <th>19135</th>\n",
       "      <td>10.342163</td>\n",
       "      <td>8.699158</td>\n",
       "      <td>0.762634</td>\n",
       "      <td>1337.880</td>\n",
       "      <td>60.0</td>\n",
       "      <td>worst</td>\n",
       "      <td>1000000</td>\n",
       "    </tr>\n",
       "  </tbody>\n",
       "</table>\n",
       "<p>19136 rows × 7 columns</p>\n",
       "</div>"
      ],
      "text/plain": [
       "         PKG (J)   CPU (J)  DRAM (J)  Time (ms)  Temp (C) Input case     Size\n",
       "0       1.876892  1.619263  0.113342    195.949      62.0       best    25000\n",
       "1       1.891479  1.635620  0.111633    196.755      62.0       best    25000\n",
       "2       1.785217  1.534607  0.105225    200.035      62.0       best    25000\n",
       "3       1.878052  1.621521  0.114441    192.267      62.0       best    25000\n",
       "4       1.678101  1.440918  0.102600    184.385      62.0       best    25000\n",
       "...          ...       ...       ...        ...       ...        ...      ...\n",
       "19131  10.212769  8.609131  0.739380   1346.990      60.0      worst  1000000\n",
       "19132  10.300110  8.668518  0.757263   1342.570      60.0      worst  1000000\n",
       "19133  10.474915  8.800232  0.767151   1382.330      61.0      worst  1000000\n",
       "19134  10.169312  8.535522  0.756592   1326.740      60.0      worst  1000000\n",
       "19135  10.342163  8.699158  0.762634   1337.880      60.0      worst  1000000\n",
       "\n",
       "[19136 rows x 7 columns]"
      ]
     },
     "execution_count": 33,
     "metadata": {},
     "output_type": "execute_result"
    }
   ],
   "source": [
    "dfCountingSort16"
   ]
  },
  {
   "cell_type": "code",
   "execution_count": 34,
   "metadata": {},
   "outputs": [],
   "source": [
    "dfCountingSortBest16 = dfCountingSort16[dfCountingSort16[\"Input case\"].str.startswith(\"best\")]\n",
    "dfCountingSortWorst16 = dfCountingSort16[dfCountingSort16[\"Input case\"].str.startswith(\"worst\")]\n",
    "dfCountingSortRandom16 = dfCountingSort16[dfCountingSort16[\"Input case\"].str.startswith(\"random\")]"
   ]
  },
  {
   "cell_type": "code",
   "execution_count": 35,
   "metadata": {},
   "outputs": [
    {
     "data": {
      "text/html": [
       "<div>\n",
       "<style scoped>\n",
       "    .dataframe tbody tr th:only-of-type {\n",
       "        vertical-align: middle;\n",
       "    }\n",
       "\n",
       "    .dataframe tbody tr th {\n",
       "        vertical-align: top;\n",
       "    }\n",
       "\n",
       "    .dataframe thead th {\n",
       "        text-align: right;\n",
       "    }\n",
       "</style>\n",
       "<table border=\"1\" class=\"dataframe\">\n",
       "  <thead>\n",
       "    <tr style=\"text-align: right;\">\n",
       "      <th></th>\n",
       "      <th>PKG (J)</th>\n",
       "      <th>CPU (J)</th>\n",
       "      <th>DRAM (J)</th>\n",
       "      <th>Time (ms)</th>\n",
       "      <th>Temp (C)</th>\n",
       "      <th>Input case</th>\n",
       "      <th>Size</th>\n",
       "    </tr>\n",
       "  </thead>\n",
       "  <tbody>\n",
       "    <tr>\n",
       "      <th>0</th>\n",
       "      <td>1.876892</td>\n",
       "      <td>1.619263</td>\n",
       "      <td>0.113342</td>\n",
       "      <td>195.949</td>\n",
       "      <td>62.0</td>\n",
       "      <td>best</td>\n",
       "      <td>25000</td>\n",
       "    </tr>\n",
       "    <tr>\n",
       "      <th>1</th>\n",
       "      <td>1.891479</td>\n",
       "      <td>1.635620</td>\n",
       "      <td>0.111633</td>\n",
       "      <td>196.755</td>\n",
       "      <td>62.0</td>\n",
       "      <td>best</td>\n",
       "      <td>25000</td>\n",
       "    </tr>\n",
       "    <tr>\n",
       "      <th>2</th>\n",
       "      <td>1.785217</td>\n",
       "      <td>1.534607</td>\n",
       "      <td>0.105225</td>\n",
       "      <td>200.035</td>\n",
       "      <td>62.0</td>\n",
       "      <td>best</td>\n",
       "      <td>25000</td>\n",
       "    </tr>\n",
       "    <tr>\n",
       "      <th>3</th>\n",
       "      <td>1.878052</td>\n",
       "      <td>1.621521</td>\n",
       "      <td>0.114441</td>\n",
       "      <td>192.267</td>\n",
       "      <td>62.0</td>\n",
       "      <td>best</td>\n",
       "      <td>25000</td>\n",
       "    </tr>\n",
       "    <tr>\n",
       "      <th>4</th>\n",
       "      <td>1.678101</td>\n",
       "      <td>1.440918</td>\n",
       "      <td>0.102600</td>\n",
       "      <td>184.385</td>\n",
       "      <td>62.0</td>\n",
       "      <td>best</td>\n",
       "      <td>25000</td>\n",
       "    </tr>\n",
       "    <tr>\n",
       "      <th>...</th>\n",
       "      <td>...</td>\n",
       "      <td>...</td>\n",
       "      <td>...</td>\n",
       "      <td>...</td>\n",
       "      <td>...</td>\n",
       "      <td>...</td>\n",
       "      <td>...</td>\n",
       "    </tr>\n",
       "    <tr>\n",
       "      <th>4807</th>\n",
       "      <td>6.719788</td>\n",
       "      <td>5.797974</td>\n",
       "      <td>0.380432</td>\n",
       "      <td>713.453</td>\n",
       "      <td>71.0</td>\n",
       "      <td>best</td>\n",
       "      <td>1000000</td>\n",
       "    </tr>\n",
       "    <tr>\n",
       "      <th>4808</th>\n",
       "      <td>6.539246</td>\n",
       "      <td>5.623535</td>\n",
       "      <td>0.380737</td>\n",
       "      <td>725.147</td>\n",
       "      <td>71.0</td>\n",
       "      <td>best</td>\n",
       "      <td>1000000</td>\n",
       "    </tr>\n",
       "    <tr>\n",
       "      <th>4809</th>\n",
       "      <td>6.512512</td>\n",
       "      <td>5.608704</td>\n",
       "      <td>0.366638</td>\n",
       "      <td>724.385</td>\n",
       "      <td>71.0</td>\n",
       "      <td>best</td>\n",
       "      <td>1000000</td>\n",
       "    </tr>\n",
       "    <tr>\n",
       "      <th>4810</th>\n",
       "      <td>6.630493</td>\n",
       "      <td>5.714172</td>\n",
       "      <td>0.381470</td>\n",
       "      <td>707.163</td>\n",
       "      <td>70.0</td>\n",
       "      <td>best</td>\n",
       "      <td>1000000</td>\n",
       "    </tr>\n",
       "    <tr>\n",
       "      <th>4811</th>\n",
       "      <td>6.861755</td>\n",
       "      <td>5.932434</td>\n",
       "      <td>0.407776</td>\n",
       "      <td>741.815</td>\n",
       "      <td>70.0</td>\n",
       "      <td>best</td>\n",
       "      <td>1000000</td>\n",
       "    </tr>\n",
       "  </tbody>\n",
       "</table>\n",
       "<p>4812 rows × 7 columns</p>\n",
       "</div>"
      ],
      "text/plain": [
       "       PKG (J)   CPU (J)  DRAM (J)  Time (ms)  Temp (C) Input case     Size\n",
       "0     1.876892  1.619263  0.113342    195.949      62.0       best    25000\n",
       "1     1.891479  1.635620  0.111633    196.755      62.0       best    25000\n",
       "2     1.785217  1.534607  0.105225    200.035      62.0       best    25000\n",
       "3     1.878052  1.621521  0.114441    192.267      62.0       best    25000\n",
       "4     1.678101  1.440918  0.102600    184.385      62.0       best    25000\n",
       "...        ...       ...       ...        ...       ...        ...      ...\n",
       "4807  6.719788  5.797974  0.380432    713.453      71.0       best  1000000\n",
       "4808  6.539246  5.623535  0.380737    725.147      71.0       best  1000000\n",
       "4809  6.512512  5.608704  0.366638    724.385      71.0       best  1000000\n",
       "4810  6.630493  5.714172  0.381470    707.163      70.0       best  1000000\n",
       "4811  6.861755  5.932434  0.407776    741.815      70.0       best  1000000\n",
       "\n",
       "[4812 rows x 7 columns]"
      ]
     },
     "execution_count": 35,
     "metadata": {},
     "output_type": "execute_result"
    }
   ],
   "source": [
    "dfCountingSortBest16"
   ]
  },
  {
   "cell_type": "code",
   "execution_count": 36,
   "metadata": {},
   "outputs": [
    {
     "data": {
      "text/plain": [
       "4812       25000\n",
       "4813       25000\n",
       "4814       25000\n",
       "4815       25000\n",
       "4816       25000\n",
       "          ...   \n",
       "14355    1000000\n",
       "14356    1000000\n",
       "14357    1000000\n",
       "14358    1000000\n",
       "14359    1000000\n",
       "Name: Size, Length: 9548, dtype: int64"
      ]
     },
     "execution_count": 36,
     "metadata": {},
     "output_type": "execute_result"
    }
   ],
   "source": [
    "dfCountingSortRandom16[\"Size\"]"
   ]
  },
  {
   "cell_type": "code",
   "execution_count": 37,
   "metadata": {},
   "outputs": [
    {
     "data": {
      "text/plain": [
       "14360      25000\n",
       "14361      25000\n",
       "14362      25000\n",
       "14363      25000\n",
       "14364      25000\n",
       "          ...   \n",
       "19131    1000000\n",
       "19132    1000000\n",
       "19133    1000000\n",
       "19134    1000000\n",
       "19135    1000000\n",
       "Name: Size, Length: 4776, dtype: int64"
      ]
     },
     "execution_count": 37,
     "metadata": {},
     "output_type": "execute_result"
    }
   ],
   "source": [
    "dfCountingSortWorst16[\"Size\"]"
   ]
  },
  {
   "attachments": {},
   "cell_type": "markdown",
   "metadata": {},
   "source": [
    "# Shapiro Wilks Test For Normal Distribution "
   ]
  },
  {
   "attachments": {},
   "cell_type": "markdown",
   "metadata": {},
   "source": [
    "### Normal Distribution of CPU (J) of all Cases and Input Sizes for PC 16"
   ]
  },
  {
   "cell_type": "code",
   "execution_count": 38,
   "metadata": {},
   "outputs": [
    {
     "name": "stdout",
     "output_type": "stream",
     "text": [
      "1.7398483912259288e-12\n",
      "3.1346252171715605e-07\n",
      "1.2678401731247568e-11\n",
      "1.6870833072571423e-12\n",
      "7.27009989986982e-08\n",
      "2.7203141144127585e-05\n",
      "2.651973085576742e-09\n",
      "8.453465483171385e-09\n",
      "1.7625860840309038e-11\n",
      "2.0615136975266068e-07\n",
      "9.263126377057063e-11\n",
      "4.163797640011069e-10\n",
      "3.229882361566183e-09\n",
      "[0, 0, 0, 0, 0, 0, 0, 0, 0, 0, 0, 0, 0]\n",
      "[1.7398483912259288e-12, 3.1346252171715605e-07, 1.2678401731247568e-11, 1.6870833072571423e-12, 7.27009989986982e-08, 2.7203141144127585e-05, 2.651973085576742e-09, 8.453465483171385e-09, 1.7625860840309038e-11, 2.0615136975266068e-07, 9.263126377057063e-11, 4.163797640011069e-10, 3.229882361566183e-09]\n"
     ]
    }
   ],
   "source": [
    "data = []\n",
    "size = []\n",
    "pvalues = []\n",
    "for i in [25000,50000,75000,100000,200000,300000,400000,500000,600000,700000,800000,900000,1000000]:\n",
    "    if 0.05 < shapiro(dfCountingSortBest16[dfCountingSortBest16[\"Size\"]==i][\"CPU (J)\"]).pvalue:\n",
    "        data.append(1)\n",
    "    else:\n",
    "        data.append(0)\n",
    "    size.append(i)\n",
    "    print(shapiro(dfCountingSortBest16[dfCountingSortBest16[\"Size\"]==i][\"CPU (J)\"]).pvalue)\n",
    "    pvalues.append(shapiro(dfCountingSortBest16[dfCountingSortBest16[\"Size\"]==i][\"CPU (J)\"]).pvalue)\n",
    "print(data)\n",
    "print(pvalues)"
   ]
  },
  {
   "cell_type": "code",
   "execution_count": 39,
   "metadata": {},
   "outputs": [
    {
     "name": "stdout",
     "output_type": "stream",
     "text": [
      "0.00515724765136838\n",
      "0.0021382078994065523\n",
      "0.03925459459424019\n",
      "0.017887739464640617\n",
      "2.7539316313496265e-12\n",
      "1.4353654376186853e-10\n",
      "0.002322426298633218\n",
      "1.182309944391946e-10\n",
      "2.3821846184546303e-07\n",
      "0.02938244119286537\n",
      "0.8134357929229736\n",
      "7.734785867796745e-06\n",
      "0.04461445286870003\n",
      "[0, 0, 0, 0, 0, 0, 0, 0, 0, 0, 0, 0, 0, 0, 0, 0, 0, 0, 0, 0, 0, 0, 0, 1, 0, 0]\n",
      "[1.7398483912259288e-12, 3.1346252171715605e-07, 1.2678401731247568e-11, 1.6870833072571423e-12, 7.27009989986982e-08, 2.7203141144127585e-05, 2.651973085576742e-09, 8.453465483171385e-09, 1.7625860840309038e-11, 2.0615136975266068e-07, 9.263126377057063e-11, 4.163797640011069e-10, 3.229882361566183e-09, 0.00515724765136838, 0.0021382078994065523, 0.03925459459424019, 0.017887739464640617, 2.7539316313496265e-12, 1.4353654376186853e-10, 0.002322426298633218, 1.182309944391946e-10, 2.3821846184546303e-07, 0.02938244119286537, 0.8134357929229736, 7.734785867796745e-06, 0.04461445286870003]\n"
     ]
    }
   ],
   "source": [
    "\n",
    "for i in [25000,50000,75000,100000,200000,300000,400000,500000,600000,700000,800000,900000,1000000]:\n",
    "    if 0.05 < shapiro(dfCountingSortWorst16[dfCountingSortWorst16[\"Size\"]==i][\"CPU (J)\"]).pvalue:\n",
    "        data.append(1)\n",
    "    else:\n",
    "        data.append(0)\n",
    "    size.append(i)\n",
    "    print(shapiro(dfCountingSortWorst16[dfCountingSortWorst16[\"Size\"]==i][\"CPU (J)\"]).pvalue)\n",
    "    pvalues.append(shapiro(dfCountingSortWorst16[dfCountingSortWorst16[\"Size\"]==i][\"CPU (J)\"]).pvalue)\n",
    "print(data)\n",
    "print(pvalues)"
   ]
  },
  {
   "cell_type": "code",
   "execution_count": 40,
   "metadata": {},
   "outputs": [
    {
     "name": "stdout",
     "output_type": "stream",
     "text": [
      "1.0427969755255617e-05\n",
      "2.496121538630991e-11\n",
      "5.539133604917645e-13\n",
      "5.707033803870054e-11\n",
      "1.1514606158331032e-19\n",
      "1.9991172831186627e-18\n",
      "3.2830354225767848e-21\n",
      "2.118955778758273e-20\n",
      "9.307403789242696e-23\n",
      "2.738119563494137e-19\n",
      "6.823667747976168e-19\n",
      "8.131280712602828e-17\n",
      "4.3232464219070555e-15\n",
      "[0, 0, 0, 0, 0, 0, 0, 0, 0, 0, 0, 0, 0, 0, 0, 0, 0, 0, 0, 0, 0, 0, 0, 1, 0, 0, 0, 0, 0, 0, 0, 0, 0, 0, 0, 0, 0, 0, 0]\n",
      "[1.7398483912259288e-12, 3.1346252171715605e-07, 1.2678401731247568e-11, 1.6870833072571423e-12, 7.27009989986982e-08, 2.7203141144127585e-05, 2.651973085576742e-09, 8.453465483171385e-09, 1.7625860840309038e-11, 2.0615136975266068e-07, 9.263126377057063e-11, 4.163797640011069e-10, 3.229882361566183e-09, 0.00515724765136838, 0.0021382078994065523, 0.03925459459424019, 0.017887739464640617, 2.7539316313496265e-12, 1.4353654376186853e-10, 0.002322426298633218, 1.182309944391946e-10, 2.3821846184546303e-07, 0.02938244119286537, 0.8134357929229736, 7.734785867796745e-06, 0.04461445286870003, 1.0427969755255617e-05, 2.496121538630991e-11, 5.539133604917645e-13, 5.707033803870054e-11, 1.1514606158331032e-19, 1.9991172831186627e-18, 3.2830354225767848e-21, 2.118955778758273e-20, 9.307403789242696e-23, 2.738119563494137e-19, 6.823667747976168e-19, 8.131280712602828e-17, 4.3232464219070555e-15]\n"
     ]
    }
   ],
   "source": [
    "\n",
    "for i in [25000,50000,75000,100000,200000,300000,400000,500000,600000,700000,800000,900000,1000000]:\n",
    "    if 0.05 < shapiro(dfCountingSortRandom16[dfCountingSortRandom16[\"Size\"]==i][\"CPU (J)\"]).pvalue:\n",
    "        data.append(1)\n",
    "    else:\n",
    "        data.append(0)\n",
    "    size.append(i)\n",
    "    print(shapiro(dfCountingSortRandom16[dfCountingSortRandom16[\"Size\"]==i][\"CPU (J)\"]).pvalue)\n",
    "    pvalues.append(shapiro(dfCountingSortRandom16[dfCountingSortRandom16[\"Size\"]==i][\"CPU (J)\"]).pvalue)\n",
    "print(data)\n",
    "print(pvalues)"
   ]
  },
  {
   "attachments": {},
   "cell_type": "markdown",
   "metadata": {},
   "source": [
    "### Normal Distribution of Time (ms) of all Cases and Input Sizes for PC 16"
   ]
  },
  {
   "cell_type": "code",
   "execution_count": 41,
   "metadata": {},
   "outputs": [
    {
     "name": "stdout",
     "output_type": "stream",
     "text": [
      "0.00018854903464671224\n",
      "1.4190840343097921e-13\n",
      "7.985035921365125e-08\n",
      "6.88232175889425e-05\n",
      "1.4619730563936173e-06\n",
      "1.4633259297625045e-06\n",
      "5.1766775868600234e-05\n",
      "0.30627062916755676\n",
      "0.03724924847483635\n",
      "0.0015685290563851595\n",
      "0.00117762410081923\n",
      "0.0024711675941944122\n",
      "0.5511890053749084\n",
      "[0, 0, 0, 0, 0, 0, 0, 1, 0, 0, 0, 0, 1]\n",
      "[0.00018854903464671224, 1.4190840343097921e-13, 7.985035921365125e-08, 6.88232175889425e-05, 1.4619730563936173e-06, 1.4633259297625045e-06, 5.1766775868600234e-05, 0.30627062916755676, 0.03724924847483635, 0.0015685290563851595, 0.00117762410081923, 0.0024711675941944122, 0.5511890053749084]\n"
     ]
    }
   ],
   "source": [
    "#Best Case\n",
    "dataTime = []\n",
    "sizeTime = []\n",
    "pvaluesTime = []\n",
    "\n",
    "for i in [25000,50000,75000,100000,200000,300000,400000,500000,600000,700000,800000,900000,1000000]:\n",
    "    if 0.05 < shapiro(dfCountingSortBest16[dfCountingSortBest16[\"Size\"]==i][\"Time (ms)\"]).pvalue:\n",
    "        dataTime.append(1)\n",
    "    else:\n",
    "        dataTime.append(0)\n",
    "    sizeTime.append(i)\n",
    "    print(shapiro(dfCountingSortBest16[dfCountingSortBest16[\"Size\"]==i][\"Time (ms)\"]).pvalue)\n",
    "    pvaluesTime.append(shapiro(dfCountingSortBest16[dfCountingSortBest16[\"Size\"]==i][\"Time (ms)\"]).pvalue)\n",
    "print(dataTime)\n",
    "print(pvaluesTime)\n"
   ]
  },
  {
   "cell_type": "code",
   "execution_count": 42,
   "metadata": {},
   "outputs": [
    {
     "name": "stdout",
     "output_type": "stream",
     "text": [
      "0.002036859281361103\n",
      "0.725250780582428\n",
      "0.0014048611046746373\n",
      "0.025835340842604637\n",
      "0.0026496779173612595\n",
      "0.29986438155174255\n",
      "0.7516871690750122\n",
      "0.3820970952510834\n",
      "0.0015670380089432001\n",
      "0.0657930076122284\n",
      "0.4293524920940399\n",
      "0.0014870999148115516\n",
      "0.029227541759610176\n",
      "[0, 0, 0, 0, 0, 0, 0, 1, 0, 0, 0, 0, 1, 0, 1, 0, 0, 0, 1, 1, 1, 0, 1, 1, 0, 0]\n",
      "[0.00018854903464671224, 1.4190840343097921e-13, 7.985035921365125e-08, 6.88232175889425e-05, 1.4619730563936173e-06, 1.4633259297625045e-06, 5.1766775868600234e-05, 0.30627062916755676, 0.03724924847483635, 0.0015685290563851595, 0.00117762410081923, 0.0024711675941944122, 0.5511890053749084, 0.002036859281361103, 0.725250780582428, 0.0014048611046746373, 0.025835340842604637, 0.0026496779173612595, 0.29986438155174255, 0.7516871690750122, 0.3820970952510834, 0.0015670380089432001, 0.0657930076122284, 0.4293524920940399, 0.0014870999148115516, 0.029227541759610176]\n"
     ]
    }
   ],
   "source": [
    "#Worst Case\n",
    "\n",
    "for i in [25000,50000,75000,100000,200000,300000,400000,500000,600000,700000,800000,900000,1000000]:\n",
    "    if 0.05 < shapiro(dfCountingSortWorst16[dfCountingSortWorst16[\"Size\"]==i][\"Time (ms)\"]).pvalue:\n",
    "        dataTime.append(1)\n",
    "    else:\n",
    "        dataTime.append(0)\n",
    "    sizeTime.append(i)\n",
    "    print(shapiro(dfCountingSortWorst16[dfCountingSortWorst16[\"Size\"]==i][\"Time (ms)\"]).pvalue)\n",
    "    pvaluesTime.append(shapiro(dfCountingSortWorst16[dfCountingSortWorst16[\"Size\"]==i][\"Time (ms)\"]).pvalue)\n",
    "print(dataTime)\n",
    "print(pvaluesTime)\n"
   ]
  },
  {
   "cell_type": "code",
   "execution_count": 43,
   "metadata": {},
   "outputs": [
    {
     "name": "stdout",
     "output_type": "stream",
     "text": [
      "2.2286407386218343e-07\n",
      "4.504912851643894e-07\n",
      "2.380634001042381e-08\n",
      "0.0018363005947321653\n",
      "0.00018415192607790232\n",
      "9.624377383943283e-08\n",
      "7.356545594916497e-09\n",
      "2.5930941774277017e-05\n",
      "7.594644912956028e-10\n",
      "3.6905042910539976e-10\n",
      "4.06522121920716e-06\n",
      "0.00029940035892650485\n",
      "0.0019307273905724287\n",
      "[0, 0, 0, 0, 0, 0, 0, 1, 0, 0, 0, 0, 1, 0, 1, 0, 0, 0, 1, 1, 1, 0, 1, 1, 0, 0, 0, 0, 0, 0, 0, 0, 0, 0, 0, 0, 0, 0, 0]\n",
      "[0.00018854903464671224, 1.4190840343097921e-13, 7.985035921365125e-08, 6.88232175889425e-05, 1.4619730563936173e-06, 1.4633259297625045e-06, 5.1766775868600234e-05, 0.30627062916755676, 0.03724924847483635, 0.0015685290563851595, 0.00117762410081923, 0.0024711675941944122, 0.5511890053749084, 0.002036859281361103, 0.725250780582428, 0.0014048611046746373, 0.025835340842604637, 0.0026496779173612595, 0.29986438155174255, 0.7516871690750122, 0.3820970952510834, 0.0015670380089432001, 0.0657930076122284, 0.4293524920940399, 0.0014870999148115516, 0.029227541759610176, 2.2286407386218343e-07, 4.504912851643894e-07, 2.380634001042381e-08, 0.0018363005947321653, 0.00018415192607790232, 9.624377383943283e-08, 7.356545594916497e-09, 2.5930941774277017e-05, 7.594644912956028e-10, 3.6905042910539976e-10, 4.06522121920716e-06, 0.00029940035892650485, 0.0019307273905724287]\n"
     ]
    }
   ],
   "source": [
    "#Random Case\n",
    "\n",
    "for i in [25000,50000,75000,100000,200000,300000,400000,500000,600000,700000,800000,900000,1000000]:\n",
    "    if 0.05 < shapiro(dfCountingSortRandom16[dfCountingSortRandom16[\"Size\"]==i][\"Time (ms)\"]).pvalue:\n",
    "        dataTime.append(1)\n",
    "    else:\n",
    "        dataTime.append(0)\n",
    "    sizeTime.append(i)\n",
    "    print(shapiro(dfCountingSortRandom16[dfCountingSortRandom16[\"Size\"]==i][\"Time (ms)\"]).pvalue)\n",
    "    pvaluesTime.append(shapiro(dfCountingSortRandom16[dfCountingSortRandom16[\"Size\"]==i][\"Time (ms)\"]).pvalue)\n",
    "print(dataTime)\n",
    "print(pvaluesTime)\n"
   ]
  },
  {
   "attachments": {},
   "cell_type": "markdown",
   "metadata": {},
   "source": [
    "### Nomral Distribution of DRAM (J) of all Cases and Input Sizes for PC 16"
   ]
  },
  {
   "cell_type": "code",
   "execution_count": 44,
   "metadata": {},
   "outputs": [
    {
     "name": "stdout",
     "output_type": "stream",
     "text": [
      "6.418585107859087e-11\n",
      "0.05216896906495094\n",
      "4.490337596507743e-05\n",
      "4.6288544552908206e-08\n",
      "1.651780490163901e-09\n",
      "3.189663810854171e-11\n",
      "3.928302995392929e-12\n",
      "6.615009321558896e-12\n",
      "1.289654364203252e-12\n",
      "3.3985836367378397e-10\n",
      "1.6713415373903473e-10\n",
      "1.2766975254763224e-09\n",
      "8.482877486386264e-13\n",
      "[0, 1, 0, 0, 0, 0, 0, 0, 0, 0, 0, 0, 0]\n",
      "[6.418585107859087e-11, 0.05216896906495094, 4.490337596507743e-05, 4.6288544552908206e-08, 1.651780490163901e-09, 3.189663810854171e-11, 3.928302995392929e-12, 6.615009321558896e-12, 1.289654364203252e-12, 3.3985836367378397e-10, 1.6713415373903473e-10, 1.2766975254763224e-09, 8.482877486386264e-13]\n"
     ]
    }
   ],
   "source": [
    "#Best case \n",
    "dataDRAM = []\n",
    "sizeDRAM = []\n",
    "pvaluesDRAM = []\n",
    "for i in [25000,50000,75000,100000,200000,300000,400000,500000,600000,700000,800000,900000,1000000]:\n",
    "    if 0.05 < shapiro(dfCountingSortBest16[dfCountingSortBest16[\"Size\"]==i][\"DRAM (J)\"]).pvalue:\n",
    "        dataDRAM.append(1)\n",
    "    else:\n",
    "        dataDRAM.append(0)\n",
    "    sizeDRAM.append(i)\n",
    "    print(shapiro(dfCountingSortBest16[dfCountingSortBest16[\"Size\"]==i][\"DRAM (J)\"]).pvalue)\n",
    "    pvaluesDRAM.append(shapiro(dfCountingSortBest16[dfCountingSortBest16[\"Size\"]==i][\"DRAM (J)\"]).pvalue)\n",
    "print(dataDRAM)\n",
    "print(pvaluesDRAM)"
   ]
  },
  {
   "cell_type": "code",
   "execution_count": 45,
   "metadata": {},
   "outputs": [
    {
     "name": "stdout",
     "output_type": "stream",
     "text": [
      "0.02199666015803814\n",
      "0.02095816284418106\n",
      "3.5666273561218986e-06\n",
      "1.457913367630681e-05\n",
      "6.831100491039646e-15\n",
      "1.100163363187967e-10\n",
      "5.500679094438965e-07\n",
      "3.3084516029568967e-13\n",
      "1.0109277998049393e-10\n",
      "1.4219111790225725e-06\n",
      "3.053686636889097e-09\n",
      "8.112205351906709e-10\n",
      "1.0278531590302009e-05\n",
      "[0, 1, 0, 0, 0, 0, 0, 0, 0, 0, 0, 0, 0, 0, 0, 0, 0, 0, 0, 0, 0, 0, 0, 0, 0, 0]\n",
      "[6.418585107859087e-11, 0.05216896906495094, 4.490337596507743e-05, 4.6288544552908206e-08, 1.651780490163901e-09, 3.189663810854171e-11, 3.928302995392929e-12, 6.615009321558896e-12, 1.289654364203252e-12, 3.3985836367378397e-10, 1.6713415373903473e-10, 1.2766975254763224e-09, 8.482877486386264e-13, 0.02199666015803814, 0.02095816284418106, 3.5666273561218986e-06, 1.457913367630681e-05, 6.831100491039646e-15, 1.100163363187967e-10, 5.500679094438965e-07, 3.3084516029568967e-13, 1.0109277998049393e-10, 1.4219111790225725e-06, 3.053686636889097e-09, 8.112205351906709e-10, 1.0278531590302009e-05]\n"
     ]
    }
   ],
   "source": [
    "#Worst case \n",
    "\n",
    "for i in [25000,50000,75000,100000,200000,300000,400000,500000,600000,700000,800000,900000,1000000]:\n",
    "    if 0.05 < shapiro(dfCountingSortWorst16[dfCountingSortWorst16[\"Size\"]==i][\"DRAM (J)\"]).pvalue:\n",
    "        dataDRAM.append(1)\n",
    "    else:\n",
    "        dataDRAM.append(0)\n",
    "    sizeDRAM.append(i)\n",
    "    print(shapiro(dfCountingSortWorst16[dfCountingSortWorst16[\"Size\"]==i][\"DRAM (J)\"]).pvalue)\n",
    "    pvaluesDRAM.append(shapiro(dfCountingSortWorst16[dfCountingSortWorst16[\"Size\"]==i][\"DRAM (J)\"]).pvalue)\n",
    "print(dataDRAM)\n",
    "print(pvaluesDRAM)"
   ]
  },
  {
   "cell_type": "code",
   "execution_count": null,
   "metadata": {},
   "outputs": [],
   "source": []
  }
 ],
 "metadata": {
  "kernelspec": {
   "display_name": "Python 3",
   "language": "python",
   "name": "python3"
  },
  "language_info": {
   "codemirror_mode": {
    "name": "ipython",
    "version": 3
   },
   "file_extension": ".py",
   "mimetype": "text/x-python",
   "name": "python",
   "nbconvert_exporter": "python",
   "pygments_lexer": "ipython3",
   "version": "3.8.2"
  },
  "orig_nbformat": 4
 },
 "nbformat": 4,
 "nbformat_minor": 2
}
