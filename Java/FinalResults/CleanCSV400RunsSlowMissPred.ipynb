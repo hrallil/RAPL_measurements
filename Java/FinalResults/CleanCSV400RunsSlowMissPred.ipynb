{
 "cells": [
  {
   "attachments": {},
   "cell_type": "markdown",
   "metadata": {},
   "source": [
    "# Make clean data"
   ]
  },
  {
   "cell_type": "code",
   "execution_count": 11,
   "metadata": {},
   "outputs": [],
   "source": [
    "import pandas as pd\n",
    "\n",
    "bubbleList = []\n",
    "countingList = []\n",
    "misPredList = []\n",
    "mergeList = []\n",
    "quickList = []\n",
    "readCSVList = []\n",
    "pcList = [\"6\", \"16\", \"21\", \"23\"]\n",
    "\n",
    "# quickList.append(pd.read_csv(\"SummerResults/quickSort-400runs-PC16.csv\"))\n",
    "# quickList[0].columns=[\"Test name\",\"PKG (J)\",\"CPU (J)\",\"GPU (J)\",\"DRAM (J)\",\"Temp (C)\",\"Time (ms)\"]\n",
    "\n",
    "# bubbleList.append(pd.read_csv(\"SummerResults/bubbleSort-400runs-PC16.csv\"))\n",
    "# bubbleList[0].columns=[\"Test name\",\"PKG (J)\",\"CPU (J)\",\"GPU (J)\",\"DRAM (J)\",\"Temp (C)\",\"Time (ms)\"]\n",
    "\n",
    "# readCSVList.append(pd.read_csv(\"SummerResults/readCSV-PC16.csv\"))\n",
    "# readCSVList[0].columns=[\"Test name\",\"PKG (J)\",\"CPU (J)\",\"GPU (J)\",\"DRAM (J)\",\"Temp (C)\",\"Time (ms)\"]\n",
    "\n",
    "misPredList.append(pd.read_csv(\"SummerResults/bubbleSort-branchMisPredict-PC16.csv\"))\n",
    "misPredList[0].columns=[\"Test name\",\"PKG (J)\",\"CPU (J)\",\"GPU (J)\",\"DRAM (J)\",\"Temp (C)\",\"Time (ms)\"]\n",
    "\n",
    "\n"
   ]
  },
  {
   "cell_type": "code",
   "execution_count": 12,
   "metadata": {},
   "outputs": [],
   "source": [
    "def removeNonsense(df):\n",
    "    df = df[df[\"PKG (J)\"]>=0]\n",
    "    df = df[df[\"CPU (J)\"]>=0]\n",
    "    df = df[df[\"Time (ms)\"]>=0]\n",
    "    return df"
   ]
  },
  {
   "cell_type": "code",
   "execution_count": 13,
   "metadata": {},
   "outputs": [],
   "source": [
    "def makeinputColumn(df):\n",
    "    l = []\n",
    "    for i in range(len(df)):\n",
    "        l.append(df.iloc[i][\"Test name\"].split(\"-\")[0])\n",
    "\n",
    "    df[\"Input case\"] = l\n",
    "\n",
    "def makeSizecolumn(df):\n",
    "    l = []\n",
    "    for i in range(len(df)):\n",
    "        l.append(int(df.iloc[i][\"Test name\"].split(\"-\")[1]))\n",
    "\n",
    "    df[\"Size\"] = l"
   ]
  },
  {
   "cell_type": "code",
   "execution_count": 14,
   "metadata": {},
   "outputs": [],
   "source": [
    "def makeinputColumn_readCSV(df):\n",
    "    l = []\n",
    "    for i in range(len(df)):\n",
    "        l.append(df.iloc[i][\"Test name\"].split(\"-\")[1].lower())\n",
    "    df[\"Input case\"] = l\n",
    "\n",
    "def makeSizecolumn_readCSV(df):\n",
    "    l = []\n",
    "    for i in range(len(df)):\n",
    "        l.append(int(df.iloc[i][\"Test name\"].split(\"-\")[-1]))\n",
    "\n",
    "    df[\"Size\"] = l"
   ]
  },
  {
   "cell_type": "code",
   "execution_count": 15,
   "metadata": {},
   "outputs": [],
   "source": [
    "def removeOutliers(df, type_, size, col):\n",
    "    q1 = df[df[\"Input case\"] == type_][df[\"Size\"]==size][col].quantile(q=0.25)\n",
    "    q3 = df[df[\"Input case\"] == type_][df[\"Size\"]==size][col].quantile(q=0.75)\n",
    "    IQR = q3 - q1 \n",
    "    LF = q1 - 1.5 * IQR\n",
    "    UF = q3 + 1.5 * IQR\n",
    "\n",
    "    df1 = df[df[\"Input case\"] == type_][df[\"Size\"]==size][df[col] <= UF]\n",
    "    df2 = df1[df1[\"Input case\"] == type_][df1[\"Size\"]==size][df1[col] >= LF]\n",
    "    return df2[col]\n"
   ]
  },
  {
   "cell_type": "code",
   "execution_count": 16,
   "metadata": {},
   "outputs": [],
   "source": [
    "def CleanDataframe(df, DataOrBase):\n",
    "    if DataOrBase == \"data\":\n",
    "        cases = [\"best\", \"random\", \"worst\"]\n",
    "    elif DataOrBase == \"misPred\":\n",
    "        cases = [\"greaterThan0\", \"greaterThanEquals0\"]\n",
    "    else:\n",
    "        cases = [\"random\", \"reversesorted\", \"sorted\"]\n",
    "\n",
    "    cleanList = []\n",
    "    for case in cases:\n",
    "        if case == \"greaterThanEquals0\" or case == \"greaterThan0\":\n",
    "            for size in [10000,20000,30000,40000,50000]:\n",
    "                cleanPortion = pd.DataFrame({\"PKG (J)\":[]})\n",
    "                for col in [\"PKG (J)\", \"CPU (J)\", \"DRAM (J)\",\"Time (ms)\", \"Temp (C)\"]:\n",
    "                    cleanPortion[col] = removeOutliers(df, case, size, col)\n",
    "                \n",
    "                cleanPortion[\"Input case\"] = [case for _ in range(len(cleanPortion))]\n",
    "                cleanPortion[\"Size\"] = [int(size) for _ in range(len(cleanPortion))]\n",
    "\n",
    "                cleanList.append(cleanPortion)\n",
    "        elif case != \"random\" and case != \"countingrandom\":\n",
    "            for size in [25000,50000,75000,100000,125000,150000,175000,200000]:\n",
    "                cleanPortion = pd.DataFrame({\"PKG (J)\":[]})\n",
    "                for col in [\"PKG (J)\", \"CPU (J)\", \"DRAM (J)\",\"Time (ms)\", \"Temp (C)\"]:\n",
    "                    cleanPortion[col] = removeOutliers(df, case, size, col)\n",
    "                \n",
    "                cleanPortion[\"Input case\"] = [case for _ in range(len(cleanPortion))]\n",
    "                cleanPortion[\"Size\"] = [int(size) for _ in range(len(cleanPortion))]\n",
    "\n",
    "                cleanList.append(cleanPortion)\n",
    "        else:\n",
    "            for i in range(1,11):\n",
    "                for size in [25000,50000,75000,100000,125000,150000,175000,200000]:\n",
    "                    cleanPortion = pd.DataFrame({\"PKG (J)\":[]})\n",
    "                    for col in [\"PKG (J)\", \"CPU (J)\", \"DRAM (J)\",\"Time (ms)\", \"Temp (C)\"]:\n",
    "                        cleanPortion[col] = removeOutliers(df, case+str(i), size, col)\n",
    "                \n",
    "                    cleanPortion[\"Input case\"] = [case+str(i) for _ in range(len(cleanPortion))]\n",
    "                    cleanPortion[\"Size\"] = [int(size) for _ in range(len(cleanPortion))]\n",
    "                    cleanList.append(cleanPortion)\n",
    "    cleanBubble = pd.concat(cleanList)\n",
    "    return cleanBubble"
   ]
  },
  {
   "cell_type": "code",
   "execution_count": 17,
   "metadata": {},
   "outputs": [],
   "source": [
    "def prepareDataframe(df, DataOrBase):\n",
    "    df = removeNonsense(df)\n",
    "\n",
    "    if DataOrBase == \"data\":\n",
    "        makeinputColumn(df)\n",
    "        makeSizecolumn(df)\n",
    "    else:\n",
    "        makeinputColumn_readCSV(df)\n",
    "        makeSizecolumn_readCSV(df)    \n",
    "\n",
    "    return df\n"
   ]
  },
  {
   "cell_type": "code",
   "execution_count": 18,
   "metadata": {},
   "outputs": [],
   "source": [
    "def CleanCSV (df, DataOrBase, name, pcNO):\n",
    "    ready = prepareDataframe(df, DataOrBase)\n",
    "    clean = CleanDataframe(ready, DataOrBase).dropna().reset_index(drop=True)\n",
    "    display(clean)\n",
    "    clean.to_csv(\"FinalAnalysis\\\\CleanData\\\\\"+name+\"Clean-PC\"+pcNO+\".csv\", sep=\",\", index=False)"
   ]
  },
  {
   "cell_type": "code",
   "execution_count": 19,
   "metadata": {},
   "outputs": [
    {
     "ename": "IndexError",
     "evalue": "list index out of range",
     "output_type": "error",
     "traceback": [
      "\u001b[1;31m---------------------------------------------------------------------------\u001b[0m",
      "\u001b[1;31mIndexError\u001b[0m                                Traceback (most recent call last)",
      "\u001b[1;32mc:\\Users\\langk\\IdeaProjects\\RAPL_measurements\\Java\\FinalResults\\CleanCSV400RunsSlowMissPred.ipynb Cell 10\u001b[0m in \u001b[0;36m<cell line: 2>\u001b[1;34m()\u001b[0m\n\u001b[0;32m      <a href='vscode-notebook-cell:/c%3A/Users/langk/IdeaProjects/RAPL_measurements/Java/FinalResults/CleanCSV400RunsSlowMissPred.ipynb#X12sZmlsZQ%3D%3D?line=0'>1</a>\u001b[0m \u001b[39m#CleanCSV(quickList[0], \"data\",\"QucikSlow-400runs\",pcList[1])\u001b[39;00m\n\u001b[1;32m----> <a href='vscode-notebook-cell:/c%3A/Users/langk/IdeaProjects/RAPL_measurements/Java/FinalResults/CleanCSV400RunsSlowMissPred.ipynb#X12sZmlsZQ%3D%3D?line=1'>2</a>\u001b[0m CleanCSV(readCSVList[\u001b[39m0\u001b[39;49m], \u001b[39m\"\u001b[39m\u001b[39mbase\u001b[39m\u001b[39m\"\u001b[39m,\u001b[39m\"\u001b[39m\u001b[39mreadCSVSlow\u001b[39m\u001b[39m\"\u001b[39m,pcList[\u001b[39m1\u001b[39m])\n",
      "\u001b[1;31mIndexError\u001b[0m: list index out of range"
     ]
    }
   ],
   "source": [
    "\n",
    "#CleanCSV(quickList[0], \"data\",\"QucikSlow-400runs\",pcList[1])\n",
    "# CleanCSV(readCSVList[0], \"base\",\"readCSVSlow\",pcList[1])\n",
    "\n",
    "#CleanCSV(bubbleList[0], \"data\",\"Bubble-400runs\",pcList[1])\n",
    "\n",
    "CleanCSV(misPredList[0], \"misPred\",\"BranchMisPrediction\",pcList[1])"
   ]
  },
  {
   "cell_type": "code",
   "execution_count": null,
   "metadata": {},
   "outputs": [],
   "source": [
    "\n",
    "#CleanCSV(bubbleList[0], \"data\",\"Bubble\",pcList[0])\n"
   ]
  }
 ],
 "metadata": {
  "kernelspec": {
   "display_name": "base",
   "language": "python",
   "name": "python3"
  },
  "language_info": {
   "codemirror_mode": {
    "name": "ipython",
    "version": 3
   },
   "file_extension": ".py",
   "mimetype": "text/x-python",
   "name": "python",
   "nbconvert_exporter": "python",
   "pygments_lexer": "ipython3",
   "version": "3.9.12"
  },
  "orig_nbformat": 4
 },
 "nbformat": 4,
 "nbformat_minor": 2
}
