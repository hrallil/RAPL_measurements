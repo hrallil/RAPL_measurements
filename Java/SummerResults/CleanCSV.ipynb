{
 "cells": [
  {
   "attachments": {},
   "cell_type": "markdown",
   "metadata": {},
   "source": [
    "# Make clean data"
   ]
  },
  {
   "cell_type": "code",
   "execution_count": 114,
   "metadata": {},
   "outputs": [],
   "source": [
    "import pandas as pd\n",
    "\n",
    "df = []\n",
    "#bubbleList = []\n",
    "#countingList = []\n",
    "#mergeList = []\n",
    "#quickList = []\n",
    "#readCSVList = []\n",
    "pcList = [\"6\", \"16\", \"21\", \"23\"]\n",
    "\n",
    "# for i in range(len(pcList)):\n",
    "#     bubbleList.append(pd.read_csv(\"Results\"+pcList[i]+\"/bubbleSort-PC\"+pcList[i]+\".csv\"))\n",
    "#     bubbleList[i].columns=[\"Test name\",\"PKG (J)\",\"CPU (J)\",\"GPU (J)\",\"DRAM (J)\",\"Temp (C)\",\"Time (ms)\"]\n",
    "\n",
    "# for i in range(len(pcList)):\n",
    "#     countingList.append(pd.read_csv(\"Results\"+pcList[i]+\"/countingSort-PC\"+pcList[i]+\".csv\"))\n",
    "#     countingList[i].columns=[\"Test name\",\"PKG (J)\",\"CPU (J)\",\"GPU (J)\",\"DRAM (J)\",\"Temp (C)\",\"Time (ms)\"]\n",
    "    \n",
    "# for i in range(len(pcList)):\n",
    "#     mergeList.append(pd.read_csv(\"Results\"+pcList[i]+\"/mergeSort-PC\"+pcList[i]+\".csv\"))\n",
    "#     mergeList[i].columns=[\"Test name\",\"PKG (J)\",\"CPU (J)\",\"GPU (J)\",\"DRAM (J)\",\"Temp (C)\",\"Time (ms)\"]\n",
    "\n",
    "# for i in range(len(pcList)):\n",
    "#     quickList.append(pd.read_csv(\"Results\"+pcList[i]+\"/quickSort-PC\"+pcList[i]+\".csv\"))\n",
    "#     quickList[i].columns=[\"Test name\",\"PKG (J)\",\"CPU (J)\",\"GPU (J)\",\"DRAM (J)\",\"Temp (C)\",\"Time (ms)\"]\n",
    "\n",
    "# for i in range(len(pcList)):\n",
    "#     readCSVList.append(pd.read_csv(\"Results\"+pcList[i]+\"/readCSV-PC\"+pcList[i]+\".csv\"))\n",
    "#     readCSVList[i].columns=[\"Test name\",\"PKG (J)\",\"CPU (J)\",\"GPU (J)\",\"DRAM (J)\",\"Temp (C)\",\"Time (ms)\"]\n",
    "\n",
    "# mergeList.append(pd.read_csv(\"Results\"+pcList[1]+\"/mergeSort-400runs-PC16.csv\"))\n",
    "# mergeList[0].columns=[\"Test name\",\"PKG (J)\",\"CPU (J)\",\"GPU (J)\",\"DRAM (J)\",\"Temp (C)\",\"Time (ms)\"]\n",
    "\n",
    "#countingList.append(pd.read_csv(\"results\"+pcList[1]+\"/CountingSort-400runs-PC16.csv\"))\n",
    "#countingList[0].columns=[\"Test name\",\"PKG (J)\",\"CPU (J)\",\"GPU (J)\",\"DRAM (J)\",\"Temp (C)\",\"Time (ms)\"]\n",
    "\n",
    "#### SUMMER ANALYSIS\n",
    "\n",
    "#df.append(pd.read_csv(\"quickSort-400runs-PC16.csv\"))\n",
    "#df.append(pd.read_csv(\"readCSV-PC16.csv\"))\n",
    "#df.append(pd.read_csv(\"bubbleSort-400runs-PC16.csv\"))\n",
    "df.append(pd.read_csv(\"bubbleSort-branchMispredict-PC16.csv\"))\n",
    "df[0].columns=[\"Test name\",\"PKG (J)\",\"CPU (J)\",\"GPU (J)\",\"DRAM (J)\",\"Temp (C)\",\"Time (ms)\"]\n",
    "\n"
   ]
  },
  {
   "cell_type": "code",
   "execution_count": 115,
   "metadata": {},
   "outputs": [
    {
     "name": "stdout",
     "output_type": "stream",
     "text": [
      "[                      Test name      PKG (J)      CPU (J) GPU (J)    DRAM (J)  \\\n",
      "0          greaterThan0-10000-1    89.533447    78.013611            1.915344   \n",
      "1          greaterThan0-10000-1    89.148987    77.656555            1.911316   \n",
      "2          greaterThan0-10000-1    87.678711    77.169312            1.745117   \n",
      "3          greaterThan0-10000-1    84.473633    74.263977            1.692444   \n",
      "4          greaterThan0-10000-1    84.666931    74.415405            1.696960   \n",
      "..                          ...          ...          ...     ...         ...   \n",
      "294  greaterThanEquals0-50000-1  5507.321472  4754.264709          123.079224   \n",
      "295  greaterThanEquals0-50000-1  5435.864746  4686.072449          122.553528   \n",
      "296  greaterThanEquals0-50000-1  5032.376038  4281.642883          122.986145   \n",
      "297  greaterThanEquals0-50000-1  5524.121765  4771.065674          123.157410   \n",
      "298  greaterThanEquals0-50000-1  5021.861328  4271.816162          122.748840   \n",
      "\n",
      "     Temp (C)  Time (ms)  \n",
      "0          56    12968.1  \n",
      "1          56    12964.0  \n",
      "2          57    11817.6  \n",
      "3          57    11443.9  \n",
      "4          57    11461.0  \n",
      "..        ...        ...  \n",
      "294        58   854541.0  \n",
      "295        53   851005.0  \n",
      "296        52   852356.0  \n",
      "297        58   855018.0  \n",
      "298        51   852489.0  \n",
      "\n",
      "[299 rows x 7 columns]]\n"
     ]
    }
   ],
   "source": [
    "print(df)"
   ]
  },
  {
   "cell_type": "code",
   "execution_count": 116,
   "metadata": {},
   "outputs": [],
   "source": [
    "def removeNonsense(df):\n",
    "    df = df[df[\"PKG (J)\"]>=0]\n",
    "    df = df[df[\"CPU (J)\"]>=0]\n",
    "    df = df[df[\"Time (ms)\"]>=0]\n",
    "    return df"
   ]
  },
  {
   "cell_type": "code",
   "execution_count": 117,
   "metadata": {},
   "outputs": [],
   "source": [
    "def makeinputColumn(df):\n",
    "    l = []\n",
    "    for i in range(len(df)):\n",
    "        l.append(df.iloc[i][\"Test name\"].split(\"-\")[0])\n",
    "\n",
    "    df[\"Input case\"] = l\n",
    "\n",
    "def makeSizecolumn(df):\n",
    "    l = []\n",
    "    for i in range(len(df)):\n",
    "        l.append(int(df.iloc[i][\"Test name\"].split(\"-\")[1]))\n",
    "\n",
    "    df[\"Size\"] = l"
   ]
  },
  {
   "cell_type": "code",
   "execution_count": 118,
   "metadata": {},
   "outputs": [],
   "source": [
    "def makeinputColumn_readCSV(df):\n",
    "    l = []\n",
    "    for i in range(len(df)):\n",
    "        l.append(df.iloc[i][\"Test name\"].split(\"-\")[1].lower())\n",
    "    df[\"Input case\"] = l\n",
    "\n",
    "def makeSizecolumn_readCSV(df):\n",
    "    l = []\n",
    "    for i in range(len(df)):\n",
    "        l.append(int(df.iloc[i][\"Test name\"].split(\"-\")[-1]))\n",
    "\n",
    "    df[\"Size\"] = l"
   ]
  },
  {
   "cell_type": "code",
   "execution_count": 119,
   "metadata": {},
   "outputs": [],
   "source": [
    "def removeOutliers(df, type_, size, col):\n",
    "    q1 = df[df[\"Input case\"] == type_][df[\"Size\"]==size][col].quantile(q=0.25)\n",
    "    q3 = df[df[\"Input case\"] == type_][df[\"Size\"]==size][col].quantile(q=0.75)\n",
    "    IQR = q3 - q1 \n",
    "    LF = q1 - 1.5 * IQR\n",
    "    UF = q3 + 1.5 * IQR\n",
    "\n",
    "    df1 = df[df[\"Input case\"] == type_][df[\"Size\"]==size][df[col] <= UF]\n",
    "    df2 = df1[df1[\"Input case\"] == type_][df1[\"Size\"]==size][df1[col] >= LF]\n",
    "    return df2[col]\n"
   ]
  },
  {
   "cell_type": "code",
   "execution_count": 120,
   "metadata": {},
   "outputs": [],
   "source": [
    "def CleanDataframe(df, DataOrBase):\n",
    "    if DataOrBase == \"data\":\n",
    "        cases = [\"best\", \"random\", \"worst\"]\n",
    "    else:\n",
    "        cases = [\"random\", \"countingrandom\", \"countingbest\", \"countingworst\", \"mergeworst\", \"quickbest\", \"reversesorted\", \"sorted\"]\n",
    "\n",
    "    cleanList = []\n",
    "    for case in cases:\n",
    "        if case != \"random\" and case != \"countingrandom\":\n",
    "            for size in [25000,50000,75000,100000,200000,300000,400000,500000,600000,700000,800000,900000,1000000]:\n",
    "                cleanPortion = pd.DataFrame({\"PKG (J)\":[]})\n",
    "                for col in [\"PKG (J)\", \"CPU (J)\", \"DRAM (J)\",\"Time (ms)\", \"Temp (C)\"]:\n",
    "                    cleanPortion[col] = removeOutliers(df, case, size, col)\n",
    "                \n",
    "                cleanPortion[\"Input case\"] = [case for _ in range(len(cleanPortion))]\n",
    "                cleanPortion[\"Size\"] = [int(size) for _ in range(len(cleanPortion))]\n",
    "\n",
    "                cleanList.append(cleanPortion)\n",
    "        else:\n",
    "            for i in range(1,11):\n",
    "                for size in [25000,50000,75000,100000,200000,300000,400000,500000,600000,700000,800000,900000,1000000]:\n",
    "                    cleanPortion = pd.DataFrame({\"PKG (J)\":[]})\n",
    "                    for col in [\"PKG (J)\", \"CPU (J)\", \"DRAM (J)\",\"Time (ms)\", \"Temp (C)\"]:\n",
    "                        cleanPortion[col] = removeOutliers(df, case+str(i), size, col)\n",
    "                \n",
    "                    cleanPortion[\"Input case\"] = [case+str(i) for _ in range(len(cleanPortion))]\n",
    "                    cleanPortion[\"Size\"] = [int(size) for _ in range(len(cleanPortion))]\n",
    "                    cleanList.append(cleanPortion)\n",
    "    cleanBubble = pd.concat(cleanList)\n",
    "    return cleanBubble"
   ]
  },
  {
   "cell_type": "code",
   "execution_count": 121,
   "metadata": {},
   "outputs": [],
   "source": [
    "def prepareDataframe(df, DataOrBase):\n",
    "    df = removeNonsense(df)\n",
    "\n",
    "    if DataOrBase == \"data\":\n",
    "        makeinputColumn(df)\n",
    "        makeSizecolumn(df)\n",
    "    else:\n",
    "        makeinputColumn_readCSV(df)\n",
    "        makeSizecolumn_readCSV(df)    \n",
    "\n",
    "    return df\n"
   ]
  },
  {
   "cell_type": "code",
   "execution_count": 122,
   "metadata": {},
   "outputs": [],
   "source": [
    "def CleanCSV (df, DataOrBase, name, pcNO):\n",
    "    ready = prepareDataframe(df, DataOrBase)\n",
    "    clean = CleanDataframe(ready, DataOrBase).dropna().reset_index(drop=True)\n",
    "    print(clean)\n",
    "    #clean.to_csv(\"FinalAnalysis\\\\CleanData\\\\\"+name+\"Clean-PC\"+pcNO+\".csv\", sep=\",\", index=False)\n",
    "    clean.to_csv(name+\"Clean-PC\"+pcNO+\".csv\", sep=\",\", index=False)"
   ]
  },
  {
   "cell_type": "code",
   "execution_count": 123,
   "metadata": {},
   "outputs": [
    {
     "name": "stderr",
     "output_type": "stream",
     "text": [
      "<ipython-input-119-50d3f4887162>:2: UserWarning: Boolean Series key will be reindexed to match DataFrame index.\n",
      "  q1 = df[df[\"Input case\"] == type_][df[\"Size\"]==size][col].quantile(q=0.25)\n",
      "<ipython-input-119-50d3f4887162>:3: UserWarning: Boolean Series key will be reindexed to match DataFrame index.\n",
      "  q3 = df[df[\"Input case\"] == type_][df[\"Size\"]==size][col].quantile(q=0.75)\n",
      "<ipython-input-119-50d3f4887162>:8: UserWarning: Boolean Series key will be reindexed to match DataFrame index.\n",
      "  df1 = df[df[\"Input case\"] == type_][df[\"Size\"]==size][df[col] <= UF]\n"
     ]
    },
    {
     "name": "stdout",
     "output_type": "stream",
     "text": [
      "Empty DataFrame\n",
      "Columns: [PKG (J), CPU (J), DRAM (J), Time (ms), Temp (C), Input case, Size]\n",
      "Index: []\n"
     ]
    }
   ],
   "source": [
    "# for i in range(len(bubbleList)):\n",
    "#     CleanCSV(bubbleList[i], \"data\",\"Bubble\",pcList[i])\n",
    "\n",
    "# for i in range(len(bubbleList)):\n",
    "#     CleanCSV(countingList[i], \"data\",\"Counting\",pcList[i])\n",
    "\n",
    "# for i in range(len(bubbleList)):\n",
    "#     CleanCSV(mergeList[i], \"data\",\"Merge\",pcList[i])\n",
    "\n",
    "# for i in range(len(bubbleList)):\n",
    "#     CleanCSV(quickList[i], \"data\",\"Quick\",pcList[i])\n",
    "\n",
    "# for i in range(len(bubbleList)):\n",
    "#     CleanCSV(readCSVList[i], \"base\",\"readCSV\",pcList[i])\n",
    "\n",
    "#### SUMMER ANALYSIS\n",
    "\n",
    "#CleanCSV(df[0], \"data\",\"Quick-400runs\",pcList[1])\n",
    "#CleanCSV(df[0], \"base\",\"ReadCSV\",pcList[1])\n",
    "#CleanCSV(df[0], \"data\",\"BubbleSort-400runs\",pcList[1])\n",
    "CleanCSV(df[0], \"data\",\"BubbleSort-BranchMispredict\",pcList[1])\n"
   ]
  }
 ],
 "metadata": {
  "kernelspec": {
   "display_name": "base",
   "language": "python",
   "name": "python3"
  },
  "language_info": {
   "codemirror_mode": {
    "name": "ipython",
    "version": 3
   },
   "file_extension": ".py",
   "mimetype": "text/x-python",
   "name": "python",
   "nbconvert_exporter": "python",
   "pygments_lexer": "ipython3",
   "version": "3.8.3"
  },
  "orig_nbformat": 4
 },
 "nbformat": 4,
 "nbformat_minor": 2
}
